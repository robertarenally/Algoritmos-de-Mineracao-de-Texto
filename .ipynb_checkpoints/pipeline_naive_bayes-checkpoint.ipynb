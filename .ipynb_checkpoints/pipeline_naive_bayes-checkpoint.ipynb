{
 "cells": [
  {
   "cell_type": "code",
   "execution_count": null,
   "metadata": {},
   "outputs": [],
   "source": [
    "#Nesse código durante a execução é necessário passar o diretorio do dataset por linha de comando"
   ]
  },
  {
   "cell_type": "code",
   "execution_count": null,
   "metadata": {
    "colab": {},
    "colab_type": "code",
    "id": "C6EbJp2aVrgR"
   },
   "outputs": [],
   "source": [
    "#importanto bibliotecas\n",
    "import sys #responsável por pegar o diretório por linha de comando\n",
    "import nltk\n",
    "import re    \n",
    "import numpy as np\n",
    "import pandas as pd\n",
    "from nltk.corpus import stopwords\n",
    "from nltk.stem import WordNetLemmatizer\n",
    "from sklearn.metrics import accuracy_score\n",
    "from sklearn.datasets import fetch_20newsgroups\n",
    "from sklearn.datasets import load_files \n",
    "from sklearn.pipeline import Pipeline\n",
    "from sklearn.naive_bayes import MultinomialNB\n",
    "from sklearn.model_selection import GridSearchCV \n",
    "from sklearn.feature_extraction.text import TfidfVectorizer"
   ]
  },
  {
   "cell_type": "code",
   "execution_count": null,
   "metadata": {},
   "outputs": [],
   "source": [
    "#definindo as condições dos casos de testes\n",
    "steps = [\n",
    "        ('tfidf', TfidfVectorizer(min_df=2)),\n",
    "        ('mnb', MultinomialNB())\n",
    "]\n",
    "pipe = Pipeline(steps=steps)\n",
    "params = {\n",
    "         'mnb__alpha':[1.0000000000000001e-05,9.9999999999999995e-07,0.001,0.01,0.1,1.0]\n",
    "}\n",
    "scoring = ['accuracy','f1_micro', 'f1_macro']"
   ]
  },
  {
   "cell_type": "code",
   "execution_count": null,
   "metadata": {},
   "outputs": [],
   "source": [
    "#Carregando a base de dados\n",
    "argumento = sys.argv[1:]\n",
    "dir = 'r'+str(argumento)\n",
    "dataset = load_files(dir,encoding=\"ISO-8859-1\")\n",
    "x, y = dataset.data, dataset.target  \n",
    "\n",
    "#Pré-processamento do texto\n",
    "documents = []\n",
    "stemmer = WordNetLemmatizer()\n",
    "\n",
    "for sen in range(0, len(x)):  \n",
    "    # Removendo todos os caracteres especiais\n",
    "    document = re.sub(r'\\W', ' ', str(x[sen]))\n",
    "\n",
    "    # removendo todos os caracteres isolados\n",
    "    document = re.sub(r'\\s+[a-zA-Z]\\s+', ' ', document)\n",
    "\n",
    "    # Removendo caracter isolado do ínicio\n",
    "    document = re.sub(r'\\^[a-zA-Z]\\s+', ' ', document) \n",
    "\n",
    "    # Substituindo multiplos espaços por um único espaço\n",
    "    document = re.sub(r'\\s+', ' ', document, flags=re.I)\n",
    "\n",
    "    # Convertendo todas as palavras do documento para lower case\n",
    "    document = document.lower()\n",
    "\n",
    "    # Lemmatization\n",
    "    document = document.split()\n",
    "\n",
    "    document = [stemmer.lemmatize(word) for word in document]\n",
    "    document = ' '.join(document)\n",
    "\n",
    "    documents.append(document)\n",
    "\n",
    "clf = GridSearchCV(pipe, params, cv=10, n_jobs=-1, verbose=True,scoring=scoring,refit='accuracy',return_train_score=True)\n",
    "clf.fit(documents,y)\n",
    "df = pd.DataFrame(clf.cv_results_)\n",
    "nome_arquivo = 'resultado_naive_bayes_'+str(argumento)+'.csv'\n",
    "df.to_csv(nome_arquivo)"
   ]
  }
 ],
 "metadata": {
  "accelerator": "GPU",
  "colab": {
   "name": "Copy of pipeline_naive_bayes.ipynb",
   "provenance": [],
   "version": "0.3.2"
  },
  "kernelspec": {
   "display_name": "Python 3",
   "language": "python",
   "name": "python3"
  },
  "language_info": {
   "codemirror_mode": {
    "name": "ipython",
    "version": 3
   },
   "file_extension": ".py",
   "mimetype": "text/x-python",
   "name": "python",
   "nbconvert_exporter": "python",
   "pygments_lexer": "ipython3",
   "version": "3.7.1"
  }
 },
 "nbformat": 4,
 "nbformat_minor": 1
}
