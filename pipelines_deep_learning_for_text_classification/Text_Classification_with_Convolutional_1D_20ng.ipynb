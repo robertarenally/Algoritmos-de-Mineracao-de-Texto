{
  "nbformat": 4,
  "nbformat_minor": 0,
  "metadata": {
    "colab": {
      "name": "Text_Classification_With_Keras_in_20ng.ipynb",
      "provenance": [],
      "collapsed_sections": [],
      "toc_visible": true
    },
    "kernelspec": {
      "name": "python3",
      "display_name": "Python 3"
    },
    "accelerator": "GPU"
  },
  "cells": [
    {
      "cell_type": "markdown",
      "metadata": {
        "id": "-Avkq0eTjXor",
        "colab_type": "text"
      },
      "source": [
        "https://www.kaggle.com/carlosaguayo/deep-learning-for-text-classification/data\n",
        "\n",
        "Toda a vez que for executar esse código subir os arquivos que estão no diretório artigos sobre deep learning"
      ]
    },
    {
      "cell_type": "code",
      "metadata": {
        "id": "EckdBpB9jVSt",
        "colab_type": "code",
        "outputId": "b2a76f39-7d99-4afc-c1f1-86a027047288",
        "colab": {
          "base_uri": "https://localhost:8080/",
          "height": 34
        }
      },
      "source": [
        "import os\n",
        "import pandas as pd\n",
        "import numpy as np\n",
        "import matplotlib.pyplot as plt \n",
        "from keras.layers import Activation, Conv1D, Dense, Embedding, Flatten, Input, MaxPooling1D\n",
        "from keras.models import Sequential\n",
        "from keras.preprocessing.text import Tokenizer\n",
        "from keras.preprocessing.sequence import pad_sequences\n",
        "from sklearn.datasets import fetch_20newsgroups\n",
        "from sklearn.datasets.base import get_data_home\n",
        "from keras.metrics import categorical_accuracy\n",
        "from keras.utils import to_categorical\n",
        "from keras.wrappers.scikit_learn import KerasClassifier\n",
        "from sklearn.model_selection import train_test_split  \n",
        "from sklearn.model_selection import GridSearchCV"
      ],
      "execution_count": 0,
      "outputs": [
        {
          "output_type": "stream",
          "text": [
            "Using TensorFlow backend.\n"
          ],
          "name": "stderr"
        }
      ]
    },
    {
      "cell_type": "code",
      "metadata": {
        "id": "YSsrGeGTtB9f",
        "colab_type": "code",
        "colab": {}
      },
      "source": [
        "# Code to read csv file into Colaboratory:\n",
        "!pip install -U -q PyDrive\n",
        "from pydrive.auth import GoogleAuth\n",
        "from pydrive.drive import GoogleDrive\n",
        "from google.colab import auth\n",
        "from oauth2client.client import GoogleCredentials\n",
        "# Authenticate and create the PyDrive client.\n",
        "auth.authenticate_user()\n",
        "gauth = GoogleAuth()\n",
        "gauth.credentials = GoogleCredentials.get_application_default()\n",
        "drive = GoogleDrive(gauth)"
      ],
      "execution_count": 0,
      "outputs": []
    },
    {
      "cell_type": "code",
      "metadata": {
        "id": "_dHaVFuSuGNd",
        "colab_type": "code",
        "outputId": "1f2123fb-ca2f-4bd2-9b7d-7dd7b5a74bf9",
        "colab": {
          "base_uri": "https://localhost:8080/",
          "height": 51
        }
      },
      "source": [
        "#Carregando o dataset\n",
        "dataset = fetch_20newsgroups(subset='all', shuffle=True)"
      ],
      "execution_count": 0,
      "outputs": [
        {
          "output_type": "stream",
          "text": [
            "Downloading 20news dataset. This may take a few minutes.\n",
            "Downloading dataset from https://ndownloader.figshare.com/files/5975967 (14 MB)\n"
          ],
          "name": "stderr"
        }
      ]
    },
    {
      "cell_type": "code",
      "metadata": {
        "id": "LEuiACuRt12-",
        "colab_type": "code",
        "colab": {}
      },
      "source": [
        "#Definindo constantes\n",
        "max_length = 100\n",
        "num_labels = 20\n",
        "vocab_size = 20000\n",
        "batch_size = [100]\n",
        "epochs = [10]"
      ],
      "execution_count": 0,
      "outputs": []
    },
    {
      "cell_type": "markdown",
      "metadata": {
        "id": "rVxgeHg7xJQy",
        "colab_type": "text"
      },
      "source": [
        "# Pré-processando dos Dados\n",
        "É necessário tokenizar o texto antes de podermos alimentá-lo em uma rede neural. Esse processo de tokenização também removerá alguns dos recursos do texto original, como todas as pontuações ou palavras menos comuns."
      ]
    },
    {
      "cell_type": "code",
      "metadata": {
        "id": "mdVO7y41jcu4",
        "colab_type": "code",
        "colab": {}
      },
      "source": [
        "# Extract text\n",
        "tokenizer = Tokenizer(num_words=vocab_size) # Setup tokenizer\n",
        "tokenizer.fit_on_texts(dataset.data)\n",
        "sequences = tokenizer.texts_to_sequences(dataset.data) # Generate sequences\n",
        "x = pad_sequences(sequences, maxlen=max_length)\n",
        "# Extract target\n",
        "y = to_categorical(np.asarray(dataset.target))"
      ],
      "execution_count": 0,
      "outputs": []
    },
    {
      "cell_type": "code",
      "metadata": {
        "id": "lWsD0VdMxyXh",
        "colab_type": "code",
        "outputId": "f1c6210e-66de-45a0-ce4b-358b5986f71c",
        "colab": {
          "base_uri": "https://localhost:8080/",
          "height": 51
        }
      },
      "source": [
        "print('Shape of data:', x.shape)\n",
        "print('Shape of labels:', y.shape)"
      ],
      "execution_count": 0,
      "outputs": [
        {
          "output_type": "stream",
          "text": [
            "Shape of data: (18846, 100)\n",
            "Shape of labels: (18846, 20)\n"
          ],
          "name": "stdout"
        }
      ]
    },
    {
      "cell_type": "code",
      "metadata": {
        "id": "lb_0PYpT0RUM",
        "colab_type": "code",
        "colab": {}
      },
      "source": [
        "#Training and Test Sets\n",
        "#this script divides data into 20% test set and 80% training set.\n",
        "X_train, X_test, y_train, y_test = train_test_split(x, y, test_size=0.2, random_state=0) "
      ],
      "execution_count": 0,
      "outputs": []
    },
    {
      "cell_type": "markdown",
      "metadata": {
        "id": "OpDXhXsiyAs9",
        "colab_type": "text"
      },
      "source": [
        "# Loading GloVe embeddings"
      ]
    },
    {
      "cell_type": "code",
      "metadata": {
        "id": "vqbJIjUwtX6W",
        "colab_type": "code",
        "outputId": "9a52bf45-ede7-4f38-9c86-4e416ac04aca",
        "colab": {
          "base_uri": "https://localhost:8080/",
          "height": 34
        }
      },
      "source": [
        "link = 'https://drive.google.com/open?id=1erGe6LcwCDxpL9D8rRO7UYg0POVBvwX8'\n",
        "fluff, id = link.split('=')\n",
        "print (id) # Verify that you have everything after '='"
      ],
      "execution_count": 0,
      "outputs": [
        {
          "output_type": "stream",
          "text": [
            "1erGe6LcwCDxpL9D8rRO7UYg0POVBvwX8\n"
          ],
          "name": "stdout"
        }
      ]
    },
    {
      "cell_type": "code",
      "metadata": {
        "id": "qat8QfFItcVH",
        "colab_type": "code",
        "colab": {}
      },
      "source": [
        "downloaded = drive.CreateFile({'id':id}) \n",
        "downloaded.GetContentFile('glove.6B.100d.txt') "
      ],
      "execution_count": 0,
      "outputs": []
    },
    {
      "cell_type": "code",
      "metadata": {
        "id": "cWVfRmM9vdZi",
        "colab_type": "code",
        "outputId": "31634eeb-1c17-487e-d422-cbe76584ddad",
        "colab": {
          "base_uri": "https://localhost:8080/",
          "height": 34
        }
      },
      "source": [
        "embeddings_index = {} # We create a dictionary of word -> embedding\n",
        "\n",
        "with open(os.path.join('glove.6B.100d.txt')) as f:\n",
        "    for line in f:\n",
        "        values = line.split()\n",
        "        word = values[0] # The first value is the word, the rest are the values of the embedding\n",
        "        embedding = np.asarray(values[1:], dtype='float32') # Load embedding\n",
        "        embeddings_index[word] = embedding # Add embedding to our embedding dictionary\n",
        "\n",
        "print('Found {:,} word vectors in GloVe.'.format(len(embeddings_index)))"
      ],
      "execution_count": 0,
      "outputs": [
        {
          "output_type": "stream",
          "text": [
            "Found 400,000 word vectors in GloVe.\n"
          ],
          "name": "stdout"
        }
      ]
    },
    {
      "cell_type": "code",
      "metadata": {
        "id": "0heS6IW4ySX9",
        "colab_type": "code",
        "colab": {}
      },
      "source": [
        "embedding_dim = 100 # We use 100 dimensional glove vectors\n",
        "\n",
        "word_index = tokenizer.word_index\n",
        "nb_words = min(vocab_size, len(word_index)) # How many words are there actually\n",
        "\n",
        "embedding_matrix = np.zeros((nb_words, embedding_dim))\n",
        "\n",
        "# The vectors need to be in the same position as their index. \n",
        "# Meaning a word with token 1 needs to be in the second row (rows start with zero) and so on\n",
        "\n",
        "# Loop over all words in the word index\n",
        "for word, i in word_index.items():\n",
        "    # If we are above the amount of words we want to use we do nothing\n",
        "    if i >= vocab_size: \n",
        "        continue\n",
        "    # Get the embedding vector for the word\n",
        "    embedding_vector = embeddings_index.get(word)\n",
        "    # If there is an embedding vector, put it in the embedding matrix\n",
        "    if embedding_vector is not None: \n",
        "        embedding_matrix[i] = embedding_vector"
      ],
      "execution_count": 0,
      "outputs": []
    },
    {
      "cell_type": "code",
      "metadata": {
        "id": "kxGujVWzoKyX",
        "colab_type": "code",
        "outputId": "41e7591b-ff8d-468d-85fb-cfc686f9e0b5",
        "colab": {
          "base_uri": "https://localhost:8080/",
          "height": 717
        }
      },
      "source": [
        "# create model\n",
        "model = Sequential()\n",
        "model.add(Embedding(vocab_size, \n",
        "                    embedding_dim, \n",
        "                    input_length=max_length, \n",
        "                    weights = [embedding_matrix], \n",
        "                    trainable = False))\n",
        "model.add(Conv1D(128, 3, activation='relu'))\n",
        "model.add(MaxPooling1D(3))\n",
        "model.add(Conv1D(128, 3, activation='relu'))\n",
        "model.add(MaxPooling1D(3))\n",
        "model.add(Conv1D(128, 3, activation='relu'))\n",
        "model.add(MaxPooling1D(3))\n",
        "model.add(Flatten())\n",
        "model.add(Dense(128, activation='relu'))\n",
        "model.add(Dense(20, activation='softmax'))\n",
        "model.summary()"
      ],
      "execution_count": 0,
      "outputs": [
        {
          "output_type": "stream",
          "text": [
            "WARNING:tensorflow:From /usr/local/lib/python3.6/dist-packages/keras/backend/tensorflow_backend.py:66: The name tf.get_default_graph is deprecated. Please use tf.compat.v1.get_default_graph instead.\n",
            "\n",
            "WARNING:tensorflow:From /usr/local/lib/python3.6/dist-packages/keras/backend/tensorflow_backend.py:541: The name tf.placeholder is deprecated. Please use tf.compat.v1.placeholder instead.\n",
            "\n",
            "WARNING:tensorflow:From /usr/local/lib/python3.6/dist-packages/keras/backend/tensorflow_backend.py:4432: The name tf.random_uniform is deprecated. Please use tf.random.uniform instead.\n",
            "\n",
            "WARNING:tensorflow:From /usr/local/lib/python3.6/dist-packages/keras/backend/tensorflow_backend.py:190: The name tf.get_default_session is deprecated. Please use tf.compat.v1.get_default_session instead.\n",
            "\n",
            "WARNING:tensorflow:From /usr/local/lib/python3.6/dist-packages/keras/backend/tensorflow_backend.py:197: The name tf.ConfigProto is deprecated. Please use tf.compat.v1.ConfigProto instead.\n",
            "\n",
            "WARNING:tensorflow:From /usr/local/lib/python3.6/dist-packages/keras/backend/tensorflow_backend.py:4267: The name tf.nn.max_pool is deprecated. Please use tf.nn.max_pool2d instead.\n",
            "\n",
            "Model: \"sequential_1\"\n",
            "_________________________________________________________________\n",
            "Layer (type)                 Output Shape              Param #   \n",
            "=================================================================\n",
            "embedding_1 (Embedding)      (None, 100, 100)          2000000   \n",
            "_________________________________________________________________\n",
            "conv1d_1 (Conv1D)            (None, 98, 128)           38528     \n",
            "_________________________________________________________________\n",
            "max_pooling1d_1 (MaxPooling1 (None, 32, 128)           0         \n",
            "_________________________________________________________________\n",
            "conv1d_2 (Conv1D)            (None, 30, 128)           49280     \n",
            "_________________________________________________________________\n",
            "max_pooling1d_2 (MaxPooling1 (None, 10, 128)           0         \n",
            "_________________________________________________________________\n",
            "conv1d_3 (Conv1D)            (None, 8, 128)            49280     \n",
            "_________________________________________________________________\n",
            "max_pooling1d_3 (MaxPooling1 (None, 2, 128)            0         \n",
            "_________________________________________________________________\n",
            "flatten_1 (Flatten)          (None, 256)               0         \n",
            "_________________________________________________________________\n",
            "dense_1 (Dense)              (None, 128)               32896     \n",
            "_________________________________________________________________\n",
            "dense_2 (Dense)              (None, 20)                2580      \n",
            "=================================================================\n",
            "Total params: 2,172,564\n",
            "Trainable params: 172,564\n",
            "Non-trainable params: 2,000,000\n",
            "_________________________________________________________________\n"
          ],
          "name": "stdout"
        }
      ]
    },
    {
      "cell_type": "code",
      "metadata": {
        "id": "Z16A32Fnosp8",
        "colab_type": "code",
        "outputId": "4970aca2-b9be-456e-8ae4-af3f65061df4",
        "colab": {
          "base_uri": "https://localhost:8080/",
          "height": 479
        }
      },
      "source": [
        "#model.compile(loss='binary_crossentropy', optimizer='adam', metrics=[categorical_accuracy])\n",
        "model.compile(loss='categorical_crossentropy', optimizer='adam', metrics=['accuracy'])\n",
        "\n",
        "history = model.fit(X_train, y_train, validation_data=(X_test, y_test), epochs=10)"
      ],
      "execution_count": 0,
      "outputs": [
        {
          "output_type": "stream",
          "text": [
            "WARNING:tensorflow:From /usr/local/lib/python3.6/dist-packages/keras/optimizers.py:793: The name tf.train.Optimizer is deprecated. Please use tf.compat.v1.train.Optimizer instead.\n",
            "\n",
            "WARNING:tensorflow:From /usr/local/lib/python3.6/dist-packages/tensorflow/python/ops/math_grad.py:1250: add_dispatch_support.<locals>.wrapper (from tensorflow.python.ops.array_ops) is deprecated and will be removed in a future version.\n",
            "Instructions for updating:\n",
            "Use tf.where in 2.0, which has the same broadcast rule as np.where\n",
            "Train on 15076 samples, validate on 3770 samples\n",
            "Epoch 1/10\n",
            "15076/15076 [==============================] - 8s 559us/step - loss: 2.1449 - acc: 0.2782 - val_loss: 1.5930 - val_acc: 0.4488\n",
            "Epoch 2/10\n",
            "15076/15076 [==============================] - 4s 291us/step - loss: 1.3384 - acc: 0.5542 - val_loss: 1.2810 - val_acc: 0.5745\n",
            "Epoch 3/10\n",
            "15076/15076 [==============================] - 4s 290us/step - loss: 1.0641 - acc: 0.6437 - val_loss: 1.1852 - val_acc: 0.6042\n",
            "Epoch 4/10\n",
            "15076/15076 [==============================] - 4s 287us/step - loss: 0.8742 - acc: 0.7102 - val_loss: 1.1923 - val_acc: 0.6300\n",
            "Epoch 5/10\n",
            "15076/15076 [==============================] - 4s 294us/step - loss: 0.6943 - acc: 0.7670 - val_loss: 1.1584 - val_acc: 0.6414\n",
            "Epoch 6/10\n",
            "15076/15076 [==============================] - 4s 289us/step - loss: 0.5310 - acc: 0.8210 - val_loss: 1.2681 - val_acc: 0.6239\n",
            "Epoch 7/10\n",
            "15076/15076 [==============================] - 4s 287us/step - loss: 0.3863 - acc: 0.8718 - val_loss: 1.4016 - val_acc: 0.6363\n",
            "Epoch 8/10\n",
            "15076/15076 [==============================] - 4s 289us/step - loss: 0.2720 - acc: 0.9112 - val_loss: 1.4954 - val_acc: 0.6286\n",
            "Epoch 9/10\n",
            "15076/15076 [==============================] - 4s 289us/step - loss: 0.2154 - acc: 0.9285 - val_loss: 1.8015 - val_acc: 0.6247\n",
            "Epoch 10/10\n",
            "15076/15076 [==============================] - 4s 290us/step - loss: 0.1569 - acc: 0.9508 - val_loss: 1.7016 - val_acc: 0.6411\n"
          ],
          "name": "stdout"
        }
      ]
    },
    {
      "cell_type": "code",
      "metadata": {
        "id": "zP8yscWzuaRW",
        "colab_type": "code",
        "outputId": "54a89a32-8e8f-4030-ae11-ae11de15ac12",
        "colab": {
          "base_uri": "https://localhost:8080/",
          "height": 465
        }
      },
      "source": [
        "plt.figure(figsize =(5,3))\n",
        "plt.plot(history.history['loss'], marker='.', label='train')\n",
        "plt.plot(history.history['val_loss'], marker='.', label='test')\n",
        "plt.title('Loss')\n",
        "plt.grid(True)\n",
        "plt.xlabel('epoch')\n",
        "plt.ylabel('loss')\n",
        "plt.legend(loc='best')\n",
        "plt.show()\n",
        "\n",
        "plt.figure(figsize =(5,3))\n",
        "plt.plot(history.history['acc'], marker='.', label='train')\n",
        "plt.plot(history.history['val_acc'], marker='.', label='test')\n",
        "plt.title('Accuracy')\n",
        "plt.grid(True)\n",
        "plt.xlabel('epoch')\n",
        "plt.ylabel('accuracy')\n",
        "plt.legend(loc='best')\n",
        "plt.show()"
      ],
      "execution_count": 0,
      "outputs": [
        {
          "output_type": "display_data",
          "data": {
            "image/png": "[encoded data removed]",
            "text/plain": [
              "<Figure size 360x216 with 1 Axes>"
            ]
          },
          "metadata": {
            "tags": []
          }
        },
        {
          "output_type": "display_data",
          "data": {
            "image/png": "[encoded data removed]",
            "text/plain": [
              "<Figure size 360x216 with 1 Axes>"
            ]
          },
          "metadata": {
            "tags": []
          }
        }
      ]
    },
    {
      "cell_type": "markdown",
      "metadata": {
        "id": "Kg-hFN3x781o",
        "colab_type": "text"
      },
      "source": [
        "# Keras with GridsearchCV"
      ]
    },
    {
      "cell_type": "code",
      "metadata": {
        "id": "kZv8skH78B-b",
        "colab_type": "code",
        "colab": {}
      },
      "source": [
        "def create_model(optimizer='adam'):\n",
        "    model = Sequential()\n",
        "    model.add(Embedding(vocab_size, embedding_dim, input_length=max_length, \n",
        "                        weights = [embedding_matrix], \n",
        "                        trainable = False))\n",
        "    model.add(Conv1D(128, 3, activation='relu'))\n",
        "    model.add(MaxPooling1D(3))\n",
        "    model.add(Conv1D(128, 3, activation='relu'))\n",
        "    model.add(MaxPooling1D(3))\n",
        "    model.add(Conv1D(128, 3, activation='relu'))\n",
        "    model.add(MaxPooling1D(3))\n",
        "    model.add(Flatten())\n",
        "    model.add(Dense(128, activation='relu'))\n",
        "    model.add(Dense(num_labels, activation='softmax'))\n",
        "    # Compile model\n",
        "    model.compile(loss='binary_crossentropy', optimizer=optimizer, metrics=['accuracy'])\n",
        "    return model"
      ],
      "execution_count": 0,
      "outputs": []
    },
    {
      "cell_type": "code",
      "metadata": {
        "id": "h7uZRCpm8QY3",
        "colab_type": "code",
        "colab": {}
      },
      "source": [
        "# create model\n",
        "model = KerasClassifier(build_fn=create_model, epochs=10, batch_size=100, verbose=0)"
      ],
      "execution_count": 0,
      "outputs": []
    },
    {
      "cell_type": "code",
      "metadata": {
        "id": "N5yn-GPs3fd4",
        "colab_type": "code",
        "outputId": "0456a32d-188e-45cc-b762-57be3b32af49",
        "colab": {
          "base_uri": "https://localhost:8080/",
          "height": 139
        }
      },
      "source": [
        "optimizer = ['SGD', 'RMSprop', 'Adagrad', 'Adadelta', 'Adam', 'Adamax', 'Nadam']\n",
        "param_grid = dict(optimizer=optimizer)\n",
        "grid = GridSearchCV(estimator=model, param_grid=param_grid, n_jobs=-1, cv=10, verbose=True, return_train_score=True)\n",
        "grid_result = grid.fit(x, y)"
      ],
      "execution_count": 0,
      "outputs": [
        {
          "output_type": "stream",
          "text": [
            "Fitting 10 folds for each of 7 candidates, totalling 70 fits\n"
          ],
          "name": "stdout"
        },
        {
          "output_type": "stream",
          "text": [
            "[Parallel(n_jobs=-1)]: Using backend LokyBackend with 2 concurrent workers.\n",
            "/usr/local/lib/python3.6/dist-packages/joblib/externals/loky/process_executor.py:706: UserWarning: A worker stopped while some jobs were given to the executor. This can be caused by a too short worker timeout or by a memory leak.\n",
            "  \"timeout or by a memory leak.\", UserWarning\n",
            "[Parallel(n_jobs=-1)]: Done  46 tasks      | elapsed: 12.9min\n",
            "[Parallel(n_jobs=-1)]: Done  70 out of  70 | elapsed: 19.9min finished\n"
          ],
          "name": "stderr"
        }
      ]
    },
    {
      "cell_type": "code",
      "metadata": {
        "id": "yEBzak0_8tte",
        "colab_type": "code",
        "outputId": "f0a25311-6fd9-4516-a1dd-0e6261644b6e",
        "colab": {
          "base_uri": "https://localhost:8080/",
          "height": 190
        }
      },
      "source": [
        "df = pd.DataFrame(grid_result.cv_results_)\n",
        "df.to_csv('resultado_pipeline_naive_bayes.csv')\n",
        "print(df.to_csv())"
      ],
      "execution_count": 0,
      "outputs": [
        {
          "output_type": "stream",
          "text": [
            ",mean_fit_time,std_fit_time,mean_score_time,std_score_time,param_optimizer,params,split0_test_score,split1_test_score,split2_test_score,split3_test_score,split4_test_score,split5_test_score,split6_test_score,split7_test_score,split8_test_score,split9_test_score,mean_test_score,std_test_score,rank_test_score,split0_train_score,split1_train_score,split2_train_score,split3_train_score,split4_train_score,split5_train_score,split6_train_score,split7_train_score,split8_train_score,split9_train_score,mean_train_score,std_train_score\n",
            "0,28.870260572433473,1.412532302130017,0.3998705863952637,0.12008414029218001,SGD,{'optimizer': 'SGD'},0.949999988079071,0.949999988079071,0.949999988079071,0.949999988079071,0.949999988079071,0.949999988079071,0.949999990736603,0.949999990736603,0.949999990736603,0.949999990736603,0.9499999891417454,1.3018503336071051e-09,7,0.9499999878647037,0.9499999878647037,0.9499999878647037,0.9499999878647037,0.9499999878647037,0.9499999878647037,0.9499999882969397,0.9499999882969397,0.9499999882969397,0.9499999882969397,0.9499999880375981,2.117514874276797e-10\n",
            "1,30.660171818733215,1.2658015306266788,0.3716029405593872,0.11068426572099657,RMSprop,{'optimizer': 'RMSprop'},0.9676657602072395,0.9671087404144854,0.9690981455127503,0.966737397627742,0.9696816963289397,0.9665517199893213,0.9662420285228964,0.9700902266360645,0.9679405763903495,0.9693205928600012,0.9680436131719645,0.001334865283471523,3,0.9873120798640681,0.9881551861446721,0.9900330192644524,0.9874093614373242,0.9898473024122291,0.9860503645439725,0.9864668214873539,0.9891846511122501,0.9868205492261193,0.9904610364733124,0.9881740371965755,0.0015196016751227457\n",
            "2,30.18320164680481,1.3025371832871357,0.37682533264160156,0.10623929046877888,Adagrad,{'optimizer': 'Adagrad'},0.9691246659433178,0.9697877899088974,0.9676392606462029,0.9676657687447747,0.96968170202063,0.9708222836967488,0.9686571074898835,0.9693736946506865,0.9691613532934978,0.9667197446914235,0.9688634189004087,0.0011554054083743443,1,0.9857201913492374,0.9864512853630589,0.9817847003352564,0.9852485241111765,0.9830817865436984,0.9859412899627964,0.9836752854938595,0.9862074161135297,0.9830533109131799,0.9822279357949513,0.9843391725980745,0.0016706322937968577\n",
            "3,33.787894058227536,1.2224859650789717,0.39873642921447755,0.11387408046217391,Adadelta,{'optimizer': 'Adadelta'},0.9640583403863072,0.9665517239418839,0.966339517177258,0.9630238627249114,0.9677984108975458,0.9641114079667655,0.9662685762545106,0.9653131785919206,0.9654193258589241,0.9644108224826254,0.9653295116491357,0.00136975451661843,6,0.9699546038123995,0.973783988202281,0.9714433162970458,0.9712870790038944,0.9726313402346161,0.9707564446985296,0.9740862010040031,0.972706647881246,0.971002837830368,0.971954961406947,0.971960742037133,0.0012634068105606\n",
            "4,32.40478119850159,1.2480881217346176,0.4132319688796997,0.11982503122073732,Adam,{'optimizer': 'Adam'},0.9691511917493704,0.9656498583937829,0.9682758493195794,0.9676392582746652,0.9691512045556734,0.9679045025802734,0.9671974144164165,0.9688163541431386,0.9705413898844628,0.9672770526758425,0.9681603444251338,0.0012815208749609667,2,0.9933494520133962,0.9921172106120533,0.9920405712824063,0.9933258650944021,0.9951358975600004,0.9927421752999297,0.9947971933406137,0.9939276046621365,0.9952540965789248,0.9932024552987693,0.9935892521742632,0.0011089080168777644\n",
            "5,30.928801321983336,1.2389596500935491,0.39100990295410154,0.12119348303555316,Adamax,{'optimizer': 'Adamax'},0.9675596893940427,0.966763922643282,0.968779835840119,0.9665782538586017,0.9684880521316427,0.9683819650338878,0.9672239889764482,0.9665339666313932,0.9698248251228575,0.9695594368973103,0.9679693265489038,0.0011505443085145712,4,0.9845115412702032,0.9825423152532072,0.983801090877564,0.9828665908317326,0.9853015873913045,0.9853163268141474,0.9851108461094836,0.9820893882735272,0.9844476063076357,0.9860305481678949,0.98420178412967,0.001262468679211514\n",
            "6,34.847245168685916,1.2100235961977752,0.41603431701660154,0.11729981440821492,Nadam,{'optimizer': 'Nadam'},0.9627851437510483,0.9675066336712723,0.9689655179054099,0.9675066358847074,0.9680901893886394,0.9658620861860422,0.967993626802084,0.9694002150476865,0.9663747284569305,0.9631369560640582,0.9667621809124605,0.002147557100910714,5,0.9869229555495483,0.9962944429751929,0.9967130499553528,0.995884677176135,0.9953363619880514,0.9928748355138963,0.9964302592704268,0.9943461890083455,0.9936682023806415,0.9888928323657343,0.9937363806183324,0.003175497431808952\n",
            "\n"
          ],
          "name": "stdout"
        }
      ]
    },
    {
      "cell_type": "code",
      "metadata": {
        "id": "2HyfMZK_uNOw",
        "colab_type": "code",
        "outputId": "117d8759-e675-4e73-b009-5781bf72a37d",
        "colab": {
          "base_uri": "https://localhost:8080/",
          "height": 153
        }
      },
      "source": [
        "# summarize results\n",
        "print(\"Best: %f using %s\" % (grid_result.best_score_, grid_result.best_params_))\n",
        "means = grid_result.cv_results_['mean_test_score']\n",
        "stds = grid_result.cv_results_['std_test_score']\n",
        "params = grid_result.cv_results_['params']\n",
        "for mean, stdev, param in zip(means, stds, params):\n",
        "    print(\"%f (%f) with: %r\" % (mean, stdev, param))"
      ],
      "execution_count": 0,
      "outputs": [
        {
          "output_type": "stream",
          "text": [
            "Best: 0.968863 using {'optimizer': 'Adagrad'}\n",
            "0.950000 (0.000000) with: {'optimizer': 'SGD'}\n",
            "0.968044 (0.001335) with: {'optimizer': 'RMSprop'}\n",
            "0.968863 (0.001155) with: {'optimizer': 'Adagrad'}\n",
            "0.965330 (0.001370) with: {'optimizer': 'Adadelta'}\n",
            "0.968160 (0.001282) with: {'optimizer': 'Adam'}\n",
            "0.967969 (0.001151) with: {'optimizer': 'Adamax'}\n",
            "0.966762 (0.002148) with: {'optimizer': 'Nadam'}\n"
          ],
          "name": "stdout"
        }
      ]
    }
  ]
}