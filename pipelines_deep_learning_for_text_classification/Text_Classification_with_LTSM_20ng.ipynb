{
  "nbformat": 4,
  "nbformat_minor": 0,
  "metadata": {
    "colab": {
      "name": "Text Classification with LTSM.ipynb",
      "provenance": [],
      "collapsed_sections": [],
      "toc_visible": true
    },
    "kernelspec": {
      "name": "python3",
      "display_name": "Python 3"
    },
    "accelerator": "GPU"
  },
  "cells": [
    {
      "cell_type": "code",
      "metadata": {
        "id": "zhT4XWAT201O",
        "colab_type": "code",
        "outputId": "fba86605-ecf9-4197-fcb1-9a59a806005a",
        "colab": {
          "base_uri": "https://localhost:8080/",
          "height": 80
        }
      },
      "source": [
        "import os\n",
        "import pandas as pd\n",
        "import numpy as np\n",
        "import matplotlib.pyplot as plt \n",
        "import seaborn as sns\n",
        "from keras.layers import LSTM, Activation, Dense, Dropout, Embedding, Flatten, Input, MaxPooling1D, SpatialDropout1D\n",
        "from keras.models import Model\n",
        "from keras.models import Sequential\n",
        "from keras.preprocessing.text import Tokenizer\n",
        "from keras.preprocessing.sequence import pad_sequences\n",
        "from keras.optimizers import RMSprop\n",
        "from keras.preprocessing import sequence\n",
        "from keras.callbacks import EarlyStopping\n",
        "from sklearn.datasets import fetch_20newsgroups\n",
        "from sklearn.datasets.base import get_data_home\n",
        "from keras.metrics import categorical_accuracy\n",
        "from keras.utils import to_categorical\n",
        "from keras.wrappers.scikit_learn import KerasClassifier\n",
        "from sklearn.model_selection import train_test_split  \n",
        "from sklearn.preprocessing import LabelEncoder\n",
        "from sklearn.model_selection import GridSearchCV"
      ],
      "execution_count": 0,
      "outputs": [
        {
          "output_type": "stream",
          "text": [
            "Using TensorFlow backend.\n"
          ],
          "name": "stderr"
        },
        {
          "output_type": "display_data",
          "data": {
            "text/html": [
              "<p style=\"color: red;\">\n",
              "The default version of TensorFlow in Colab will soon switch to TensorFlow 2.x.<br>\n",
              "We recommend you <a href=\"https://www.tensorflow.org/guide/migrate\" target=\"_blank\">upgrade</a> now \n",
              "or ensure your notebook will continue to use TensorFlow 1.x via the <code>%tensorflow_version 1.x</code> magic:\n",
              "<a href=\"https://colab.research.google.com/notebooks/tensorflow_version.ipynb\" target=\"_blank\">more info</a>.</p>\n"
            ],
            "text/plain": [
              "<IPython.core.display.HTML object>"
            ]
          },
          "metadata": {
            "tags": []
          }
        }
      ]
    },
    {
      "cell_type": "code",
      "metadata": {
        "id": "i5EBeW0Z4ZKh",
        "colab_type": "code",
        "colab": {}
      },
      "source": [
        "# Code to read csv file into Colaboratory:\n",
        "!pip install -U -q PyDrive\n",
        "from pydrive.auth import GoogleAuth\n",
        "from pydrive.drive import GoogleDrive\n",
        "from google.colab import auth\n",
        "from oauth2client.client import GoogleCredentials\n",
        "# Authenticate and create the PyDrive client.\n",
        "auth.authenticate_user()\n",
        "gauth = GoogleAuth()\n",
        "gauth.credentials = GoogleCredentials.get_application_default()\n",
        "drive = GoogleDrive(gauth)"
      ],
      "execution_count": 0,
      "outputs": []
    },
    {
      "cell_type": "code",
      "metadata": {
        "id": "7QSflrYt4mJg",
        "colab_type": "code",
        "outputId": "ed17991a-4a6e-4e37-be6f-7d182c889e5e",
        "colab": {
          "base_uri": "https://localhost:8080/",
          "height": 51
        }
      },
      "source": [
        "#Carregando o dataset\n",
        "dataset = fetch_20newsgroups(subset='all', shuffle=True)"
      ],
      "execution_count": 0,
      "outputs": [
        {
          "output_type": "stream",
          "text": [
            "Downloading 20news dataset. This may take a few minutes.\n",
            "Downloading dataset from https://ndownloader.figshare.com/files/5975967 (14 MB)\n"
          ],
          "name": "stderr"
        }
      ]
    },
    {
      "cell_type": "markdown",
      "metadata": {
        "id": "7zszhXQv4yy4",
        "colab_type": "text"
      },
      "source": [
        "# Processamento dos Dados\n",
        "\n",
        "```\n",
        "# Tokenize the data and convert the text to sequences.\n",
        "# Add padding to ensure that all the sequences have the same shape.\n",
        "# There are many ways of taking the max_len and here an arbitrary length of 150 is chosen.\n",
        "```\n",
        "\n"
      ]
    },
    {
      "cell_type": "code",
      "metadata": {
        "id": "Rstyfr32CB-N",
        "colab_type": "code",
        "colab": {}
      },
      "source": [
        "#Definindo constantes\n",
        "max_length = 100\n",
        "num_labels = 20\n",
        "vocab_size = 20000\n",
        "batch_size = [100]\n",
        "epochs = [10]\n",
        "# Extract text\n",
        "tokenizer = Tokenizer(num_words=vocab_size) # Setup tokenizer\n",
        "tokenizer.fit_on_texts(dataset.data)\n",
        "sequences = tokenizer.texts_to_sequences(dataset.data) # Generate sequences\n",
        "x = pad_sequences(sequences, maxlen=max_length)\n",
        "# Extract target\n",
        "y = to_categorical(np.asarray(dataset.target))"
      ],
      "execution_count": 0,
      "outputs": []
    },
    {
      "cell_type": "code",
      "metadata": {
        "id": "j8_2F8XG5RzR",
        "colab_type": "code",
        "colab": {}
      },
      "source": [
        "X_train,X_test,Y_train,Y_test = train_test_split(x,y,test_size=0.2)"
      ],
      "execution_count": 0,
      "outputs": []
    },
    {
      "cell_type": "markdown",
      "metadata": {
        "id": "OpDXhXsiyAs9",
        "colab_type": "text"
      },
      "source": [
        "# Loading GloVe embeddings"
      ]
    },
    {
      "cell_type": "code",
      "metadata": {
        "id": "gobAYf6_-DMq",
        "colab_type": "code",
        "outputId": "ff6cc15d-d593-432c-8a82-297736309a57",
        "colab": {
          "base_uri": "https://localhost:8080/",
          "height": 34
        }
      },
      "source": [
        "link = 'https://drive.google.com/open?id=1erGe6LcwCDxpL9D8rRO7UYg0POVBvwX8'\n",
        "fluff, id = link.split('=')\n",
        "print (id) # Verify that you have everything after '='"
      ],
      "execution_count": 0,
      "outputs": [
        {
          "output_type": "stream",
          "text": [
            "1erGe6LcwCDxpL9D8rRO7UYg0POVBvwX8\n"
          ],
          "name": "stdout"
        }
      ]
    },
    {
      "cell_type": "code",
      "metadata": {
        "id": "F3YGMSui-H74",
        "colab_type": "code",
        "colab": {}
      },
      "source": [
        "downloaded = drive.CreateFile({'id':id}) \n",
        "downloaded.GetContentFile('glove.6B.100d.txt') "
      ],
      "execution_count": 0,
      "outputs": []
    },
    {
      "cell_type": "code",
      "metadata": {
        "id": "aYJ2upUN-K0Q",
        "colab_type": "code",
        "outputId": "ec84d7c8-0e3a-400c-a182-3a72f7b957f2",
        "colab": {
          "base_uri": "https://localhost:8080/",
          "height": 34
        }
      },
      "source": [
        "embeddings_index = {} # We create a dictionary of word -> embedding\n",
        "\n",
        "with open(os.path.join('glove.6B.100d.txt')) as f:\n",
        "    for line in f:\n",
        "        values = line.split()\n",
        "        word = values[0] # The first value is the word, the rest are the values of the embedding\n",
        "        embedding = np.asarray(values[1:], dtype='float32') # Load embedding\n",
        "        embeddings_index[word] = embedding # Add embedding to our embedding dictionary\n",
        "\n",
        "print('Found {:,} word vectors in GloVe.'.format(len(embeddings_index)))"
      ],
      "execution_count": 0,
      "outputs": [
        {
          "output_type": "stream",
          "text": [
            "Found 400,000 word vectors in GloVe.\n"
          ],
          "name": "stdout"
        }
      ]
    },
    {
      "cell_type": "code",
      "metadata": {
        "id": "Tb0DEQDU-W4Z",
        "colab_type": "code",
        "colab": {}
      },
      "source": [
        "embedding_dim = 100 # We use 100 dimensional glove vectors\n",
        "\n",
        "word_index = tokenizer.word_index\n",
        "nb_words = min(vocab_size, len(word_index)) # How many words are there actually\n",
        "\n",
        "embedding_matrix = np.zeros((nb_words, embedding_dim))\n",
        "\n",
        "# The vectors need to be in the same position as their index. \n",
        "# Meaning a word with token 1 needs to be in the second row (rows start with zero) and so on\n",
        "\n",
        "# Loop over all words in the word index\n",
        "for word, i in word_index.items():\n",
        "    # If we are above the amount of words we want to use we do nothing\n",
        "    if i >= vocab_size: \n",
        "        continue\n",
        "    # Get the embedding vector for the word\n",
        "    embedding_vector = embeddings_index.get(word)\n",
        "    # If there is an embedding vector, put it in the embedding matrix\n",
        "    if embedding_vector is not None: \n",
        "        embedding_matrix[i] = embedding_vector"
      ],
      "execution_count": 0,
      "outputs": []
    },
    {
      "cell_type": "code",
      "metadata": {
        "id": "xtfaAm4y6b8t",
        "colab_type": "code",
        "colab": {}
      },
      "source": [
        "def RNN(optimizer='adam'):\n",
        "    model = Sequential()\n",
        "    model.add(Embedding(vocab_size, \n",
        "                    embedding_dim, \n",
        "                    input_length=max_length, \n",
        "                    weights = [embedding_matrix], \n",
        "                    trainable = False))\n",
        "    model.add(SpatialDropout1D(0.7))\n",
        "    model.add(LSTM(64, dropout=0.7, recurrent_dropout=0.7))\n",
        "    model.add(Dense(20, activation='softmax'))\n",
        "    model.compile(loss='binary_crossentropy', optimizer=optimizer, metrics=['accuracy'])\n",
        "    return model"
      ],
      "execution_count": 0,
      "outputs": []
    },
    {
      "cell_type": "code",
      "metadata": {
        "id": "y7Q31FQV7ITI",
        "colab_type": "code",
        "outputId": "2b949a96-90b1-421b-916d-d899c2b40eda",
        "colab": {
          "base_uri": "https://localhost:8080/",
          "height": 289
        }
      },
      "source": [
        "model = RNN()\n",
        "model.summary()"
      ],
      "execution_count": 0,
      "outputs": [
        {
          "output_type": "stream",
          "text": [
            "Model: \"sequential_7\"\n",
            "_________________________________________________________________\n",
            "Layer (type)                 Output Shape              Param #   \n",
            "=================================================================\n",
            "embedding_6 (Embedding)      (None, 100, 100)          2000000   \n",
            "_________________________________________________________________\n",
            "spatial_dropout1d_6 (Spatial (None, 100, 100)          0         \n",
            "_________________________________________________________________\n",
            "lstm_6 (LSTM)                (None, 64)                42240     \n",
            "_________________________________________________________________\n",
            "dense_6 (Dense)              (None, 20)                1300      \n",
            "=================================================================\n",
            "Total params: 2,043,540\n",
            "Trainable params: 43,540\n",
            "Non-trainable params: 2,000,000\n",
            "_________________________________________________________________\n"
          ],
          "name": "stdout"
        }
      ]
    },
    {
      "cell_type": "code",
      "metadata": {
        "id": "lnq-yF9T72XO",
        "colab_type": "code",
        "outputId": "5a18d228-33bb-4899-cfdd-a9c6f2a4dd00",
        "colab": {
          "base_uri": "https://localhost:8080/",
          "height": 374
        }
      },
      "source": [
        "history = model.fit(X_train, Y_train, validation_data=(X_test, Y_test), epochs=10)"
      ],
      "execution_count": 0,
      "outputs": [
        {
          "output_type": "stream",
          "text": [
            "Train on 15076 samples, validate on 3770 samples\n",
            "Epoch 1/10\n",
            "15076/15076 [==============================] - 114s 8ms/step - loss: 0.2005 - acc: 0.9500 - val_loss: 0.1961 - val_acc: 0.9500\n",
            "Epoch 2/10\n",
            "15076/15076 [==============================] - 115s 8ms/step - loss: 0.1983 - acc: 0.9500 - val_loss: 0.1945 - val_acc: 0.9500\n",
            "Epoch 3/10\n",
            "15076/15076 [==============================] - 115s 8ms/step - loss: 0.1971 - acc: 0.9500 - val_loss: 0.1930 - val_acc: 0.9500\n",
            "Epoch 4/10\n",
            "15076/15076 [==============================] - 114s 8ms/step - loss: 0.1962 - acc: 0.9500 - val_loss: 0.1915 - val_acc: 0.9500\n",
            "Epoch 5/10\n",
            "15076/15076 [==============================] - 115s 8ms/step - loss: 0.1953 - acc: 0.9500 - val_loss: 0.1873 - val_acc: 0.9503\n",
            "Epoch 6/10\n",
            "15076/15076 [==============================] - 113s 8ms/step - loss: 0.1941 - acc: 0.9501 - val_loss: 0.1848 - val_acc: 0.9503\n",
            "Epoch 7/10\n",
            "15076/15076 [==============================] - 114s 8ms/step - loss: 0.1925 - acc: 0.9501 - val_loss: 0.1826 - val_acc: 0.9503\n",
            "Epoch 8/10\n",
            "15076/15076 [==============================] - 113s 8ms/step - loss: 0.1910 - acc: 0.9501 - val_loss: 0.1799 - val_acc: 0.9503\n",
            "Epoch 9/10\n",
            "15076/15076 [==============================] - 114s 8ms/step - loss: 0.1901 - acc: 0.9501 - val_loss: 0.1777 - val_acc: 0.9503\n",
            "Epoch 10/10\n",
            "15076/15076 [==============================] - 114s 8ms/step - loss: 0.1896 - acc: 0.9502 - val_loss: 0.1754 - val_acc: 0.9503\n"
          ],
          "name": "stdout"
        }
      ]
    },
    {
      "cell_type": "code",
      "metadata": {
        "id": "2WwVnLDaDlt5",
        "colab_type": "code",
        "outputId": "55c8eb5c-78f4-4e71-abb0-628d7c48f9ad",
        "colab": {
          "base_uri": "https://localhost:8080/",
          "height": 465
        }
      },
      "source": [
        "plt.figure(figsize =(5,3))\n",
        "plt.plot(history.history['loss'], marker='.', label='train')\n",
        "plt.plot(history.history['val_loss'], marker='.', label='test')\n",
        "plt.title('Loss')\n",
        "plt.grid(True)\n",
        "plt.xlabel('epoch')\n",
        "plt.ylabel('loss')\n",
        "plt.legend(loc='best')\n",
        "plt.show()\n",
        "\n",
        "plt.figure(figsize =(5,3))\n",
        "plt.plot(history.history['acc'], marker='.', label='train')\n",
        "plt.plot(history.history['val_acc'], marker='.', label='test')\n",
        "plt.title('Accuracy')\n",
        "plt.grid(True)\n",
        "plt.xlabel('epoch')\n",
        "plt.ylabel('accuracy')\n",
        "plt.legend(loc='best')\n",
        "plt.show()"
      ],
      "execution_count": 0,
      "outputs": [
        {
          "output_type": "display_data",
          "data": {
            "image/png": "[encoded data removed]",
            "text/plain": [
              "<Figure size 360x216 with 1 Axes>"
            ]
          },
          "metadata": {
            "tags": []
          }
        },
        {
          "output_type": "display_data",
          "data": {
            "image/png": "[encoded data removed]",
            "text/plain": [
              "<Figure size 360x216 with 1 Axes>"
            ]
          },
          "metadata": {
            "tags": []
          }
        }
      ]
    },
    {
      "cell_type": "code",
      "metadata": {
        "id": "Z5XSRN5kSzDn",
        "colab_type": "code",
        "colab": {}
      },
      "source": [
        "# create model\n",
        "model = KerasClassifier(build_fn=RNN, epochs=10, batch_size=batch_size, verbose=0)"
      ],
      "execution_count": 0,
      "outputs": []
    },
    {
      "cell_type": "code",
      "metadata": {
        "id": "v2dKL-a1S7xq",
        "colab_type": "code",
        "outputId": "93157a39-d455-4b96-f341-3c9408abce62",
        "colab": {
          "base_uri": "https://localhost:8080/",
          "height": 139
        }
      },
      "source": [
        "optimizer = ['SGD', 'RMSprop', 'Adagrad', 'Adadelta', 'Adam', 'Adamax', 'Nadam']\n",
        "param_grid = dict(optimizer=optimizer)\n",
        "grid = GridSearchCV(estimator=model, param_grid=param_grid, n_jobs=-1, cv=10, verbose=True, return_train_score=True)\n",
        "grid_result = grid.fit(x, y)"
      ],
      "execution_count": 35,
      "outputs": [
        {
          "output_type": "stream",
          "text": [
            "Fitting 10 folds for each of 7 candidates, totalling 70 fits\n"
          ],
          "name": "stdout"
        },
        {
          "output_type": "stream",
          "text": [
            "[Parallel(n_jobs=-1)]: Using backend LokyBackend with 2 concurrent workers.\n",
            "/usr/local/lib/python3.6/dist-packages/joblib/externals/loky/process_executor.py:706: UserWarning: A worker stopped while some jobs were given to the executor. This can be caused by a too short worker timeout or by a memory leak.\n",
            "  \"timeout or by a memory leak.\", UserWarning\n",
            "[Parallel(n_jobs=-1)]: Done  46 tasks      | elapsed: 105.1min\n",
            "[Parallel(n_jobs=-1)]: Done  70 out of  70 | elapsed: 158.3min finished\n"
          ],
          "name": "stderr"
        }
      ]
    },
    {
      "cell_type": "code",
      "metadata": {
        "id": "TohFMVoFTCZJ",
        "colab_type": "code",
        "colab": {
          "base_uri": "https://localhost:8080/",
          "height": 190
        },
        "outputId": "c3016260-5401-49de-8d79-9cafa018ca05"
      },
      "source": [
        "df = pd.DataFrame(grid_result.cv_results_)\n",
        "df.to_csv('resultado_LSTM_20ng.csv')\n",
        "print(df.to_csv())"
      ],
      "execution_count": 36,
      "outputs": [
        {
          "output_type": "stream",
          "text": [
            ",mean_fit_time,std_fit_time,mean_score_time,std_score_time,param_optimizer,params,split0_test_score,split1_test_score,split2_test_score,split3_test_score,split4_test_score,split5_test_score,split6_test_score,split7_test_score,split8_test_score,split9_test_score,mean_test_score,std_test_score,rank_test_score,split0_train_score,split1_train_score,split2_train_score,split3_train_score,split4_train_score,split5_train_score,split6_train_score,split7_train_score,split8_train_score,split9_train_score,mean_train_score,std_train_score\n",
            "0,264.74465703964233,1.4189734491149715,1.5035073041915894,0.1314108902684413,SGD,{'optimizer': 'SGD'},0.9499999314151328,0.9499999314151328,0.9499999314151328,0.9499999314151328,0.9499999314151328,0.9499999314151328,0.9499999284744263,0.9499999284744263,0.9499999284744263,0.9499999284744263,0.9499999302392247,1.440569620775279e-09,2,0.9499999287028504,0.9499999287028504,0.9499999287028504,0.9499999287028504,0.9499999287028504,0.9499999287028504,0.949999928706351,0.949999928706351,0.949999928706351,0.949999928706351,0.9499999287042507,1.7149040318898658e-12\n",
            "1,260.1176950454712,7.4390108253126925,1.4959850072860719,0.09966034464090535,RMSprop,{'optimizer': 'RMSprop'},0.9499999314151328,0.9499999314151328,0.9499999314151328,0.9499999314151328,0.9499999314151328,0.9499999314151328,0.9499999284744263,0.9499999284744263,0.9499999284744263,0.9499999284744263,0.9499999302392247,1.440569620775279e-09,2,0.9499999287028504,0.9499999287028504,0.9499999287028504,0.9499999287028504,0.9499999287028504,0.9499999287028504,0.949999928706351,0.949999928706351,0.949999928706351,0.949999928706351,0.9499999287042507,1.7149040318898658e-12\n",
            "2,260.2349811077118,4.175696149556046,1.5120573043823242,0.1860411266044517,Adagrad,{'optimizer': 'Adagrad'},0.9499999314151328,0.9499999314151328,0.9499999314151328,0.9499999314151328,0.9499999314151328,0.9499999314151328,0.9499999284744263,0.9499999284744263,0.9499999284744263,0.9499999284744263,0.9499999302392247,1.440569620775279e-09,2,0.9499999287028504,0.9499999287028504,0.9499999287028504,0.9499999287028504,0.9499999287028504,0.9499999287028504,0.949999928706351,0.949999928706351,0.949999928706351,0.949999928706351,0.9499999287042507,1.7149040318898658e-12\n",
            "3,262.9062357664108,2.6951928860476277,1.4969286441802978,0.0540660281272951,Adadelta,{'optimizer': 'Adadelta'},0.9499999314151328,0.9499999314151328,0.9499999314151328,0.9499999314151328,0.9499999314151328,0.9499999314151328,0.9499999284744263,0.9499999284744263,0.9499999284744263,0.9499999284744263,0.9499999302392247,1.440569620775279e-09,2,0.9499999287028504,0.9499999287028504,0.9499999287028504,0.9499999287028504,0.9499999287028504,0.9499999287028504,0.949999928706351,0.949999928706351,0.949999928706351,0.949999928706351,0.9499999287042507,1.7149040318898658e-12\n",
            "4,258.23287591934206,1.993295454493365,1.5322590351104737,0.12500850285988896,Adam,{'optimizer': 'Adam'},0.9499999314151328,0.9499999314151328,0.9499999314151328,0.9499999314151328,0.9499999314151328,0.9499999314151328,0.9499999284744263,0.9499999284744263,0.9499999284744263,0.9499999284744263,0.9499999302392247,1.440569620775279e-09,2,0.9499999287028504,0.9499999287028504,0.9499999287028504,0.9499999287028504,0.9499999287028504,0.9499999287028504,0.949999928706351,0.949999928706351,0.949999928706351,0.949999928706351,0.9499999287042507,1.7149040318898658e-12\n",
            "5,253.87486138343812,0.4995820308857758,1.5409153938293456,0.14437919686987777,Adamax,{'optimizer': 'Adamax'},0.9499999314151328,0.9499999314151328,0.9499999314151328,0.9499999314151328,0.9499999314151328,0.9499999314151328,0.9499999284744263,0.9499999284744263,0.9499999284744263,0.9499999284744263,0.9499999302392247,1.440569620775279e-09,2,0.9499999287028504,0.9499999287028504,0.9499999287028504,0.9499999287028504,0.9499999287028504,0.9499999287028504,0.949999928706351,0.949999928706351,0.949999928706351,0.949999928706351,0.9499999287042507,1.7149040318898658e-12\n",
            "6,252.62656073570253,3.329422032512317,1.4585047721862794,0.099653317030493,Nadam,{'optimizer': 'Nadam'},0.9502917183172798,0.9503182289454918,0.9503447673681243,0.9502917102224314,0.9504773849201456,0.9503978093992178,0.9505041974365331,0.9503449450885667,0.9502387884569269,0.9502653293548875,0.9503474898978705,8.343392827624102e-05,1,0.9503124167556352,0.9503713791420012,0.9503507450056923,0.9503536931250105,0.950350745905332,0.9503536913257311,0.9504067325926575,0.9503448266365129,0.9503684093010143,0.9503566175189703,0.9503569257308557,2.246404157236308e-05\n",
            "\n"
          ],
          "name": "stdout"
        }
      ]
    },
    {
      "cell_type": "code",
      "metadata": {
        "id": "6O3TMWc3TqAo",
        "colab_type": "code",
        "colab": {
          "base_uri": "https://localhost:8080/",
          "height": 153
        },
        "outputId": "2d075b1b-1758-4887-b64c-9756f92ac5e4"
      },
      "source": [
        "# summarize results\n",
        "print(\"Best: %f using %s\" % (grid_result.best_score_, grid_result.best_params_))\n",
        "means = grid_result.cv_results_['mean_test_score']\n",
        "stds = grid_result.cv_results_['std_test_score']\n",
        "params = grid_result.cv_results_['params']\n",
        "for mean, stdev, param in zip(means, stds, params):\n",
        "    print(\"%f (%f) with: %r\" % (mean, stdev, param))"
      ],
      "execution_count": 37,
      "outputs": [
        {
          "output_type": "stream",
          "text": [
            "Best: 0.950347 using {'optimizer': 'Nadam'}\n",
            "0.950000 (0.000000) with: {'optimizer': 'SGD'}\n",
            "0.950000 (0.000000) with: {'optimizer': 'RMSprop'}\n",
            "0.950000 (0.000000) with: {'optimizer': 'Adagrad'}\n",
            "0.950000 (0.000000) with: {'optimizer': 'Adadelta'}\n",
            "0.950000 (0.000000) with: {'optimizer': 'Adam'}\n",
            "0.950000 (0.000000) with: {'optimizer': 'Adamax'}\n",
            "0.950347 (0.000083) with: {'optimizer': 'Nadam'}\n"
          ],
          "name": "stdout"
        }
      ]
    }
  ]
}