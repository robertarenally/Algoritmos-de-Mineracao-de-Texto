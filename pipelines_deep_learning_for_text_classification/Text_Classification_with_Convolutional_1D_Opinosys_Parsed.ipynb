{
  "nbformat": 4,
  "nbformat_minor": 0,
  "metadata": {
    "colab": {
      "name": "Text_Classification_With_Keras_in_Opinosis-Parsed.ipynb",
      "provenance": [],
      "collapsed_sections": [],
      "toc_visible": true
    },
    "kernelspec": {
      "name": "python3",
      "display_name": "Python 3"
    },
    "accelerator": "GPU"
  },
  "cells": [
    {
      "cell_type": "markdown",
      "metadata": {
        "id": "ldA3aHDrUsRv",
        "colab_type": "text"
      },
      "source": [
        "https://www.kaggle.com/carlosaguayo/deep-learning-for-text-classification/data"
      ]
    },
    {
      "cell_type": "code",
      "metadata": {
        "id": "K4SqRQMThJOu",
        "colab_type": "code",
        "outputId": "0fdf9cfc-458d-4536-db1e-f09a81e2f7d8",
        "colab": {
          "base_uri": "https://localhost:8080/",
          "height": 34
        }
      },
      "source": [
        "import os\n",
        "import pandas as pd\n",
        "import numpy as np\n",
        "import matplotlib.pyplot as plt \n",
        "from keras.layers import Activation, Conv1D, Dense, Embedding, Flatten, Input, MaxPooling1D\n",
        "from keras.models import Sequential\n",
        "from keras.preprocessing.text import Tokenizer\n",
        "from keras.preprocessing.sequence import pad_sequences\n",
        "from sklearn.datasets.base import get_data_home\n",
        "from keras.metrics import categorical_accuracy\n",
        "from keras.utils import to_categorical\n",
        "from keras.wrappers.scikit_learn import KerasClassifier \n",
        "from sklearn.model_selection import GridSearchCV\n",
        "from sklearn.model_selection import train_test_split "
      ],
      "execution_count": 0,
      "outputs": [
        {
          "output_type": "stream",
          "text": [
            "Using TensorFlow backend.\n"
          ],
          "name": "stderr"
        }
      ]
    },
    {
      "cell_type": "code",
      "metadata": {
        "id": "EfSKrcqxU_O4",
        "colab_type": "code",
        "colab": {}
      },
      "source": [
        "# Code to read csv file into Colaboratory:\n",
        "!pip install -U -q PyDrive\n",
        "from pydrive.auth import GoogleAuth\n",
        "from pydrive.drive import GoogleDrive\n",
        "from google.colab import auth\n",
        "from oauth2client.client import GoogleCredentials\n",
        "# Authenticate and create the PyDrive client.\n",
        "auth.authenticate_user()\n",
        "gauth = GoogleAuth()\n",
        "gauth.credentials = GoogleCredentials.get_application_default()\n",
        "drive = GoogleDrive(gauth)"
      ],
      "execution_count": 0,
      "outputs": []
    },
    {
      "cell_type": "code",
      "metadata": {
        "id": "31L6A7YgeQmM",
        "colab_type": "code",
        "outputId": "14926f16-78b2-40cc-96ca-eeae87e72790",
        "colab": {
          "base_uri": "https://localhost:8080/",
          "height": 34
        }
      },
      "source": [
        "link = 'https://drive.google.com/open?id=1qx_40VFqRgy8ZLDVfu40Oh-9Q4wpAOdx'\n",
        "fluff, id = link.split('=')\n",
        "print (id) # Verify that you have everything after '='"
      ],
      "execution_count": 0,
      "outputs": [
        {
          "output_type": "stream",
          "text": [
            "1qx_40VFqRgy8ZLDVfu40Oh-9Q4wpAOdx\n"
          ],
          "name": "stdout"
        }
      ]
    },
    {
      "cell_type": "code",
      "metadata": {
        "id": "9g8QdkVXhzxX",
        "colab_type": "code",
        "colab": {}
      },
      "source": [
        "#Carregando a base de dados\n",
        "downloaded = drive.CreateFile({'id':id}) \n",
        "downloaded.GetContentFile('Opinosis-Parsed.csv')  \n",
        "df3 = pd.read_csv('Opinosis-Parsed.csv')"
      ],
      "execution_count": 0,
      "outputs": []
    },
    {
      "cell_type": "code",
      "metadata": {
        "id": "fKdiWeQPh1SS",
        "colab_type": "code",
        "outputId": "7bdc03f5-75af-4a90-fb52-3f4f574ed9a8",
        "colab": {
          "base_uri": "https://localhost:8080/",
          "height": 34
        }
      },
      "source": [
        "print(len(df3.data))"
      ],
      "execution_count": 0,
      "outputs": [
        {
          "output_type": "stream",
          "text": [
            "6457\n"
          ],
          "name": "stdout"
        }
      ]
    },
    {
      "cell_type": "code",
      "metadata": {
        "id": "IdCaplJyh595",
        "colab_type": "code",
        "colab": {}
      },
      "source": [
        "#Definindo constantes\n",
        "max_length = 100\n",
        "num_labels = 51\n",
        "vocab_size = 9000\n",
        "batch_size = [100]\n",
        "epochs = [10]"
      ],
      "execution_count": 0,
      "outputs": []
    },
    {
      "cell_type": "markdown",
      "metadata": {
        "id": "0QG0HAxqWwFm",
        "colab_type": "text"
      },
      "source": [
        "# Pré-processamento do Texto\n",
        "\n",
        "É necessário tokenizar o texto antes de podermos alimentá-lo em uma rede neural. Esse processo de tokenização também removerá alguns dos recursos do texto original, como todas as pontuações ou palavras menos comuns."
      ]
    },
    {
      "cell_type": "code",
      "metadata": {
        "id": "9jLsJz3ph_Cb",
        "colab_type": "code",
        "colab": {}
      },
      "source": [
        "# Extract text\n",
        "tokenizer = Tokenizer(num_words=vocab_size) # Setup tokenizer\n",
        "tokenizer.fit_on_texts(df3.data)\n",
        "sequences = tokenizer.texts_to_sequences(df3.data) # Generate sequences\n",
        "x = pad_sequences(sequences, maxlen=max_length)\n",
        "# Extract target\n",
        "y = to_categorical(df3.target)"
      ],
      "execution_count": 0,
      "outputs": []
    },
    {
      "cell_type": "code",
      "metadata": {
        "id": "H38ygtSHiI7j",
        "colab_type": "code",
        "outputId": "74f76511-12cb-4684-c12c-2cd26f8795fd",
        "colab": {
          "base_uri": "https://localhost:8080/",
          "height": 51
        }
      },
      "source": [
        "print('Shape of data:', x.shape)\n",
        "print('Shape of labels:', y.shape)"
      ],
      "execution_count": 0,
      "outputs": [
        {
          "output_type": "stream",
          "text": [
            "Shape of data: (6457, 100)\n",
            "Shape of labels: (6457, 51)\n"
          ],
          "name": "stdout"
        }
      ]
    },
    {
      "cell_type": "markdown",
      "metadata": {
        "id": "I1KJmf6lXDXG",
        "colab_type": "text"
      },
      "source": [
        "# Dividindo o dataset em treinamento e teste"
      ]
    },
    {
      "cell_type": "code",
      "metadata": {
        "id": "kumkuu8EiKKr",
        "colab_type": "code",
        "colab": {}
      },
      "source": [
        "#this script divides data into 20% test set and 80% training set.\n",
        "X_train, X_test, y_train, y_test = train_test_split(x, y, test_size=0.2, random_state=0) "
      ],
      "execution_count": 0,
      "outputs": []
    },
    {
      "cell_type": "markdown",
      "metadata": {
        "id": "HxzqltLrZcnu",
        "colab_type": "text"
      },
      "source": [
        "# Carregando Vetores globais para representação de palavras (Glove)\n",
        "\n",
        "O GloVe é um algoritmo de aprendizado não supervisionado para obter representações vetoriais para palavras. O treinamento é realizado em estatísticas globais agregadas de co-ocorrência de palavra e palavra de um corpus, e as representações resultantes mostram subestruturas lineares interessantes do espaço vetorial de palavras.\n",
        "\n",
        "Este conjunto de dados contém vetores de palavras em inglês pré-treinados nos corpora combinado da Wikipedia 2014 + Gigaword 5th Edition (tokens 6B, vocabulário de 400K). Todos os tokens estão em minúsculas. Esse conjunto de dados contém vetores de palavras pré-treinados em 50, 100 e 200 dimensões."
      ]
    },
    {
      "cell_type": "markdown",
      "metadata": {
        "id": "WPeoe3oJaHfd",
        "colab_type": "text"
      },
      "source": [
        "# Reconhecimentos\n",
        "Esses dados foram liberados sob a Licença e Dedicação ao Domínio Público do Open Data Commons. Se você usar esse conjunto de dados em seu trabalho, cite o seguinte documento:\n",
        "\n",
        "Jeffrey Pennington, Richard Socher e Christopher D. Manning. 2014. GloVe: Vetores globais para representação de palavras. URL: https://nlp.stanford.edu/pubs/glove.pdf"
      ]
    },
    {
      "cell_type": "code",
      "metadata": {
        "id": "XtKk_q4kimXg",
        "colab_type": "code",
        "outputId": "340b4b3e-da01-4c5a-d4b2-95f22e988a1d",
        "colab": {
          "base_uri": "https://localhost:8080/",
          "height": 34
        }
      },
      "source": [
        "link = 'https://drive.google.com/open?id=1erGe6LcwCDxpL9D8rRO7UYg0POVBvwX8'\n",
        "fluff, id = link.split('=')\n",
        "print (id) # Verify that you have everything after '='"
      ],
      "execution_count": 0,
      "outputs": [
        {
          "output_type": "stream",
          "text": [
            "1erGe6LcwCDxpL9D8rRO7UYg0POVBvwX8\n"
          ],
          "name": "stdout"
        }
      ]
    },
    {
      "cell_type": "code",
      "metadata": {
        "id": "aedYEDlOipxb",
        "colab_type": "code",
        "colab": {}
      },
      "source": [
        "downloaded = drive.CreateFile({'id':id}) \n",
        "downloaded.GetContentFile('glove.6B.100d.txt')  "
      ],
      "execution_count": 0,
      "outputs": []
    },
    {
      "cell_type": "code",
      "metadata": {
        "id": "EmvfMlmvitHX",
        "colab_type": "code",
        "outputId": "c83f97f2-d516-4531-f4f9-7f86f4da3282",
        "colab": {
          "base_uri": "https://localhost:8080/",
          "height": 34
        }
      },
      "source": [
        "embeddings_index = {} # We create a dictionary of word -> embedding\n",
        "\n",
        "with open(os.path.join('glove.6B.100d.txt')) as f:\n",
        "    for line in f:\n",
        "        values = line.split()\n",
        "        word = values[0] # The first value is the word, the rest are the values of the embedding\n",
        "        embedding = np.asarray(values[1:], dtype='float32') # Load embedding\n",
        "        embeddings_index[word] = embedding # Add embedding to our embedding dictionary\n",
        "\n",
        "print('Found {:,} word vectors in GloVe.'.format(len(embeddings_index)))"
      ],
      "execution_count": 0,
      "outputs": [
        {
          "output_type": "stream",
          "text": [
            "Found 400,000 word vectors in GloVe.\n"
          ],
          "name": "stdout"
        }
      ]
    },
    {
      "cell_type": "code",
      "metadata": {
        "id": "0DEvOXCrixuC",
        "colab_type": "code",
        "colab": {}
      },
      "source": [
        "embedding_dim = 100 # We use 100 dimensional glove vectors\n",
        "\n",
        "word_index = tokenizer.word_index\n",
        "nb_words = min(vocab_size, len(word_index)) # How many words are there actually\n",
        "\n",
        "embedding_matrix = np.zeros((nb_words, embedding_dim))\n",
        "\n",
        "# The vectors need to be in the same position as their index. \n",
        "# Meaning a word with token 1 needs to be in the second row (rows start with zero) and so on\n",
        "\n",
        "# Loop over all words in the word index\n",
        "for word, i in word_index.items():\n",
        "    # If we are above the amount of words we want to use we do nothing\n",
        "    if i >= vocab_size: \n",
        "        continue\n",
        "    # Get the embedding vector for the word\n",
        "    embedding_vector = embeddings_index.get(word)\n",
        "    # If there is an embedding vector, put it in the embedding matrix\n",
        "    if embedding_vector is not None: \n",
        "        embedding_matrix[i] = embedding_vector"
      ],
      "execution_count": 0,
      "outputs": []
    },
    {
      "cell_type": "code",
      "metadata": {
        "id": "I1GBsRrzi0Ct",
        "colab_type": "code",
        "outputId": "bcf6f31c-fbe0-4a5f-868a-047583956c39",
        "colab": {
          "base_uri": "https://localhost:8080/",
          "height": 581
        }
      },
      "source": [
        "# create model\n",
        "model = Sequential()\n",
        "model.add(Embedding(vocab_size, \n",
        "                    embedding_dim, \n",
        "                    input_length=max_length, \n",
        "                    weights = [embedding_matrix], \n",
        "                    trainable = False))\n",
        "model.add(Conv1D(128, 3, activation='relu'))\n",
        "model.add(MaxPooling1D(3))\n",
        "model.add(Conv1D(128, 3, activation='relu'))\n",
        "model.add(MaxPooling1D(3))\n",
        "model.add(Conv1D(128, 3, activation='relu'))\n",
        "model.add(MaxPooling1D(3))\n",
        "model.add(Flatten())\n",
        "model.add(Dense(128, activation='relu'))\n",
        "model.add(Dense(num_labels, activation='softmax'))\n",
        "model.summary()"
      ],
      "execution_count": 0,
      "outputs": [
        {
          "output_type": "stream",
          "text": [
            "WARNING:tensorflow:From /usr/local/lib/python3.6/dist-packages/keras/backend/tensorflow_backend.py:66: The name tf.get_default_graph is deprecated. Please use tf.compat.v1.get_default_graph instead.\n",
            "\n",
            "WARNING:tensorflow:From /usr/local/lib/python3.6/dist-packages/keras/backend/tensorflow_backend.py:4267: The name tf.nn.max_pool is deprecated. Please use tf.nn.max_pool2d instead.\n",
            "\n",
            "Model: \"sequential_1\"\n",
            "_________________________________________________________________\n",
            "Layer (type)                 Output Shape              Param #   \n",
            "=================================================================\n",
            "embedding_1 (Embedding)      (None, 100, 100)          900000    \n",
            "_________________________________________________________________\n",
            "conv1d_1 (Conv1D)            (None, 98, 128)           38528     \n",
            "_________________________________________________________________\n",
            "max_pooling1d_1 (MaxPooling1 (None, 32, 128)           0         \n",
            "_________________________________________________________________\n",
            "conv1d_2 (Conv1D)            (None, 30, 128)           49280     \n",
            "_________________________________________________________________\n",
            "max_pooling1d_2 (MaxPooling1 (None, 10, 128)           0         \n",
            "_________________________________________________________________\n",
            "conv1d_3 (Conv1D)            (None, 8, 128)            49280     \n",
            "_________________________________________________________________\n",
            "max_pooling1d_3 (MaxPooling1 (None, 2, 128)            0         \n",
            "_________________________________________________________________\n",
            "flatten_1 (Flatten)          (None, 256)               0         \n",
            "_________________________________________________________________\n",
            "dense_1 (Dense)              (None, 128)               32896     \n",
            "_________________________________________________________________\n",
            "dense_2 (Dense)              (None, 51)                6579      \n",
            "=================================================================\n",
            "Total params: 1,076,563\n",
            "Trainable params: 176,563\n",
            "Non-trainable params: 900,000\n",
            "_________________________________________________________________\n"
          ],
          "name": "stdout"
        }
      ]
    },
    {
      "cell_type": "code",
      "metadata": {
        "id": "cZymYHNMjB6s",
        "colab_type": "code",
        "outputId": "6a44882e-d6cb-4f3f-873a-62fdb94db48f",
        "colab": {
          "base_uri": "https://localhost:8080/",
          "height": 479
        }
      },
      "source": [
        "#model.compile(loss='binary_crossentropy', optimizer='adam', metrics=[categorical_accuracy])\n",
        "model.compile(loss='categorical_crossentropy', optimizer='adam', metrics=['accuracy'])\n",
        "history = model.fit(X_train, y_train, validation_data=(X_test, y_test), epochs=10)"
      ],
      "execution_count": 0,
      "outputs": [
        {
          "output_type": "stream",
          "text": [
            "WARNING:tensorflow:From /usr/local/lib/python3.6/dist-packages/keras/optimizers.py:793: The name tf.train.Optimizer is deprecated. Please use tf.compat.v1.train.Optimizer instead.\n",
            "\n",
            "WARNING:tensorflow:From /usr/local/lib/python3.6/dist-packages/tensorflow_core/python/ops/math_grad.py:1424: where (from tensorflow.python.ops.array_ops) is deprecated and will be removed in a future version.\n",
            "Instructions for updating:\n",
            "Use tf.where in 2.0, which has the same broadcast rule as np.where\n",
            "Train on 5165 samples, validate on 1292 samples\n",
            "Epoch 1/10\n",
            "5165/5165 [==============================] - 6s 1ms/step - loss: 3.7829 - acc: 0.0759 - val_loss: 3.7193 - val_acc: 0.0751\n",
            "Epoch 2/10\n",
            "5165/5165 [==============================] - 1s 281us/step - loss: 3.6433 - acc: 0.0935 - val_loss: 3.6192 - val_acc: 0.0960\n",
            "Epoch 3/10\n",
            "5165/5165 [==============================] - 1s 272us/step - loss: 3.5423 - acc: 0.0997 - val_loss: 3.5778 - val_acc: 0.1006\n",
            "Epoch 4/10\n",
            "5165/5165 [==============================] - 2s 296us/step - loss: 3.4747 - acc: 0.1121 - val_loss: 3.5954 - val_acc: 0.0882\n",
            "Epoch 5/10\n",
            "5165/5165 [==============================] - 2s 310us/step - loss: 3.4170 - acc: 0.1255 - val_loss: 3.5507 - val_acc: 0.1107\n",
            "Epoch 6/10\n",
            "5165/5165 [==============================] - 2s 319us/step - loss: 3.3361 - acc: 0.1433 - val_loss: 3.5511 - val_acc: 0.1107\n",
            "Epoch 7/10\n",
            "5165/5165 [==============================] - 2s 307us/step - loss: 3.2532 - acc: 0.1642 - val_loss: 3.5831 - val_acc: 0.1099\n",
            "Epoch 8/10\n",
            "5165/5165 [==============================] - 2s 313us/step - loss: 3.1679 - acc: 0.1872 - val_loss: 3.6985 - val_acc: 0.1029\n",
            "Epoch 9/10\n",
            "5165/5165 [==============================] - 2s 321us/step - loss: 3.0822 - acc: 0.2101 - val_loss: 3.7032 - val_acc: 0.1107\n",
            "Epoch 10/10\n",
            "5165/5165 [==============================] - 2s 319us/step - loss: 3.0005 - acc: 0.2308 - val_loss: 3.7573 - val_acc: 0.1169\n"
          ],
          "name": "stdout"
        }
      ]
    },
    {
      "cell_type": "markdown",
      "metadata": {
        "id": "vsufnkYRbT4C",
        "colab_type": "text"
      },
      "source": [
        "# Plotando os gráficos dos resultados"
      ]
    },
    {
      "cell_type": "code",
      "metadata": {
        "id": "jRxuyA02fjvt",
        "colab_type": "code",
        "outputId": "2f9e1e02-0499-4c08-eeed-98940cf70199",
        "colab": {
          "base_uri": "https://localhost:8080/",
          "height": 465
        }
      },
      "source": [
        "plt.figure(figsize =(5,3))\n",
        "plt.plot(history.history['loss'], marker='.', label='train')\n",
        "plt.plot(history.history['val_loss'], marker='.', label='test')\n",
        "plt.title('Loss')\n",
        "plt.grid(True)\n",
        "plt.xlabel('epoch')\n",
        "plt.ylabel('loss')\n",
        "plt.legend(loc='best')\n",
        "plt.show()\n",
        "\n",
        "plt.figure(figsize =(5,3))\n",
        "plt.plot(history.history['acc'], marker='.', label='train')\n",
        "plt.plot(history.history['val_acc'], marker='.', label='test')\n",
        "plt.title('Accuracy')\n",
        "plt.grid(True)\n",
        "plt.xlabel('epoch')\n",
        "plt.ylabel('accuracy')\n",
        "plt.legend(loc='best')\n",
        "plt.show()"
      ],
      "execution_count": 0,
      "outputs": [
        {
          "output_type": "display_data",
          "data": {
            "image/png": "[encoded data removed]",
            "text/plain": [
              "<Figure size 360x216 with 1 Axes>"
            ]
          },
          "metadata": {
            "tags": []
          }
        },
        {
          "output_type": "display_data",
          "data": {
            "image/png": "[encoded data removed]",
            "text/plain": [
              "<Figure size 360x216 with 1 Axes>"
            ]
          },
          "metadata": {
            "tags": []
          }
        }
      ]
    },
    {
      "cell_type": "markdown",
      "metadata": {
        "id": "A-n-9_Mdbiuz",
        "colab_type": "text"
      },
      "source": [
        "# Keras with GridSearchCV"
      ]
    },
    {
      "cell_type": "code",
      "metadata": {
        "id": "mgx3Z1IBjjW_",
        "colab_type": "code",
        "colab": {}
      },
      "source": [
        "def create_model(optimizer='adam'):\n",
        "    model = Sequential()\n",
        "    model.add(Embedding(vocab_size, embedding_dim, input_length=max_length, \n",
        "                        weights = [embedding_matrix], \n",
        "                        trainable = False))\n",
        "    model.add(Conv1D(128, 3, activation='relu'))\n",
        "    model.add(MaxPooling1D(3))\n",
        "    model.add(Conv1D(128, 3, activation='relu'))\n",
        "    model.add(MaxPooling1D(3))\n",
        "    model.add(Conv1D(128, 3, activation='relu'))\n",
        "    model.add(MaxPooling1D(3))\n",
        "    model.add(Flatten())\n",
        "    model.add(Dense(128, activation='relu'))\n",
        "    model.add(Dense(num_labels, activation='softmax'))\n",
        "    # Compile model\n",
        "    model.compile(loss='binary_crossentropy', optimizer=optimizer, metrics=['accuracy'])\n",
        "    return model"
      ],
      "execution_count": 0,
      "outputs": []
    },
    {
      "cell_type": "code",
      "metadata": {
        "id": "43RH3VGsjmnR",
        "colab_type": "code",
        "colab": {}
      },
      "source": [
        "# create model\n",
        "model = KerasClassifier(build_fn=create_model, epochs=10, batch_size=100, verbose=0)"
      ],
      "execution_count": 0,
      "outputs": []
    },
    {
      "cell_type": "code",
      "metadata": {
        "id": "WbNd_qvijqgx",
        "colab_type": "code",
        "outputId": "441fa43a-a3b7-4a1d-d501-0f90a97a91c1",
        "colab": {
          "base_uri": "https://localhost:8080/",
          "height": 139
        }
      },
      "source": [
        "optimizer = ['SGD', 'RMSprop', 'Adagrad', 'Adadelta', 'Adam', 'Adamax', 'Nadam']\n",
        "param_grid = dict(optimizer=optimizer)\n",
        "grid = GridSearchCV(estimator=model, param_grid=param_grid, cv=10, n_jobs=-1,verbose=True, return_train_score=True)\n",
        "grid_result = grid.fit(x, y)"
      ],
      "execution_count": 0,
      "outputs": [
        {
          "output_type": "stream",
          "text": [
            "Fitting 10 folds for each of 7 candidates, totalling 70 fits\n"
          ],
          "name": "stdout"
        },
        {
          "output_type": "stream",
          "text": [
            "[Parallel(n_jobs=-1)]: Using backend LokyBackend with 2 concurrent workers.\n",
            "/usr/local/lib/python3.6/dist-packages/joblib/externals/loky/process_executor.py:706: UserWarning: A worker stopped while some jobs were given to the executor. This can be caused by a too short worker timeout or by a memory leak.\n",
            "  \"timeout or by a memory leak.\", UserWarning\n",
            "[Parallel(n_jobs=-1)]: Done  46 tasks      | elapsed:  5.5min\n",
            "[Parallel(n_jobs=-1)]: Done  70 out of  70 | elapsed:  8.4min finished\n"
          ],
          "name": "stderr"
        }
      ]
    },
    {
      "cell_type": "code",
      "metadata": {
        "id": "_mTYbxKajy0M",
        "colab_type": "code",
        "outputId": "373c20ef-709e-4ea0-8b28-b620d69b220a",
        "colab": {
          "base_uri": "https://localhost:8080/",
          "height": 190
        }
      },
      "source": [
        "df = pd.DataFrame(grid_result.cv_results_)\n",
        "df.to_csv('resultado_deep_learning_opinosis-parsed.csv')\n",
        "print(df.to_csv())"
      ],
      "execution_count": 0,
      "outputs": [
        {
          "output_type": "stream",
          "text": [
            ",mean_fit_time,std_fit_time,mean_score_time,std_score_time,param_optimizer,params,split0_test_score,split1_test_score,split2_test_score,split3_test_score,split4_test_score,split5_test_score,split6_test_score,split7_test_score,split8_test_score,split9_test_score,mean_test_score,std_test_score,rank_test_score,split0_train_score,split1_train_score,split2_train_score,split3_train_score,split4_train_score,split5_train_score,split6_train_score,split7_train_score,split8_train_score,split9_train_score,mean_train_score,std_train_score\n",
            "0,11.981858062744141,1.355458781389184,0.3017071485519409,0.10690485015423436,SGD,{'optimizer': 'SGD'},0.98039215378717,0.98039215378717,0.98039215378717,0.98039215378717,0.98039215378717,0.98039215378717,0.98039215378717,0.980392153873,0.980392153873,0.980392153873,0.9803921538128911,3.9320057043936274e-11,2,0.9803921579186343,0.9803921579186343,0.9803921579186343,0.9803921579186343,0.9803921579186343,0.9803921579186343,0.9803921579186343,0.9803921580314636,0.9803921580314636,0.9803921580314636,0.980392157952483,5.170488145382693e-11\n",
            "1,12.69464738368988,1.268183308313938,0.3518080472946167,0.09622642985357936,RMSprop,{'optimizer': 'RMSprop'},0.979876158407229,0.980027924565708,0.97914770919103,0.9801493340601493,0.9800582854740391,0.9799368553117332,0.979754765889962,0.9798753723617672,0.9795713701913523,0.9792369654936384,0.9797635680569091,0.0003247086578826639,5,0.9811513975962697,0.9804832686083059,0.980800456402532,0.9815596937928096,0.9814112145300474,0.9815461945152184,0.9809556815961084,0.9811276559655779,0.9807970187045424,0.9805271084031317,0.9810359690114543,0.00037156204432242375\n",
            "2,12.20108766555786,1.0713309255759222,0.34915814399719236,0.0658050681987096,Adagrad,{'optimizer': 'Adagrad'},0.9803011094453534,0.9806653563821279,0.9793905254118952,0.9794208756172251,0.979178061610774,0.9802404068202796,0.9781764190263423,0.9799969704576241,0.98020979507949,0.9797841541526854,0.9797362463197713,0.0006852993775230438,6,0.9808409539173318,0.9816676634680361,0.9809253065931963,0.980527137103743,0.9792550362709405,0.9817486502918683,0.9791706847336263,0.9812052435326888,0.9814987605141511,0.9809488348524404,0.9807788271278023,0.000863501536896371\n",
            "3,13.291807150840759,0.3971867991877223,0.38086466789245604,0.12346004140950682,Adadelta,{'optimizer': 'Adadelta'},0.98039215378717,0.98039215378717,0.98039215378717,0.98039215378717,0.98039215378717,0.98039215378717,0.98039215378717,0.980392153873,0.980392153873,0.980392153873,0.9803921538128911,3.9320057043936274e-11,2,0.9803921579186343,0.9803921579186343,0.9803921579186343,0.9803921579186343,0.9803921579186343,0.9803921579186343,0.9803921579186343,0.9803921580314636,0.9803921580314636,0.9803921580314636,0.980392157952483,5.170488145382693e-11\n",
            "4,12.935570120811462,1.0762649123432155,0.3414177894592285,0.11265716804929526,Adam,{'optimizer': 'Adam'},0.9801796872180313,0.980088636417507,0.9799672169582024,0.9798458109699166,0.9799368667528725,0.9800279337924331,0.9797244064579069,0.9804529644722162,0.9803921631140302,0.9800577579542648,0.9800672358692625,0.00021505436692477375,4,0.9820793293938336,0.9818734989952372,0.9817182776686288,0.9821366938640402,0.9818599964045674,0.9821906762963378,0.981623789043932,0.9819339708221919,0.9821566304336805,0.982278082014689,0.9819850944937139,0.00020538799681826532\n",
            "5,12.062975192070008,1.0993661842712867,0.3578802108764648,0.12135086309208347,Adamax,{'optimizer': 'Adamax'},0.9802707492751602,0.9803921715024824,0.9802707704966283,0.9806957100936133,0.980422527428382,0.9805135809969238,0.9805439476258245,0.9803009864895843,0.9804833526759185,0.9801489613776984,0.980404319086735,0.00015317034583842195,1,0.9814415945692494,0.9811649042898233,0.9813403569365754,0.9813403630909011,0.9812020179511881,0.98114466271247,0.9812593834471157,0.9810871736230476,0.9811681547168198,0.9812963436737769,0.9812444955010967,0.00010431764649407214\n",
            "6,13.120268082618713,1.1664358115034548,0.3465938329696655,0.09132866084487333,Nadam,{'optimizer': 'Nadam'},0.9788441741060546,0.9786620697369885,0.9787227723620624,0.9786013593614655,0.9794815762124195,0.9800279288100016,0.9787834842138615,0.9792065763658331,0.980057767195295,0.9790849768838217,0.9791471279773325,0.0005158980169527462,7,0.9809050545227177,0.9802099523866799,0.9804663983398205,0.9799467575178769,0.9823728753457359,0.9825314687710173,0.9809624151259563,0.9798759809872731,0.9823084422332701,0.9815864732818446,0.9811165818512192,0.0009717156845450624\n",
            "\n"
          ],
          "name": "stdout"
        }
      ]
    },
    {
      "cell_type": "code",
      "metadata": {
        "id": "SggzGxVnRgWn",
        "colab_type": "code",
        "outputId": "31ad0f18-2a67-4381-e18f-4b5ae909f797",
        "colab": {
          "base_uri": "https://localhost:8080/",
          "height": 153
        }
      },
      "source": [
        "# summarize results\n",
        "print(\"Best: %f using %s\" % (grid_result.best_score_, grid_result.best_params_))\n",
        "means = grid_result.cv_results_['mean_test_score']\n",
        "stds = grid_result.cv_results_['std_test_score']\n",
        "params = grid_result.cv_results_['params']\n",
        "for mean, stdev, param in zip(means, stds, params):\n",
        "    print(\"%f (%f) with: %r\" % (mean, stdev, param))"
      ],
      "execution_count": 0,
      "outputs": [
        {
          "output_type": "stream",
          "text": [
            "Best: 0.980404 using {'optimizer': 'Adamax'}\n",
            "0.980392 (0.000000) with: {'optimizer': 'SGD'}\n",
            "0.979764 (0.000325) with: {'optimizer': 'RMSprop'}\n",
            "0.979736 (0.000685) with: {'optimizer': 'Adagrad'}\n",
            "0.980392 (0.000000) with: {'optimizer': 'Adadelta'}\n",
            "0.980067 (0.000215) with: {'optimizer': 'Adam'}\n",
            "0.980404 (0.000153) with: {'optimizer': 'Adamax'}\n",
            "0.979147 (0.000516) with: {'optimizer': 'Nadam'}\n"
          ],
          "name": "stdout"
        }
      ]
    }
  ]
}