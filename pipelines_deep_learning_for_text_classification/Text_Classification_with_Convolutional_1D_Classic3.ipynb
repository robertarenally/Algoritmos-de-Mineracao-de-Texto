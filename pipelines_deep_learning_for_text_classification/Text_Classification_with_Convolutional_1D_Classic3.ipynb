{
  "nbformat": 4,
  "nbformat_minor": 0,
  "metadata": {
    "colab": {
      "name": "Text_Classification_With_keras_in_Classic3.ipynb",
      "provenance": [],
      "collapsed_sections": [],
      "toc_visible": true
    },
    "kernelspec": {
      "name": "python3",
      "display_name": "Python 3"
    },
    "accelerator": "GPU"
  },
  "cells": [
    {
      "cell_type": "code",
      "metadata": {
        "id": "49HWOPlHCHBD",
        "colab_type": "code",
        "outputId": "7039b9fe-5566-4250-970b-872497124a81",
        "colab": {
          "base_uri": "https://localhost:8080/",
          "height": 34
        }
      },
      "source": [
        "import os\n",
        "import pandas as pd\n",
        "import numpy as np\n",
        "import matplotlib.pyplot as plt \n",
        "from keras.layers import Activation, Conv1D, Dense, Embedding, Flatten, Input, MaxPooling1D\n",
        "from keras.models import Sequential\n",
        "from keras.preprocessing.text import Tokenizer\n",
        "from keras.preprocessing.sequence import pad_sequences\n",
        "from sklearn.datasets import fetch_20newsgroups\n",
        "from sklearn.datasets.base import get_data_home\n",
        "from keras.metrics import categorical_accuracy\n",
        "from keras.utils import to_categorical\n",
        "from keras.wrappers.scikit_learn import KerasClassifier\n",
        "from sklearn.datasets import load_files \n",
        "from sklearn.model_selection import GridSearchCV\n",
        "from sklearn.model_selection import train_test_split "
      ],
      "execution_count": 0,
      "outputs": [
        {
          "output_type": "stream",
          "text": [
            "Using TensorFlow backend.\n"
          ],
          "name": "stderr"
        }
      ]
    },
    {
      "cell_type": "code",
      "metadata": {
        "id": "Sn7V3x-5-2Fe",
        "colab_type": "code",
        "colab": {}
      },
      "source": [
        "# Code to read csv file into Colaboratory:\n",
        "!pip install -U -q PyDrive\n",
        "from pydrive.auth import GoogleAuth\n",
        "from pydrive.drive import GoogleDrive\n",
        "from google.colab import auth\n",
        "from oauth2client.client import GoogleCredentials\n",
        "# Authenticate and create the PyDrive client.\n",
        "auth.authenticate_user()\n",
        "gauth = GoogleAuth()\n",
        "gauth.credentials = GoogleCredentials.get_application_default()\n",
        "drive = GoogleDrive(gauth)"
      ],
      "execution_count": 0,
      "outputs": []
    },
    {
      "cell_type": "code",
      "metadata": {
        "id": "TpFtODf6Ae79",
        "colab_type": "code",
        "outputId": "55e5aed0-e1bc-439b-c35a-3086ec5f370b",
        "colab": {
          "base_uri": "https://localhost:8080/",
          "height": 34
        }
      },
      "source": [
        "link = 'https://drive.google.com/open?id=1LL5SFYUh1teEAMgFjO6Y3aW9HMfPpOPa'\n",
        "fluff, id = link.split('=')\n",
        "print (id) # Verify that you have everything after '='"
      ],
      "execution_count": 0,
      "outputs": [
        {
          "output_type": "stream",
          "text": [
            "1LL5SFYUh1teEAMgFjO6Y3aW9HMfPpOPa\n"
          ],
          "name": "stdout"
        }
      ]
    },
    {
      "cell_type": "code",
      "metadata": {
        "id": "zuoq7ZEx_XtB",
        "colab_type": "code",
        "colab": {}
      },
      "source": [
        "downloaded = drive.CreateFile({'id':id}) \n",
        "downloaded.GetContentFile('Classic3.csv')  \n",
        "df3 = pd.read_csv('Classic3.csv')\n",
        "# Dataset is now stored in a Pandas Dataframe"
      ],
      "execution_count": 0,
      "outputs": []
    },
    {
      "cell_type": "code",
      "metadata": {
        "id": "qJNW4gzyPz_A",
        "colab_type": "code",
        "outputId": "b044ee02-416b-45ee-cde5-243ee19e2dac",
        "colab": {
          "base_uri": "https://localhost:8080/",
          "height": 34
        }
      },
      "source": [
        "len(df3.data)"
      ],
      "execution_count": 0,
      "outputs": [
        {
          "output_type": "execute_result",
          "data": {
            "text/plain": [
              "7095"
            ]
          },
          "metadata": {
            "tags": []
          },
          "execution_count": 5
        }
      ]
    },
    {
      "cell_type": "code",
      "metadata": {
        "id": "B5KaLBiNCZT3",
        "colab_type": "code",
        "colab": {}
      },
      "source": [
        "#Definindo constantes\n",
        "max_length = 100\n",
        "num_labels = 4\n",
        "vocab_size = 8000\n",
        "batch_size = [100]\n",
        "epochs = [10]"
      ],
      "execution_count": 0,
      "outputs": []
    },
    {
      "cell_type": "code",
      "metadata": {
        "id": "U3gz2K-ICfpY",
        "colab_type": "code",
        "colab": {}
      },
      "source": [
        "# Extract text\n",
        "tokenizer = Tokenizer(num_words=vocab_size) # Setup tokenizer\n",
        "tokenizer.fit_on_texts(df3.data)\n",
        "sequences = tokenizer.texts_to_sequences(df3.data) # Generate sequences\n",
        "x = pad_sequences(sequences, maxlen=max_length)\n",
        "# Extract target\n",
        "y = to_categorical(df3.target, num_labels)"
      ],
      "execution_count": 0,
      "outputs": []
    },
    {
      "cell_type": "code",
      "metadata": {
        "id": "2sZNd7LOCy81",
        "colab_type": "code",
        "outputId": "cb45518e-8a87-45a2-d0bb-d2da1b0e3e73",
        "colab": {
          "base_uri": "https://localhost:8080/",
          "height": 51
        }
      },
      "source": [
        "print('Shape of data:', x.shape)\n",
        "print('Shape of labels:', y.shape)"
      ],
      "execution_count": 0,
      "outputs": [
        {
          "output_type": "stream",
          "text": [
            "Shape of data: (7095, 100)\n",
            "Shape of labels: (7095, 4)\n"
          ],
          "name": "stdout"
        }
      ]
    },
    {
      "cell_type": "code",
      "metadata": {
        "id": "ImIAhKM5OKMV",
        "colab_type": "code",
        "colab": {}
      },
      "source": [
        "#Training and Test Sets \n",
        "#this script divides data into 20% test set and 80% training set.\n",
        "X_train, X_test, y_train, y_test = train_test_split(x, y, test_size=0.2, random_state=0) "
      ],
      "execution_count": 0,
      "outputs": []
    },
    {
      "cell_type": "code",
      "metadata": {
        "id": "GjqKN-XCN9zF",
        "colab_type": "code",
        "outputId": "331ec64e-5c0b-4c2f-f441-e0ec2296aa06",
        "colab": {
          "base_uri": "https://localhost:8080/",
          "height": 34
        }
      },
      "source": [
        "link = 'https://drive.google.com/open?id=1erGe6LcwCDxpL9D8rRO7UYg0POVBvwX8'\n",
        "fluff, id = link.split('=')\n",
        "print (id) # Verify that you have everything after '='"
      ],
      "execution_count": 0,
      "outputs": [
        {
          "output_type": "stream",
          "text": [
            "1erGe6LcwCDxpL9D8rRO7UYg0POVBvwX8\n"
          ],
          "name": "stdout"
        }
      ]
    },
    {
      "cell_type": "code",
      "metadata": {
        "id": "bNh5GmhTOBJV",
        "colab_type": "code",
        "colab": {}
      },
      "source": [
        "downloaded = drive.CreateFile({'id':id}) \n",
        "downloaded.GetContentFile('glove.6B.100d.txt') "
      ],
      "execution_count": 0,
      "outputs": []
    },
    {
      "cell_type": "code",
      "metadata": {
        "id": "whtIep9EOS0D",
        "colab_type": "code",
        "outputId": "cba6f251-2383-41b1-9177-3bcaeb65351e",
        "colab": {
          "base_uri": "https://localhost:8080/",
          "height": 34
        }
      },
      "source": [
        "embeddings_index = {} # We create a dictionary of word -> embedding\n",
        "\n",
        "with open(os.path.join('glove.6B.100d.txt')) as f:\n",
        "    for line in f:\n",
        "        values = line.split()\n",
        "        word = values[0] # The first value is the word, the rest are the values of the embedding\n",
        "        embedding = np.asarray(values[1:], dtype='float32') # Load embedding\n",
        "        embeddings_index[word] = embedding # Add embedding to our embedding dictionary\n",
        "\n",
        "print('Found {:,} word vectors in GloVe.'.format(len(embeddings_index)))"
      ],
      "execution_count": 0,
      "outputs": [
        {
          "output_type": "stream",
          "text": [
            "Found 400,000 word vectors in GloVe.\n"
          ],
          "name": "stdout"
        }
      ]
    },
    {
      "cell_type": "code",
      "metadata": {
        "id": "e0b3gxUVOq6i",
        "colab_type": "code",
        "colab": {}
      },
      "source": [
        "embedding_dim = 100 # We use 100 dimensional glove vectors\n",
        "\n",
        "word_index = tokenizer.word_index\n",
        "nb_words = min(vocab_size, len(word_index)) # How many words are there actually\n",
        "\n",
        "embedding_matrix = np.zeros((nb_words, embedding_dim))\n",
        "\n",
        "# The vectors need to be in the same position as their index. \n",
        "# Meaning a word with token 1 needs to be in the second row (rows start with zero) and so on\n",
        "\n",
        "# Loop over all words in the word index\n",
        "for word, i in word_index.items():\n",
        "    # If we are above the amount of words we want to use we do nothing\n",
        "    if i >= vocab_size: \n",
        "        continue\n",
        "    # Get the embedding vector for the word\n",
        "    embedding_vector = embeddings_index.get(word)\n",
        "    # If there is an embedding vector, put it in the embedding matrix\n",
        "    if embedding_vector is not None: \n",
        "        embedding_matrix[i] = embedding_vector"
      ],
      "execution_count": 0,
      "outputs": []
    },
    {
      "cell_type": "code",
      "metadata": {
        "id": "OkB-owCXQIIj",
        "colab_type": "code",
        "outputId": "d75921b1-ae14-4cc9-c19d-70e2d1340f90",
        "colab": {
          "base_uri": "https://localhost:8080/",
          "height": 717
        }
      },
      "source": [
        "# create model\n",
        "model = Sequential()\n",
        "model.add(Embedding(vocab_size, \n",
        "                    embedding_dim, \n",
        "                    input_length=max_length, \n",
        "                    weights = [embedding_matrix], \n",
        "                    trainable = False))\n",
        "model.add(Conv1D(128, 3, activation='relu'))\n",
        "model.add(MaxPooling1D(3))\n",
        "model.add(Conv1D(128, 3, activation='relu'))\n",
        "model.add(MaxPooling1D(3))\n",
        "model.add(Conv1D(128, 3, activation='relu'))\n",
        "model.add(MaxPooling1D(3))\n",
        "model.add(Flatten())\n",
        "model.add(Dense(128, activation='relu'))\n",
        "model.add(Dense(4, activation='softmax'))\n",
        "model.summary()"
      ],
      "execution_count": 0,
      "outputs": [
        {
          "output_type": "stream",
          "text": [
            "WARNING:tensorflow:From /usr/local/lib/python3.6/dist-packages/keras/backend/tensorflow_backend.py:66: The name tf.get_default_graph is deprecated. Please use tf.compat.v1.get_default_graph instead.\n",
            "\n",
            "WARNING:tensorflow:From /usr/local/lib/python3.6/dist-packages/keras/backend/tensorflow_backend.py:541: The name tf.placeholder is deprecated. Please use tf.compat.v1.placeholder instead.\n",
            "\n",
            "WARNING:tensorflow:From /usr/local/lib/python3.6/dist-packages/keras/backend/tensorflow_backend.py:4432: The name tf.random_uniform is deprecated. Please use tf.random.uniform instead.\n",
            "\n",
            "WARNING:tensorflow:From /usr/local/lib/python3.6/dist-packages/keras/backend/tensorflow_backend.py:190: The name tf.get_default_session is deprecated. Please use tf.compat.v1.get_default_session instead.\n",
            "\n",
            "WARNING:tensorflow:From /usr/local/lib/python3.6/dist-packages/keras/backend/tensorflow_backend.py:197: The name tf.ConfigProto is deprecated. Please use tf.compat.v1.ConfigProto instead.\n",
            "\n",
            "WARNING:tensorflow:From /usr/local/lib/python3.6/dist-packages/keras/backend/tensorflow_backend.py:4267: The name tf.nn.max_pool is deprecated. Please use tf.nn.max_pool2d instead.\n",
            "\n",
            "Model: \"sequential_1\"\n",
            "_________________________________________________________________\n",
            "Layer (type)                 Output Shape              Param #   \n",
            "=================================================================\n",
            "embedding_1 (Embedding)      (None, 100, 100)          800000    \n",
            "_________________________________________________________________\n",
            "conv1d_1 (Conv1D)            (None, 98, 128)           38528     \n",
            "_________________________________________________________________\n",
            "max_pooling1d_1 (MaxPooling1 (None, 32, 128)           0         \n",
            "_________________________________________________________________\n",
            "conv1d_2 (Conv1D)            (None, 30, 128)           49280     \n",
            "_________________________________________________________________\n",
            "max_pooling1d_2 (MaxPooling1 (None, 10, 128)           0         \n",
            "_________________________________________________________________\n",
            "conv1d_3 (Conv1D)            (None, 8, 128)            49280     \n",
            "_________________________________________________________________\n",
            "max_pooling1d_3 (MaxPooling1 (None, 2, 128)            0         \n",
            "_________________________________________________________________\n",
            "flatten_1 (Flatten)          (None, 256)               0         \n",
            "_________________________________________________________________\n",
            "dense_1 (Dense)              (None, 128)               32896     \n",
            "_________________________________________________________________\n",
            "dense_2 (Dense)              (None, 4)                 516       \n",
            "=================================================================\n",
            "Total params: 970,500\n",
            "Trainable params: 170,500\n",
            "Non-trainable params: 800,000\n",
            "_________________________________________________________________\n"
          ],
          "name": "stdout"
        }
      ]
    },
    {
      "cell_type": "code",
      "metadata": {
        "id": "s4hnMo7SQRjx",
        "colab_type": "code",
        "outputId": "b0ce87ae-88e6-40f6-f0a6-84059c4cf3ae",
        "colab": {
          "base_uri": "https://localhost:8080/",
          "height": 479
        }
      },
      "source": [
        "#model.compile(loss='binary_crossentropy', optimizer='adam', metrics=[categorical_accuracy])\n",
        "model.compile(loss='categorical_crossentropy', optimizer='adam', metrics=['accuracy'])\n",
        "\n",
        "history = model.fit(X_train, y_train, validation_data=(X_test, y_test), epochs=10)"
      ],
      "execution_count": 0,
      "outputs": [
        {
          "output_type": "stream",
          "text": [
            "WARNING:tensorflow:From /usr/local/lib/python3.6/dist-packages/keras/optimizers.py:793: The name tf.train.Optimizer is deprecated. Please use tf.compat.v1.train.Optimizer instead.\n",
            "\n",
            "WARNING:tensorflow:From /usr/local/lib/python3.6/dist-packages/tensorflow/python/ops/math_grad.py:1250: add_dispatch_support.<locals>.wrapper (from tensorflow.python.ops.array_ops) is deprecated and will be removed in a future version.\n",
            "Instructions for updating:\n",
            "Use tf.where in 2.0, which has the same broadcast rule as np.where\n",
            "Train on 5676 samples, validate on 1419 samples\n",
            "Epoch 1/10\n",
            "5676/5676 [==============================] - 6s 971us/step - loss: 0.5280 - acc: 0.8069 - val_loss: 0.3498 - val_acc: 0.8781\n",
            "Epoch 2/10\n",
            "5676/5676 [==============================] - 2s 285us/step - loss: 0.1595 - acc: 0.9466 - val_loss: 0.2255 - val_acc: 0.9387\n",
            "Epoch 3/10\n",
            "5676/5676 [==============================] - 2s 308us/step - loss: 0.1108 - acc: 0.9609 - val_loss: 0.2136 - val_acc: 0.9352\n",
            "Epoch 4/10\n",
            "5676/5676 [==============================] - 2s 317us/step - loss: 0.0707 - acc: 0.9766 - val_loss: 0.2227 - val_acc: 0.9309\n",
            "Epoch 5/10\n",
            "5676/5676 [==============================] - 2s 320us/step - loss: 0.0492 - acc: 0.9848 - val_loss: 0.2417 - val_acc: 0.9352\n",
            "Epoch 6/10\n",
            "5676/5676 [==============================] - 2s 307us/step - loss: 0.0360 - acc: 0.9882 - val_loss: 0.1978 - val_acc: 0.9556\n",
            "Epoch 7/10\n",
            "5676/5676 [==============================] - 2s 325us/step - loss: 0.0200 - acc: 0.9945 - val_loss: 0.2126 - val_acc: 0.9570\n",
            "Epoch 8/10\n",
            "5676/5676 [==============================] - 2s 333us/step - loss: 0.0344 - acc: 0.9908 - val_loss: 0.2065 - val_acc: 0.9507\n",
            "Epoch 9/10\n",
            "5676/5676 [==============================] - 2s 317us/step - loss: 0.0193 - acc: 0.9945 - val_loss: 0.2769 - val_acc: 0.9380\n",
            "Epoch 10/10\n",
            "5676/5676 [==============================] - 2s 317us/step - loss: 0.0141 - acc: 0.9970 - val_loss: 0.3599 - val_acc: 0.9274\n"
          ],
          "name": "stdout"
        }
      ]
    },
    {
      "cell_type": "code",
      "metadata": {
        "id": "eWo_OyB4Qcd4",
        "colab_type": "code",
        "outputId": "67eb3fdf-704d-420d-bf4e-0314cb1dd795",
        "colab": {
          "base_uri": "https://localhost:8080/",
          "height": 465
        }
      },
      "source": [
        "plt.figure(figsize =(5,3))\n",
        "plt.plot(history.history['loss'], marker='.', label='train')\n",
        "plt.plot(history.history['val_loss'], marker='.', label='test')\n",
        "plt.title('Loss')\n",
        "plt.grid(True)\n",
        "plt.xlabel('epoch')\n",
        "plt.ylabel('loss')\n",
        "plt.legend(loc='best')\n",
        "plt.show()\n",
        "\n",
        "plt.figure(figsize =(5,3))\n",
        "plt.plot(history.history['acc'], marker='.', label='train')\n",
        "plt.plot(history.history['val_acc'], marker='.', label='test')\n",
        "plt.title('Accuracy')\n",
        "plt.grid(True)\n",
        "plt.xlabel('epoch')\n",
        "plt.ylabel('accuracy')\n",
        "plt.legend(loc='best')\n",
        "plt.show()"
      ],
      "execution_count": 0,
      "outputs": [
        {
          "output_type": "display_data",
          "data": {
            "image/png": "[encoded data removed]",
            "text/plain": [
              "<Figure size 360x216 with 1 Axes>"
            ]
          },
          "metadata": {
            "tags": []
          }
        },
        {
          "output_type": "display_data",
          "data": {
            "image/png": "[encoded data removed]",
            "text/plain": [
              "<Figure size 360x216 with 1 Axes>"
            ]
          },
          "metadata": {
            "tags": []
          }
        }
      ]
    },
    {
      "cell_type": "markdown",
      "metadata": {
        "id": "hfTQrMWMQjM3",
        "colab_type": "text"
      },
      "source": [
        "# Keras with GridSearchCv"
      ]
    },
    {
      "cell_type": "code",
      "metadata": {
        "id": "ttU2uLQaC9jv",
        "colab_type": "code",
        "colab": {}
      },
      "source": [
        "def create_model(optimizer='adam'):\n",
        "    model = Sequential()\n",
        "    model.add(Embedding(vocab_size, embedding_dim, input_length=max_length, \n",
        "                        weights = [embedding_matrix], \n",
        "                        trainable = False))\n",
        "    model.add(Conv1D(128, 3, activation='relu'))\n",
        "    model.add(MaxPooling1D(3))\n",
        "    model.add(Conv1D(128, 3, activation='relu'))\n",
        "    model.add(MaxPooling1D(3))\n",
        "    model.add(Conv1D(128, 3, activation='relu'))\n",
        "    model.add(MaxPooling1D(3))\n",
        "    model.add(Flatten())\n",
        "    model.add(Dense(128, activation='relu'))\n",
        "    model.add(Dense(num_labels, activation='softmax'))\n",
        "    # Compile model\n",
        "    model.compile(loss='binary_crossentropy', optimizer=optimizer, metrics=['accuracy'])\n",
        "    return model"
      ],
      "execution_count": 0,
      "outputs": []
    },
    {
      "cell_type": "code",
      "metadata": {
        "id": "hjyAU1RlDTYY",
        "colab_type": "code",
        "colab": {}
      },
      "source": [
        "# create model\n",
        "model = KerasClassifier(build_fn=create_model, epochs=10, batch_size=100, verbose=0)"
      ],
      "execution_count": 0,
      "outputs": []
    },
    {
      "cell_type": "code",
      "metadata": {
        "id": "z0pVNb39DUAL",
        "colab_type": "code",
        "outputId": "e2be330b-b64c-4c67-f33a-33c240e6c50c",
        "colab": {
          "base_uri": "https://localhost:8080/",
          "height": 139
        }
      },
      "source": [
        "\n",
        "optimizer = ['SGD', 'RMSprop', 'Adagrad', 'Adadelta', 'Adam', 'Adamax', 'Nadam']\n",
        "param_grid = dict(optimizer=optimizer)\n",
        "grid = GridSearchCV(estimator=model, param_grid=param_grid, n_jobs=-1, cv=10, verbose=True,return_train_score=True)\n",
        "grid_result = grid.fit(x, y)"
      ],
      "execution_count": 0,
      "outputs": [
        {
          "output_type": "stream",
          "text": [
            "Fitting 10 folds for each of 7 candidates, totalling 70 fits\n"
          ],
          "name": "stdout"
        },
        {
          "output_type": "stream",
          "text": [
            "[Parallel(n_jobs=-1)]: Using backend LokyBackend with 2 concurrent workers.\n",
            "/usr/local/lib/python3.6/dist-packages/joblib/externals/loky/process_executor.py:706: UserWarning: A worker stopped while some jobs were given to the executor. This can be caused by a too short worker timeout or by a memory leak.\n",
            "  \"timeout or by a memory leak.\", UserWarning\n",
            "[Parallel(n_jobs=-1)]: Done  46 tasks      | elapsed:  5.6min\n",
            "[Parallel(n_jobs=-1)]: Done  70 out of  70 | elapsed:  8.8min finished\n"
          ],
          "name": "stderr"
        }
      ]
    },
    {
      "cell_type": "code",
      "metadata": {
        "id": "suJaDteeDYVO",
        "colab_type": "code",
        "outputId": "e299d753-bc05-415e-8c19-26a7c316653c",
        "colab": {
          "base_uri": "https://localhost:8080/",
          "height": 190
        }
      },
      "source": [
        "df = pd.DataFrame(grid_result.cv_results_)\n",
        "df.to_csv('resultado_pipeline_classic3.csv')\n",
        "print(df.to_csv())"
      ],
      "execution_count": 0,
      "outputs": [
        {
          "output_type": "stream",
          "text": [
            ",mean_fit_time,std_fit_time,mean_score_time,std_score_time,param_optimizer,params,split0_test_score,split1_test_score,split2_test_score,split3_test_score,split4_test_score,split5_test_score,split6_test_score,split7_test_score,split8_test_score,split9_test_score,mean_test_score,std_test_score,rank_test_score,split0_train_score,split1_train_score,split2_train_score,split3_train_score,split4_train_score,split5_train_score,split6_train_score,split7_train_score,split8_train_score,split9_train_score,mean_train_score,std_train_score\n",
            "0,12.238749933242797,1.4046777262346353,0.22460544109344482,0.041069251261806994,SGD,{'optimizer': 'SGD'},0.8024647899076972,0.7732394320864073,0.8612676103350142,0.8799295727635773,0.89154928838703,0.8709449960583524,0.7898448648506563,0.8356840577717393,0.8674188984297899,0.8748236947570769,0.8447145876370323,0.03975858440434709,7,0.8037196616222827,0.7783868397785147,0.8572827053891557,0.8792090792626073,0.9048942808724048,0.8626683428673546,0.795294403955177,0.8402364494619121,0.879815220328808,0.8854916965255832,0.8486998680063801,0.04070641858621589\n",
            "1,13.068066787719726,1.1398888321196035,0.26905810832977295,0.06278164556422157,RMSprop,{'optimizer': 'RMSprop'},0.9785211380098907,0.9855633940495235,0.9788732343996075,0.9757042300533241,0.9778169141688817,0.9816643321631826,0.9827221603420456,0.9516925119042229,0.9806065054975545,0.9827221603420456,0.9775898611402747,0.009045855935302528,4,0.9987470646248073,0.9990602984686054,0.998981990007656,0.9986687561638578,0.998629601933383,0.9990212974076431,0.999060445618861,0.9507516355601142,0.9986689646267196,0.9986689644027122,0.9940259018814361,0.014425762649532119\n",
            "2,12.979007840156555,0.961087907572532,0.29939045906066897,0.06630830636207317,Adagrad,{'optimizer': 'Adagrad'},0.9785211380098907,0.982042262251948,0.9813380451269553,0.9813380442874532,0.9813380459664574,0.9827221506741555,0.9816643334242118,0.9813117244516004,0.9795486785797205,0.9816643250173507,0.9811487103197422,0.0011578338134844836,1,0.9989428357771811,0.9990994526990803,0.9991777611600298,0.9990602984686054,0.9983163680895848,0.9991778899165034,0.999060445618861,0.9993344823133599,0.999060445618861,0.9992561860029279,0.9990486165664993,0.000266190206568798\n",
            "3,13.887597036361694,0.2701040966341836,0.2980700969696045,0.059799705922400075,Adadelta,{'optimizer': 'Adadelta'},0.9795774750306573,0.9669014055963973,0.9771126878093666,0.97922537024592,0.9778169225639021,0.978843451975431,0.9777856347254873,0.9791960706159325,0.9739069182042175,0.9795486795885439,0.9769908522702675,0.0037312282227313018,6,0.9969851237866872,0.9870791037099476,0.9947533326496253,0.9971417411753416,0.9967501984038386,0.9974945215382921,0.9939320446218102,0.9943626736011618,0.9943235255019477,0.9957328570736563,0.9948555122062309,0.002880064067478986\n",
            "4,14.074835228919984,1.2036908631463341,0.2810344219207764,0.07733651304311892,Adam,{'optimizer': 'Adam'},0.9732394445110375,0.9820422706469684,0.9792253626904017,0.9771126878093666,0.9781690349041576,0.9809591142179599,0.9802538975337665,0.982016933989962,0.9795486785797205,0.9834273782872683,0.9795983233613141,0.0027854341296344757,2,0.9992169153905045,0.9987470646248073,0.9992952238514541,0.9990994526990803,0.9992560696209793,0.9992953342141457,0.9992561861149316,0.9994519266110022,0.9993344823133599,0.999295334102142,0.9992247989542407,0.00018013729211189994\n",
            "5,13.453459787368775,1.1424627714318347,0.2973181962966919,0.10265916507938469,Adamax,{'optimizer': 'Adamax'},0.9764084555733372,0.9802817089456908,0.9809859327866998,0.9764084547338351,0.9764084648078596,0.973201700006789,0.9816643334242118,0.9809591154789891,0.9791960696071093,0.9834273782872683,0.9788936007182475,0.002996529130524205,3,0.9986687561638578,0.9979248257848371,0.9985512934724334,0.9981205964704557,0.9988253730857568,0.9971421887573687,0.9988647051227902,0.9990995937180751,0.9979642988408653,0.9983166316217887,0.9983478263038229,0.000551085737795184\n",
            "6,15.179006314277649,1.1239878640521193,0.28330278396606445,0.08221701175922762,Nadam,{'optimizer': 'Nadam'},0.9781690256696352,0.9827464953274794,0.9482394347728138,0.9820422689679643,0.9792253635299037,0.9830747680536278,0.977433017346015,0.9809591070721281,0.9795486701728595,0.9802538975337665,0.9771670309988187,0.009808590207623391,5,0.9993735323124037,0.9993343780819288,0.9616679657504441,0.9992952238514541,0.9993735323124037,0.9994519266110022,0.988842791555968,0.9986689646267196,0.9994127785117881,0.9991387417052855,0.9944559835319398,0.011363759430783195\n",
            "\n"
          ],
          "name": "stdout"
        }
      ]
    },
    {
      "cell_type": "code",
      "metadata": {
        "id": "PlDhfyyVOp9u",
        "colab_type": "code",
        "outputId": "9a2d8f3a-6193-4ced-fa99-1a67a6dd49b7",
        "colab": {
          "base_uri": "https://localhost:8080/",
          "height": 153
        }
      },
      "source": [
        "# summarize results\n",
        "print(\"Best: %f using %s\" % (grid_result.best_score_, grid_result.best_params_))\n",
        "means = grid_result.cv_results_['mean_test_score']\n",
        "stds = grid_result.cv_results_['std_test_score']\n",
        "params = grid_result.cv_results_['params']\n",
        "for mean, stdev, param in zip(means, stds, params):\n",
        "    print(\"%f (%f) with: %r\" % (mean, stdev, param))"
      ],
      "execution_count": 0,
      "outputs": [
        {
          "output_type": "stream",
          "text": [
            "Best: 0.981149 using {'optimizer': 'Adagrad'}\n",
            "0.844715 (0.039759) with: {'optimizer': 'SGD'}\n",
            "0.977590 (0.009046) with: {'optimizer': 'RMSprop'}\n",
            "0.981149 (0.001158) with: {'optimizer': 'Adagrad'}\n",
            "0.976991 (0.003731) with: {'optimizer': 'Adadelta'}\n",
            "0.979598 (0.002785) with: {'optimizer': 'Adam'}\n",
            "0.978894 (0.002997) with: {'optimizer': 'Adamax'}\n",
            "0.977167 (0.009809) with: {'optimizer': 'Nadam'}\n"
          ],
          "name": "stdout"
        }
      ]
    }
  ]
}