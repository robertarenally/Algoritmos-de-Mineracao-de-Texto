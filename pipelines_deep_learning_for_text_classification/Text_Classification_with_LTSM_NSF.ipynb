{
  "nbformat": 4,
  "nbformat_minor": 0,
  "metadata": {
    "colab": {
      "name": "Text Classification with LTSM_NSF.ipynb",
      "provenance": [],
      "collapsed_sections": [],
      "toc_visible": true
    },
    "kernelspec": {
      "name": "python3",
      "display_name": "Python 3"
    },
    "accelerator": "GPU"
  },
  "cells": [
    {
      "cell_type": "code",
      "metadata": {
        "id": "zhT4XWAT201O",
        "colab_type": "code",
        "outputId": "234802ee-d37e-42f1-93d6-feedbe5c25c2",
        "colab": {
          "base_uri": "https://localhost:8080/",
          "height": 81
        }
      },
      "source": [
        "import os\n",
        "import pandas as pd\n",
        "import numpy as np\n",
        "import matplotlib.pyplot as plt \n",
        "import seaborn as sns\n",
        "from keras.layers import LSTM, Activation, Dense, Dropout, Embedding, Flatten, Input, MaxPooling1D, SpatialDropout1D\n",
        "from keras.models import Model\n",
        "from keras.models import Sequential\n",
        "from keras.preprocessing.text import Tokenizer\n",
        "from keras.preprocessing.sequence import pad_sequences\n",
        "from keras.optimizers import RMSprop\n",
        "from keras.preprocessing import sequence\n",
        "from keras.callbacks import EarlyStopping\n",
        "from sklearn.datasets import fetch_20newsgroups\n",
        "from sklearn.datasets.base import get_data_home\n",
        "from keras.metrics import categorical_accuracy\n",
        "from keras.utils import to_categorical\n",
        "from keras.wrappers.scikit_learn import KerasClassifier\n",
        "from sklearn.model_selection import train_test_split  \n",
        "from sklearn.preprocessing import LabelEncoder\n",
        "from sklearn.model_selection import GridSearchCV"
      ],
      "execution_count": 0,
      "outputs": [
        {
          "output_type": "stream",
          "text": [
            "Using TensorFlow backend.\n"
          ],
          "name": "stderr"
        },
        {
          "output_type": "display_data",
          "data": {
            "text/html": [
              "<p style=\"color: red;\">\n",
              "The default version of TensorFlow in Colab will soon switch to TensorFlow 2.x.<br>\n",
              "We recommend you <a href=\"https://www.tensorflow.org/guide/migrate\" target=\"_blank\">upgrade</a> now \n",
              "or ensure your notebook will continue to use TensorFlow 1.x via the <code>%tensorflow_version 1.x</code> magic:\n",
              "<a href=\"https://colab.research.google.com/notebooks/tensorflow_version.ipynb\" target=\"_blank\">more info</a>.</p>\n"
            ],
            "text/plain": [
              "<IPython.core.display.HTML object>"
            ]
          },
          "metadata": {
            "tags": []
          }
        }
      ]
    },
    {
      "cell_type": "code",
      "metadata": {
        "id": "i5EBeW0Z4ZKh",
        "colab_type": "code",
        "colab": {}
      },
      "source": [
        "# Code to read csv file into Colaboratory:\n",
        "!pip install -U -q PyDrive\n",
        "from pydrive.auth import GoogleAuth\n",
        "from pydrive.drive import GoogleDrive\n",
        "from google.colab import auth\n",
        "from oauth2client.client import GoogleCredentials\n",
        "# Authenticate and create the PyDrive client.\n",
        "auth.authenticate_user()\n",
        "gauth = GoogleAuth()\n",
        "gauth.credentials = GoogleCredentials.get_application_default()\n",
        "drive = GoogleDrive(gauth)"
      ],
      "execution_count": 0,
      "outputs": []
    },
    {
      "cell_type": "code",
      "metadata": {
        "id": "7QSflrYt4mJg",
        "colab_type": "code",
        "outputId": "4bf7b1ac-0ad4-4197-ef5c-0ac65f0b3de9",
        "colab": {
          "base_uri": "https://localhost:8080/",
          "height": 34
        }
      },
      "source": [
        "link = 'https://drive.google.com/open?id=11rsquoqqd3fQk-yp210qjMu2djj12BrH'\n",
        "fluff, id = link.split('=')\n",
        "print (id) # Verify that you have everything after '='\n",
        "downloaded = drive.CreateFile({'id':id}) \n",
        "downloaded.GetContentFile('NSF.csv')  \n",
        "dataset = pd.read_csv('NSF.csv')\n",
        "# Dataset is now stored in a Pandas Dataframe"
      ],
      "execution_count": 0,
      "outputs": [
        {
          "output_type": "stream",
          "text": [
            "11rsquoqqd3fQk-yp210qjMu2djj12BrH\n"
          ],
          "name": "stdout"
        }
      ]
    },
    {
      "cell_type": "markdown",
      "metadata": {
        "id": "7zszhXQv4yy4",
        "colab_type": "text"
      },
      "source": [
        "# Processamento dos Dados\n",
        "\n",
        "```\n",
        "# Tokenize the data and convert the text to sequences.\n",
        "# Add padding to ensure that all the sequences have the same shape.\n",
        "# There are many ways of taking the max_len and here an arbitrary length of 150 is chosen.\n",
        "```\n",
        "\n"
      ]
    },
    {
      "cell_type": "code",
      "metadata": {
        "id": "Rstyfr32CB-N",
        "colab_type": "code",
        "colab": {}
      },
      "source": [
        "#Definindo constantes\n",
        "max_length = 100\n",
        "num_labels = 16\n",
        "vocab_size = 10000\n",
        "batch_size = [100]\n",
        "epochs = [10]\n",
        "# Extract text\n",
        "tokenizer = Tokenizer(num_words=vocab_size) # Setup tokenizer\n",
        "tokenizer.fit_on_texts(dataset.data)\n",
        "sequences = tokenizer.texts_to_sequences(dataset.data) # Generate sequences\n",
        "x = pad_sequences(sequences, maxlen=max_length)\n",
        "# Extract target\n",
        "y = to_categorical(np.asarray(dataset.target))"
      ],
      "execution_count": 0,
      "outputs": []
    },
    {
      "cell_type": "code",
      "metadata": {
        "id": "j8_2F8XG5RzR",
        "colab_type": "code",
        "colab": {}
      },
      "source": [
        "X_train,X_test,Y_train,Y_test = train_test_split(x,y,test_size=0.2)"
      ],
      "execution_count": 0,
      "outputs": []
    },
    {
      "cell_type": "markdown",
      "metadata": {
        "id": "OpDXhXsiyAs9",
        "colab_type": "text"
      },
      "source": [
        "# Loading GloVe embeddings"
      ]
    },
    {
      "cell_type": "code",
      "metadata": {
        "id": "gobAYf6_-DMq",
        "colab_type": "code",
        "outputId": "ed53b14b-d2e2-41d7-b4ab-efbcb2f887fe",
        "colab": {
          "base_uri": "https://localhost:8080/",
          "height": 34
        }
      },
      "source": [
        "link = 'https://drive.google.com/open?id=1erGe6LcwCDxpL9D8rRO7UYg0POVBvwX8'\n",
        "fluff, id = link.split('=')\n",
        "print (id) # Verify that you have everything after '='"
      ],
      "execution_count": 0,
      "outputs": [
        {
          "output_type": "stream",
          "text": [
            "1erGe6LcwCDxpL9D8rRO7UYg0POVBvwX8\n"
          ],
          "name": "stdout"
        }
      ]
    },
    {
      "cell_type": "code",
      "metadata": {
        "id": "F3YGMSui-H74",
        "colab_type": "code",
        "colab": {}
      },
      "source": [
        "downloaded = drive.CreateFile({'id':id}) \n",
        "downloaded.GetContentFile('glove.6B.100d.txt') "
      ],
      "execution_count": 0,
      "outputs": []
    },
    {
      "cell_type": "code",
      "metadata": {
        "id": "aYJ2upUN-K0Q",
        "colab_type": "code",
        "outputId": "78871940-45dc-4a91-8596-c245b44579c4",
        "colab": {
          "base_uri": "https://localhost:8080/",
          "height": 34
        }
      },
      "source": [
        "embeddings_index = {} # We create a dictionary of word -> embedding\n",
        "\n",
        "with open(os.path.join('glove.6B.100d.txt')) as f:\n",
        "    for line in f:\n",
        "        values = line.split()\n",
        "        word = values[0] # The first value is the word, the rest are the values of the embedding\n",
        "        embedding = np.asarray(values[1:], dtype='float32') # Load embedding\n",
        "        embeddings_index[word] = embedding # Add embedding to our embedding dictionary\n",
        "\n",
        "print('Found {:,} word vectors in GloVe.'.format(len(embeddings_index)))"
      ],
      "execution_count": 0,
      "outputs": [
        {
          "output_type": "stream",
          "text": [
            "Found 400,000 word vectors in GloVe.\n"
          ],
          "name": "stdout"
        }
      ]
    },
    {
      "cell_type": "code",
      "metadata": {
        "id": "Tb0DEQDU-W4Z",
        "colab_type": "code",
        "colab": {}
      },
      "source": [
        "embedding_dim = 100 # We use 100 dimensional glove vectors\n",
        "\n",
        "word_index = tokenizer.word_index\n",
        "nb_words = min(vocab_size, len(word_index)) # How many words are there actually\n",
        "\n",
        "embedding_matrix = np.zeros((nb_words, embedding_dim))\n",
        "\n",
        "# The vectors need to be in the same position as their index. \n",
        "# Meaning a word with token 1 needs to be in the second row (rows start with zero) and so on\n",
        "\n",
        "# Loop over all words in the word index\n",
        "for word, i in word_index.items():\n",
        "    # If we are above the amount of words we want to use we do nothing\n",
        "    if i >= vocab_size: \n",
        "        continue\n",
        "    # Get the embedding vector for the word\n",
        "    embedding_vector = embeddings_index.get(word)\n",
        "    # If there is an embedding vector, put it in the embedding matrix\n",
        "    if embedding_vector is not None: \n",
        "        embedding_matrix[i] = embedding_vector"
      ],
      "execution_count": 0,
      "outputs": []
    },
    {
      "cell_type": "code",
      "metadata": {
        "id": "xtfaAm4y6b8t",
        "colab_type": "code",
        "colab": {}
      },
      "source": [
        "def RNN(optimizer='adam'):\n",
        "    model = Sequential()\n",
        "    model.add(Embedding(vocab_size, \n",
        "                    embedding_dim, \n",
        "                    input_length=max_length, \n",
        "                    weights = [embedding_matrix], \n",
        "                    trainable = False))\n",
        "    model.add(SpatialDropout1D(0.7))\n",
        "    model.add(LSTM(64, dropout=0.7, recurrent_dropout=0.7))\n",
        "    model.add(Dense(num_labels, activation='softmax'))\n",
        "    model.compile(loss='binary_crossentropy', optimizer=optimizer, metrics=['accuracy'])\n",
        "    return model"
      ],
      "execution_count": 0,
      "outputs": []
    },
    {
      "cell_type": "code",
      "metadata": {
        "id": "y7Q31FQV7ITI",
        "colab_type": "code",
        "outputId": "60f80601-0ff4-4c29-9868-c81308e7552f",
        "colab": {
          "base_uri": "https://localhost:8080/",
          "height": 943
        }
      },
      "source": [
        "model = RNN()\n",
        "model.summary()"
      ],
      "execution_count": 0,
      "outputs": [
        {
          "output_type": "stream",
          "text": [
            "WARNING:tensorflow:From /usr/local/lib/python3.6/dist-packages/keras/backend/tensorflow_backend.py:66: The name tf.get_default_graph is deprecated. Please use tf.compat.v1.get_default_graph instead.\n",
            "\n",
            "WARNING:tensorflow:From /usr/local/lib/python3.6/dist-packages/keras/backend/tensorflow_backend.py:541: The name tf.placeholder is deprecated. Please use tf.compat.v1.placeholder instead.\n",
            "\n",
            "WARNING:tensorflow:From /usr/local/lib/python3.6/dist-packages/keras/backend/tensorflow_backend.py:4432: The name tf.random_uniform is deprecated. Please use tf.random.uniform instead.\n",
            "\n",
            "WARNING:tensorflow:From /usr/local/lib/python3.6/dist-packages/keras/backend/tensorflow_backend.py:190: The name tf.get_default_session is deprecated. Please use tf.compat.v1.get_default_session instead.\n",
            "\n",
            "WARNING:tensorflow:From /usr/local/lib/python3.6/dist-packages/keras/backend/tensorflow_backend.py:197: The name tf.ConfigProto is deprecated. Please use tf.compat.v1.ConfigProto instead.\n",
            "\n",
            "WARNING:tensorflow:From /usr/local/lib/python3.6/dist-packages/keras/backend/tensorflow_backend.py:203: The name tf.Session is deprecated. Please use tf.compat.v1.Session instead.\n",
            "\n",
            "WARNING:tensorflow:From /usr/local/lib/python3.6/dist-packages/keras/backend/tensorflow_backend.py:207: The name tf.global_variables is deprecated. Please use tf.compat.v1.global_variables instead.\n",
            "\n",
            "WARNING:tensorflow:From /usr/local/lib/python3.6/dist-packages/keras/backend/tensorflow_backend.py:216: The name tf.is_variable_initialized is deprecated. Please use tf.compat.v1.is_variable_initialized instead.\n",
            "\n",
            "WARNING:tensorflow:From /usr/local/lib/python3.6/dist-packages/keras/backend/tensorflow_backend.py:223: The name tf.variables_initializer is deprecated. Please use tf.compat.v1.variables_initializer instead.\n",
            "\n",
            "WARNING:tensorflow:From /usr/local/lib/python3.6/dist-packages/keras/backend/tensorflow_backend.py:148: The name tf.placeholder_with_default is deprecated. Please use tf.compat.v1.placeholder_with_default instead.\n",
            "\n",
            "WARNING:tensorflow:From /usr/local/lib/python3.6/dist-packages/keras/backend/tensorflow_backend.py:3733: calling dropout (from tensorflow.python.ops.nn_ops) with keep_prob is deprecated and will be removed in a future version.\n",
            "Instructions for updating:\n",
            "Please use `rate` instead of `keep_prob`. Rate should be set to `rate = 1 - keep_prob`.\n",
            "WARNING:tensorflow:Large dropout rate: 0.7 (>0.5). In TensorFlow 2.x, dropout() uses dropout rate instead of keep_prob. Please ensure that this is intended.\n",
            "WARNING:tensorflow:Large dropout rate: 0.7 (>0.5). In TensorFlow 2.x, dropout() uses dropout rate instead of keep_prob. Please ensure that this is intended.\n",
            "WARNING:tensorflow:Large dropout rate: 0.7 (>0.5). In TensorFlow 2.x, dropout() uses dropout rate instead of keep_prob. Please ensure that this is intended.\n",
            "WARNING:tensorflow:Large dropout rate: 0.7 (>0.5). In TensorFlow 2.x, dropout() uses dropout rate instead of keep_prob. Please ensure that this is intended.\n",
            "WARNING:tensorflow:Large dropout rate: 0.7 (>0.5). In TensorFlow 2.x, dropout() uses dropout rate instead of keep_prob. Please ensure that this is intended.\n",
            "WARNING:tensorflow:From /usr/local/lib/python3.6/dist-packages/keras/optimizers.py:793: The name tf.train.Optimizer is deprecated. Please use tf.compat.v1.train.Optimizer instead.\n",
            "\n",
            "WARNING:tensorflow:From /usr/local/lib/python3.6/dist-packages/keras/backend/tensorflow_backend.py:3657: The name tf.log is deprecated. Please use tf.math.log instead.\n",
            "\n",
            "WARNING:tensorflow:From /usr/local/lib/python3.6/dist-packages/tensorflow_core/python/ops/nn_impl.py:183: where (from tensorflow.python.ops.array_ops) is deprecated and will be removed in a future version.\n",
            "Instructions for updating:\n",
            "Use tf.where in 2.0, which has the same broadcast rule as np.where\n",
            "Model: \"sequential_1\"\n",
            "_________________________________________________________________\n",
            "Layer (type)                 Output Shape              Param #   \n",
            "=================================================================\n",
            "embedding_1 (Embedding)      (None, 100, 100)          1000000   \n",
            "_________________________________________________________________\n",
            "spatial_dropout1d_1 (Spatial (None, 100, 100)          0         \n",
            "_________________________________________________________________\n",
            "lstm_1 (LSTM)                (None, 64)                42240     \n",
            "_________________________________________________________________\n",
            "dense_1 (Dense)              (None, 16)                1040      \n",
            "=================================================================\n",
            "Total params: 1,043,280\n",
            "Trainable params: 43,280\n",
            "Non-trainable params: 1,000,000\n",
            "_________________________________________________________________\n"
          ],
          "name": "stdout"
        }
      ]
    },
    {
      "cell_type": "code",
      "metadata": {
        "id": "lnq-yF9T72XO",
        "colab_type": "code",
        "outputId": "bf89663c-3902-4585-f336-730d10ba3f02",
        "colab": {
          "base_uri": "https://localhost:8080/",
          "height": 481
        }
      },
      "source": [
        "history = model.fit(X_train, Y_train, validation_data=(X_test, Y_test), epochs=10)"
      ],
      "execution_count": 0,
      "outputs": [
        {
          "output_type": "stream",
          "text": [
            "WARNING:tensorflow:From /usr/local/lib/python3.6/dist-packages/keras/backend/tensorflow_backend.py:1033: The name tf.assign_add is deprecated. Please use tf.compat.v1.assign_add instead.\n",
            "\n",
            "WARNING:tensorflow:From /usr/local/lib/python3.6/dist-packages/keras/backend/tensorflow_backend.py:1020: The name tf.assign is deprecated. Please use tf.compat.v1.assign instead.\n",
            "\n",
            "Train on 8419 samples, validate on 2105 samples\n",
            "Epoch 1/10\n",
            "8419/8419 [==============================] - 59s 7ms/step - loss: 0.2250 - acc: 0.9375 - val_loss: 0.2115 - val_acc: 0.9375\n",
            "Epoch 2/10\n",
            "8419/8419 [==============================] - 58s 7ms/step - loss: 0.2159 - acc: 0.9375 - val_loss: 0.1938 - val_acc: 0.9376\n",
            "Epoch 3/10\n",
            "8419/8419 [==============================] - 58s 7ms/step - loss: 0.2095 - acc: 0.9375 - val_loss: 0.1796 - val_acc: 0.9386\n",
            "Epoch 4/10\n",
            "8419/8419 [==============================] - 58s 7ms/step - loss: 0.2045 - acc: 0.9376 - val_loss: 0.1715 - val_acc: 0.9387\n",
            "Epoch 5/10\n",
            "8419/8419 [==============================] - 57s 7ms/step - loss: 0.2003 - acc: 0.9377 - val_loss: 0.1651 - val_acc: 0.9403\n",
            "Epoch 6/10\n",
            "8419/8419 [==============================] - 57s 7ms/step - loss: 0.1974 - acc: 0.9377 - val_loss: 0.1595 - val_acc: 0.9419\n",
            "Epoch 7/10\n",
            "8419/8419 [==============================] - 58s 7ms/step - loss: 0.1941 - acc: 0.9379 - val_loss: 0.1567 - val_acc: 0.9433\n",
            "Epoch 8/10\n",
            "8419/8419 [==============================] - 58s 7ms/step - loss: 0.1927 - acc: 0.9381 - val_loss: 0.1533 - val_acc: 0.9436\n",
            "Epoch 9/10\n",
            "8419/8419 [==============================] - 57s 7ms/step - loss: 0.1895 - acc: 0.9385 - val_loss: 0.1505 - val_acc: 0.9452\n",
            "Epoch 10/10\n",
            "8419/8419 [==============================] - 57s 7ms/step - loss: 0.1869 - acc: 0.9389 - val_loss: 0.1458 - val_acc: 0.9458\n"
          ],
          "name": "stdout"
        }
      ]
    },
    {
      "cell_type": "code",
      "metadata": {
        "id": "2WwVnLDaDlt5",
        "colab_type": "code",
        "outputId": "289111d8-56a9-471a-a2d5-f329055e9f70",
        "colab": {
          "base_uri": "https://localhost:8080/",
          "height": 464
        }
      },
      "source": [
        "plt.figure(figsize =(5,3))\n",
        "plt.plot(history.history['loss'], marker='.', label='train')\n",
        "plt.plot(history.history['val_loss'], marker='.', label='test')\n",
        "plt.title('Loss')\n",
        "plt.grid(True)\n",
        "plt.xlabel('epoch')\n",
        "plt.ylabel('loss')\n",
        "plt.legend(loc='best')\n",
        "plt.show()\n",
        "\n",
        "plt.figure(figsize =(5,3))\n",
        "plt.plot(history.history['acc'], marker='.', label='train')\n",
        "plt.plot(history.history['val_acc'], marker='.', label='test')\n",
        "plt.title('Accuracy')\n",
        "plt.grid(True)\n",
        "plt.xlabel('epoch')\n",
        "plt.ylabel('accuracy')\n",
        "plt.legend(loc='best')\n",
        "plt.show()"
      ],
      "execution_count": 0,
      "outputs": [
        {
          "output_type": "display_data",
          "data": {
            "image/png": "[encoded data removed]",
            "text/plain": [
              "<Figure size 360x216 with 1 Axes>"
            ]
          },
          "metadata": {
            "tags": []
          }
        },
        {
          "output_type": "display_data",
          "data": {
            "image/png": "[encoded data removed]",
            "text/plain": [
              "<Figure size 360x216 with 1 Axes>"
            ]
          },
          "metadata": {
            "tags": []
          }
        }
      ]
    },
    {
      "cell_type": "code",
      "metadata": {
        "id": "Z5XSRN5kSzDn",
        "colab_type": "code",
        "colab": {}
      },
      "source": [
        "# create model\n",
        "model = KerasClassifier(build_fn=RNN, epochs=10, batch_size=100, verbose=0)"
      ],
      "execution_count": 0,
      "outputs": []
    },
    {
      "cell_type": "code",
      "metadata": {
        "id": "v2dKL-a1S7xq",
        "colab_type": "code",
        "outputId": "c5534bb7-800e-4df5-e90f-2586f775670b",
        "colab": {
          "base_uri": "https://localhost:8080/",
          "height": 143
        }
      },
      "source": [
        "optimizer = ['SGD', 'RMSprop', 'Adagrad', 'Adadelta', 'Adam', 'Adamax', 'Nadam']\n",
        "param_grid = dict(optimizer=optimizer)\n",
        "grid = GridSearchCV(estimator=model, param_grid=param_grid, n_jobs=-1, cv=10, verbose=True, return_train_score=True)\n",
        "grid_result = grid.fit(x, y)"
      ],
      "execution_count": 0,
      "outputs": [
        {
          "output_type": "stream",
          "text": [
            "Fitting 10 folds for each of 7 candidates, totalling 70 fits\n"
          ],
          "name": "stdout"
        },
        {
          "output_type": "stream",
          "text": [
            "[Parallel(n_jobs=-1)]: Using backend LokyBackend with 2 concurrent workers.\n",
            "/usr/local/lib/python3.6/dist-packages/joblib/externals/loky/process_executor.py:706: UserWarning: A worker stopped while some jobs were given to the executor. This can be caused by a too short worker timeout or by a memory leak.\n",
            "  \"timeout or by a memory leak.\", UserWarning\n",
            "[Parallel(n_jobs=-1)]: Done  46 tasks      | elapsed: 132.2min\n",
            "[Parallel(n_jobs=-1)]: Done  70 out of  70 | elapsed: 197.7min finished\n"
          ],
          "name": "stderr"
        }
      ]
    },
    {
      "cell_type": "code",
      "metadata": {
        "id": "TohFMVoFTCZJ",
        "colab_type": "code",
        "outputId": "e06d2e9a-c054-4725-da07-1e68d9fabe88",
        "colab": {
          "base_uri": "https://localhost:8080/",
          "height": 196
        }
      },
      "source": [
        "df = pd.DataFrame(grid_result.cv_results_)\n",
        "df.to_csv('resultado_LSTM_NSF.csv')\n",
        "print(df.to_csv())"
      ],
      "execution_count": 0,
      "outputs": [
        {
          "output_type": "stream",
          "text": [
            ",mean_fit_time,std_fit_time,mean_score_time,std_score_time,param_optimizer,params,split0_test_score,split1_test_score,split2_test_score,split3_test_score,split4_test_score,split5_test_score,split6_test_score,split7_test_score,split8_test_score,split9_test_score,mean_test_score,std_test_score,rank_test_score,split0_train_score,split1_train_score,split2_train_score,split3_train_score,split4_train_score,split5_train_score,split6_train_score,split7_train_score,split8_train_score,split9_train_score,mean_train_score,std_train_score\n",
            "0,328.2665383338928,2.203132116089715,1.7845173120498656,0.08728643553835859,SGD,{'optimizer': 'SGD'},0.9375,0.9375,0.9375,0.9375,0.9375,0.9375,0.9375,0.9375,0.9375,0.9375,0.9375,0.0,7,0.9375,0.9375,0.9375,0.9375,0.9375,0.9375,0.9375,0.9375,0.9375,0.9375,0.9375,0.0\n",
            "1,335.36488513946534,1.7682578876097228,1.8335928440093994,0.10576505412986212,RMSprop,{'optimizer': 'RMSprop'},0.9425451063249413,0.9436134812612252,0.9423670565527276,0.9421889925161545,0.9424310956617725,0.9437975310100802,0.9424310775310821,0.9435598947702705,0.9424905042684577,0.9419557989323547,0.9427380313079469,0.0006246585122067781,3,0.94306963680916,0.9424889149163369,0.9435447692594184,0.9425417088666797,0.9427853143346068,0.9433065900780462,0.943049251529816,0.9435705269208631,0.9432670010404812,0.9429502739646548,0.9430573987720064,0.0003580072195154117\n",
            "2,323.421653175354,6.157512792161934,1.7957647800445558,0.15117348400866137,Adagrad,{'optimizer': 'Adagrad'},0.9401709479257705,0.9424264091938196,0.9407644897331426,0.9396961089099801,0.9405893506659301,0.9415399314332824,0.9396387846297638,0.9405299465919176,0.9402923030998317,0.9402923087656725,0.9405941228728836,0.0007979406114217093,4,0.9407071606773797,0.9412284900124858,0.9407533560203482,0.9405883774562542,0.9412017022888806,0.9407860038902711,0.9408783810213208,0.9398754244116513,0.9401855522615684,0.9404032945985327,0.9406607742638691,0.000400351090711958\n",
            "3,328.5032298564911,4.612528407486489,1.8464785099029541,0.13647472392924467,Adadelta,{'optimizer': 'Adadelta'},0.9374406444154687,0.9375,0.9379154863746983,0.937856130790167,0.9374405879938104,0.9378564720371377,0.9375594120061896,0.938094118928728,0.9380347080557065,0.9378564720371377,0.9377553738690474,0.00023468017699538379,6,0.937572591673068,0.9375659924300618,0.9380345338124205,0.9379157493326181,0.9378563205182955,0.9377111531290654,0.9378101313234987,0.9379025084545484,0.9378167298697943,0.9377375477169817,0.9377923258260352,0.00014147287658037474\n",
            "4,327.6668706417084,6.314935765332478,1.82193922996521,0.12187758246268708,Adam,{'optimizer': 'Adam'},0.9439696212213377,0.9438509008823297,0.943672837355198,0.9425451058154998,0.9411240496562914,0.9440945865083556,0.9445698757588636,0.9439757595497392,0.9441539871828638,0.9428469620276767,0.9434803797123958,0.0009748302916000822,2,0.9440199021690939,0.9436437585401429,0.9436767523888612,0.9429112582936255,0.9430360569543129,0.9440720012612842,0.9449693850820532,0.943273597019347,0.9451079516847795,0.9438476555955571,0.9438558318989057,0.0006972669531510286\n",
            "5,308.21943776607515,3.2904574753113938,1.6966080904006957,0.07171488748116756,Adamax,{'optimizer': 'Adamax'},0.9406457699601807,0.941892206216017,0.9410612622783621,0.939874169720091,0.9409458227030678,0.9403517173723576,0.9396981943696171,0.9407675923503397,0.9406487604057834,0.9399952487347244,0.9405881809399909,0.0006165722598989424,5,0.9403376131510359,0.940799548833376,0.9413604708007894,0.940232027780291,0.9410169442008073,0.9401063682209398,0.9408255983647462,0.9401063707380278,0.940891577258102,0.9397302599170724,0.9405406779265186,0.00048381187297857144\n",
            "6,315.0870631694794,9.693298510067986,1.8255075216293335,0.12374195875782934,Nadam,{'optimizer': 'Nadam'},0.9452160545337347,0.9465811962981736,0.9455128203430067,0.9465218571855811,0.9473621709265183,0.9467680592500665,0.9456986646688483,0.9461739527861882,0.9439163545691922,0.9446292757534709,0.9458380862192617,0.0009992157953402172,1,0.9455178982289411,0.9454783008828886,0.946527557405269,0.945900642995207,0.947621939527626,0.9467047566950724,0.9462692653508605,0.9465332005072284,0.9439664286485797,0.9463088541618876,0.9460828844403559,0.0009186436843203873\n",
            "\n"
          ],
          "name": "stdout"
        }
      ]
    },
    {
      "cell_type": "code",
      "metadata": {
        "id": "6O3TMWc3TqAo",
        "colab_type": "code",
        "outputId": "edf01e81-c1fa-4889-9e8b-218ab9516abe",
        "colab": {
          "base_uri": "https://localhost:8080/",
          "height": 158
        }
      },
      "source": [
        "# summarize results\n",
        "print(\"Best: %f using %s\" % (grid_result.best_score_, grid_result.best_params_))\n",
        "means = grid_result.cv_results_['mean_test_score']\n",
        "stds = grid_result.cv_results_['std_test_score']\n",
        "params = grid_result.cv_results_['params']\n",
        "for mean, stdev, param in zip(means, stds, params):\n",
        "    print(\"%f (%f) with: %r\" % (mean, stdev, param))"
      ],
      "execution_count": 0,
      "outputs": [
        {
          "output_type": "stream",
          "text": [
            "Best: 0.945838 using {'optimizer': 'Nadam'}\n",
            "0.937500 (0.000000) with: {'optimizer': 'SGD'}\n",
            "0.942738 (0.000625) with: {'optimizer': 'RMSprop'}\n",
            "0.940594 (0.000798) with: {'optimizer': 'Adagrad'}\n",
            "0.937755 (0.000235) with: {'optimizer': 'Adadelta'}\n",
            "0.943480 (0.000975) with: {'optimizer': 'Adam'}\n",
            "0.940588 (0.000617) with: {'optimizer': 'Adamax'}\n",
            "0.945838 (0.000999) with: {'optimizer': 'Nadam'}\n"
          ],
          "name": "stdout"
        }
      ]
    }
  ]
}