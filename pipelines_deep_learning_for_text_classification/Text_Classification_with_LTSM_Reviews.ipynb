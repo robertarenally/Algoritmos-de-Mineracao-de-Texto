{
  "nbformat": 4,
  "nbformat_minor": 0,
  "metadata": {
    "colab": {
      "name": "Text Classification with LTSM_Reviews.ipynb",
      "provenance": [],
      "collapsed_sections": [],
      "toc_visible": true
    },
    "kernelspec": {
      "name": "python3",
      "display_name": "Python 3"
    },
    "accelerator": "GPU"
  },
  "cells": [
    {
      "cell_type": "code",
      "metadata": {
        "id": "zhT4XWAT201O",
        "colab_type": "code",
        "outputId": "8ee713ba-dced-492a-b9f8-9005a19b5b35",
        "colab": {
          "base_uri": "https://localhost:8080/",
          "height": 97
        }
      },
      "source": [
        "import os\n",
        "import pandas as pd\n",
        "import numpy as np\n",
        "import matplotlib.pyplot as plt \n",
        "import seaborn as sns\n",
        "from keras.layers import LSTM, Activation, Dense, Dropout, Embedding, Flatten, Input, MaxPooling1D, SpatialDropout1D\n",
        "from keras.models import Model\n",
        "from keras.models import Sequential\n",
        "from keras.preprocessing.text import Tokenizer\n",
        "from keras.preprocessing.sequence import pad_sequences\n",
        "from keras.optimizers import RMSprop\n",
        "from keras.preprocessing import sequence\n",
        "from keras.callbacks import EarlyStopping\n",
        "from sklearn.datasets import fetch_20newsgroups\n",
        "from sklearn.datasets.base import get_data_home\n",
        "from keras.metrics import categorical_accuracy\n",
        "from keras.utils import to_categorical\n",
        "from keras.wrappers.scikit_learn import KerasClassifier\n",
        "from sklearn.model_selection import train_test_split  \n",
        "from sklearn.preprocessing import LabelEncoder\n",
        "from sklearn.model_selection import GridSearchCV"
      ],
      "execution_count": 1,
      "outputs": [
        {
          "output_type": "stream",
          "text": [
            "Using TensorFlow backend.\n"
          ],
          "name": "stderr"
        },
        {
          "output_type": "display_data",
          "data": {
            "text/html": [
              "<p style=\"color: red;\">\n",
              "The default version of TensorFlow in Colab will soon switch to TensorFlow 2.x.<br>\n",
              "We recommend you <a href=\"https://www.tensorflow.org/guide/migrate\" target=\"_blank\">upgrade</a> now \n",
              "or ensure your notebook will continue to use TensorFlow 1.x via the <code>%tensorflow_version 1.x</code> magic:\n",
              "<a href=\"https://colab.research.google.com/notebooks/tensorflow_version.ipynb\" target=\"_blank\">more info</a>.</p>\n"
            ],
            "text/plain": [
              "<IPython.core.display.HTML object>"
            ]
          },
          "metadata": {
            "tags": []
          }
        }
      ]
    },
    {
      "cell_type": "code",
      "metadata": {
        "id": "i5EBeW0Z4ZKh",
        "colab_type": "code",
        "colab": {}
      },
      "source": [
        "# Code to read csv file into Colaboratory:\n",
        "!pip install -U -q PyDrive\n",
        "from pydrive.auth import GoogleAuth\n",
        "from pydrive.drive import GoogleDrive\n",
        "from google.colab import auth\n",
        "from oauth2client.client import GoogleCredentials\n",
        "# Authenticate and create the PyDrive client.\n",
        "auth.authenticate_user()\n",
        "gauth = GoogleAuth()\n",
        "gauth.credentials = GoogleCredentials.get_application_default()\n",
        "drive = GoogleDrive(gauth)"
      ],
      "execution_count": 0,
      "outputs": []
    },
    {
      "cell_type": "code",
      "metadata": {
        "id": "7QSflrYt4mJg",
        "colab_type": "code",
        "outputId": "899a5a49-0d53-4a08-889f-b866877ee3b4",
        "colab": {
          "base_uri": "https://localhost:8080/",
          "height": 34
        }
      },
      "source": [
        "link = 'https://drive.google.com/open?id=1M7XlCCkSlE39LaLh6M35rREG9LWLxW4F'\n",
        "fluff, id = link.split('=')\n",
        "print (id) # Verify that you have everything after '='\n",
        "downloaded = drive.CreateFile({'id':id}) \n",
        "downloaded.GetContentFile('Reviews.csv')  \n",
        "dataset = pd.read_csv('Reviews.csv')\n",
        "# Dataset is now stored in a Pandas Dataframe"
      ],
      "execution_count": 3,
      "outputs": [
        {
          "output_type": "stream",
          "text": [
            "1M7XlCCkSlE39LaLh6M35rREG9LWLxW4F\n"
          ],
          "name": "stdout"
        }
      ]
    },
    {
      "cell_type": "markdown",
      "metadata": {
        "id": "7zszhXQv4yy4",
        "colab_type": "text"
      },
      "source": [
        "# Processamento dos Dados\n",
        "\n",
        "```\n",
        "# Tokenize the data and convert the text to sequences.\n",
        "# Add padding to ensure that all the sequences have the same shape.\n",
        "# There are many ways of taking the max_len and here an arbitrary length of 150 is chosen.\n",
        "```\n",
        "\n"
      ]
    },
    {
      "cell_type": "code",
      "metadata": {
        "id": "Rstyfr32CB-N",
        "colab_type": "code",
        "colab": {}
      },
      "source": [
        "#Definindo constantes\n",
        "max_length = 100\n",
        "num_labels = 5\n",
        "vocab_size = 5000\n",
        "batch_size = [100]\n",
        "epochs = [10]\n",
        "# Extract text\n",
        "tokenizer = Tokenizer(num_words=vocab_size) # Setup tokenizer\n",
        "tokenizer.fit_on_texts(dataset.data)\n",
        "sequences = tokenizer.texts_to_sequences(dataset.data) # Generate sequences\n",
        "x = pad_sequences(sequences, maxlen=max_length)\n",
        "# Extract target\n",
        "y = to_categorical(np.asarray(dataset.target))"
      ],
      "execution_count": 0,
      "outputs": []
    },
    {
      "cell_type": "code",
      "metadata": {
        "id": "j8_2F8XG5RzR",
        "colab_type": "code",
        "colab": {}
      },
      "source": [
        "X_train,X_test,Y_train,Y_test = train_test_split(x,y,test_size=0.2)"
      ],
      "execution_count": 0,
      "outputs": []
    },
    {
      "cell_type": "markdown",
      "metadata": {
        "id": "OpDXhXsiyAs9",
        "colab_type": "text"
      },
      "source": [
        "# Loading GloVe embeddings"
      ]
    },
    {
      "cell_type": "code",
      "metadata": {
        "id": "gobAYf6_-DMq",
        "colab_type": "code",
        "outputId": "596392ff-a6e2-44f9-9e91-0e87e0948fe1",
        "colab": {
          "base_uri": "https://localhost:8080/",
          "height": 34
        }
      },
      "source": [
        "link = 'https://drive.google.com/open?id=1erGe6LcwCDxpL9D8rRO7UYg0POVBvwX8'\n",
        "fluff, id = link.split('=')\n",
        "print (id) # Verify that you have everything after '='"
      ],
      "execution_count": 6,
      "outputs": [
        {
          "output_type": "stream",
          "text": [
            "1erGe6LcwCDxpL9D8rRO7UYg0POVBvwX8\n"
          ],
          "name": "stdout"
        }
      ]
    },
    {
      "cell_type": "code",
      "metadata": {
        "id": "F3YGMSui-H74",
        "colab_type": "code",
        "colab": {}
      },
      "source": [
        "downloaded = drive.CreateFile({'id':id}) \n",
        "downloaded.GetContentFile('glove.6B.100d.txt') "
      ],
      "execution_count": 0,
      "outputs": []
    },
    {
      "cell_type": "code",
      "metadata": {
        "id": "aYJ2upUN-K0Q",
        "colab_type": "code",
        "outputId": "b800dde2-4875-4ac2-b022-0f6f273e8b27",
        "colab": {
          "base_uri": "https://localhost:8080/",
          "height": 34
        }
      },
      "source": [
        "embeddings_index = {} # We create a dictionary of word -> embedding\n",
        "\n",
        "with open(os.path.join('glove.6B.100d.txt')) as f:\n",
        "    for line in f:\n",
        "        values = line.split()\n",
        "        word = values[0] # The first value is the word, the rest are the values of the embedding\n",
        "        embedding = np.asarray(values[1:], dtype='float32') # Load embedding\n",
        "        embeddings_index[word] = embedding # Add embedding to our embedding dictionary\n",
        "\n",
        "print('Found {:,} word vectors in GloVe.'.format(len(embeddings_index)))"
      ],
      "execution_count": 8,
      "outputs": [
        {
          "output_type": "stream",
          "text": [
            "Found 400,000 word vectors in GloVe.\n"
          ],
          "name": "stdout"
        }
      ]
    },
    {
      "cell_type": "code",
      "metadata": {
        "id": "Tb0DEQDU-W4Z",
        "colab_type": "code",
        "colab": {}
      },
      "source": [
        "embedding_dim = 100 # We use 100 dimensional glove vectors\n",
        "\n",
        "word_index = tokenizer.word_index\n",
        "nb_words = min(vocab_size, len(word_index)) # How many words are there actually\n",
        "\n",
        "embedding_matrix = np.zeros((nb_words, embedding_dim))\n",
        "\n",
        "# The vectors need to be in the same position as their index. \n",
        "# Meaning a word with token 1 needs to be in the second row (rows start with zero) and so on\n",
        "\n",
        "# Loop over all words in the word index\n",
        "for word, i in word_index.items():\n",
        "    # If we are above the amount of words we want to use we do nothing\n",
        "    if i >= vocab_size: \n",
        "        continue\n",
        "    # Get the embedding vector for the word\n",
        "    embedding_vector = embeddings_index.get(word)\n",
        "    # If there is an embedding vector, put it in the embedding matrix\n",
        "    if embedding_vector is not None: \n",
        "        embedding_matrix[i] = embedding_vector"
      ],
      "execution_count": 0,
      "outputs": []
    },
    {
      "cell_type": "code",
      "metadata": {
        "id": "xtfaAm4y6b8t",
        "colab_type": "code",
        "colab": {}
      },
      "source": [
        "def RNN(optimizer='adam'):\n",
        "    model = Sequential()\n",
        "    model.add(Embedding(vocab_size, \n",
        "                    embedding_dim, \n",
        "                    input_length=max_length, \n",
        "                    weights = [embedding_matrix], \n",
        "                    trainable = False))\n",
        "    model.add(SpatialDropout1D(0.7))\n",
        "    model.add(LSTM(64, dropout=0.7, recurrent_dropout=0.7))\n",
        "    model.add(Dense(num_labels, activation='softmax'))\n",
        "    model.compile(loss='binary_crossentropy', optimizer=optimizer, metrics=['accuracy'])\n",
        "    return model"
      ],
      "execution_count": 0,
      "outputs": []
    },
    {
      "cell_type": "code",
      "metadata": {
        "id": "y7Q31FQV7ITI",
        "colab_type": "code",
        "outputId": "44e996aa-0d5f-46e5-dda4-f9161fc5c298",
        "colab": {
          "base_uri": "https://localhost:8080/",
          "height": 904
        }
      },
      "source": [
        "model = RNN()\n",
        "model.summary()"
      ],
      "execution_count": 11,
      "outputs": [
        {
          "output_type": "stream",
          "text": [
            "WARNING:tensorflow:From /usr/local/lib/python3.6/dist-packages/keras/backend/tensorflow_backend.py:66: The name tf.get_default_graph is deprecated. Please use tf.compat.v1.get_default_graph instead.\n",
            "\n",
            "WARNING:tensorflow:From /usr/local/lib/python3.6/dist-packages/keras/backend/tensorflow_backend.py:541: The name tf.placeholder is deprecated. Please use tf.compat.v1.placeholder instead.\n",
            "\n",
            "WARNING:tensorflow:From /usr/local/lib/python3.6/dist-packages/keras/backend/tensorflow_backend.py:4432: The name tf.random_uniform is deprecated. Please use tf.random.uniform instead.\n",
            "\n",
            "WARNING:tensorflow:From /usr/local/lib/python3.6/dist-packages/keras/backend/tensorflow_backend.py:190: The name tf.get_default_session is deprecated. Please use tf.compat.v1.get_default_session instead.\n",
            "\n",
            "WARNING:tensorflow:From /usr/local/lib/python3.6/dist-packages/keras/backend/tensorflow_backend.py:197: The name tf.ConfigProto is deprecated. Please use tf.compat.v1.ConfigProto instead.\n",
            "\n",
            "WARNING:tensorflow:From /usr/local/lib/python3.6/dist-packages/keras/backend/tensorflow_backend.py:203: The name tf.Session is deprecated. Please use tf.compat.v1.Session instead.\n",
            "\n",
            "WARNING:tensorflow:From /usr/local/lib/python3.6/dist-packages/keras/backend/tensorflow_backend.py:207: The name tf.global_variables is deprecated. Please use tf.compat.v1.global_variables instead.\n",
            "\n",
            "WARNING:tensorflow:From /usr/local/lib/python3.6/dist-packages/keras/backend/tensorflow_backend.py:216: The name tf.is_variable_initialized is deprecated. Please use tf.compat.v1.is_variable_initialized instead.\n",
            "\n",
            "WARNING:tensorflow:From /usr/local/lib/python3.6/dist-packages/keras/backend/tensorflow_backend.py:223: The name tf.variables_initializer is deprecated. Please use tf.compat.v1.variables_initializer instead.\n",
            "\n",
            "WARNING:tensorflow:From /usr/local/lib/python3.6/dist-packages/keras/backend/tensorflow_backend.py:148: The name tf.placeholder_with_default is deprecated. Please use tf.compat.v1.placeholder_with_default instead.\n",
            "\n",
            "WARNING:tensorflow:From /usr/local/lib/python3.6/dist-packages/keras/backend/tensorflow_backend.py:3733: calling dropout (from tensorflow.python.ops.nn_ops) with keep_prob is deprecated and will be removed in a future version.\n",
            "Instructions for updating:\n",
            "Please use `rate` instead of `keep_prob`. Rate should be set to `rate = 1 - keep_prob`.\n",
            "WARNING:tensorflow:Large dropout rate: 0.7 (>0.5). In TensorFlow 2.x, dropout() uses dropout rate instead of keep_prob. Please ensure that this is intended.\n",
            "WARNING:tensorflow:Large dropout rate: 0.7 (>0.5). In TensorFlow 2.x, dropout() uses dropout rate instead of keep_prob. Please ensure that this is intended.\n",
            "WARNING:tensorflow:Large dropout rate: 0.7 (>0.5). In TensorFlow 2.x, dropout() uses dropout rate instead of keep_prob. Please ensure that this is intended.\n",
            "WARNING:tensorflow:Large dropout rate: 0.7 (>0.5). In TensorFlow 2.x, dropout() uses dropout rate instead of keep_prob. Please ensure that this is intended.\n",
            "WARNING:tensorflow:Large dropout rate: 0.7 (>0.5). In TensorFlow 2.x, dropout() uses dropout rate instead of keep_prob. Please ensure that this is intended.\n",
            "WARNING:tensorflow:From /usr/local/lib/python3.6/dist-packages/keras/optimizers.py:793: The name tf.train.Optimizer is deprecated. Please use tf.compat.v1.train.Optimizer instead.\n",
            "\n",
            "WARNING:tensorflow:From /usr/local/lib/python3.6/dist-packages/keras/backend/tensorflow_backend.py:3657: The name tf.log is deprecated. Please use tf.math.log instead.\n",
            "\n",
            "WARNING:tensorflow:From /usr/local/lib/python3.6/dist-packages/tensorflow_core/python/ops/nn_impl.py:183: where (from tensorflow.python.ops.array_ops) is deprecated and will be removed in a future version.\n",
            "Instructions for updating:\n",
            "Use tf.where in 2.0, which has the same broadcast rule as np.where\n",
            "Model: \"sequential_1\"\n",
            "_________________________________________________________________\n",
            "Layer (type)                 Output Shape              Param #   \n",
            "=================================================================\n",
            "embedding_1 (Embedding)      (None, 100, 100)          500000    \n",
            "_________________________________________________________________\n",
            "spatial_dropout1d_1 (Spatial (None, 100, 100)          0         \n",
            "_________________________________________________________________\n",
            "lstm_1 (LSTM)                (None, 64)                42240     \n",
            "_________________________________________________________________\n",
            "dense_1 (Dense)              (None, 5)                 325       \n",
            "=================================================================\n",
            "Total params: 542,565\n",
            "Trainable params: 42,565\n",
            "Non-trainable params: 500,000\n",
            "_________________________________________________________________\n"
          ],
          "name": "stdout"
        }
      ]
    },
    {
      "cell_type": "code",
      "metadata": {
        "id": "lnq-yF9T72XO",
        "colab_type": "code",
        "outputId": "0bd60ef8-e622-4aab-efc4-67c7d57d00ce",
        "colab": {
          "base_uri": "https://localhost:8080/",
          "height": 462
        }
      },
      "source": [
        "history = model.fit(X_train, Y_train, validation_data=(X_test, Y_test), epochs=10)"
      ],
      "execution_count": 12,
      "outputs": [
        {
          "output_type": "stream",
          "text": [
            "WARNING:tensorflow:From /usr/local/lib/python3.6/dist-packages/keras/backend/tensorflow_backend.py:1033: The name tf.assign_add is deprecated. Please use tf.compat.v1.assign_add instead.\n",
            "\n",
            "WARNING:tensorflow:From /usr/local/lib/python3.6/dist-packages/keras/backend/tensorflow_backend.py:1020: The name tf.assign is deprecated. Please use tf.compat.v1.assign instead.\n",
            "\n",
            "Train on 3255 samples, validate on 814 samples\n",
            "Epoch 1/10\n",
            "3255/3255 [==============================] - 26s 8ms/step - loss: 0.4852 - acc: 0.7990 - val_loss: 0.4545 - val_acc: 0.8000\n",
            "Epoch 2/10\n",
            "3255/3255 [==============================] - 24s 7ms/step - loss: 0.4631 - acc: 0.7990 - val_loss: 0.4550 - val_acc: 0.8042\n",
            "Epoch 3/10\n",
            "3255/3255 [==============================] - 24s 7ms/step - loss: 0.4575 - acc: 0.7989 - val_loss: 0.4499 - val_acc: 0.8002\n",
            "Epoch 4/10\n",
            "3255/3255 [==============================] - 24s 7ms/step - loss: 0.4547 - acc: 0.7996 - val_loss: 0.4462 - val_acc: 0.8037\n",
            "Epoch 5/10\n",
            "3255/3255 [==============================] - 24s 7ms/step - loss: 0.4508 - acc: 0.8004 - val_loss: 0.4426 - val_acc: 0.8066\n",
            "Epoch 6/10\n",
            "3255/3255 [==============================] - 24s 7ms/step - loss: 0.4474 - acc: 0.8017 - val_loss: 0.4357 - val_acc: 0.8064\n",
            "Epoch 7/10\n",
            "3255/3255 [==============================] - 24s 7ms/step - loss: 0.4473 - acc: 0.8005 - val_loss: 0.4304 - val_acc: 0.8057\n",
            "Epoch 8/10\n",
            "3255/3255 [==============================] - 24s 7ms/step - loss: 0.4467 - acc: 0.8016 - val_loss: 0.4251 - val_acc: 0.8088\n",
            "Epoch 9/10\n",
            "3255/3255 [==============================] - 24s 7ms/step - loss: 0.4472 - acc: 0.8006 - val_loss: 0.4221 - val_acc: 0.8088\n",
            "Epoch 10/10\n",
            "3255/3255 [==============================] - 24s 7ms/step - loss: 0.4427 - acc: 0.8020 - val_loss: 0.4167 - val_acc: 0.8098\n"
          ],
          "name": "stdout"
        }
      ]
    },
    {
      "cell_type": "code",
      "metadata": {
        "id": "2WwVnLDaDlt5",
        "colab_type": "code",
        "outputId": "e3fb3ce3-19cd-47f0-dbb9-53eed0ad2b9d",
        "colab": {
          "base_uri": "https://localhost:8080/",
          "height": 465
        }
      },
      "source": [
        "plt.figure(figsize =(5,3))\n",
        "plt.plot(history.history['loss'], marker='.', label='train')\n",
        "plt.plot(history.history['val_loss'], marker='.', label='test')\n",
        "plt.title('Loss')\n",
        "plt.grid(True)\n",
        "plt.xlabel('epoch')\n",
        "plt.ylabel('loss')\n",
        "plt.legend(loc='best')\n",
        "plt.show()\n",
        "\n",
        "plt.figure(figsize =(5,3))\n",
        "plt.plot(history.history['acc'], marker='.', label='train')\n",
        "plt.plot(history.history['val_acc'], marker='.', label='test')\n",
        "plt.title('Accuracy')\n",
        "plt.grid(True)\n",
        "plt.xlabel('epoch')\n",
        "plt.ylabel('accuracy')\n",
        "plt.legend(loc='best')\n",
        "plt.show()"
      ],
      "execution_count": 13,
      "outputs": [
        {
          "output_type": "display_data",
          "data": {
            "image/png": "[encoded data removed]",
            "text/plain": [
              "<Figure size 360x216 with 1 Axes>"
            ]
          },
          "metadata": {
            "tags": []
          }
        },
        {
          "output_type": "display_data",
          "data": {
            "image/png": "[encoded data removed]",
            "text/plain": [
              "<Figure size 360x216 with 1 Axes>"
            ]
          },
          "metadata": {
            "tags": []
          }
        }
      ]
    },
    {
      "cell_type": "code",
      "metadata": {
        "id": "Z5XSRN5kSzDn",
        "colab_type": "code",
        "colab": {}
      },
      "source": [
        "# create model\n",
        "model = KerasClassifier(build_fn=RNN, epochs=10, batch_size=100, verbose=0)"
      ],
      "execution_count": 0,
      "outputs": []
    },
    {
      "cell_type": "code",
      "metadata": {
        "id": "v2dKL-a1S7xq",
        "colab_type": "code",
        "outputId": "4c193a9f-82b2-44ef-bdab-6c39a271a7c4",
        "colab": {
          "base_uri": "https://localhost:8080/",
          "height": 139
        }
      },
      "source": [
        "optimizer = ['SGD', 'RMSprop', 'Adagrad', 'Adadelta', 'Adam', 'Adamax', 'Nadam']\n",
        "param_grid = dict(optimizer=optimizer)\n",
        "grid = GridSearchCV(estimator=model, param_grid=param_grid, n_jobs=-1, cv=10, verbose=True, return_train_score=True)\n",
        "grid_result = grid.fit(x, y)"
      ],
      "execution_count": 15,
      "outputs": [
        {
          "output_type": "stream",
          "text": [
            "Fitting 10 folds for each of 7 candidates, totalling 70 fits\n"
          ],
          "name": "stdout"
        },
        {
          "output_type": "stream",
          "text": [
            "[Parallel(n_jobs=-1)]: Using backend LokyBackend with 2 concurrent workers.\n",
            "/usr/local/lib/python3.6/dist-packages/joblib/externals/loky/process_executor.py:706: UserWarning: A worker stopped while some jobs were given to the executor. This can be caused by a too short worker timeout or by a memory leak.\n",
            "  \"timeout or by a memory leak.\", UserWarning\n",
            "[Parallel(n_jobs=-1)]: Done  46 tasks      | elapsed: 54.3min\n",
            "[Parallel(n_jobs=-1)]: Done  70 out of  70 | elapsed: 82.4min finished\n"
          ],
          "name": "stderr"
        }
      ]
    },
    {
      "cell_type": "code",
      "metadata": {
        "id": "TohFMVoFTCZJ",
        "colab_type": "code",
        "outputId": "1f6d445c-c889-480d-8e02-dcae9ac1bcb0",
        "colab": {
          "base_uri": "https://localhost:8080/",
          "height": 190
        }
      },
      "source": [
        "df = pd.DataFrame(grid_result.cv_results_)\n",
        "df.to_csv('resultado_LSTM_Reviews.csv')\n",
        "print(df.to_csv())"
      ],
      "execution_count": 16,
      "outputs": [
        {
          "output_type": "stream",
          "text": [
            ",mean_fit_time,std_fit_time,mean_score_time,std_score_time,param_optimizer,params,split0_test_score,split1_test_score,split2_test_score,split3_test_score,split4_test_score,split5_test_score,split6_test_score,split7_test_score,split8_test_score,split9_test_score,mean_test_score,std_test_score,rank_test_score,split0_train_score,split1_train_score,split2_train_score,split3_train_score,split4_train_score,split5_train_score,split6_train_score,split7_train_score,split8_train_score,split9_train_score,mean_train_score,std_train_score\n",
            "0,135.40370922088624,0.9756480598172486,1.105369997024536,0.17456971033003524,SGD,{'optimizer': 'SGD'},0.8000000129460703,0.8000000129460703,0.8000000129460703,0.8000000129460703,0.8000000129460703,0.8000000129460703,0.8000000129460703,0.8000000129460703,0.8000000129460703,0.800000011920929,0.8000000128437829,3.0723983189025104e-10,7,0.7996177045716932,0.8000000109117842,0.8000000109117842,0.8000000109117842,0.8000000109117842,0.8000000109117842,0.8000000109117842,0.8000000109117842,0.8000000109117842,0.800000011920929,0.7999617803786896,0.00011469193566583985\n",
            "1,136.01067938804627,2.382454122319425,1.1459079742431642,0.1527255745564298,RMSprop,{'optimizer': 'RMSprop'},0.805896816148219,0.8029484145471446,0.8098280280462354,0.8073709693529096,0.8078624074523514,0.8078624074523514,0.8063882103130331,0.8054053979658085,0.8054054219834049,0.8068965688127602,0.8065863879959189,0.0017613318887386828,4,0.8066630204930975,0.8070453379337804,0.8084107058286537,0.8080284063247043,0.8079191719424458,0.8070453333437996,0.8064991920649321,0.8068814785151063,0.8080830137824699,0.8084630146398917,0.8075038674868882,0.0007106064711341067\n",
            "2,134.30370528697966,0.6426020726263558,1.1063387393951416,0.1175212355995577,Adagrad,{'optimizer': 'Adagrad'},0.8127764275970272,0.8024570057374546,0.8088452250717313,0.8058967868584672,0.8088452104268554,0.8083538162620413,0.8068796044778472,0.8083538068893208,0.8039311955543349,0.8049261214697889,0.8071270608058225,0.00281564903721198,3,0.8075914883275035,0.8060622652458532,0.8068814984050232,0.8059530282919033,0.8057891887631461,0.8058437896451945,0.8071545644707526,0.8085199275152205,0.805734561122486,0.805842203681273,0.8065372515468356,0.0009097702962061503\n",
            "3,131.6467661857605,2.8195293262989765,1.0968202352523804,0.13373025635514177,Adadelta,{'optimizer': 'Adadelta'},0.8039312101992108,0.8054053926936532,0.8063882103130331,0.8049139838839632,0.8014742247302643,0.8078624220972273,0.8019656042502026,0.8014741860677921,0.8029484072247067,0.8044335022935727,0.8040796274282213,0.0020390011816238136,6,0.8027307412977234,0.8043145854443166,0.8044238126974559,0.8051337997227143,0.8055161207116802,0.8054615047901201,0.802348438798893,0.8032768910078323,0.8043691919254905,0.8044772059449464,0.8042052292341173,0.0010393795146477723\n",
            "4,133.7293388366699,0.8785933771856963,1.0466228485107423,0.13239655164488917,Adam,{'optimizer': 'Adam'},0.8103194222110496,0.8073710206099751,0.8078623928074755,0.8054054073385291,0.8098279987564837,0.8113022105406777,0.8078623928074755,0.8049139891561184,0.8019656188950784,0.8068965394508663,0.8073728162787065,0.0026462751324608028,2,0.8051338208822003,0.8094483950240959,0.8074276410185659,0.805188420136596,0.8078099470005733,0.8077007184778648,0.8070453245544746,0.8057345741437082,0.8060076555744798,0.8070980059687245,0.8068594502781284,0.0012841008123793871\n",
            "5,133.49905214309692,1.7278892980924263,1.0750757694244384,0.1322541054023633,Adamax,{'optimizer': 'Adamax'},0.8083538016171654,0.8049139838839632,0.8034398160343967,0.8044226043640249,0.8034398160343967,0.8063882103130331,0.8054054073385291,0.8049140038009943,0.8039311955543349,0.8004926164161983,0.8045711476318255,0.0019528340021398823,5,0.8064991819409318,0.804751501520887,0.8043145760364835,0.80469688563188,0.8047514946521923,0.8055161073323744,0.804642284391748,0.8058984104171599,0.804587645683049,0.8030029999698864,0.8048661087576592,0.0009007209496706252\n",
            "6,132.52334108352662,0.9067766312319336,1.0951855421066283,0.13356844702062226,Nadam,{'optimizer': 'Nadam'},0.821621616730233,0.8162162180907603,0.8167075902882607,0.8127764076799959,0.8201473986487424,0.8132678018448101,0.8098279987564837,0.8142505870990144,0.8108107777133914,0.818719208827747,0.815433753330721,0.0037348907540797603,1,0.8196613885287312,0.8173129440395641,0.8132714421484785,0.8140360554797216,0.8186237045417777,0.8151283504727237,0.8111960771368997,0.8155106529064481,0.8164391106494068,0.8192738185415754,0.8160453544445326,0.0026130932562752336\n",
            "\n"
          ],
          "name": "stdout"
        }
      ]
    },
    {
      "cell_type": "code",
      "metadata": {
        "id": "6O3TMWc3TqAo",
        "colab_type": "code",
        "outputId": "3bd413d4-9e07-434b-f99b-fc2085994714",
        "colab": {
          "base_uri": "https://localhost:8080/",
          "height": 153
        }
      },
      "source": [
        "# summarize results\n",
        "print(\"Best: %f using %s\" % (grid_result.best_score_, grid_result.best_params_))\n",
        "means = grid_result.cv_results_['mean_test_score']\n",
        "stds = grid_result.cv_results_['std_test_score']\n",
        "params = grid_result.cv_results_['params']\n",
        "for mean, stdev, param in zip(means, stds, params):\n",
        "    print(\"%f (%f) with: %r\" % (mean, stdev, param))"
      ],
      "execution_count": 17,
      "outputs": [
        {
          "output_type": "stream",
          "text": [
            "Best: 0.815434 using {'optimizer': 'Nadam'}\n",
            "0.800000 (0.000000) with: {'optimizer': 'SGD'}\n",
            "0.806586 (0.001761) with: {'optimizer': 'RMSprop'}\n",
            "0.807127 (0.002816) with: {'optimizer': 'Adagrad'}\n",
            "0.804080 (0.002039) with: {'optimizer': 'Adadelta'}\n",
            "0.807373 (0.002646) with: {'optimizer': 'Adam'}\n",
            "0.804571 (0.001953) with: {'optimizer': 'Adamax'}\n",
            "0.815434 (0.003735) with: {'optimizer': 'Nadam'}\n"
          ],
          "name": "stdout"
        }
      ]
    }
  ]
}