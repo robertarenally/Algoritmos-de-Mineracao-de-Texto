{
  "nbformat": 4,
  "nbformat_minor": 0,
  "metadata": {
    "colab": {
      "name": "Text Classification with LTSM_review_polarity.ipynb",
      "provenance": [],
      "collapsed_sections": [],
      "toc_visible": true
    },
    "kernelspec": {
      "name": "python3",
      "display_name": "Python 3"
    },
    "accelerator": "GPU"
  },
  "cells": [
    {
      "cell_type": "code",
      "metadata": {
        "id": "zhT4XWAT201O",
        "colab_type": "code",
        "outputId": "1d069fd1-5a67-4824-d878-cfd946132d1e",
        "colab": {
          "base_uri": "https://localhost:8080/",
          "height": 97
        }
      },
      "source": [
        "import os\n",
        "import pandas as pd\n",
        "import numpy as np\n",
        "import matplotlib.pyplot as plt \n",
        "import seaborn as sns\n",
        "from keras.layers import LSTM, Activation, Dense, Dropout, Embedding, Flatten, Input, MaxPooling1D, SpatialDropout1D\n",
        "from keras.models import Model\n",
        "from keras.models import Sequential\n",
        "from keras.preprocessing.text import Tokenizer\n",
        "from keras.preprocessing.sequence import pad_sequences\n",
        "from keras.optimizers import RMSprop\n",
        "from keras.preprocessing import sequence\n",
        "from keras.callbacks import EarlyStopping\n",
        "from sklearn.datasets import fetch_20newsgroups\n",
        "from sklearn.datasets.base import get_data_home\n",
        "from keras.metrics import categorical_accuracy\n",
        "from keras.utils import to_categorical\n",
        "from keras.wrappers.scikit_learn import KerasClassifier\n",
        "from sklearn.model_selection import train_test_split  \n",
        "from sklearn.preprocessing import LabelEncoder\n",
        "from sklearn.model_selection import GridSearchCV"
      ],
      "execution_count": 1,
      "outputs": [
        {
          "output_type": "stream",
          "text": [
            "Using TensorFlow backend.\n"
          ],
          "name": "stderr"
        },
        {
          "output_type": "display_data",
          "data": {
            "text/html": [
              "<p style=\"color: red;\">\n",
              "The default version of TensorFlow in Colab will soon switch to TensorFlow 2.x.<br>\n",
              "We recommend you <a href=\"https://www.tensorflow.org/guide/migrate\" target=\"_blank\">upgrade</a> now \n",
              "or ensure your notebook will continue to use TensorFlow 1.x via the <code>%tensorflow_version 1.x</code> magic:\n",
              "<a href=\"https://colab.research.google.com/notebooks/tensorflow_version.ipynb\" target=\"_blank\">more info</a>.</p>\n"
            ],
            "text/plain": [
              "<IPython.core.display.HTML object>"
            ]
          },
          "metadata": {
            "tags": []
          }
        }
      ]
    },
    {
      "cell_type": "code",
      "metadata": {
        "id": "i5EBeW0Z4ZKh",
        "colab_type": "code",
        "colab": {}
      },
      "source": [
        "# Code to read csv file into Colaboratory:\n",
        "!pip install -U -q PyDrive\n",
        "from pydrive.auth import GoogleAuth\n",
        "from pydrive.drive import GoogleDrive\n",
        "from google.colab import auth\n",
        "from oauth2client.client import GoogleCredentials\n",
        "# Authenticate and create the PyDrive client.\n",
        "auth.authenticate_user()\n",
        "gauth = GoogleAuth()\n",
        "gauth.credentials = GoogleCredentials.get_application_default()\n",
        "drive = GoogleDrive(gauth)"
      ],
      "execution_count": 0,
      "outputs": []
    },
    {
      "cell_type": "code",
      "metadata": {
        "id": "7QSflrYt4mJg",
        "colab_type": "code",
        "outputId": "dc1ec944-fb21-4913-ff43-0f24e7f84ef1",
        "colab": {
          "base_uri": "https://localhost:8080/",
          "height": 34
        }
      },
      "source": [
        "link = 'https://drive.google.com/open?id=1-bjkjfXDNDgyxrQA4Cyhuy0NTEdQBDyt'\n",
        "fluff, id = link.split('=')\n",
        "print (id) # Verify that you have everything after '='\n",
        "downloaded = drive.CreateFile({'id':id}) \n",
        "downloaded.GetContentFile('review_polarity.csv')  \n",
        "dataset = pd.read_csv('review_polarity.csv')\n",
        "# Dataset is now stored in a Pandas Dataframe"
      ],
      "execution_count": 3,
      "outputs": [
        {
          "output_type": "stream",
          "text": [
            "1-bjkjfXDNDgyxrQA4Cyhuy0NTEdQBDyt\n"
          ],
          "name": "stdout"
        }
      ]
    },
    {
      "cell_type": "markdown",
      "metadata": {
        "id": "7zszhXQv4yy4",
        "colab_type": "text"
      },
      "source": [
        "# Processamento dos Dados\n",
        "\n",
        "```\n",
        "# Tokenize the data and convert the text to sequences.\n",
        "# Add padding to ensure that all the sequences have the same shape.\n",
        "# There are many ways of taking the max_len and here an arbitrary length of 150 is chosen.\n",
        "```\n",
        "\n"
      ]
    },
    {
      "cell_type": "code",
      "metadata": {
        "id": "Rstyfr32CB-N",
        "colab_type": "code",
        "colab": {}
      },
      "source": [
        "#Definindo constantes\n",
        "max_length = 100\n",
        "num_labels = 2\n",
        "vocab_size = 2000\n",
        "batch_size = [100]\n",
        "epochs = [10]\n",
        "# Extract text\n",
        "tokenizer = Tokenizer(num_words=vocab_size) # Setup tokenizer\n",
        "tokenizer.fit_on_texts(dataset.data)\n",
        "sequences = tokenizer.texts_to_sequences(dataset.data) # Generate sequences\n",
        "x = pad_sequences(sequences, maxlen=max_length)\n",
        "# Extract target\n",
        "y = to_categorical(np.asarray(dataset.target))"
      ],
      "execution_count": 0,
      "outputs": []
    },
    {
      "cell_type": "code",
      "metadata": {
        "id": "j8_2F8XG5RzR",
        "colab_type": "code",
        "colab": {}
      },
      "source": [
        "X_train,X_test,Y_train,Y_test = train_test_split(x,y,test_size=0.2)"
      ],
      "execution_count": 0,
      "outputs": []
    },
    {
      "cell_type": "markdown",
      "metadata": {
        "id": "OpDXhXsiyAs9",
        "colab_type": "text"
      },
      "source": [
        "# Loading GloVe embeddings"
      ]
    },
    {
      "cell_type": "code",
      "metadata": {
        "id": "gobAYf6_-DMq",
        "colab_type": "code",
        "outputId": "ba6ebe9a-d5de-49be-c313-ff712100c336",
        "colab": {
          "base_uri": "https://localhost:8080/",
          "height": 34
        }
      },
      "source": [
        "link = 'https://drive.google.com/open?id=1erGe6LcwCDxpL9D8rRO7UYg0POVBvwX8'\n",
        "fluff, id = link.split('=')\n",
        "print (id) # Verify that you have everything after '='"
      ],
      "execution_count": 6,
      "outputs": [
        {
          "output_type": "stream",
          "text": [
            "1erGe6LcwCDxpL9D8rRO7UYg0POVBvwX8\n"
          ],
          "name": "stdout"
        }
      ]
    },
    {
      "cell_type": "code",
      "metadata": {
        "id": "F3YGMSui-H74",
        "colab_type": "code",
        "colab": {}
      },
      "source": [
        "downloaded = drive.CreateFile({'id':id}) \n",
        "downloaded.GetContentFile('glove.6B.100d.txt') "
      ],
      "execution_count": 0,
      "outputs": []
    },
    {
      "cell_type": "code",
      "metadata": {
        "id": "aYJ2upUN-K0Q",
        "colab_type": "code",
        "outputId": "00586113-6bd1-44d5-a782-b7fffaa0f285",
        "colab": {
          "base_uri": "https://localhost:8080/",
          "height": 34
        }
      },
      "source": [
        "embeddings_index = {} # We create a dictionary of word -> embedding\n",
        "\n",
        "with open(os.path.join('glove.6B.100d.txt')) as f:\n",
        "    for line in f:\n",
        "        values = line.split()\n",
        "        word = values[0] # The first value is the word, the rest are the values of the embedding\n",
        "        embedding = np.asarray(values[1:], dtype='float32') # Load embedding\n",
        "        embeddings_index[word] = embedding # Add embedding to our embedding dictionary\n",
        "\n",
        "print('Found {:,} word vectors in GloVe.'.format(len(embeddings_index)))"
      ],
      "execution_count": 8,
      "outputs": [
        {
          "output_type": "stream",
          "text": [
            "Found 400,000 word vectors in GloVe.\n"
          ],
          "name": "stdout"
        }
      ]
    },
    {
      "cell_type": "code",
      "metadata": {
        "id": "Tb0DEQDU-W4Z",
        "colab_type": "code",
        "colab": {}
      },
      "source": [
        "embedding_dim = 100 # We use 100 dimensional glove vectors\n",
        "\n",
        "word_index = tokenizer.word_index\n",
        "nb_words = min(vocab_size, len(word_index)) # How many words are there actually\n",
        "\n",
        "embedding_matrix = np.zeros((nb_words, embedding_dim))\n",
        "\n",
        "# The vectors need to be in the same position as their index. \n",
        "# Meaning a word with token 1 needs to be in the second row (rows start with zero) and so on\n",
        "\n",
        "# Loop over all words in the word index\n",
        "for word, i in word_index.items():\n",
        "    # If we are above the amount of words we want to use we do nothing\n",
        "    if i >= vocab_size: \n",
        "        continue\n",
        "    # Get the embedding vector for the word\n",
        "    embedding_vector = embeddings_index.get(word)\n",
        "    # If there is an embedding vector, put it in the embedding matrix\n",
        "    if embedding_vector is not None: \n",
        "        embedding_matrix[i] = embedding_vector"
      ],
      "execution_count": 0,
      "outputs": []
    },
    {
      "cell_type": "code",
      "metadata": {
        "id": "xtfaAm4y6b8t",
        "colab_type": "code",
        "colab": {}
      },
      "source": [
        "def RNN(optimizer='adam'):\n",
        "    model = Sequential()\n",
        "    model.add(Embedding(vocab_size, \n",
        "                    embedding_dim, \n",
        "                    input_length=max_length, \n",
        "                    weights = [embedding_matrix], \n",
        "                    trainable = False))\n",
        "    model.add(SpatialDropout1D(0.7))\n",
        "    model.add(LSTM(64, dropout=0.7, recurrent_dropout=0.7))\n",
        "    model.add(Dense(num_labels, activation='softmax'))\n",
        "    model.compile(loss='binary_crossentropy', optimizer=optimizer, metrics=['accuracy'])\n",
        "    return model"
      ],
      "execution_count": 0,
      "outputs": []
    },
    {
      "cell_type": "code",
      "metadata": {
        "id": "y7Q31FQV7ITI",
        "colab_type": "code",
        "outputId": "1ce3d80e-2e06-471f-fce6-1c095320d78c",
        "colab": {
          "base_uri": "https://localhost:8080/",
          "height": 904
        }
      },
      "source": [
        "model = RNN()\n",
        "model.summary()"
      ],
      "execution_count": 11,
      "outputs": [
        {
          "output_type": "stream",
          "text": [
            "WARNING:tensorflow:From /usr/local/lib/python3.6/dist-packages/keras/backend/tensorflow_backend.py:66: The name tf.get_default_graph is deprecated. Please use tf.compat.v1.get_default_graph instead.\n",
            "\n",
            "WARNING:tensorflow:From /usr/local/lib/python3.6/dist-packages/keras/backend/tensorflow_backend.py:541: The name tf.placeholder is deprecated. Please use tf.compat.v1.placeholder instead.\n",
            "\n",
            "WARNING:tensorflow:From /usr/local/lib/python3.6/dist-packages/keras/backend/tensorflow_backend.py:4432: The name tf.random_uniform is deprecated. Please use tf.random.uniform instead.\n",
            "\n",
            "WARNING:tensorflow:From /usr/local/lib/python3.6/dist-packages/keras/backend/tensorflow_backend.py:190: The name tf.get_default_session is deprecated. Please use tf.compat.v1.get_default_session instead.\n",
            "\n",
            "WARNING:tensorflow:From /usr/local/lib/python3.6/dist-packages/keras/backend/tensorflow_backend.py:197: The name tf.ConfigProto is deprecated. Please use tf.compat.v1.ConfigProto instead.\n",
            "\n",
            "WARNING:tensorflow:From /usr/local/lib/python3.6/dist-packages/keras/backend/tensorflow_backend.py:203: The name tf.Session is deprecated. Please use tf.compat.v1.Session instead.\n",
            "\n",
            "WARNING:tensorflow:From /usr/local/lib/python3.6/dist-packages/keras/backend/tensorflow_backend.py:207: The name tf.global_variables is deprecated. Please use tf.compat.v1.global_variables instead.\n",
            "\n",
            "WARNING:tensorflow:From /usr/local/lib/python3.6/dist-packages/keras/backend/tensorflow_backend.py:216: The name tf.is_variable_initialized is deprecated. Please use tf.compat.v1.is_variable_initialized instead.\n",
            "\n",
            "WARNING:tensorflow:From /usr/local/lib/python3.6/dist-packages/keras/backend/tensorflow_backend.py:223: The name tf.variables_initializer is deprecated. Please use tf.compat.v1.variables_initializer instead.\n",
            "\n",
            "WARNING:tensorflow:From /usr/local/lib/python3.6/dist-packages/keras/backend/tensorflow_backend.py:148: The name tf.placeholder_with_default is deprecated. Please use tf.compat.v1.placeholder_with_default instead.\n",
            "\n",
            "WARNING:tensorflow:From /usr/local/lib/python3.6/dist-packages/keras/backend/tensorflow_backend.py:3733: calling dropout (from tensorflow.python.ops.nn_ops) with keep_prob is deprecated and will be removed in a future version.\n",
            "Instructions for updating:\n",
            "Please use `rate` instead of `keep_prob`. Rate should be set to `rate = 1 - keep_prob`.\n",
            "WARNING:tensorflow:Large dropout rate: 0.7 (>0.5). In TensorFlow 2.x, dropout() uses dropout rate instead of keep_prob. Please ensure that this is intended.\n",
            "WARNING:tensorflow:Large dropout rate: 0.7 (>0.5). In TensorFlow 2.x, dropout() uses dropout rate instead of keep_prob. Please ensure that this is intended.\n",
            "WARNING:tensorflow:Large dropout rate: 0.7 (>0.5). In TensorFlow 2.x, dropout() uses dropout rate instead of keep_prob. Please ensure that this is intended.\n",
            "WARNING:tensorflow:Large dropout rate: 0.7 (>0.5). In TensorFlow 2.x, dropout() uses dropout rate instead of keep_prob. Please ensure that this is intended.\n",
            "WARNING:tensorflow:Large dropout rate: 0.7 (>0.5). In TensorFlow 2.x, dropout() uses dropout rate instead of keep_prob. Please ensure that this is intended.\n",
            "WARNING:tensorflow:From /usr/local/lib/python3.6/dist-packages/keras/optimizers.py:793: The name tf.train.Optimizer is deprecated. Please use tf.compat.v1.train.Optimizer instead.\n",
            "\n",
            "WARNING:tensorflow:From /usr/local/lib/python3.6/dist-packages/keras/backend/tensorflow_backend.py:3657: The name tf.log is deprecated. Please use tf.math.log instead.\n",
            "\n",
            "WARNING:tensorflow:From /usr/local/lib/python3.6/dist-packages/tensorflow_core/python/ops/nn_impl.py:183: where (from tensorflow.python.ops.array_ops) is deprecated and will be removed in a future version.\n",
            "Instructions for updating:\n",
            "Use tf.where in 2.0, which has the same broadcast rule as np.where\n",
            "Model: \"sequential_1\"\n",
            "_________________________________________________________________\n",
            "Layer (type)                 Output Shape              Param #   \n",
            "=================================================================\n",
            "embedding_1 (Embedding)      (None, 100, 100)          200000    \n",
            "_________________________________________________________________\n",
            "spatial_dropout1d_1 (Spatial (None, 100, 100)          0         \n",
            "_________________________________________________________________\n",
            "lstm_1 (LSTM)                (None, 64)                42240     \n",
            "_________________________________________________________________\n",
            "dense_1 (Dense)              (None, 2)                 130       \n",
            "=================================================================\n",
            "Total params: 242,370\n",
            "Trainable params: 42,370\n",
            "Non-trainable params: 200,000\n",
            "_________________________________________________________________\n"
          ],
          "name": "stdout"
        }
      ]
    },
    {
      "cell_type": "code",
      "metadata": {
        "id": "lnq-yF9T72XO",
        "colab_type": "code",
        "outputId": "81ecb5ca-d0ea-4ed3-ad00-7582e59f7a33",
        "colab": {
          "base_uri": "https://localhost:8080/",
          "height": 462
        }
      },
      "source": [
        "history = model.fit(X_train, Y_train, validation_data=(X_test, Y_test), epochs=10)"
      ],
      "execution_count": 12,
      "outputs": [
        {
          "output_type": "stream",
          "text": [
            "WARNING:tensorflow:From /usr/local/lib/python3.6/dist-packages/keras/backend/tensorflow_backend.py:1033: The name tf.assign_add is deprecated. Please use tf.compat.v1.assign_add instead.\n",
            "\n",
            "WARNING:tensorflow:From /usr/local/lib/python3.6/dist-packages/keras/backend/tensorflow_backend.py:1020: The name tf.assign is deprecated. Please use tf.compat.v1.assign instead.\n",
            "\n",
            "Train on 1600 samples, validate on 400 samples\n",
            "Epoch 1/10\n",
            "1600/1600 [==============================] - 13s 8ms/step - loss: 0.7300 - acc: 0.4813 - val_loss: 0.6875 - val_acc: 0.5800\n",
            "Epoch 2/10\n",
            "1600/1600 [==============================] - 11s 7ms/step - loss: 0.7146 - acc: 0.5069 - val_loss: 0.6874 - val_acc: 0.5825\n",
            "Epoch 3/10\n",
            "1600/1600 [==============================] - 11s 7ms/step - loss: 0.7097 - acc: 0.4937 - val_loss: 0.6865 - val_acc: 0.5500\n",
            "Epoch 4/10\n",
            "1600/1600 [==============================] - 11s 7ms/step - loss: 0.7049 - acc: 0.5038 - val_loss: 0.6881 - val_acc: 0.5300\n",
            "Epoch 5/10\n",
            "1600/1600 [==============================] - 11s 7ms/step - loss: 0.7014 - acc: 0.5156 - val_loss: 0.6863 - val_acc: 0.5550\n",
            "Epoch 6/10\n",
            "1600/1600 [==============================] - 11s 7ms/step - loss: 0.6985 - acc: 0.5225 - val_loss: 0.6850 - val_acc: 0.5825\n",
            "Epoch 7/10\n",
            "1600/1600 [==============================] - 11s 7ms/step - loss: 0.6990 - acc: 0.5131 - val_loss: 0.6820 - val_acc: 0.6025\n",
            "Epoch 8/10\n",
            "1600/1600 [==============================] - 11s 7ms/step - loss: 0.7002 - acc: 0.5038 - val_loss: 0.6849 - val_acc: 0.5400\n",
            "Epoch 9/10\n",
            "1600/1600 [==============================] - 12s 7ms/step - loss: 0.6995 - acc: 0.5169 - val_loss: 0.6842 - val_acc: 0.5650\n",
            "Epoch 10/10\n",
            "1600/1600 [==============================] - 11s 7ms/step - loss: 0.6991 - acc: 0.5112 - val_loss: 0.6835 - val_acc: 0.5875\n"
          ],
          "name": "stdout"
        }
      ]
    },
    {
      "cell_type": "code",
      "metadata": {
        "id": "2WwVnLDaDlt5",
        "colab_type": "code",
        "outputId": "7b4786d9-e91f-4440-b8bb-98055d315576",
        "colab": {
          "base_uri": "https://localhost:8080/",
          "height": 465
        }
      },
      "source": [
        "plt.figure(figsize =(5,3))\n",
        "plt.plot(history.history['loss'], marker='.', label='train')\n",
        "plt.plot(history.history['val_loss'], marker='.', label='test')\n",
        "plt.title('Loss')\n",
        "plt.grid(True)\n",
        "plt.xlabel('epoch')\n",
        "plt.ylabel('loss')\n",
        "plt.legend(loc='best')\n",
        "plt.show()\n",
        "\n",
        "plt.figure(figsize =(5,3))\n",
        "plt.plot(history.history['acc'], marker='.', label='train')\n",
        "plt.plot(history.history['val_acc'], marker='.', label='test')\n",
        "plt.title('Accuracy')\n",
        "plt.grid(True)\n",
        "plt.xlabel('epoch')\n",
        "plt.ylabel('accuracy')\n",
        "plt.legend(loc='best')\n",
        "plt.show()"
      ],
      "execution_count": 13,
      "outputs": [
        {
          "output_type": "display_data",
          "data": {
            "image/png": "[encoded data removed]",
            "text/plain": [
              "<Figure size 360x216 with 1 Axes>"
            ]
          },
          "metadata": {
            "tags": []
          }
        },
        {
          "output_type": "display_data",
          "data": {
            "image/png": "[encoded data removed]",
            "text/plain": [
              "<Figure size 360x216 with 1 Axes>"
            ]
          },
          "metadata": {
            "tags": []
          }
        }
      ]
    },
    {
      "cell_type": "code",
      "metadata": {
        "id": "Z5XSRN5kSzDn",
        "colab_type": "code",
        "colab": {}
      },
      "source": [
        "# create model\n",
        "model = KerasClassifier(build_fn=RNN, epochs=10, batch_size=100, verbose=0)"
      ],
      "execution_count": 0,
      "outputs": []
    },
    {
      "cell_type": "code",
      "metadata": {
        "id": "v2dKL-a1S7xq",
        "colab_type": "code",
        "outputId": "5d2fba38-e5a6-4574-ebe1-735bb1899075",
        "colab": {
          "base_uri": "https://localhost:8080/",
          "height": 139
        }
      },
      "source": [
        "optimizer = ['SGD', 'RMSprop', 'Adagrad', 'Adadelta', 'Adam', 'Adamax', 'Nadam']\n",
        "param_grid = dict(optimizer=optimizer)\n",
        "grid = GridSearchCV(estimator=model, param_grid=param_grid, n_jobs=-1, cv=10, verbose=True, return_train_score=True)\n",
        "grid_result = grid.fit(x, y)"
      ],
      "execution_count": 15,
      "outputs": [
        {
          "output_type": "stream",
          "text": [
            "Fitting 10 folds for each of 7 candidates, totalling 70 fits\n"
          ],
          "name": "stdout"
        },
        {
          "output_type": "stream",
          "text": [
            "[Parallel(n_jobs=-1)]: Using backend LokyBackend with 2 concurrent workers.\n",
            "/usr/local/lib/python3.6/dist-packages/joblib/externals/loky/process_executor.py:706: UserWarning: A worker stopped while some jobs were given to the executor. This can be caused by a too short worker timeout or by a memory leak.\n",
            "  \"timeout or by a memory leak.\", UserWarning\n",
            "[Parallel(n_jobs=-1)]: Done  46 tasks      | elapsed: 28.0min\n",
            "[Parallel(n_jobs=-1)]: Done  70 out of  70 | elapsed: 42.6min finished\n"
          ],
          "name": "stderr"
        }
      ]
    },
    {
      "cell_type": "code",
      "metadata": {
        "id": "TohFMVoFTCZJ",
        "colab_type": "code",
        "outputId": "e94d8168-d1b4-46da-b3e8-7cb26fa2a9e6",
        "colab": {
          "base_uri": "https://localhost:8080/",
          "height": 190
        }
      },
      "source": [
        "df = pd.DataFrame(grid_result.cv_results_)\n",
        "df.to_csv('resultado_LSTM_review_polarity.csv')\n",
        "print(df.to_csv())"
      ],
      "execution_count": 16,
      "outputs": [
        {
          "output_type": "stream",
          "text": [
            ",mean_fit_time,std_fit_time,mean_score_time,std_score_time,param_optimizer,params,split0_test_score,split1_test_score,split2_test_score,split3_test_score,split4_test_score,split5_test_score,split6_test_score,split7_test_score,split8_test_score,split9_test_score,mean_test_score,std_test_score,rank_test_score,split0_train_score,split1_train_score,split2_train_score,split3_train_score,split4_train_score,split5_train_score,split6_train_score,split7_train_score,split8_train_score,split9_train_score,mean_train_score,std_train_score\n",
            "0,68.17715578079223,0.7686840359469598,0.7554366111755371,0.16591065132023772,SGD,{'optimizer': 'SGD'},0.48499998450279236,0.5200000107288361,0.48499999940395355,0.49000000953674316,0.4750000089406967,0.4949999898672104,0.48999999463558197,0.48000000417232513,0.4299999922513962,0.5049999952316284,0.48549999892711637,0.022186710080338495,7,0.5005555533700519,0.5122222171889411,0.5088888820674684,0.509999993774626,0.513333323929045,0.4977777699629466,0.5216666658719381,0.5155555506547292,0.4899999996026357,0.5055555585357878,0.5075555514958169,0.008847821124477222\n",
            "1,68.30883629322052,1.025372755069142,0.7834330081939698,0.1675744839190862,RMSprop,{'optimizer': 'RMSprop'},0.5050000101327896,0.5550000071525574,0.4949999898672104,0.5699999928474426,0.5499999821186066,0.5649999976158142,0.5450000166893005,0.550000011920929,0.5549999922513962,0.5399999916553497,0.5429999992251396,0.02315167322373954,1,0.5638888842529721,0.5655555509858661,0.5111111087931527,0.5827777749962277,0.5766666664017571,0.5761111047532823,0.5633333358499739,0.5688888861073388,0.5638888892200258,0.5611111091242896,0.5633333310484886,0.018675262349438334\n",
            "2,68.58115863800049,0.8468798227954422,0.7655709981918335,0.1587175842651323,Adagrad,{'optimizer': 'Adagrad'},0.5299999862909317,0.5449999868869781,0.5099999904632568,0.5,0.5200000107288361,0.554999977350235,0.5349999964237213,0.5250000059604645,0.5249999910593033,0.5150000005960464,0.5259999945759773,0.015459618957954108,6,0.546666661898295,0.558333330684238,0.5411111132966148,0.5516666654083464,0.5722222162617577,0.5805555515819125,0.5511111070712408,0.5616666674613953,0.5655555526415507,0.5466666685210334,0.5575555534826385,0.011871741122019745\n",
            "3,70.53504083156585,1.1271194290731408,0.7893129587173462,0.16876554562893178,Adadelta,{'optimizer': 'Adadelta'},0.5149999856948853,0.48499999940395355,0.6400000154972076,0.5149999856948853,0.5399999916553497,0.5499999821186066,0.5800000131130219,0.5,0.48499998450279236,0.48999999463558197,0.5299999952316284,0.04701064408662529,4,0.5622222158643935,0.5511111087269254,0.5588888823986053,0.5422222250037723,0.5711111194557614,0.5627777775128683,0.5533333321412405,0.5699999862247043,0.5105555488003625,0.5577777756585015,0.5539999971787135,0.016632929395510723\n",
            "4,68.60459990501404,1.1307678705788318,0.779967975616455,0.19692544173805976,Adam,{'optimizer': 'Adam'},0.5600000023841858,0.5949999988079071,0.5550000071525574,0.5300000011920929,0.5200000107288361,0.5249999910593033,0.5300000011920929,0.4449999928474426,0.5550000071525574,0.5149999856948853,0.5329999998211861,0.03722902393829665,2,0.5616666691170799,0.568333324458864,0.5650000009271834,0.5544444388813443,0.5766666680574417,0.5555555621782938,0.5516666637526618,0.5394444349739287,0.5722222245401807,0.5672222177187601,0.5612222204605739,0.010508082233609533\n",
            "5,67.36942775249481,0.8992149601866517,0.7617381334304809,0.16497242272339968,Adamax,{'optimizer': 'Adamax'},0.5849999785423279,0.510000005364418,0.5150000005960464,0.5249999761581421,0.5349999964237213,0.5250000059604645,0.5750000178813934,0.5000000149011612,0.5299999713897705,0.4949999898672104,0.5294999957084656,0.028057973789793075,5,0.5755555580059687,0.5477777785725064,0.5505555470784506,0.5527777738041348,0.5672222160630755,0.5500000003311369,0.5444444384839799,0.5433333251211379,0.5694444394773908,0.5549999939070808,0.5556111070844862,0.010612275699771412\n",
            "6,68.75038349628448,1.1373021570969908,0.7190959692001343,0.20061352187643983,Nadam,{'optimizer': 'Nadam'},0.510000005364418,0.5299999713897705,0.5449999868869781,0.5900000035762787,0.5099999904632568,0.5050000101327896,0.5750000178813934,0.48499999940395355,0.550000011920929,0.5,0.5299999997019768,0.032557644011544734,3,0.5688888877630234,0.581666671567493,0.5683333261145486,0.5599999957614474,0.5605555474758148,0.5322222097052468,0.524999996026357,0.5594444440470802,0.5499999970197678,0.5599999957614474,0.5566111071242228,0.01612537938842808\n",
            "\n"
          ],
          "name": "stdout"
        }
      ]
    },
    {
      "cell_type": "code",
      "metadata": {
        "id": "6O3TMWc3TqAo",
        "colab_type": "code",
        "outputId": "fcbbb390-cad4-4d14-b588-d9393992c477",
        "colab": {
          "base_uri": "https://localhost:8080/",
          "height": 153
        }
      },
      "source": [
        "# summarize results\n",
        "print(\"Best: %f using %s\" % (grid_result.best_score_, grid_result.best_params_))\n",
        "means = grid_result.cv_results_['mean_test_score']\n",
        "stds = grid_result.cv_results_['std_test_score']\n",
        "params = grid_result.cv_results_['params']\n",
        "for mean, stdev, param in zip(means, stds, params):\n",
        "    print(\"%f (%f) with: %r\" % (mean, stdev, param))"
      ],
      "execution_count": 17,
      "outputs": [
        {
          "output_type": "stream",
          "text": [
            "Best: 0.543000 using {'optimizer': 'RMSprop'}\n",
            "0.485500 (0.022187) with: {'optimizer': 'SGD'}\n",
            "0.543000 (0.023152) with: {'optimizer': 'RMSprop'}\n",
            "0.526000 (0.015460) with: {'optimizer': 'Adagrad'}\n",
            "0.530000 (0.047011) with: {'optimizer': 'Adadelta'}\n",
            "0.533000 (0.037229) with: {'optimizer': 'Adam'}\n",
            "0.529500 (0.028058) with: {'optimizer': 'Adamax'}\n",
            "0.530000 (0.032558) with: {'optimizer': 'Nadam'}\n"
          ],
          "name": "stdout"
        }
      ]
    }
  ]
}