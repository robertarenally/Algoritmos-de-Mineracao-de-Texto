{
  "nbformat": 4,
  "nbformat_minor": 0,
  "metadata": {
    "colab": {
      "name": "Text_Classification_With_Keras_in_Reviews.ipynb",
      "provenance": [],
      "collapsed_sections": [],
      "toc_visible": true
    },
    "kernelspec": {
      "name": "python3",
      "display_name": "Python 3"
    },
    "accelerator": "GPU"
  },
  "cells": [
    {
      "cell_type": "markdown",
      "metadata": {
        "id": "ldA3aHDrUsRv",
        "colab_type": "text"
      },
      "source": [
        "https://www.kaggle.com/carlosaguayo/deep-learning-for-text-classification/data"
      ]
    },
    {
      "cell_type": "code",
      "metadata": {
        "id": "K4SqRQMThJOu",
        "colab_type": "code",
        "outputId": "1b425d08-ffee-45ae-daf7-b3a767fc9f4e",
        "colab": {
          "base_uri": "https://localhost:8080/",
          "height": 34
        }
      },
      "source": [
        "import os\n",
        "import pandas as pd\n",
        "import numpy as np\n",
        "import matplotlib.pyplot as plt \n",
        "from keras.layers import Activation, Conv1D, Dense, Embedding, Flatten, Input, MaxPooling1D\n",
        "from keras.models import Sequential\n",
        "from keras.preprocessing.text import Tokenizer\n",
        "from keras.preprocessing.sequence import pad_sequences\n",
        "from sklearn.datasets.base import get_data_home\n",
        "from keras.metrics import categorical_accuracy\n",
        "from keras.utils import to_categorical\n",
        "from keras.wrappers.scikit_learn import KerasClassifier \n",
        "from sklearn.model_selection import GridSearchCV\n",
        "from sklearn.model_selection import train_test_split "
      ],
      "execution_count": 0,
      "outputs": [
        {
          "output_type": "stream",
          "text": [
            "Using TensorFlow backend.\n"
          ],
          "name": "stderr"
        }
      ]
    },
    {
      "cell_type": "code",
      "metadata": {
        "id": "EfSKrcqxU_O4",
        "colab_type": "code",
        "colab": {}
      },
      "source": [
        "# Code to read csv file into Colaboratory:\n",
        "!pip install -U -q PyDrive\n",
        "from pydrive.auth import GoogleAuth\n",
        "from pydrive.drive import GoogleDrive\n",
        "from google.colab import auth\n",
        "from oauth2client.client import GoogleCredentials\n",
        "# Authenticate and create the PyDrive client.\n",
        "auth.authenticate_user()\n",
        "gauth = GoogleAuth()\n",
        "gauth.credentials = GoogleCredentials.get_application_default()\n",
        "drive = GoogleDrive(gauth)"
      ],
      "execution_count": 0,
      "outputs": []
    },
    {
      "cell_type": "code",
      "metadata": {
        "id": "31L6A7YgeQmM",
        "colab_type": "code",
        "outputId": "84e1cca9-4a48-4da8-d49b-5ef97a85266e",
        "colab": {
          "base_uri": "https://localhost:8080/",
          "height": 34
        }
      },
      "source": [
        "link = 'https://drive.google.com/open?id=1M7XlCCkSlE39LaLh6M35rREG9LWLxW4F'\n",
        "fluff, id = link.split('=')\n",
        "print (id) # Verify that you have everything after '='"
      ],
      "execution_count": 0,
      "outputs": [
        {
          "output_type": "stream",
          "text": [
            "1M7XlCCkSlE39LaLh6M35rREG9LWLxW4F\n"
          ],
          "name": "stdout"
        }
      ]
    },
    {
      "cell_type": "code",
      "metadata": {
        "id": "9g8QdkVXhzxX",
        "colab_type": "code",
        "colab": {}
      },
      "source": [
        "#Carregando a base de dados\n",
        "downloaded = drive.CreateFile({'id':id}) \n",
        "downloaded.GetContentFile('Reviews.csv')  \n",
        "df3 = pd.read_csv('Reviews.csv')"
      ],
      "execution_count": 0,
      "outputs": []
    },
    {
      "cell_type": "code",
      "metadata": {
        "id": "fKdiWeQPh1SS",
        "colab_type": "code",
        "outputId": "5131d65f-9324-45e2-db9f-2feda702e2c9",
        "colab": {
          "base_uri": "https://localhost:8080/",
          "height": 34
        }
      },
      "source": [
        "print(len(df3.data))"
      ],
      "execution_count": 0,
      "outputs": [
        {
          "output_type": "stream",
          "text": [
            "4069\n"
          ],
          "name": "stdout"
        }
      ]
    },
    {
      "cell_type": "code",
      "metadata": {
        "id": "IdCaplJyh595",
        "colab_type": "code",
        "colab": {}
      },
      "source": [
        "#Definindo constantes\n",
        "max_length = 100\n",
        "num_labels = 5\n",
        "vocab_size = 5000\n",
        "batch_size = [100]\n",
        "epochs = [10]"
      ],
      "execution_count": 0,
      "outputs": []
    },
    {
      "cell_type": "markdown",
      "metadata": {
        "id": "0QG0HAxqWwFm",
        "colab_type": "text"
      },
      "source": [
        "# Pré-processamento do Texto\n",
        "\n",
        "É necessário tokenizar o texto antes de podermos alimentá-lo em uma rede neural. Esse processo de tokenização também removerá alguns dos recursos do texto original, como todas as pontuações ou palavras menos comuns."
      ]
    },
    {
      "cell_type": "code",
      "metadata": {
        "id": "9jLsJz3ph_Cb",
        "colab_type": "code",
        "colab": {}
      },
      "source": [
        "# Extract text\n",
        "tokenizer = Tokenizer(num_words=vocab_size) # Setup tokenizer\n",
        "tokenizer.fit_on_texts(df3.data)\n",
        "sequences = tokenizer.texts_to_sequences(df3.data) # Generate sequences\n",
        "x = pad_sequences(sequences, maxlen=max_length)\n",
        "# Extract target\n",
        "y = to_categorical(df3.target, num_labels)"
      ],
      "execution_count": 0,
      "outputs": []
    },
    {
      "cell_type": "code",
      "metadata": {
        "id": "H38ygtSHiI7j",
        "colab_type": "code",
        "outputId": "dfae82a4-1c54-4a35-bc1e-60c2fa28c2d1",
        "colab": {
          "base_uri": "https://localhost:8080/",
          "height": 51
        }
      },
      "source": [
        "print('Shape of data:', x.shape)\n",
        "print('Shape of labels:', y.shape)"
      ],
      "execution_count": 0,
      "outputs": [
        {
          "output_type": "stream",
          "text": [
            "Shape of data: (4069, 100)\n",
            "Shape of labels: (4069, 5)\n"
          ],
          "name": "stdout"
        }
      ]
    },
    {
      "cell_type": "markdown",
      "metadata": {
        "id": "I1KJmf6lXDXG",
        "colab_type": "text"
      },
      "source": [
        "# Dividindo o dataset em treinamento e teste"
      ]
    },
    {
      "cell_type": "code",
      "metadata": {
        "id": "kumkuu8EiKKr",
        "colab_type": "code",
        "colab": {}
      },
      "source": [
        "#this script divides data into 20% test set and 80% training set.\n",
        "X_train, X_test, y_train, y_test = train_test_split(x, y, test_size=0.2, random_state=0) "
      ],
      "execution_count": 0,
      "outputs": []
    },
    {
      "cell_type": "markdown",
      "metadata": {
        "id": "HxzqltLrZcnu",
        "colab_type": "text"
      },
      "source": [
        "# Carregando Vetores globais para representação de palavras (Glove)\n",
        "\n",
        "O GloVe é um algoritmo de aprendizado não supervisionado para obter representações vetoriais para palavras. O treinamento é realizado em estatísticas globais agregadas de co-ocorrência de palavra e palavra de um corpus, e as representações resultantes mostram subestruturas lineares interessantes do espaço vetorial de palavras.\n",
        "\n",
        "Este conjunto de dados contém vetores de palavras em inglês pré-treinados nos corpora combinado da Wikipedia 2014 + Gigaword 5th Edition (tokens 6B, vocabulário de 400K). Todos os tokens estão em minúsculas. Esse conjunto de dados contém vetores de palavras pré-treinados em 50, 100 e 200 dimensões."
      ]
    },
    {
      "cell_type": "markdown",
      "metadata": {
        "id": "WPeoe3oJaHfd",
        "colab_type": "text"
      },
      "source": [
        "# Reconhecimentos\n",
        "Esses dados foram liberados sob a Licença e Dedicação ao Domínio Público do Open Data Commons. Se você usar esse conjunto de dados em seu trabalho, cite o seguinte documento:\n",
        "\n",
        "Jeffrey Pennington, Richard Socher e Christopher D. Manning. 2014. GloVe: Vetores globais para representação de palavras. URL: https://nlp.stanford.edu/pubs/glove.pdf"
      ]
    },
    {
      "cell_type": "code",
      "metadata": {
        "id": "XtKk_q4kimXg",
        "colab_type": "code",
        "outputId": "4ed7eeb5-9d5c-4b2a-f828-4cfa46411772",
        "colab": {
          "base_uri": "https://localhost:8080/",
          "height": 34
        }
      },
      "source": [
        "link = 'https://drive.google.com/open?id=1erGe6LcwCDxpL9D8rRO7UYg0POVBvwX8'\n",
        "fluff, id = link.split('=')\n",
        "print (id) # Verify that you have everything after '='"
      ],
      "execution_count": 0,
      "outputs": [
        {
          "output_type": "stream",
          "text": [
            "1erGe6LcwCDxpL9D8rRO7UYg0POVBvwX8\n"
          ],
          "name": "stdout"
        }
      ]
    },
    {
      "cell_type": "code",
      "metadata": {
        "id": "aedYEDlOipxb",
        "colab_type": "code",
        "colab": {}
      },
      "source": [
        "downloaded = drive.CreateFile({'id':id}) \n",
        "downloaded.GetContentFile('glove.6B.100d.txt')  "
      ],
      "execution_count": 0,
      "outputs": []
    },
    {
      "cell_type": "code",
      "metadata": {
        "id": "EmvfMlmvitHX",
        "colab_type": "code",
        "outputId": "389b3149-4692-473c-96de-b112925fd606",
        "colab": {
          "base_uri": "https://localhost:8080/",
          "height": 34
        }
      },
      "source": [
        "embeddings_index = {} # We create a dictionary of word -> embedding\n",
        "\n",
        "with open(os.path.join('glove.6B.100d.txt')) as f:\n",
        "    for line in f:\n",
        "        values = line.split()\n",
        "        word = values[0] # The first value is the word, the rest are the values of the embedding\n",
        "        embedding = np.asarray(values[1:], dtype='float32') # Load embedding\n",
        "        embeddings_index[word] = embedding # Add embedding to our embedding dictionary\n",
        "\n",
        "print('Found {:,} word vectors in GloVe.'.format(len(embeddings_index)))"
      ],
      "execution_count": 0,
      "outputs": [
        {
          "output_type": "stream",
          "text": [
            "Found 400,000 word vectors in GloVe.\n"
          ],
          "name": "stdout"
        }
      ]
    },
    {
      "cell_type": "code",
      "metadata": {
        "id": "0DEvOXCrixuC",
        "colab_type": "code",
        "colab": {}
      },
      "source": [
        "embedding_dim = 100 # We use 100 dimensional glove vectors\n",
        "\n",
        "word_index = tokenizer.word_index\n",
        "nb_words = min(vocab_size, len(word_index)) # How many words are there actually\n",
        "\n",
        "embedding_matrix = np.zeros((nb_words, embedding_dim))\n",
        "\n",
        "# The vectors need to be in the same position as their index. \n",
        "# Meaning a word with token 1 needs to be in the second row (rows start with zero) and so on\n",
        "\n",
        "# Loop over all words in the word index\n",
        "for word, i in word_index.items():\n",
        "    # If we are above the amount of words we want to use we do nothing\n",
        "    if i >= vocab_size: \n",
        "        continue\n",
        "    # Get the embedding vector for the word\n",
        "    embedding_vector = embeddings_index.get(word)\n",
        "    # If there is an embedding vector, put it in the embedding matrix\n",
        "    if embedding_vector is not None: \n",
        "        embedding_matrix[i] = embedding_vector"
      ],
      "execution_count": 0,
      "outputs": []
    },
    {
      "cell_type": "code",
      "metadata": {
        "id": "I1GBsRrzi0Ct",
        "colab_type": "code",
        "outputId": "6ef7575d-3997-458e-d650-dd12d4f51f4a",
        "colab": {
          "base_uri": "https://localhost:8080/",
          "height": 547
        }
      },
      "source": [
        "# create model\n",
        "model = Sequential()\n",
        "model.add(Embedding(vocab_size, \n",
        "                    embedding_dim, \n",
        "                    input_length=max_length, \n",
        "                    weights = [embedding_matrix], \n",
        "                    trainable = False))\n",
        "model.add(Conv1D(128, 3, activation='relu'))\n",
        "model.add(MaxPooling1D(3))\n",
        "model.add(Conv1D(128, 3, activation='relu'))\n",
        "model.add(MaxPooling1D(3))\n",
        "model.add(Conv1D(128, 3, activation='relu'))\n",
        "model.add(MaxPooling1D(3))\n",
        "model.add(Flatten())\n",
        "model.add(Dense(128, activation='relu'))\n",
        "model.add(Dense(num_labels, activation='softmax'))\n",
        "model.summary()"
      ],
      "execution_count": 0,
      "outputs": [
        {
          "output_type": "stream",
          "text": [
            "WARNING:tensorflow:From /usr/local/lib/python3.6/dist-packages/keras/backend/tensorflow_backend.py:66: The name tf.get_default_graph is deprecated. Please use tf.compat.v1.get_default_graph instead.\n",
            "\n",
            "Model: \"sequential_1\"\n",
            "_________________________________________________________________\n",
            "Layer (type)                 Output Shape              Param #   \n",
            "=================================================================\n",
            "embedding_1 (Embedding)      (None, 100, 100)          500000    \n",
            "_________________________________________________________________\n",
            "conv1d_1 (Conv1D)            (None, 98, 128)           38528     \n",
            "_________________________________________________________________\n",
            "max_pooling1d_1 (MaxPooling1 (None, 32, 128)           0         \n",
            "_________________________________________________________________\n",
            "conv1d_2 (Conv1D)            (None, 30, 128)           49280     \n",
            "_________________________________________________________________\n",
            "max_pooling1d_2 (MaxPooling1 (None, 10, 128)           0         \n",
            "_________________________________________________________________\n",
            "conv1d_3 (Conv1D)            (None, 8, 128)            49280     \n",
            "_________________________________________________________________\n",
            "max_pooling1d_3 (MaxPooling1 (None, 2, 128)            0         \n",
            "_________________________________________________________________\n",
            "flatten_1 (Flatten)          (None, 256)               0         \n",
            "_________________________________________________________________\n",
            "dense_1 (Dense)              (None, 128)               32896     \n",
            "_________________________________________________________________\n",
            "dense_2 (Dense)              (None, 5)                 645       \n",
            "=================================================================\n",
            "Total params: 670,629\n",
            "Trainable params: 170,629\n",
            "Non-trainable params: 500,000\n",
            "_________________________________________________________________\n"
          ],
          "name": "stdout"
        }
      ]
    },
    {
      "cell_type": "code",
      "metadata": {
        "id": "cZymYHNMjB6s",
        "colab_type": "code",
        "outputId": "b80073ab-b181-4e1c-f5a0-18b0e410c743",
        "colab": {
          "base_uri": "https://localhost:8080/",
          "height": 479
        }
      },
      "source": [
        "#model.compile(loss='binary_crossentropy', optimizer='adam', metrics=[categorical_accuracy])\n",
        "model.compile(loss='categorical_crossentropy', optimizer='adam', metrics=['accuracy'])\n",
        "history = model.fit(X_train, y_train, validation_data=(X_test, y_test), epochs=10)"
      ],
      "execution_count": 0,
      "outputs": [
        {
          "output_type": "stream",
          "text": [
            "WARNING:tensorflow:From /usr/local/lib/python3.6/dist-packages/keras/optimizers.py:793: The name tf.train.Optimizer is deprecated. Please use tf.compat.v1.train.Optimizer instead.\n",
            "\n",
            "WARNING:tensorflow:From /usr/local/lib/python3.6/dist-packages/tensorflow_core/python/ops/math_grad.py:1424: where (from tensorflow.python.ops.array_ops) is deprecated and will be removed in a future version.\n",
            "Instructions for updating:\n",
            "Use tf.where in 2.0, which has the same broadcast rule as np.where\n",
            "Train on 3255 samples, validate on 814 samples\n",
            "Epoch 1/10\n",
            "3255/3255 [==============================] - 5s 2ms/step - loss: 1.1219 - acc: 0.5263 - val_loss: 1.2291 - val_acc: 0.5356\n",
            "Epoch 2/10\n",
            "3255/3255 [==============================] - 1s 283us/step - loss: 0.6954 - acc: 0.7306 - val_loss: 0.6333 - val_acc: 0.7432\n",
            "Epoch 3/10\n",
            "3255/3255 [==============================] - 1s 284us/step - loss: 0.4322 - acc: 0.8461 - val_loss: 0.5731 - val_acc: 0.7912\n",
            "Epoch 4/10\n",
            "3255/3255 [==============================] - 1s 294us/step - loss: 0.2530 - acc: 0.9180 - val_loss: 0.5861 - val_acc: 0.7764\n",
            "Epoch 5/10\n",
            "3255/3255 [==============================] - 1s 292us/step - loss: 0.1385 - acc: 0.9551 - val_loss: 0.6357 - val_acc: 0.7924\n",
            "Epoch 6/10\n",
            "3255/3255 [==============================] - 1s 289us/step - loss: 0.0556 - acc: 0.9834 - val_loss: 0.7039 - val_acc: 0.7998\n",
            "Epoch 7/10\n",
            "3255/3255 [==============================] - 1s 293us/step - loss: 0.0268 - acc: 0.9945 - val_loss: 0.7914 - val_acc: 0.8084\n",
            "Epoch 8/10\n",
            "3255/3255 [==============================] - 1s 325us/step - loss: 0.0113 - acc: 0.9969 - val_loss: 1.0496 - val_acc: 0.7531\n",
            "Epoch 9/10\n",
            "3255/3255 [==============================] - 1s 322us/step - loss: 0.0084 - acc: 0.9975 - val_loss: 0.9352 - val_acc: 0.7985\n",
            "Epoch 10/10\n",
            "3255/3255 [==============================] - 1s 319us/step - loss: 0.0063 - acc: 0.9985 - val_loss: 0.9093 - val_acc: 0.7998\n"
          ],
          "name": "stdout"
        }
      ]
    },
    {
      "cell_type": "markdown",
      "metadata": {
        "id": "vsufnkYRbT4C",
        "colab_type": "text"
      },
      "source": [
        "# Plotando os gráficos dos resultados"
      ]
    },
    {
      "cell_type": "code",
      "metadata": {
        "id": "jRxuyA02fjvt",
        "colab_type": "code",
        "outputId": "1369f8c3-ec39-4d29-dd88-03e038ed71e4",
        "colab": {
          "base_uri": "https://localhost:8080/",
          "height": 465
        }
      },
      "source": [
        "plt.figure(figsize =(5,3))\n",
        "plt.plot(history.history['loss'], marker='.', label='train')\n",
        "plt.plot(history.history['val_loss'], marker='.', label='test')\n",
        "plt.title('Loss')\n",
        "plt.grid(True)\n",
        "plt.xlabel('epoch')\n",
        "plt.ylabel('loss')\n",
        "plt.legend(loc='best')\n",
        "plt.show()\n",
        "\n",
        "plt.figure(figsize =(5,3))\n",
        "plt.plot(history.history['acc'], marker='.', label='train')\n",
        "plt.plot(history.history['val_acc'], marker='.', label='test')\n",
        "plt.title('Accuracy')\n",
        "plt.grid(True)\n",
        "plt.xlabel('epoch')\n",
        "plt.ylabel('accuracy')\n",
        "plt.legend(loc='best')\n",
        "plt.show()"
      ],
      "execution_count": 0,
      "outputs": [
        {
          "output_type": "display_data",
          "data": {
            "image/png": "[encoded data removed]",
            "text/plain": [
              "<Figure size 360x216 with 1 Axes>"
            ]
          },
          "metadata": {
            "tags": []
          }
        },
        {
          "output_type": "display_data",
          "data": {
            "image/png": "[encoded data removed]",
            "text/plain": [
              "<Figure size 360x216 with 1 Axes>"
            ]
          },
          "metadata": {
            "tags": []
          }
        }
      ]
    },
    {
      "cell_type": "markdown",
      "metadata": {
        "id": "A-n-9_Mdbiuz",
        "colab_type": "text"
      },
      "source": [
        "# Keras with GridSearchCV"
      ]
    },
    {
      "cell_type": "code",
      "metadata": {
        "id": "mgx3Z1IBjjW_",
        "colab_type": "code",
        "colab": {}
      },
      "source": [
        "def create_model(optimizer='adam'):\n",
        "    model = Sequential()\n",
        "    model.add(Embedding(vocab_size, embedding_dim, input_length=max_length, \n",
        "                        weights = [embedding_matrix], \n",
        "                        trainable = False))\n",
        "    model.add(Conv1D(128, 3, activation='relu'))\n",
        "    model.add(MaxPooling1D(3))\n",
        "    model.add(Conv1D(128, 3, activation='relu'))\n",
        "    model.add(MaxPooling1D(3))\n",
        "    model.add(Conv1D(128, 3, activation='relu'))\n",
        "    model.add(MaxPooling1D(3))\n",
        "    model.add(Flatten())\n",
        "    model.add(Dense(128, activation='relu'))\n",
        "    model.add(Dense(num_labels, activation='softmax'))\n",
        "    # Compile model\n",
        "    model.compile(loss='binary_crossentropy', optimizer=optimizer, metrics=['accuracy'])\n",
        "    return model"
      ],
      "execution_count": 0,
      "outputs": []
    },
    {
      "cell_type": "code",
      "metadata": {
        "id": "43RH3VGsjmnR",
        "colab_type": "code",
        "colab": {}
      },
      "source": [
        "# create model\n",
        "model = KerasClassifier(build_fn=create_model, epochs=10, batch_size=100, verbose=0)"
      ],
      "execution_count": 0,
      "outputs": []
    },
    {
      "cell_type": "code",
      "metadata": {
        "id": "WbNd_qvijqgx",
        "colab_type": "code",
        "outputId": "a35fb6cb-840e-4fbc-f346-60d3faea3227",
        "colab": {
          "base_uri": "https://localhost:8080/",
          "height": 139
        }
      },
      "source": [
        "optimizer = ['SGD', 'RMSprop', 'Adagrad', 'Adadelta', 'Adam', 'Adamax', 'Nadam']\n",
        "param_grid = dict(optimizer=optimizer)\n",
        "grid = GridSearchCV(estimator=model, param_grid=param_grid, n_jobs=-1, cv=10, verbose=True,return_train_score=True)\n",
        "grid_result = grid.fit(x, y)"
      ],
      "execution_count": 0,
      "outputs": [
        {
          "output_type": "stream",
          "text": [
            "Fitting 10 folds for each of 7 candidates, totalling 70 fits\n"
          ],
          "name": "stdout"
        },
        {
          "output_type": "stream",
          "text": [
            "[Parallel(n_jobs=-1)]: Using backend LokyBackend with 2 concurrent workers.\n",
            "/usr/local/lib/python3.6/dist-packages/joblib/externals/loky/process_executor.py:706: UserWarning: A worker stopped while some jobs were given to the executor. This can be caused by a too short worker timeout or by a memory leak.\n",
            "  \"timeout or by a memory leak.\", UserWarning\n",
            "[Parallel(n_jobs=-1)]: Done  46 tasks      | elapsed:  4.0min\n",
            "[Parallel(n_jobs=-1)]: Done  70 out of  70 | elapsed:  6.1min finished\n"
          ],
          "name": "stderr"
        }
      ]
    },
    {
      "cell_type": "code",
      "metadata": {
        "id": "_mTYbxKajy0M",
        "colab_type": "code",
        "outputId": "45a873c9-3337-4228-fdd3-9099a351b7ca",
        "colab": {
          "base_uri": "https://localhost:8080/",
          "height": 190
        }
      },
      "source": [
        "df = pd.DataFrame(grid_result.cv_results_)\n",
        "df.to_csv('resultado_deep_learning_Reviews.csv')\n",
        "print(df.to_csv())"
      ],
      "execution_count": 0,
      "outputs": [
        {
          "output_type": "stream",
          "text": [
            ",mean_fit_time,std_fit_time,mean_score_time,std_score_time,param_optimizer,params,split0_test_score,split1_test_score,split2_test_score,split3_test_score,split4_test_score,split5_test_score,split6_test_score,split7_test_score,split8_test_score,split9_test_score,mean_test_score,std_test_score,rank_test_score,split0_train_score,split1_train_score,split2_train_score,split3_train_score,split4_train_score,split5_train_score,split6_train_score,split7_train_score,split8_train_score,split9_train_score,mean_train_score,std_train_score\n",
            "0,8.54840819835663,1.503874005321362,0.23494994640350342,0.06533804177582721,SGD,{'optimizer': 'SGD'},0.8000000129460703,0.804913998528839,0.804913998528839,0.8034397720997691,0.7990171953266902,0.8024569837701409,0.804913998528839,0.8029483925798309,0.8000000129460703,0.800000011920929,0.8022609932412677,0.002210735942804036,7,0.8000546251731385,0.8037138064333417,0.8060622512480393,0.8032768819255297,0.800764604060133,0.803167655030474,0.8067176239793904,0.8015838300576307,0.8002184679572013,0.800000011920929,0.8025559757785807,0.00232927974413623\n",
            "1,9.441745567321778,1.0883462479365766,0.3155649423599243,0.08532403281502166,RMSprop,{'optimizer': 'RMSprop'},0.8889434960023191,0.9022113048180901,0.9144963493218293,0.8992628865218573,0.9267813122536099,0.9066338492259932,0.9081080484155941,0.9238329001082249,0.9233415164877214,0.9266009733007459,0.9120176805269808,0.012409690548470404,5,0.9724740743767297,0.9892408713690249,0.9913708441638999,0.982359383289831,0.9959038831964989,0.99470235479783,0.9870562654320234,0.9962315703922774,0.996013108463902,0.9856948056020536,0.9891047161084071,0.007205105430211741\n",
            "2,7.84606831073761,0.3527087526001492,0.3126439332962036,0.09024798090743162,Adagrad,{'optimizer': 'Adagrad'},0.911547910083424,0.9189189543595185,0.9243243256130734,0.9233415311325973,0.9085995011599116,0.9262899107663579,0.9287469401699319,0.9429975037785654,0.9238329326198493,0.927093583668394,0.9235684432072849,0.009028737317351269,3,0.9971054083398624,0.9980884845760727,0.998252330615441,0.9974331004185991,0.9542326499763438,0.9977607941249887,0.9974877195629118,0.9985254068051708,0.9949754277322541,0.9905541968612505,0.9924415519012895,0.012934428359451132\n",
            "3,9.243816471099853,1.2987381747783944,0.2875057220458984,0.0832196337383415,Adadelta,{'optimizer': 'Adadelta'},0.9041769254119741,0.8869778691111384,0.9164619259810858,0.9135134993372737,0.8889434563147055,0.8874692947624356,0.904176909741957,0.926289941081251,0.9257985458912955,0.9295566343321588,0.9083312851230118,0.01572321086818962,6,0.9942654374516903,0.9733479162306814,0.986291665447533,0.9831786095803061,0.958328775601723,0.9815947669962597,0.9858547513566989,0.9925177609054591,0.9886400998452529,0.9879879973444364,0.983200778076004,0.009983029907548279\n",
            "4,8.937992811203003,1.2077054593004397,0.3158212423324585,0.09756283096682919,Adam,{'optimizer': 'Adam'},0.9154790926916886,0.9174447289555899,0.9371007152212926,0.9159705161462545,0.9302210933746226,0.9159704848062201,0.9228500887861416,0.9346437297523461,0.9410319407390435,0.9325122906656688,0.9263209468992022,0.009371202240573183,1,0.9991261653077205,0.9981977114711285,0.9994538573864573,0.9991807828243804,0.9992353970857346,0.9994538573864573,0.9992900097194362,0.9993992398697974,0.9995084700201587,0.9982528012208264,0.9991098292292095,0.00045818916754896457\n",
            "5,8.4247816324234,0.975347375998744,0.3708240509033203,0.08800354214709338,Adamax,{'optimizer': 'Adamax'},0.9100737275889816,0.9184275465749698,0.9272727283857378,0.9154791219814403,0.9341523345623907,0.9179361440625765,0.929238334334746,0.9331694886784003,0.9243243487519772,0.9266009938540717,0.9236667559345515,0.007520317752314985,2,0.9959038831964989,0.9981430988374269,0.997651559091669,0.996340798914986,0.9959038815688462,0.9942108176237634,0.9966138783600211,0.9983615575104968,0.9978154051310374,0.9948129976606096,0.9965757877895356,0.0013416210270746473\n",
            "6,9.153859758377076,0.6517497261937574,0.3309563875198364,0.08810385061731553,Nadam,{'optimizer': 'Nadam'},0.9110565012737339,0.9125306847933177,0.9223587176137826,0.9199016987545191,0.9272727409803311,0.9095822727943814,0.9012284819265548,0.9199016798626293,0.9179361032033728,0.9147783359283297,0.9156549370942171,0.00705679026807055,4,0.9993446256084432,0.9814309258398497,0.9931731336693631,0.9996177001705201,0.9995630859091659,0.985199362316267,0.9261605729502058,0.9995630842815131,0.9995630842815131,0.9256893264899122,0.9809304901516753,0.0281948558681961\n",
            "\n"
          ],
          "name": "stdout"
        }
      ]
    },
    {
      "cell_type": "code",
      "metadata": {
        "id": "g9ioKJTykWJl",
        "colab_type": "code",
        "outputId": "891d5f29-d74c-478f-aecf-cd330eec26e7",
        "colab": {
          "base_uri": "https://localhost:8080/",
          "height": 153
        }
      },
      "source": [
        "# summarize results\n",
        "print(\"Best: %f using %s\" % (grid_result.best_score_, grid_result.best_params_))\n",
        "means = grid_result.cv_results_['mean_test_score']\n",
        "stds = grid_result.cv_results_['std_test_score']\n",
        "params = grid_result.cv_results_['params']\n",
        "for mean, stdev, param in zip(means, stds, params):\n",
        "    print(\"%f (%f) with: %r\" % (mean, stdev, param))"
      ],
      "execution_count": 0,
      "outputs": [
        {
          "output_type": "stream",
          "text": [
            "Best: 0.926321 using {'optimizer': 'Adam'}\n",
            "0.802261 (0.002211) with: {'optimizer': 'SGD'}\n",
            "0.912018 (0.012410) with: {'optimizer': 'RMSprop'}\n",
            "0.923568 (0.009029) with: {'optimizer': 'Adagrad'}\n",
            "0.908331 (0.015723) with: {'optimizer': 'Adadelta'}\n",
            "0.926321 (0.009371) with: {'optimizer': 'Adam'}\n",
            "0.923667 (0.007520) with: {'optimizer': 'Adamax'}\n",
            "0.915655 (0.007057) with: {'optimizer': 'Nadam'}\n"
          ],
          "name": "stdout"
        }
      ]
    }
  ]
}