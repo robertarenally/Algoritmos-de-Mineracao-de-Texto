{
  "nbformat": 4,
  "nbformat_minor": 0,
  "metadata": {
    "colab": {
      "name": "Text Classification with LSTM_Irish_Economic_Sentiment.ipynb",
      "provenance": [],
      "collapsed_sections": [],
      "toc_visible": true
    },
    "kernelspec": {
      "name": "python3",
      "display_name": "Python 3"
    },
    "accelerator": "GPU"
  },
  "cells": [
    {
      "cell_type": "code",
      "metadata": {
        "id": "tvT0nAatME53",
        "colab_type": "code",
        "outputId": "c906be4a-0e60-4f59-de76-58ee176d949b",
        "colab": {
          "base_uri": "https://localhost:8080/",
          "height": 97
        }
      },
      "source": [
        "import os\n",
        "import pandas as pd\n",
        "import numpy as np\n",
        "import matplotlib.pyplot as plt \n",
        "import seaborn as sns\n",
        "from keras.layers import LSTM, Activation, Dense, Dropout, Embedding, Flatten, Input, MaxPooling1D, SpatialDropout1D\n",
        "from keras.models import Model\n",
        "from keras.models import Sequential\n",
        "from keras.preprocessing.text import Tokenizer\n",
        "from keras.preprocessing.sequence import pad_sequences\n",
        "from keras.optimizers import RMSprop\n",
        "from keras.preprocessing import sequence\n",
        "from keras.callbacks import EarlyStopping\n",
        "from sklearn.datasets import fetch_20newsgroups\n",
        "from sklearn.datasets.base import get_data_home\n",
        "from keras.metrics import categorical_accuracy\n",
        "from keras.utils import to_categorical\n",
        "from keras.wrappers.scikit_learn import KerasClassifier\n",
        "from sklearn.model_selection import train_test_split  \n",
        "from sklearn.preprocessing import LabelEncoder\n",
        "from sklearn.model_selection import GridSearchCV"
      ],
      "execution_count": 1,
      "outputs": [
        {
          "output_type": "stream",
          "text": [
            "Using TensorFlow backend.\n"
          ],
          "name": "stderr"
        },
        {
          "output_type": "display_data",
          "data": {
            "text/html": [
              "<p style=\"color: red;\">\n",
              "The default version of TensorFlow in Colab will soon switch to TensorFlow 2.x.<br>\n",
              "We recommend you <a href=\"https://www.tensorflow.org/guide/migrate\" target=\"_blank\">upgrade</a> now \n",
              "or ensure your notebook will continue to use TensorFlow 1.x via the <code>%tensorflow_version 1.x</code> magic:\n",
              "<a href=\"https://colab.research.google.com/notebooks/tensorflow_version.ipynb\" target=\"_blank\">more info</a>.</p>\n"
            ],
            "text/plain": [
              "<IPython.core.display.HTML object>"
            ]
          },
          "metadata": {
            "tags": []
          }
        }
      ]
    },
    {
      "cell_type": "code",
      "metadata": {
        "id": "t_HRH0rwMQo8",
        "colab_type": "code",
        "colab": {}
      },
      "source": [
        "# Code to read csv file into Colaboratory:\n",
        "!pip install -U -q PyDrive\n",
        "from pydrive.auth import GoogleAuth\n",
        "from pydrive.drive import GoogleDrive\n",
        "from google.colab import auth\n",
        "from oauth2client.client import GoogleCredentials\n",
        "# Authenticate and create the PyDrive client.\n",
        "auth.authenticate_user()\n",
        "gauth = GoogleAuth()\n",
        "gauth.credentials = GoogleCredentials.get_application_default()\n",
        "drive = GoogleDrive(gauth)"
      ],
      "execution_count": 0,
      "outputs": []
    },
    {
      "cell_type": "code",
      "metadata": {
        "id": "f4iNO083MnGW",
        "colab_type": "code",
        "outputId": "a3f8b3cf-64e7-42d9-fff6-37789b31190a",
        "colab": {
          "base_uri": "https://localhost:8080/",
          "height": 34
        }
      },
      "source": [
        "link = 'https://drive.google.com/open?id=1g2OMgOZkb4jUJScoTiN_B4zBH6et8-vP'\n",
        "fluff, id = link.split('=')\n",
        "print (id) # Verify that you have everything after '='\n",
        "downloaded = drive.CreateFile({'id':id}) \n",
        "downloaded.GetContentFile('Classic3.csv')  \n",
        "dataset = pd.read_csv('Classic3.csv')\n",
        "# Dataset is now stored in a Pandas Dataframe"
      ],
      "execution_count": 3,
      "outputs": [
        {
          "output_type": "stream",
          "text": [
            "1g2OMgOZkb4jUJScoTiN_B4zBH6et8-vP\n"
          ],
          "name": "stdout"
        }
      ]
    },
    {
      "cell_type": "markdown",
      "metadata": {
        "id": "7zszhXQv4yy4",
        "colab_type": "text"
      },
      "source": [
        "# Processamento dos Dados\n",
        "\n",
        "```\n",
        "# Tokenize the data and convert the text to sequences.\n",
        "# Add padding to ensure that all the sequences have the same shape.\n",
        "# There are many ways of taking the max_len and here an arbitrary length of 150 is chosen.\n",
        "```\n",
        "\n"
      ]
    },
    {
      "cell_type": "code",
      "metadata": {
        "id": "3OtLnyGJMu7c",
        "colab_type": "code",
        "colab": {}
      },
      "source": [
        "#Definindo constantes\n",
        "max_length = 100\n",
        "num_labels = 3\n",
        "vocab_size = 2000\n",
        "batch_size = [100]\n",
        "epochs = [10]\n",
        "# Extract text\n",
        "tokenizer = Tokenizer(num_words=vocab_size) # Setup tokenizer\n",
        "tokenizer.fit_on_texts(dataset.data)\n",
        "sequences = tokenizer.texts_to_sequences(dataset.data) # Generate sequences\n",
        "x = pad_sequences(sequences, maxlen=max_length)\n",
        "# Extract target\n",
        "y = to_categorical(np.asarray(dataset.target))"
      ],
      "execution_count": 0,
      "outputs": []
    },
    {
      "cell_type": "code",
      "metadata": {
        "id": "bprJA5zHM1MK",
        "colab_type": "code",
        "colab": {}
      },
      "source": [
        "X_train,X_test,Y_train,Y_test = train_test_split(x,y,test_size=0.2)"
      ],
      "execution_count": 0,
      "outputs": []
    },
    {
      "cell_type": "markdown",
      "metadata": {
        "id": "OpDXhXsiyAs9",
        "colab_type": "text"
      },
      "source": [
        "# Loading GloVe embeddings"
      ]
    },
    {
      "cell_type": "code",
      "metadata": {
        "id": "GmM5Mu-GM505",
        "colab_type": "code",
        "outputId": "ab70ac65-00cf-4618-ffb7-51bd3f794f4c",
        "colab": {
          "base_uri": "https://localhost:8080/",
          "height": 34
        }
      },
      "source": [
        "link = 'https://drive.google.com/open?id=1erGe6LcwCDxpL9D8rRO7UYg0POVBvwX8'\n",
        "fluff, id = link.split('=')\n",
        "print (id) # Verify that you have everything after '='\n",
        "downloaded = drive.CreateFile({'id':id}) \n",
        "downloaded.GetContentFile('glove.6B.100d.txt') "
      ],
      "execution_count": 6,
      "outputs": [
        {
          "output_type": "stream",
          "text": [
            "1erGe6LcwCDxpL9D8rRO7UYg0POVBvwX8\n"
          ],
          "name": "stdout"
        }
      ]
    },
    {
      "cell_type": "code",
      "metadata": {
        "id": "izlefWc-M-DL",
        "colab_type": "code",
        "outputId": "c6be1fa1-fd75-4929-f4c5-92d6a2a06bcd",
        "colab": {
          "base_uri": "https://localhost:8080/",
          "height": 34
        }
      },
      "source": [
        "embeddings_index = {} # We create a dictionary of word -> embedding\n",
        "\n",
        "with open(os.path.join('glove.6B.100d.txt')) as f:\n",
        "    for line in f:\n",
        "        values = line.split()\n",
        "        word = values[0] # The first value is the word, the rest are the values of the embedding\n",
        "        embedding = np.asarray(values[1:], dtype='float32') # Load embedding\n",
        "        embeddings_index[word] = embedding # Add embedding to our embedding dictionary\n",
        "\n",
        "print('Found {:,} word vectors in GloVe.'.format(len(embeddings_index)))"
      ],
      "execution_count": 7,
      "outputs": [
        {
          "output_type": "stream",
          "text": [
            "Found 400,000 word vectors in GloVe.\n"
          ],
          "name": "stdout"
        }
      ]
    },
    {
      "cell_type": "code",
      "metadata": {
        "id": "c7E0LEh_NBiP",
        "colab_type": "code",
        "colab": {}
      },
      "source": [
        "embedding_dim = 100 # We use 100 dimensional glove vectors\n",
        "\n",
        "word_index = tokenizer.word_index\n",
        "nb_words = min(vocab_size, len(word_index)) # How many words are there actually\n",
        "\n",
        "embedding_matrix = np.zeros((nb_words, embedding_dim))\n",
        "\n",
        "# The vectors need to be in the same position as their index. \n",
        "# Meaning a word with token 1 needs to be in the second row (rows start with zero) and so on\n",
        "\n",
        "# Loop over all words in the word index\n",
        "for word, i in word_index.items():\n",
        "    # If we are above the amount of words we want to use we do nothing\n",
        "    if i >= vocab_size: \n",
        "        continue\n",
        "    # Get the embedding vector for the word\n",
        "    embedding_vector = embeddings_index.get(word)\n",
        "    # If there is an embedding vector, put it in the embedding matrix\n",
        "    if embedding_vector is not None: \n",
        "        embedding_matrix[i] = embedding_vector"
      ],
      "execution_count": 0,
      "outputs": []
    },
    {
      "cell_type": "code",
      "metadata": {
        "id": "I88rfl8NNEwf",
        "colab_type": "code",
        "colab": {}
      },
      "source": [
        "def RNN(optimizer='adam'):\n",
        "    model = Sequential()\n",
        "    model.add(Embedding(vocab_size, \n",
        "                    embedding_dim, \n",
        "                    input_length=max_length, \n",
        "                    weights = [embedding_matrix], \n",
        "                    trainable = False))\n",
        "    model.add(SpatialDropout1D(0.7))\n",
        "    model.add(LSTM(64, dropout=0.7, recurrent_dropout=0.7))\n",
        "    model.add(Dense(num_labels, activation='softmax'))\n",
        "    model.compile(loss='binary_crossentropy', optimizer=optimizer, metrics=['accuracy'])\n",
        "    return model"
      ],
      "execution_count": 0,
      "outputs": []
    },
    {
      "cell_type": "code",
      "metadata": {
        "id": "wugZjZN5NHrw",
        "colab_type": "code",
        "outputId": "07e6123c-4a44-4e97-eafa-8d90c19dbff6",
        "colab": {
          "base_uri": "https://localhost:8080/",
          "height": 904
        }
      },
      "source": [
        "model = RNN()\n",
        "model.summary()"
      ],
      "execution_count": 10,
      "outputs": [
        {
          "output_type": "stream",
          "text": [
            "WARNING:tensorflow:From /usr/local/lib/python3.6/dist-packages/keras/backend/tensorflow_backend.py:66: The name tf.get_default_graph is deprecated. Please use tf.compat.v1.get_default_graph instead.\n",
            "\n",
            "WARNING:tensorflow:From /usr/local/lib/python3.6/dist-packages/keras/backend/tensorflow_backend.py:541: The name tf.placeholder is deprecated. Please use tf.compat.v1.placeholder instead.\n",
            "\n",
            "WARNING:tensorflow:From /usr/local/lib/python3.6/dist-packages/keras/backend/tensorflow_backend.py:4432: The name tf.random_uniform is deprecated. Please use tf.random.uniform instead.\n",
            "\n",
            "WARNING:tensorflow:From /usr/local/lib/python3.6/dist-packages/keras/backend/tensorflow_backend.py:190: The name tf.get_default_session is deprecated. Please use tf.compat.v1.get_default_session instead.\n",
            "\n",
            "WARNING:tensorflow:From /usr/local/lib/python3.6/dist-packages/keras/backend/tensorflow_backend.py:197: The name tf.ConfigProto is deprecated. Please use tf.compat.v1.ConfigProto instead.\n",
            "\n",
            "WARNING:tensorflow:From /usr/local/lib/python3.6/dist-packages/keras/backend/tensorflow_backend.py:203: The name tf.Session is deprecated. Please use tf.compat.v1.Session instead.\n",
            "\n",
            "WARNING:tensorflow:From /usr/local/lib/python3.6/dist-packages/keras/backend/tensorflow_backend.py:207: The name tf.global_variables is deprecated. Please use tf.compat.v1.global_variables instead.\n",
            "\n",
            "WARNING:tensorflow:From /usr/local/lib/python3.6/dist-packages/keras/backend/tensorflow_backend.py:216: The name tf.is_variable_initialized is deprecated. Please use tf.compat.v1.is_variable_initialized instead.\n",
            "\n",
            "WARNING:tensorflow:From /usr/local/lib/python3.6/dist-packages/keras/backend/tensorflow_backend.py:223: The name tf.variables_initializer is deprecated. Please use tf.compat.v1.variables_initializer instead.\n",
            "\n",
            "WARNING:tensorflow:From /usr/local/lib/python3.6/dist-packages/keras/backend/tensorflow_backend.py:148: The name tf.placeholder_with_default is deprecated. Please use tf.compat.v1.placeholder_with_default instead.\n",
            "\n",
            "WARNING:tensorflow:From /usr/local/lib/python3.6/dist-packages/keras/backend/tensorflow_backend.py:3733: calling dropout (from tensorflow.python.ops.nn_ops) with keep_prob is deprecated and will be removed in a future version.\n",
            "Instructions for updating:\n",
            "Please use `rate` instead of `keep_prob`. Rate should be set to `rate = 1 - keep_prob`.\n",
            "WARNING:tensorflow:Large dropout rate: 0.7 (>0.5). In TensorFlow 2.x, dropout() uses dropout rate instead of keep_prob. Please ensure that this is intended.\n",
            "WARNING:tensorflow:Large dropout rate: 0.7 (>0.5). In TensorFlow 2.x, dropout() uses dropout rate instead of keep_prob. Please ensure that this is intended.\n",
            "WARNING:tensorflow:Large dropout rate: 0.7 (>0.5). In TensorFlow 2.x, dropout() uses dropout rate instead of keep_prob. Please ensure that this is intended.\n",
            "WARNING:tensorflow:Large dropout rate: 0.7 (>0.5). In TensorFlow 2.x, dropout() uses dropout rate instead of keep_prob. Please ensure that this is intended.\n",
            "WARNING:tensorflow:Large dropout rate: 0.7 (>0.5). In TensorFlow 2.x, dropout() uses dropout rate instead of keep_prob. Please ensure that this is intended.\n",
            "WARNING:tensorflow:From /usr/local/lib/python3.6/dist-packages/keras/optimizers.py:793: The name tf.train.Optimizer is deprecated. Please use tf.compat.v1.train.Optimizer instead.\n",
            "\n",
            "WARNING:tensorflow:From /usr/local/lib/python3.6/dist-packages/keras/backend/tensorflow_backend.py:3657: The name tf.log is deprecated. Please use tf.math.log instead.\n",
            "\n",
            "WARNING:tensorflow:From /usr/local/lib/python3.6/dist-packages/tensorflow_core/python/ops/nn_impl.py:183: where (from tensorflow.python.ops.array_ops) is deprecated and will be removed in a future version.\n",
            "Instructions for updating:\n",
            "Use tf.where in 2.0, which has the same broadcast rule as np.where\n",
            "Model: \"sequential_1\"\n",
            "_________________________________________________________________\n",
            "Layer (type)                 Output Shape              Param #   \n",
            "=================================================================\n",
            "embedding_1 (Embedding)      (None, 100, 100)          200000    \n",
            "_________________________________________________________________\n",
            "spatial_dropout1d_1 (Spatial (None, 100, 100)          0         \n",
            "_________________________________________________________________\n",
            "lstm_1 (LSTM)                (None, 64)                42240     \n",
            "_________________________________________________________________\n",
            "dense_1 (Dense)              (None, 3)                 195       \n",
            "=================================================================\n",
            "Total params: 242,435\n",
            "Trainable params: 42,435\n",
            "Non-trainable params: 200,000\n",
            "_________________________________________________________________\n"
          ],
          "name": "stdout"
        }
      ]
    },
    {
      "cell_type": "code",
      "metadata": {
        "id": "_uo_uoUZNJco",
        "colab_type": "code",
        "outputId": "37de7070-eb25-48c6-849f-ad96bbfeb9cb",
        "colab": {
          "base_uri": "https://localhost:8080/",
          "height": 462
        }
      },
      "source": [
        "history = model.fit(X_train, Y_train, validation_data=(X_test, Y_test), epochs=10)"
      ],
      "execution_count": 11,
      "outputs": [
        {
          "output_type": "stream",
          "text": [
            "WARNING:tensorflow:From /usr/local/lib/python3.6/dist-packages/keras/backend/tensorflow_backend.py:1033: The name tf.assign_add is deprecated. Please use tf.compat.v1.assign_add instead.\n",
            "\n",
            "WARNING:tensorflow:From /usr/local/lib/python3.6/dist-packages/keras/backend/tensorflow_backend.py:1020: The name tf.assign is deprecated. Please use tf.compat.v1.assign instead.\n",
            "\n",
            "Train on 1328 samples, validate on 332 samples\n",
            "Epoch 1/10\n",
            "1328/1328 [==============================] - 12s 9ms/step - loss: 0.6654 - acc: 0.6373 - val_loss: 0.6617 - val_acc: 0.5894\n",
            "Epoch 2/10\n",
            "1328/1328 [==============================] - 10s 8ms/step - loss: 0.6536 - acc: 0.6468 - val_loss: 0.6547 - val_acc: 0.5974\n",
            "Epoch 3/10\n",
            "1328/1328 [==============================] - 10s 8ms/step - loss: 0.6453 - acc: 0.6511 - val_loss: 0.6505 - val_acc: 0.5964\n",
            "Epoch 4/10\n",
            "1328/1328 [==============================] - 10s 8ms/step - loss: 0.6423 - acc: 0.6564 - val_loss: 0.6472 - val_acc: 0.6064\n",
            "Epoch 5/10\n",
            "1328/1328 [==============================] - 10s 8ms/step - loss: 0.6404 - acc: 0.6561 - val_loss: 0.6358 - val_acc: 0.6647\n",
            "Epoch 6/10\n",
            "1328/1328 [==============================] - 10s 7ms/step - loss: 0.6406 - acc: 0.6616 - val_loss: 0.6289 - val_acc: 0.6677\n",
            "Epoch 7/10\n",
            "1328/1328 [==============================] - 10s 8ms/step - loss: 0.6404 - acc: 0.6554 - val_loss: 0.6328 - val_acc: 0.6576\n",
            "Epoch 8/10\n",
            "1328/1328 [==============================] - 10s 7ms/step - loss: 0.6406 - acc: 0.6611 - val_loss: 0.6363 - val_acc: 0.6345\n",
            "Epoch 9/10\n",
            "1328/1328 [==============================] - 10s 7ms/step - loss: 0.6411 - acc: 0.6609 - val_loss: 0.6361 - val_acc: 0.6406\n",
            "Epoch 10/10\n",
            "1328/1328 [==============================] - 10s 7ms/step - loss: 0.6353 - acc: 0.6586 - val_loss: 0.6380 - val_acc: 0.6205\n"
          ],
          "name": "stdout"
        }
      ]
    },
    {
      "cell_type": "code",
      "metadata": {
        "id": "xHljje7hNMc7",
        "colab_type": "code",
        "outputId": "059390ee-cc96-439c-f03f-9d141dfbad80",
        "colab": {
          "base_uri": "https://localhost:8080/",
          "height": 465
        }
      },
      "source": [
        "plt.figure(figsize =(5,3))\n",
        "plt.plot(history.history['loss'], marker='.', label='train')\n",
        "plt.plot(history.history['val_loss'], marker='.', label='test')\n",
        "plt.title('Loss')\n",
        "plt.grid(True)\n",
        "plt.xlabel('epoch')\n",
        "plt.ylabel('loss')\n",
        "plt.legend(loc='best')\n",
        "plt.show()\n",
        "\n",
        "plt.figure(figsize =(5,3))\n",
        "plt.plot(history.history['acc'], marker='.', label='train')\n",
        "plt.plot(history.history['val_acc'], marker='.', label='test')\n",
        "plt.title('Accuracy')\n",
        "plt.grid(True)\n",
        "plt.xlabel('epoch')\n",
        "plt.ylabel('accuracy')\n",
        "plt.legend(loc='best')\n",
        "plt.show()"
      ],
      "execution_count": 12,
      "outputs": [
        {
          "output_type": "display_data",
          "data": {
            "image/png": "[encoded data removed]",
            "text/plain": [
              "<Figure size 360x216 with 1 Axes>"
            ]
          },
          "metadata": {
            "tags": []
          }
        },
        {
          "output_type": "display_data",
          "data": {
            "image/png": "[encoded data removed]",
            "text/plain": [
              "<Figure size 360x216 with 1 Axes>"
            ]
          },
          "metadata": {
            "tags": []
          }
        }
      ]
    },
    {
      "cell_type": "code",
      "metadata": {
        "id": "qNZDLNEfNPjO",
        "colab_type": "code",
        "colab": {}
      },
      "source": [
        "# create model\n",
        "model = KerasClassifier(build_fn=RNN, epochs=10, batch_size=100, verbose=0)"
      ],
      "execution_count": 0,
      "outputs": []
    },
    {
      "cell_type": "code",
      "metadata": {
        "id": "BiWHqlGMNSe9",
        "colab_type": "code",
        "outputId": "a471db38-55e6-4ced-f72a-833681512f74",
        "colab": {
          "base_uri": "https://localhost:8080/",
          "height": 139
        }
      },
      "source": [
        "optimizer = ['SGD', 'RMSprop', 'Adagrad', 'Adadelta', 'Adam', 'Adamax', 'Nadam']\n",
        "param_grid = dict(optimizer=optimizer)\n",
        "grid = GridSearchCV(estimator=model, param_grid=param_grid, n_jobs=-1, cv=10, verbose=True, return_train_score=True)\n",
        "grid_result = grid.fit(x, y)"
      ],
      "execution_count": 14,
      "outputs": [
        {
          "output_type": "stream",
          "text": [
            "Fitting 10 folds for each of 7 candidates, totalling 70 fits\n"
          ],
          "name": "stdout"
        },
        {
          "output_type": "stream",
          "text": [
            "[Parallel(n_jobs=-1)]: Using backend LokyBackend with 2 concurrent workers.\n",
            "/usr/local/lib/python3.6/dist-packages/joblib/externals/loky/process_executor.py:706: UserWarning: A worker stopped while some jobs were given to the executor. This can be caused by a too short worker timeout or by a memory leak.\n",
            "  \"timeout or by a memory leak.\", UserWarning\n",
            "[Parallel(n_jobs=-1)]: Done  46 tasks      | elapsed: 23.8min\n",
            "[Parallel(n_jobs=-1)]: Done  70 out of  70 | elapsed: 36.3min finished\n"
          ],
          "name": "stderr"
        }
      ]
    },
    {
      "cell_type": "code",
      "metadata": {
        "id": "JIZYv9ZlNWGm",
        "colab_type": "code",
        "outputId": "f7c3fd8b-2846-4e84-f6ec-0e51df52883c",
        "colab": {
          "base_uri": "https://localhost:8080/",
          "height": 190
        }
      },
      "source": [
        "df = pd.DataFrame(grid_result.cv_results_)\n",
        "df.to_csv('resultado_LSTM_Irish_Economic_Sentiment.csv')\n",
        "print(df.to_csv())"
      ],
      "execution_count": 17,
      "outputs": [
        {
          "output_type": "stream",
          "text": [
            ",mean_fit_time,std_fit_time,mean_score_time,std_score_time,param_optimizer,params,split0_test_score,split1_test_score,split2_test_score,split3_test_score,split4_test_score,split5_test_score,split6_test_score,split7_test_score,split8_test_score,split9_test_score,mean_test_score,std_test_score,rank_test_score,split0_train_score,split1_train_score,split2_train_score,split3_train_score,split4_train_score,split5_train_score,split6_train_score,split7_train_score,split8_train_score,split9_train_score,mean_train_score,std_train_score\n",
            "0,58.48773322105408,0.9977361409787948,0.7570618391036987,0.16061847456940107,SGD,{'optimizer': 'SGD'},0.6606425879949547,0.6666666506284691,0.6646586563213762,0.6666666506284691,0.6666666506284691,0.6666666506284691,0.6666666506284691,0.6104417888514967,0.6646586283143744,0.6666666506284691,0.6600401565253017,0.016632751925674375,7,0.665551084830579,0.6666666306804622,0.6668897730758391,0.6668897491382307,0.6666666306804622,0.6657741992987463,0.6666666306804622,0.6041945647523106,0.6659973191927715,0.666443528181099,0.6601740110510963,0.018665090752784715\n",
            "1,58.49493505954742,1.0693538513620444,0.8225851774215698,0.20155620454541734,RMSprop,{'optimizer': 'RMSprop'},0.6686747246477978,0.6305220751877291,0.6666666506284691,0.6726907412689852,0.6646586484219654,0.6546184973544386,0.6767068455018193,0.6666666506284691,0.6666666506284691,0.6726907850748085,0.6640562269342951,0.012509576425965948,4,0.666443533846333,0.6548416105459334,0.6666666306804622,0.6680053516404536,0.6668897650966363,0.6673360281839588,0.6586345614518826,0.666889764218924,0.6666666306804622,0.665774195309145,0.664814807165419,0.004162196432480018\n",
            "2,58.69921703338623,0.9210668121343685,0.7701976060867309,0.15796260403223034,Adagrad,{'optimizer': 'Adagrad'},0.6646586563213762,0.6566265433667654,0.6666666506284691,0.6666666506284691,0.6666666506284691,0.6666666506284691,0.6666666506284691,0.6666666506284691,0.6666666506284691,0.6666666506284691,0.6654618404715894,0.0030053305945041808,3,0.6675591221455749,0.6695671703122865,0.6666666306804622,0.6666666306804622,0.6666666306804622,0.6666666306804622,0.6666666306804622,0.6666666306804622,0.6668897491382307,0.6666666306804622,0.6670682456359327,0.0008744430966451495\n",
            "3,58.42413980960846,0.9506203370558433,0.8051388502120972,0.18998101478063684,Adadelta,{'optimizer': 'Adadelta'},0.6746988073889032,0.6666666506284691,0.6586345577814493,0.6626506261078708,0.6666666506284691,0.6666666786354708,0.6666666506284691,0.6646586283143744,0.6405622736517206,0.6666666506284691,0.6634538174393665,0.008528811116599288,6,0.6682284843809952,0.6668897491382307,0.6653279814535036,0.665774195309145,0.6664435202018962,0.6675591076234259,0.6666666306804622,0.6659973043514543,0.6519411156774365,0.6666666306804622,0.6651494719497011,0.004474315238648729\n",
            "4,57.82933855056763,0.905567941424602,0.8313745737075806,0.22641632975620726,Adam,{'optimizer': 'Adam'},0.6666666506284691,0.6485944146133331,0.6706827706601246,0.6666666506284691,0.6726907412689852,0.668674716748387,0.6626505823020475,0.6666666506284691,0.6666666506284691,0.6666666506284691,0.6656626478735223,0.00623783232994954,2,0.6664435202018962,0.6635430831028276,0.6613119255746385,0.6668897491382307,0.6671129026246997,0.6673360222793487,0.6675591235818314,0.6666666386596649,0.6666666306804622,0.6666666306804622,0.6660196226524062,0.001891733856232615\n",
            "5,57.92327404022217,0.8144676339934733,0.7696977138519288,0.16642023617258714,Adamax,{'optimizer': 'Adamax'},0.6646586283143744,0.6626505823020475,0.6666667303407049,0.6666666506284691,0.6526104549327528,0.6666666506284691,0.6586345735802708,0.6646586843283779,0.6666666506284691,0.6666666506284691,0.6636546256312404,0.004422226140646928,5,0.6664435572253972,0.6646586300697991,0.665327968128235,0.666443528181099,0.6588576770371383,0.6668897491382307,0.6664435572253972,0.6675591181559735,0.667112883554405,0.6671128675959994,0.6656849536311673,0.0024199344124166545\n",
            "6,59.39062166213989,1.0684457090842192,0.8129905939102173,0.20639808752797828,Nadam,{'optimizer': 'Nadam'},0.6666666506284691,0.6666666786354708,0.6666666506284691,0.6666666506284691,0.6666666506284691,0.6626506340072815,0.6666666506284691,0.6666666506284691,0.6666666506284691,0.6666666506284691,0.6662650517670505,0.001204805919951927,1,0.6666666306804622,0.6671128875440064,0.6666666306804622,0.6666666306804622,0.6666666386596649,0.6666666577299596,0.6666666306804622,0.6666666306804622,0.6666666306804622,0.6666666306804622,0.6667112598696866,0.00013387589168606888\n",
            "\n"
          ],
          "name": "stdout"
        }
      ]
    },
    {
      "cell_type": "code",
      "metadata": {
        "id": "6MkC7gL4NWxy",
        "colab_type": "code",
        "outputId": "d105fc05-7ba5-402e-ec0f-385a1509ab2b",
        "colab": {
          "base_uri": "https://localhost:8080/",
          "height": 153
        }
      },
      "source": [
        "# summarize results\n",
        "print(\"Best: %f using %s\" % (grid_result.best_score_, grid_result.best_params_))\n",
        "means = grid_result.cv_results_['mean_test_score']\n",
        "stds = grid_result.cv_results_['std_test_score']\n",
        "params = grid_result.cv_results_['params']\n",
        "for mean, stdev, param in zip(means, stds, params):\n",
        "    print(\"%f (%f) with: %r\" % (mean, stdev, param))"
      ],
      "execution_count": 18,
      "outputs": [
        {
          "output_type": "stream",
          "text": [
            "Best: 0.666265 using {'optimizer': 'Nadam'}\n",
            "0.660040 (0.016633) with: {'optimizer': 'SGD'}\n",
            "0.664056 (0.012510) with: {'optimizer': 'RMSprop'}\n",
            "0.665462 (0.003005) with: {'optimizer': 'Adagrad'}\n",
            "0.663454 (0.008529) with: {'optimizer': 'Adadelta'}\n",
            "0.665663 (0.006238) with: {'optimizer': 'Adam'}\n",
            "0.663655 (0.004422) with: {'optimizer': 'Adamax'}\n",
            "0.666265 (0.001205) with: {'optimizer': 'Nadam'}\n"
          ],
          "name": "stdout"
        }
      ]
    }
  ]
}