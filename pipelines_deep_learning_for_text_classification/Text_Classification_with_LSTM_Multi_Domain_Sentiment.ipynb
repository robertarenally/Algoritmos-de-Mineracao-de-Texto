{
  "nbformat": 4,
  "nbformat_minor": 0,
  "metadata": {
    "colab": {
      "name": "Text Classification with LSTM_Multi_Domain_Sentiment.ipynb",
      "provenance": [],
      "collapsed_sections": [],
      "toc_visible": true
    },
    "kernelspec": {
      "name": "python3",
      "display_name": "Python 3"
    },
    "accelerator": "GPU"
  },
  "cells": [
    {
      "cell_type": "code",
      "metadata": {
        "id": "tvT0nAatME53",
        "colab_type": "code",
        "outputId": "ba80e963-fa55-4787-8ce9-545d9d76f4d4",
        "colab": {
          "base_uri": "https://localhost:8080/",
          "height": 81
        }
      },
      "source": [
        "import os\n",
        "import pandas as pd\n",
        "import numpy as np\n",
        "import matplotlib.pyplot as plt \n",
        "import seaborn as sns\n",
        "from keras.layers import LSTM, Activation, Dense, Dropout, Embedding, Flatten, Input, MaxPooling1D, SpatialDropout1D\n",
        "from keras.models import Model\n",
        "from keras.models import Sequential\n",
        "from keras.preprocessing.text import Tokenizer\n",
        "from keras.preprocessing.sequence import pad_sequences\n",
        "from keras.optimizers import RMSprop\n",
        "from keras.preprocessing import sequence\n",
        "from keras.callbacks import EarlyStopping\n",
        "from sklearn.datasets import fetch_20newsgroups\n",
        "from sklearn.datasets.base import get_data_home\n",
        "from keras.metrics import categorical_accuracy\n",
        "from keras.utils import to_categorical\n",
        "from keras.wrappers.scikit_learn import KerasClassifier\n",
        "from sklearn.model_selection import train_test_split  \n",
        "from sklearn.preprocessing import LabelEncoder\n",
        "from sklearn.model_selection import GridSearchCV"
      ],
      "execution_count": 0,
      "outputs": [
        {
          "output_type": "stream",
          "text": [
            "Using TensorFlow backend.\n"
          ],
          "name": "stderr"
        },
        {
          "output_type": "display_data",
          "data": {
            "text/html": [
              "<p style=\"color: red;\">\n",
              "The default version of TensorFlow in Colab will soon switch to TensorFlow 2.x.<br>\n",
              "We recommend you <a href=\"https://www.tensorflow.org/guide/migrate\" target=\"_blank\">upgrade</a> now \n",
              "or ensure your notebook will continue to use TensorFlow 1.x via the <code>%tensorflow_version 1.x</code> magic:\n",
              "<a href=\"https://colab.research.google.com/notebooks/tensorflow_version.ipynb\" target=\"_blank\">more info</a>.</p>\n"
            ],
            "text/plain": [
              "<IPython.core.display.HTML object>"
            ]
          },
          "metadata": {
            "tags": []
          }
        }
      ]
    },
    {
      "cell_type": "code",
      "metadata": {
        "id": "t_HRH0rwMQo8",
        "colab_type": "code",
        "colab": {}
      },
      "source": [
        "# Code to read csv file into Colaboratory:\n",
        "!pip install -U -q PyDrive\n",
        "from pydrive.auth import GoogleAuth\n",
        "from pydrive.drive import GoogleDrive\n",
        "from google.colab import auth\n",
        "from oauth2client.client import GoogleCredentials\n",
        "# Authenticate and create the PyDrive client.\n",
        "auth.authenticate_user()\n",
        "gauth = GoogleAuth()\n",
        "gauth.credentials = GoogleCredentials.get_application_default()\n",
        "drive = GoogleDrive(gauth)"
      ],
      "execution_count": 0,
      "outputs": []
    },
    {
      "cell_type": "code",
      "metadata": {
        "id": "f4iNO083MnGW",
        "colab_type": "code",
        "outputId": "af90d822-c11b-4fc3-9aba-399326cecfc3",
        "colab": {
          "base_uri": "https://localhost:8080/",
          "height": 34
        }
      },
      "source": [
        "link = 'https://drive.google.com/open?id=1v9pDbyAYCN4cdX8KSrmyeRojiPi41-W1'\n",
        "fluff, id = link.split('=')\n",
        "print (id) # Verify that you have everything after '='\n",
        "downloaded = drive.CreateFile({'id':id}) \n",
        "downloaded.GetContentFile('multi-domain-sentiment.csv')  \n",
        "dataset = pd.read_csv('multi-domain-sentiment.csv')\n",
        "# Dataset is now stored in a Pandas Dataframe"
      ],
      "execution_count": 0,
      "outputs": [
        {
          "output_type": "stream",
          "text": [
            "1v9pDbyAYCN4cdX8KSrmyeRojiPi41-W1\n"
          ],
          "name": "stdout"
        }
      ]
    },
    {
      "cell_type": "markdown",
      "metadata": {
        "id": "7zszhXQv4yy4",
        "colab_type": "text"
      },
      "source": [
        "# Processamento dos Dados\n",
        "\n",
        "```\n",
        "# Tokenize the data and convert the text to sequences.\n",
        "# Add padding to ensure that all the sequences have the same shape.\n",
        "# There are many ways of taking the max_len and here an arbitrary length of 150 is chosen.\n",
        "```\n",
        "\n"
      ]
    },
    {
      "cell_type": "code",
      "metadata": {
        "id": "3OtLnyGJMu7c",
        "colab_type": "code",
        "colab": {}
      },
      "source": [
        "#Definindo constantes\n",
        "max_length = 100\n",
        "num_labels = 2\n",
        "vocab_size = 10000\n",
        "batch_size = [100]\n",
        "epochs = [10]\n",
        "# Extract text\n",
        "tokenizer = Tokenizer(num_words=vocab_size) # Setup tokenizer\n",
        "tokenizer.fit_on_texts(dataset.data)\n",
        "sequences = tokenizer.texts_to_sequences(dataset.data) # Generate sequences\n",
        "x = pad_sequences(sequences, maxlen=max_length)\n",
        "# Extract target\n",
        "y = to_categorical(np.asarray(dataset.target))"
      ],
      "execution_count": 0,
      "outputs": []
    },
    {
      "cell_type": "code",
      "metadata": {
        "id": "bprJA5zHM1MK",
        "colab_type": "code",
        "colab": {}
      },
      "source": [
        "X_train,X_test,Y_train,Y_test = train_test_split(x,y,test_size=0.2)"
      ],
      "execution_count": 0,
      "outputs": []
    },
    {
      "cell_type": "markdown",
      "metadata": {
        "id": "OpDXhXsiyAs9",
        "colab_type": "text"
      },
      "source": [
        "# Loading GloVe embeddings"
      ]
    },
    {
      "cell_type": "code",
      "metadata": {
        "id": "GmM5Mu-GM505",
        "colab_type": "code",
        "outputId": "c6d33304-b0ba-455a-f161-fd46cf02d80f",
        "colab": {
          "base_uri": "https://localhost:8080/",
          "height": 34
        }
      },
      "source": [
        "link = 'https://drive.google.com/open?id=1erGe6LcwCDxpL9D8rRO7UYg0POVBvwX8'\n",
        "fluff, id = link.split('=')\n",
        "print (id) # Verify that you have everything after '='\n",
        "downloaded = drive.CreateFile({'id':id}) \n",
        "downloaded.GetContentFile('glove.6B.100d.txt') "
      ],
      "execution_count": 0,
      "outputs": [
        {
          "output_type": "stream",
          "text": [
            "1erGe6LcwCDxpL9D8rRO7UYg0POVBvwX8\n"
          ],
          "name": "stdout"
        }
      ]
    },
    {
      "cell_type": "code",
      "metadata": {
        "id": "izlefWc-M-DL",
        "colab_type": "code",
        "outputId": "7bc7b0d0-cca3-432e-9d27-4e4423c063ba",
        "colab": {
          "base_uri": "https://localhost:8080/",
          "height": 34
        }
      },
      "source": [
        "embeddings_index = {} # We create a dictionary of word -> embedding\n",
        "\n",
        "with open(os.path.join('glove.6B.100d.txt')) as f:\n",
        "    for line in f:\n",
        "        values = line.split()\n",
        "        word = values[0] # The first value is the word, the rest are the values of the embedding\n",
        "        embedding = np.asarray(values[1:], dtype='float32') # Load embedding\n",
        "        embeddings_index[word] = embedding # Add embedding to our embedding dictionary\n",
        "\n",
        "print('Found {:,} word vectors in GloVe.'.format(len(embeddings_index)))"
      ],
      "execution_count": 0,
      "outputs": [
        {
          "output_type": "stream",
          "text": [
            "Found 400,000 word vectors in GloVe.\n"
          ],
          "name": "stdout"
        }
      ]
    },
    {
      "cell_type": "code",
      "metadata": {
        "id": "c7E0LEh_NBiP",
        "colab_type": "code",
        "colab": {}
      },
      "source": [
        "embedding_dim = 100 # We use 100 dimensional glove vectors\n",
        "\n",
        "word_index = tokenizer.word_index\n",
        "nb_words = min(vocab_size, len(word_index)) # How many words are there actually\n",
        "\n",
        "embedding_matrix = np.zeros((nb_words, embedding_dim))\n",
        "\n",
        "# The vectors need to be in the same position as their index. \n",
        "# Meaning a word with token 1 needs to be in the second row (rows start with zero) and so on\n",
        "\n",
        "# Loop over all words in the word index\n",
        "for word, i in word_index.items():\n",
        "    # If we are above the amount of words we want to use we do nothing\n",
        "    if i >= vocab_size: \n",
        "        continue\n",
        "    # Get the embedding vector for the word\n",
        "    embedding_vector = embeddings_index.get(word)\n",
        "    # If there is an embedding vector, put it in the embedding matrix\n",
        "    if embedding_vector is not None: \n",
        "        embedding_matrix[i] = embedding_vector"
      ],
      "execution_count": 0,
      "outputs": []
    },
    {
      "cell_type": "code",
      "metadata": {
        "id": "I88rfl8NNEwf",
        "colab_type": "code",
        "colab": {}
      },
      "source": [
        "def RNN(optimizer='adam'):\n",
        "    model = Sequential()\n",
        "    model.add(Embedding(vocab_size, \n",
        "                    embedding_dim, \n",
        "                    input_length=max_length, \n",
        "                    weights = [embedding_matrix], \n",
        "                    trainable = False))\n",
        "    model.add(SpatialDropout1D(0.7))\n",
        "    model.add(LSTM(64, dropout=0.7, recurrent_dropout=0.7))\n",
        "    model.add(Dense(num_labels, activation='softmax'))\n",
        "    model.compile(loss='binary_crossentropy', optimizer=optimizer, metrics=['accuracy'])\n",
        "    return model"
      ],
      "execution_count": 0,
      "outputs": []
    },
    {
      "cell_type": "code",
      "metadata": {
        "id": "wugZjZN5NHrw",
        "colab_type": "code",
        "outputId": "99bd73c5-4752-458e-f559-7e96f254fc39",
        "colab": {
          "base_uri": "https://localhost:8080/",
          "height": 943
        }
      },
      "source": [
        "model = RNN()\n",
        "model.summary()"
      ],
      "execution_count": 0,
      "outputs": [
        {
          "output_type": "stream",
          "text": [
            "WARNING:tensorflow:From /usr/local/lib/python3.6/dist-packages/keras/backend/tensorflow_backend.py:66: The name tf.get_default_graph is deprecated. Please use tf.compat.v1.get_default_graph instead.\n",
            "\n",
            "WARNING:tensorflow:From /usr/local/lib/python3.6/dist-packages/keras/backend/tensorflow_backend.py:541: The name tf.placeholder is deprecated. Please use tf.compat.v1.placeholder instead.\n",
            "\n",
            "WARNING:tensorflow:From /usr/local/lib/python3.6/dist-packages/keras/backend/tensorflow_backend.py:4432: The name tf.random_uniform is deprecated. Please use tf.random.uniform instead.\n",
            "\n",
            "WARNING:tensorflow:From /usr/local/lib/python3.6/dist-packages/keras/backend/tensorflow_backend.py:190: The name tf.get_default_session is deprecated. Please use tf.compat.v1.get_default_session instead.\n",
            "\n",
            "WARNING:tensorflow:From /usr/local/lib/python3.6/dist-packages/keras/backend/tensorflow_backend.py:197: The name tf.ConfigProto is deprecated. Please use tf.compat.v1.ConfigProto instead.\n",
            "\n",
            "WARNING:tensorflow:From /usr/local/lib/python3.6/dist-packages/keras/backend/tensorflow_backend.py:203: The name tf.Session is deprecated. Please use tf.compat.v1.Session instead.\n",
            "\n",
            "WARNING:tensorflow:From /usr/local/lib/python3.6/dist-packages/keras/backend/tensorflow_backend.py:207: The name tf.global_variables is deprecated. Please use tf.compat.v1.global_variables instead.\n",
            "\n",
            "WARNING:tensorflow:From /usr/local/lib/python3.6/dist-packages/keras/backend/tensorflow_backend.py:216: The name tf.is_variable_initialized is deprecated. Please use tf.compat.v1.is_variable_initialized instead.\n",
            "\n",
            "WARNING:tensorflow:From /usr/local/lib/python3.6/dist-packages/keras/backend/tensorflow_backend.py:223: The name tf.variables_initializer is deprecated. Please use tf.compat.v1.variables_initializer instead.\n",
            "\n",
            "WARNING:tensorflow:From /usr/local/lib/python3.6/dist-packages/keras/backend/tensorflow_backend.py:148: The name tf.placeholder_with_default is deprecated. Please use tf.compat.v1.placeholder_with_default instead.\n",
            "\n",
            "WARNING:tensorflow:From /usr/local/lib/python3.6/dist-packages/keras/backend/tensorflow_backend.py:3733: calling dropout (from tensorflow.python.ops.nn_ops) with keep_prob is deprecated and will be removed in a future version.\n",
            "Instructions for updating:\n",
            "Please use `rate` instead of `keep_prob`. Rate should be set to `rate = 1 - keep_prob`.\n",
            "WARNING:tensorflow:Large dropout rate: 0.7 (>0.5). In TensorFlow 2.x, dropout() uses dropout rate instead of keep_prob. Please ensure that this is intended.\n",
            "WARNING:tensorflow:Large dropout rate: 0.7 (>0.5). In TensorFlow 2.x, dropout() uses dropout rate instead of keep_prob. Please ensure that this is intended.\n",
            "WARNING:tensorflow:Large dropout rate: 0.7 (>0.5). In TensorFlow 2.x, dropout() uses dropout rate instead of keep_prob. Please ensure that this is intended.\n",
            "WARNING:tensorflow:Large dropout rate: 0.7 (>0.5). In TensorFlow 2.x, dropout() uses dropout rate instead of keep_prob. Please ensure that this is intended.\n",
            "WARNING:tensorflow:Large dropout rate: 0.7 (>0.5). In TensorFlow 2.x, dropout() uses dropout rate instead of keep_prob. Please ensure that this is intended.\n",
            "WARNING:tensorflow:From /usr/local/lib/python3.6/dist-packages/keras/optimizers.py:793: The name tf.train.Optimizer is deprecated. Please use tf.compat.v1.train.Optimizer instead.\n",
            "\n",
            "WARNING:tensorflow:From /usr/local/lib/python3.6/dist-packages/keras/backend/tensorflow_backend.py:3657: The name tf.log is deprecated. Please use tf.math.log instead.\n",
            "\n",
            "WARNING:tensorflow:From /usr/local/lib/python3.6/dist-packages/tensorflow_core/python/ops/nn_impl.py:183: where (from tensorflow.python.ops.array_ops) is deprecated and will be removed in a future version.\n",
            "Instructions for updating:\n",
            "Use tf.where in 2.0, which has the same broadcast rule as np.where\n",
            "Model: \"sequential_1\"\n",
            "_________________________________________________________________\n",
            "Layer (type)                 Output Shape              Param #   \n",
            "=================================================================\n",
            "embedding_1 (Embedding)      (None, 100, 100)          1000000   \n",
            "_________________________________________________________________\n",
            "spatial_dropout1d_1 (Spatial (None, 100, 100)          0         \n",
            "_________________________________________________________________\n",
            "lstm_1 (LSTM)                (None, 64)                42240     \n",
            "_________________________________________________________________\n",
            "dense_1 (Dense)              (None, 2)                 130       \n",
            "=================================================================\n",
            "Total params: 1,042,370\n",
            "Trainable params: 42,370\n",
            "Non-trainable params: 1,000,000\n",
            "_________________________________________________________________\n"
          ],
          "name": "stdout"
        }
      ]
    },
    {
      "cell_type": "code",
      "metadata": {
        "id": "_uo_uoUZNJco",
        "colab_type": "code",
        "outputId": "11f0a4fd-cf8c-41a1-d659-df9b2925be9b",
        "colab": {
          "base_uri": "https://localhost:8080/",
          "height": 481
        }
      },
      "source": [
        "history = model.fit(X_train, Y_train, validation_data=(X_test, Y_test), epochs=10)"
      ],
      "execution_count": 0,
      "outputs": [
        {
          "output_type": "stream",
          "text": [
            "WARNING:tensorflow:From /usr/local/lib/python3.6/dist-packages/keras/backend/tensorflow_backend.py:1033: The name tf.assign_add is deprecated. Please use tf.compat.v1.assign_add instead.\n",
            "\n",
            "WARNING:tensorflow:From /usr/local/lib/python3.6/dist-packages/keras/backend/tensorflow_backend.py:1020: The name tf.assign is deprecated. Please use tf.compat.v1.assign instead.\n",
            "\n",
            "Train on 6400 samples, validate on 1600 samples\n",
            "Epoch 1/10\n",
            "6400/6400 [==============================] - 48s 8ms/step - loss: 0.7240 - acc: 0.4998 - val_loss: 0.6886 - val_acc: 0.5300\n",
            "Epoch 2/10\n",
            "6400/6400 [==============================] - 47s 7ms/step - loss: 0.7074 - acc: 0.5030 - val_loss: 0.6869 - val_acc: 0.5463\n",
            "Epoch 3/10\n",
            "6400/6400 [==============================] - 46s 7ms/step - loss: 0.7016 - acc: 0.5120 - val_loss: 0.6836 - val_acc: 0.6000\n",
            "Epoch 4/10\n",
            "6400/6400 [==============================] - 47s 7ms/step - loss: 0.6980 - acc: 0.5097 - val_loss: 0.6850 - val_acc: 0.5456\n",
            "Epoch 5/10\n",
            "6400/6400 [==============================] - 47s 7ms/step - loss: 0.6912 - acc: 0.5284 - val_loss: 0.6824 - val_acc: 0.5931\n",
            "Epoch 6/10\n",
            "6400/6400 [==============================] - 47s 7ms/step - loss: 0.6933 - acc: 0.5148 - val_loss: 0.6822 - val_acc: 0.5775\n",
            "Epoch 7/10\n",
            "6400/6400 [==============================] - 47s 7ms/step - loss: 0.6922 - acc: 0.5331 - val_loss: 0.6827 - val_acc: 0.5875\n",
            "Epoch 8/10\n",
            "6400/6400 [==============================] - 48s 7ms/step - loss: 0.6929 - acc: 0.5227 - val_loss: 0.6825 - val_acc: 0.5850\n",
            "Epoch 9/10\n",
            "6400/6400 [==============================] - 47s 7ms/step - loss: 0.6932 - acc: 0.5236 - val_loss: 0.6815 - val_acc: 0.6038\n",
            "Epoch 10/10\n",
            "6400/6400 [==============================] - 46s 7ms/step - loss: 0.6930 - acc: 0.5102 - val_loss: 0.6830 - val_acc: 0.5794\n"
          ],
          "name": "stdout"
        }
      ]
    },
    {
      "cell_type": "code",
      "metadata": {
        "id": "xHljje7hNMc7",
        "colab_type": "code",
        "outputId": "b20ae0d1-05ca-45cd-bafd-4d003ffa82f0",
        "colab": {
          "base_uri": "https://localhost:8080/",
          "height": 464
        }
      },
      "source": [
        "plt.figure(figsize =(5,3))\n",
        "plt.plot(history.history['loss'], marker='.', label='train')\n",
        "plt.plot(history.history['val_loss'], marker='.', label='test')\n",
        "plt.title('Loss')\n",
        "plt.grid(True)\n",
        "plt.xlabel('epoch')\n",
        "plt.ylabel('loss')\n",
        "plt.legend(loc='best')\n",
        "plt.show()\n",
        "\n",
        "plt.figure(figsize =(5,3))\n",
        "plt.plot(history.history['acc'], marker='.', label='train')\n",
        "plt.plot(history.history['val_acc'], marker='.', label='test')\n",
        "plt.title('Accuracy')\n",
        "plt.grid(True)\n",
        "plt.xlabel('epoch')\n",
        "plt.ylabel('accuracy')\n",
        "plt.legend(loc='best')\n",
        "plt.show()"
      ],
      "execution_count": 0,
      "outputs": [
        {
          "output_type": "display_data",
          "data": {
            "image/png": "[encoded data removed]",
            "text/plain": [
              "<Figure size 360x216 with 1 Axes>"
            ]
          },
          "metadata": {
            "tags": []
          }
        },
        {
          "output_type": "display_data",
          "data": {
            "image/png": "[encoded data removed]",
            "text/plain": [
              "<Figure size 360x216 with 1 Axes>"
            ]
          },
          "metadata": {
            "tags": []
          }
        }
      ]
    },
    {
      "cell_type": "code",
      "metadata": {
        "id": "qNZDLNEfNPjO",
        "colab_type": "code",
        "colab": {}
      },
      "source": [
        "# create model\n",
        "model = KerasClassifier(build_fn=RNN, epochs=10, batch_size=100, verbose=0)"
      ],
      "execution_count": 0,
      "outputs": []
    },
    {
      "cell_type": "code",
      "metadata": {
        "id": "BiWHqlGMNSe9",
        "colab_type": "code",
        "outputId": "24e3996d-893a-4976-ff11-46be7c51daba",
        "colab": {
          "base_uri": "https://localhost:8080/",
          "height": 143
        }
      },
      "source": [
        "optimizer = ['SGD', 'RMSprop', 'Adagrad', 'Adadelta', 'Adam', 'Adamax', 'Nadam']\n",
        "param_grid = dict(optimizer=optimizer)\n",
        "grid = GridSearchCV(estimator=model, param_grid=param_grid, n_jobs=-1, cv=10, verbose=True, return_train_score=True)\n",
        "grid_result = grid.fit(x, y)"
      ],
      "execution_count": 0,
      "outputs": [
        {
          "output_type": "stream",
          "text": [
            "Fitting 10 folds for each of 7 candidates, totalling 70 fits\n"
          ],
          "name": "stdout"
        },
        {
          "output_type": "stream",
          "text": [
            "[Parallel(n_jobs=-1)]: Using backend LokyBackend with 2 concurrent workers.\n",
            "/usr/local/lib/python3.6/dist-packages/joblib/externals/loky/process_executor.py:706: UserWarning: A worker stopped while some jobs were given to the executor. This can be caused by a too short worker timeout or by a memory leak.\n",
            "  \"timeout or by a memory leak.\", UserWarning\n",
            "[Parallel(n_jobs=-1)]: Done  46 tasks      | elapsed: 105.9min\n",
            "[Parallel(n_jobs=-1)]: Done  70 out of  70 | elapsed: 160.8min finished\n"
          ],
          "name": "stderr"
        }
      ]
    },
    {
      "cell_type": "code",
      "metadata": {
        "id": "JIZYv9ZlNWGm",
        "colab_type": "code",
        "outputId": "779a2ba7-a50c-493a-e4a4-0ce0e3e502c0",
        "colab": {
          "base_uri": "https://localhost:8080/",
          "height": 196
        }
      },
      "source": [
        "df = pd.DataFrame(grid_result.cv_results_)\n",
        "df.to_csv('resultado_LSTM_Multi_Domain_Sentiment.csv')\n",
        "print(df.to_csv())"
      ],
      "execution_count": 0,
      "outputs": [
        {
          "output_type": "stream",
          "text": [
            ",mean_fit_time,std_fit_time,mean_score_time,std_score_time,param_optimizer,params,split0_test_score,split1_test_score,split2_test_score,split3_test_score,split4_test_score,split5_test_score,split6_test_score,split7_test_score,split8_test_score,split9_test_score,mean_test_score,std_test_score,rank_test_score,split0_train_score,split1_train_score,split2_train_score,split3_train_score,split4_train_score,split5_train_score,split6_train_score,split7_train_score,split8_train_score,split9_train_score,mean_train_score,std_train_score\n",
            "0,261.15370030403136,1.5957300460491313,1.5043669939041138,0.15221564833934736,SGD,{'optimizer': 'SGD'},0.4987499937415123,0.5062499940395355,0.5699999965727329,0.5287499949336052,0.5237499959766865,0.5387499891221523,0.5299999974668026,0.5149999931454659,0.53999999538064,0.544999998062849,0.5296249948441982,0.0195100141956819,7,0.5052777777115504,0.5208333296080431,0.5463888864550326,0.5269444382025136,0.5415277717014154,0.5252777743670676,0.5216666650440958,0.52166666297449,0.5480555511183209,0.5299999966389604,0.5287638853821489,0.012561644890644201\n",
            "1,263.7578980922699,2.941844893307332,1.5349262475967407,0.15174470354214625,RMSprop,{'optimizer': 'RMSprop'},0.5437499955296516,0.5624999888241291,0.5724999941885471,0.5737499967217445,0.5687499903142452,0.5487499907612801,0.5812500044703484,0.5462499931454659,0.588749997317791,0.5849999934434891,0.5671249944716692,0.015502521816025157,4,0.5652777763704459,0.572499996672074,0.5763888880610466,0.5745833300881915,0.5968055542972353,0.558749995711777,0.5684722219076421,0.5813888861901231,0.5987499973012341,0.5830555545787016,0.5775972201178472,0.012195686417451675\n",
            "2,265.6253339767456,1.7113419820758842,1.5393314838409424,0.11269199774266044,Adagrad,{'optimizer': 'Adagrad'},0.5537500008940697,0.5787499845027924,0.6024999916553497,0.5424999967217445,0.5662500001490116,0.5812499970197678,0.5687499865889549,0.544999998062849,0.5825000032782555,0.5549999959766865,0.5676249954849482,0.018014315524179373,3,0.5784722144405047,0.5730555533534951,0.5838888879451487,0.5590277765360143,0.5798611065579785,0.5862499926653173,0.5779166635539796,0.5861111092898581,0.577777776039309,0.5529166633884112,0.5755277743770016,0.01060529161663158\n",
            "3,265.80062119960786,2.499247725020324,1.6103762865066529,0.1435674534360678,Adadelta,{'optimizer': 'Adadelta'},0.5637499950826168,0.588749997317791,0.5887499898672104,0.598750002682209,0.5512499958276749,0.5774999968707561,0.5637499988079071,0.5687500089406967,0.5762499868869781,0.5700000002980232,0.5747499972581863,0.013530058882963832,1,0.6005555540323257,0.5786111077500714,0.5730555500421259,0.5926388878789213,0.5624999954468675,0.5766666643321514,0.5790277769168218,0.5851388834416866,0.5769444435007043,0.5698611094719834,0.5794999972813659,0.010424849262934835\n",
            "4,260.0344494104385,1.1244251859390064,1.474505639076233,0.1520285458616323,Adam,{'optimizer': 'Adam'},0.5449999943375587,0.5712499991059303,0.5724999979138374,0.5337500050663948,0.5612499974668026,0.5700000002980232,0.5625,0.5524999983608723,0.561249990016222,0.6137500032782555,0.5643749985843897,0.02014983016591045,5,0.5704166644977199,0.5729166641831398,0.5744444409178363,0.5605555545124743,0.59666666512688,0.5820833328697417,0.572222219987048,0.588750000215239,0.563333330468999,0.590555558188094,0.5771944430967173,0.011316471257476729\n",
            "5,260.9745385169983,2.404801383241513,1.49054057598114,0.17093225954209776,Adamax,{'optimizer': 'Adamax'},0.5274999961256981,0.5624999925494194,0.566249992698431,0.5662499964237213,0.513749998062849,0.5537500008940697,0.5849999934434891,0.5612500049173832,0.5562499910593033,0.5949999913573265,0.5587499957531691,0.022734883520659655,6,0.5620833337306976,0.5718055557873514,0.5718055566151937,0.5783333294093609,0.5627777750293413,0.5699999940892061,0.5781944439642959,0.577083331429296,0.5618055537343025,0.5934722216592895,0.5727361095448334,0.009226875227374361\n",
            "6,264.8088785171509,2.268539827018628,1.5420477151870728,0.1990175574466641,Nadam,{'optimizer': 'Nadam'},0.5474999994039536,0.5762499868869781,0.5787500031292439,0.5512499921023846,0.5512499921023846,0.6062499955296516,0.5625,0.5462499931454659,0.5674999952316284,0.5962500125169754,0.5683749970048666,0.019819894916785135,2,0.5733333304524422,0.5754166642824808,0.5676388864715894,0.570277776569128,0.582499996241596,0.6004166681733396,0.5598611074189345,0.5779166635539796,0.5643055538336436,0.5815277749465572,0.5753194421943691,0.010841352931911227\n",
            "\n"
          ],
          "name": "stdout"
        }
      ]
    },
    {
      "cell_type": "code",
      "metadata": {
        "id": "6MkC7gL4NWxy",
        "colab_type": "code",
        "outputId": "99243e26-6d14-45f2-f573-2ec734a98c07",
        "colab": {
          "base_uri": "https://localhost:8080/",
          "height": 158
        }
      },
      "source": [
        "# summarize results\n",
        "print(\"Best: %f using %s\" % (grid_result.best_score_, grid_result.best_params_))\n",
        "means = grid_result.cv_results_['mean_test_score']\n",
        "stds = grid_result.cv_results_['std_test_score']\n",
        "params = grid_result.cv_results_['params']\n",
        "for mean, stdev, param in zip(means, stds, params):\n",
        "    print(\"%f (%f) with: %r\" % (mean, stdev, param))"
      ],
      "execution_count": 0,
      "outputs": [
        {
          "output_type": "stream",
          "text": [
            "Best: 0.574750 using {'optimizer': 'Adadelta'}\n",
            "0.529625 (0.019510) with: {'optimizer': 'SGD'}\n",
            "0.567125 (0.015503) with: {'optimizer': 'RMSprop'}\n",
            "0.567625 (0.018014) with: {'optimizer': 'Adagrad'}\n",
            "0.574750 (0.013530) with: {'optimizer': 'Adadelta'}\n",
            "0.564375 (0.020150) with: {'optimizer': 'Adam'}\n",
            "0.558750 (0.022735) with: {'optimizer': 'Adamax'}\n",
            "0.568375 (0.019820) with: {'optimizer': 'Nadam'}\n"
          ],
          "name": "stdout"
        }
      ]
    }
  ]
}