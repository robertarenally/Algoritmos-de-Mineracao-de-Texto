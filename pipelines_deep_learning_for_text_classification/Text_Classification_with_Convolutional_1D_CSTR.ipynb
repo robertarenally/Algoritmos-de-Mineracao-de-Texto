{
  "nbformat": 4,
  "nbformat_minor": 0,
  "metadata": {
    "colab": {
      "name": "Text_Classification_With_keras_in_CSTR.ipynb",
      "provenance": [],
      "collapsed_sections": [],
      "toc_visible": true
    },
    "kernelspec": {
      "name": "python3",
      "display_name": "Python 3"
    },
    "accelerator": "GPU"
  },
  "cells": [
    {
      "cell_type": "markdown",
      "metadata": {
        "id": "ldA3aHDrUsRv",
        "colab_type": "text"
      },
      "source": [
        "https://www.kaggle.com/carlosaguayo/deep-learning-for-text-classification/data"
      ]
    },
    {
      "cell_type": "code",
      "metadata": {
        "id": "moTddmhpUr3X",
        "colab_type": "code",
        "outputId": "4e4fab89-4512-4c95-b204-8ab547827776",
        "colab": {
          "base_uri": "https://localhost:8080/",
          "height": 34
        }
      },
      "source": [
        "import os\n",
        "import pandas as pd\n",
        "import numpy as np\n",
        "import matplotlib.pyplot as plt \n",
        "from keras.layers import Activation, Conv1D, Dense, Embedding, Flatten, Input, MaxPooling1D\n",
        "from keras.models import Sequential\n",
        "from keras.preprocessing.text import Tokenizer\n",
        "from keras.preprocessing.sequence import pad_sequences\n",
        "from sklearn.datasets.base import get_data_home\n",
        "from keras.metrics import categorical_accuracy\n",
        "from keras.utils import to_categorical\n",
        "from keras.wrappers.scikit_learn import KerasClassifier\n",
        "from sklearn.datasets import load_files \n",
        "from sklearn.model_selection import GridSearchCV\n",
        "from sklearn.model_selection import train_test_split "
      ],
      "execution_count": 0,
      "outputs": [
        {
          "output_type": "stream",
          "text": [
            "Using TensorFlow backend.\n"
          ],
          "name": "stderr"
        }
      ]
    },
    {
      "cell_type": "code",
      "metadata": {
        "id": "EfSKrcqxU_O4",
        "colab_type": "code",
        "colab": {}
      },
      "source": [
        "# Code to read csv file into Colaboratory:\n",
        "!pip install -U -q PyDrive\n",
        "from pydrive.auth import GoogleAuth\n",
        "from pydrive.drive import GoogleDrive\n",
        "from google.colab import auth\n",
        "from oauth2client.client import GoogleCredentials\n",
        "# Authenticate and create the PyDrive client.\n",
        "auth.authenticate_user()\n",
        "gauth = GoogleAuth()\n",
        "gauth.credentials = GoogleCredentials.get_application_default()\n",
        "drive = GoogleDrive(gauth)"
      ],
      "execution_count": 0,
      "outputs": []
    },
    {
      "cell_type": "code",
      "metadata": {
        "id": "OCuP-GjPVN8y",
        "colab_type": "code",
        "outputId": "d93935aa-ad5e-4812-c304-fa686a74ad47",
        "colab": {
          "base_uri": "https://localhost:8080/",
          "height": 34
        }
      },
      "source": [
        "link = 'https://drive.google.com/open?id=1yJowqXD4pKrx7YF10nwfWIhAiu9ovlZC'\n",
        "fluff, id = link.split('=')\n",
        "print (id) # Verify that you have everything after '='"
      ],
      "execution_count": 0,
      "outputs": [
        {
          "output_type": "stream",
          "text": [
            "1yJowqXD4pKrx7YF10nwfWIhAiu9ovlZC\n"
          ],
          "name": "stdout"
        }
      ]
    },
    {
      "cell_type": "code",
      "metadata": {
        "id": "eiYznrw-VVmM",
        "colab_type": "code",
        "colab": {}
      },
      "source": [
        "#Carregando a base de dados\n",
        "downloaded = drive.CreateFile({'id':id}) \n",
        "downloaded.GetContentFile('CSTR.csv')  \n",
        "df3 = pd.read_csv('CSTR.csv')"
      ],
      "execution_count": 0,
      "outputs": []
    },
    {
      "cell_type": "code",
      "metadata": {
        "id": "DUcZSuedWJZV",
        "colab_type": "code",
        "outputId": "aa3bdd9f-371b-4509-a4fd-6fbd54dc4c5d",
        "colab": {
          "base_uri": "https://localhost:8080/",
          "height": 34
        }
      },
      "source": [
        "print(len(df3.data))"
      ],
      "execution_count": 0,
      "outputs": [
        {
          "output_type": "stream",
          "text": [
            "299\n"
          ],
          "name": "stdout"
        }
      ]
    },
    {
      "cell_type": "code",
      "metadata": {
        "id": "MPng-ALNVz0B",
        "colab_type": "code",
        "colab": {}
      },
      "source": [
        "#Definindo constantes\n",
        "max_length = 100\n",
        "num_labels = 4\n",
        "vocab_size = 500\n",
        "batch_size = [100]\n",
        "epochs = [10]"
      ],
      "execution_count": 0,
      "outputs": []
    },
    {
      "cell_type": "markdown",
      "metadata": {
        "id": "0QG0HAxqWwFm",
        "colab_type": "text"
      },
      "source": [
        "# Pré-processamento do Texto\n",
        "\n",
        "É necessário tokenizar o texto antes de podermos alimentá-lo em uma rede neural. Esse processo de tokenização também removerá alguns dos recursos do texto original, como todas as pontuações ou palavras menos comuns."
      ]
    },
    {
      "cell_type": "code",
      "metadata": {
        "id": "4DP5lXIFWdfz",
        "colab_type": "code",
        "colab": {}
      },
      "source": [
        "# Extract text\n",
        "tokenizer = Tokenizer(num_words=vocab_size) # Setup tokenizer\n",
        "tokenizer.fit_on_texts(df3.data)\n",
        "sequences = tokenizer.texts_to_sequences(df3.data) # Generate sequences\n",
        "x = pad_sequences(sequences, maxlen=max_length)\n",
        "# Extract target\n",
        "y = to_categorical(df3.target, num_labels)"
      ],
      "execution_count": 0,
      "outputs": []
    },
    {
      "cell_type": "code",
      "metadata": {
        "id": "CZyAOf60W7dt",
        "colab_type": "code",
        "outputId": "3a472ed2-f840-4933-d4a4-3d732ba14f34",
        "colab": {
          "base_uri": "https://localhost:8080/",
          "height": 51
        }
      },
      "source": [
        "print('Shape of data:', x.shape)\n",
        "print('Shape of labels:', y.shape)"
      ],
      "execution_count": 0,
      "outputs": [
        {
          "output_type": "stream",
          "text": [
            "Shape of data: (299, 100)\n",
            "Shape of labels: (299, 4)\n"
          ],
          "name": "stdout"
        }
      ]
    },
    {
      "cell_type": "markdown",
      "metadata": {
        "id": "I1KJmf6lXDXG",
        "colab_type": "text"
      },
      "source": [
        "# Dividindo o dataset em treinamento e teste"
      ]
    },
    {
      "cell_type": "code",
      "metadata": {
        "id": "AG0h4vZeXQvH",
        "colab_type": "code",
        "colab": {}
      },
      "source": [
        "#this script divides data into 20% test set and 80% training set.\n",
        "X_train, X_test, y_train, y_test = train_test_split(x, y, test_size=0.2, random_state=0) "
      ],
      "execution_count": 0,
      "outputs": []
    },
    {
      "cell_type": "markdown",
      "metadata": {
        "id": "HxzqltLrZcnu",
        "colab_type": "text"
      },
      "source": [
        "# Carregando Vetores globais para representação de palavras (Glove)\n",
        "\n",
        "O GloVe é um algoritmo de aprendizado não supervisionado para obter representações vetoriais para palavras. O treinamento é realizado em estatísticas globais agregadas de co-ocorrência de palavra e palavra de um corpus, e as representações resultantes mostram subestruturas lineares interessantes do espaço vetorial de palavras.\n",
        "\n",
        "Este conjunto de dados contém vetores de palavras em inglês pré-treinados nos corpora combinado da Wikipedia 2014 + Gigaword 5th Edition (tokens 6B, vocabulário de 400K). Todos os tokens estão em minúsculas. Esse conjunto de dados contém vetores de palavras pré-treinados em 50, 100 e 200 dimensões."
      ]
    },
    {
      "cell_type": "markdown",
      "metadata": {
        "id": "WPeoe3oJaHfd",
        "colab_type": "text"
      },
      "source": [
        "# Reconhecimentos\n",
        "Esses dados foram liberados sob a Licença e Dedicação ao Domínio Público do Open Data Commons. Se você usar esse conjunto de dados em seu trabalho, cite o seguinte documento:\n",
        "\n",
        "Jeffrey Pennington, Richard Socher e Christopher D. Manning. 2014. GloVe: Vetores globais para representação de palavras. URL: https://nlp.stanford.edu/pubs/glove.pdf"
      ]
    },
    {
      "cell_type": "code",
      "metadata": {
        "id": "XBLo3MVuabyu",
        "colab_type": "code",
        "outputId": "758608ae-b73b-4bfe-c480-6cb0d387bbc5",
        "colab": {
          "base_uri": "https://localhost:8080/",
          "height": 34
        }
      },
      "source": [
        "link = 'https://drive.google.com/open?id=1erGe6LcwCDxpL9D8rRO7UYg0POVBvwX8'\n",
        "fluff, id = link.split('=')\n",
        "print (id) # Verify that you have everything after '='"
      ],
      "execution_count": 0,
      "outputs": [
        {
          "output_type": "stream",
          "text": [
            "1erGe6LcwCDxpL9D8rRO7UYg0POVBvwX8\n"
          ],
          "name": "stdout"
        }
      ]
    },
    {
      "cell_type": "code",
      "metadata": {
        "id": "MUyo3Mkeap1R",
        "colab_type": "code",
        "colab": {}
      },
      "source": [
        "downloaded = drive.CreateFile({'id':id}) \n",
        "downloaded.GetContentFile('glove.6B.100d.txt')  "
      ],
      "execution_count": 0,
      "outputs": []
    },
    {
      "cell_type": "code",
      "metadata": {
        "id": "abKUaCQYZEHb",
        "colab_type": "code",
        "outputId": "b14765ba-92ff-479d-86c9-a39cbd9964a9",
        "colab": {
          "base_uri": "https://localhost:8080/",
          "height": 34
        }
      },
      "source": [
        "embeddings_index = {} # We create a dictionary of word -> embedding\n",
        "\n",
        "with open(os.path.join('glove.6B.100d.txt')) as f:\n",
        "    for line in f:\n",
        "        values = line.split()\n",
        "        word = values[0] # The first value is the word, the rest are the values of the embedding\n",
        "        embedding = np.asarray(values[1:], dtype='float32') # Load embedding\n",
        "        embeddings_index[word] = embedding # Add embedding to our embedding dictionary\n",
        "\n",
        "print('Found {:,} word vectors in GloVe.'.format(len(embeddings_index)))"
      ],
      "execution_count": 0,
      "outputs": [
        {
          "output_type": "stream",
          "text": [
            "Found 400,000 word vectors in GloVe.\n"
          ],
          "name": "stdout"
        }
      ]
    },
    {
      "cell_type": "code",
      "metadata": {
        "id": "5oIK4iiTa79H",
        "colab_type": "code",
        "colab": {}
      },
      "source": [
        "embedding_dim = 100 # We use 100 dimensional glove vectors\n",
        "\n",
        "word_index = tokenizer.word_index\n",
        "nb_words = min(vocab_size, len(word_index)) # How many words are there actually\n",
        "\n",
        "embedding_matrix = np.zeros((nb_words, embedding_dim))\n",
        "\n",
        "# The vectors need to be in the same position as their index. \n",
        "# Meaning a word with token 1 needs to be in the second row (rows start with zero) and so on\n",
        "\n",
        "# Loop over all words in the word index\n",
        "for word, i in word_index.items():\n",
        "    # If we are above the amount of words we want to use we do nothing\n",
        "    if i >= vocab_size: \n",
        "        continue\n",
        "    # Get the embedding vector for the word\n",
        "    embedding_vector = embeddings_index.get(word)\n",
        "    # If there is an embedding vector, put it in the embedding matrix\n",
        "    if embedding_vector is not None: \n",
        "        embedding_matrix[i] = embedding_vector"
      ],
      "execution_count": 0,
      "outputs": []
    },
    {
      "cell_type": "code",
      "metadata": {
        "id": "7NEWWhh1a9xV",
        "colab_type": "code",
        "outputId": "4100eca6-8604-4514-e5c0-04c0415b9ac3",
        "colab": {
          "base_uri": "https://localhost:8080/",
          "height": 717
        }
      },
      "source": [
        "# create model\n",
        "model = Sequential()\n",
        "model.add(Embedding(vocab_size, \n",
        "                    embedding_dim, \n",
        "                    input_length=max_length, \n",
        "                    weights = [embedding_matrix], \n",
        "                    trainable = False))\n",
        "model.add(Conv1D(128, 3, activation='relu'))\n",
        "model.add(MaxPooling1D(3))\n",
        "model.add(Conv1D(128, 3, activation='relu'))\n",
        "model.add(MaxPooling1D(3))\n",
        "model.add(Conv1D(128, 3, activation='relu'))\n",
        "model.add(MaxPooling1D(3))\n",
        "model.add(Flatten())\n",
        "model.add(Dense(128, activation='relu'))\n",
        "model.add(Dense(num_labels, activation='softmax'))\n",
        "model.summary()"
      ],
      "execution_count": 0,
      "outputs": [
        {
          "output_type": "stream",
          "text": [
            "WARNING:tensorflow:From /usr/local/lib/python3.6/dist-packages/keras/backend/tensorflow_backend.py:66: The name tf.get_default_graph is deprecated. Please use tf.compat.v1.get_default_graph instead.\n",
            "\n",
            "WARNING:tensorflow:From /usr/local/lib/python3.6/dist-packages/keras/backend/tensorflow_backend.py:541: The name tf.placeholder is deprecated. Please use tf.compat.v1.placeholder instead.\n",
            "\n",
            "WARNING:tensorflow:From /usr/local/lib/python3.6/dist-packages/keras/backend/tensorflow_backend.py:4432: The name tf.random_uniform is deprecated. Please use tf.random.uniform instead.\n",
            "\n",
            "WARNING:tensorflow:From /usr/local/lib/python3.6/dist-packages/keras/backend/tensorflow_backend.py:190: The name tf.get_default_session is deprecated. Please use tf.compat.v1.get_default_session instead.\n",
            "\n",
            "WARNING:tensorflow:From /usr/local/lib/python3.6/dist-packages/keras/backend/tensorflow_backend.py:197: The name tf.ConfigProto is deprecated. Please use tf.compat.v1.ConfigProto instead.\n",
            "\n",
            "WARNING:tensorflow:From /usr/local/lib/python3.6/dist-packages/keras/backend/tensorflow_backend.py:4267: The name tf.nn.max_pool is deprecated. Please use tf.nn.max_pool2d instead.\n",
            "\n",
            "Model: \"sequential_1\"\n",
            "_________________________________________________________________\n",
            "Layer (type)                 Output Shape              Param #   \n",
            "=================================================================\n",
            "embedding_1 (Embedding)      (None, 100, 100)          50000     \n",
            "_________________________________________________________________\n",
            "conv1d_1 (Conv1D)            (None, 98, 128)           38528     \n",
            "_________________________________________________________________\n",
            "max_pooling1d_1 (MaxPooling1 (None, 32, 128)           0         \n",
            "_________________________________________________________________\n",
            "conv1d_2 (Conv1D)            (None, 30, 128)           49280     \n",
            "_________________________________________________________________\n",
            "max_pooling1d_2 (MaxPooling1 (None, 10, 128)           0         \n",
            "_________________________________________________________________\n",
            "conv1d_3 (Conv1D)            (None, 8, 128)            49280     \n",
            "_________________________________________________________________\n",
            "max_pooling1d_3 (MaxPooling1 (None, 2, 128)            0         \n",
            "_________________________________________________________________\n",
            "flatten_1 (Flatten)          (None, 256)               0         \n",
            "_________________________________________________________________\n",
            "dense_1 (Dense)              (None, 128)               32896     \n",
            "_________________________________________________________________\n",
            "dense_2 (Dense)              (None, 4)                 516       \n",
            "=================================================================\n",
            "Total params: 220,500\n",
            "Trainable params: 170,500\n",
            "Non-trainable params: 50,000\n",
            "_________________________________________________________________\n"
          ],
          "name": "stdout"
        }
      ]
    },
    {
      "cell_type": "code",
      "metadata": {
        "id": "hnbw3qr_bItQ",
        "colab_type": "code",
        "outputId": "1075fa9b-810b-4b91-9d41-b054d6888cbb",
        "colab": {
          "base_uri": "https://localhost:8080/",
          "height": 479
        }
      },
      "source": [
        "#model.compile(loss='binary_crossentropy', optimizer='adam', metrics=[categorical_accuracy])\n",
        "model.compile(loss='categorical_crossentropy', optimizer='adam', metrics=['accuracy'])\n",
        "history = model.fit(X_train, y_train, validation_data=(X_test, y_test), epochs=10)"
      ],
      "execution_count": 0,
      "outputs": [
        {
          "output_type": "stream",
          "text": [
            "WARNING:tensorflow:From /usr/local/lib/python3.6/dist-packages/keras/optimizers.py:793: The name tf.train.Optimizer is deprecated. Please use tf.compat.v1.train.Optimizer instead.\n",
            "\n",
            "WARNING:tensorflow:From /usr/local/lib/python3.6/dist-packages/tensorflow/python/ops/math_grad.py:1250: add_dispatch_support.<locals>.wrapper (from tensorflow.python.ops.array_ops) is deprecated and will be removed in a future version.\n",
            "Instructions for updating:\n",
            "Use tf.where in 2.0, which has the same broadcast rule as np.where\n",
            "Train on 239 samples, validate on 60 samples\n",
            "Epoch 1/10\n",
            "239/239 [==============================] - 4s 17ms/step - loss: 1.3405 - acc: 0.3515 - val_loss: 1.3361 - val_acc: 0.3000\n",
            "Epoch 2/10\n",
            "239/239 [==============================] - 0s 336us/step - loss: 1.1688 - acc: 0.5021 - val_loss: 1.3201 - val_acc: 0.3000\n",
            "Epoch 3/10\n",
            "239/239 [==============================] - 0s 316us/step - loss: 1.1332 - acc: 0.4937 - val_loss: 1.2640 - val_acc: 0.3333\n",
            "Epoch 4/10\n",
            "239/239 [==============================] - 0s 294us/step - loss: 1.0378 - acc: 0.6234 - val_loss: 1.2569 - val_acc: 0.3333\n",
            "Epoch 5/10\n",
            "239/239 [==============================] - 0s 289us/step - loss: 0.9450 - acc: 0.6234 - val_loss: 1.2532 - val_acc: 0.3833\n",
            "Epoch 6/10\n",
            "239/239 [==============================] - 0s 285us/step - loss: 0.8910 - acc: 0.6151 - val_loss: 1.2314 - val_acc: 0.4167\n",
            "Epoch 7/10\n",
            "239/239 [==============================] - 0s 285us/step - loss: 0.6957 - acc: 0.7950 - val_loss: 1.1082 - val_acc: 0.5167\n",
            "Epoch 8/10\n",
            "239/239 [==============================] - 0s 288us/step - loss: 0.5673 - acc: 0.8159 - val_loss: 1.0671 - val_acc: 0.5000\n",
            "Epoch 9/10\n",
            "239/239 [==============================] - 0s 321us/step - loss: 0.4666 - acc: 0.8452 - val_loss: 1.0278 - val_acc: 0.5500\n",
            "Epoch 10/10\n",
            "239/239 [==============================] - 0s 311us/step - loss: 0.3376 - acc: 0.9038 - val_loss: 1.0128 - val_acc: 0.5667\n"
          ],
          "name": "stdout"
        }
      ]
    },
    {
      "cell_type": "markdown",
      "metadata": {
        "id": "vsufnkYRbT4C",
        "colab_type": "text"
      },
      "source": [
        "# Plotando os gráficos dos resultados"
      ]
    },
    {
      "cell_type": "code",
      "metadata": {
        "id": "s_-2CpDebQ_J",
        "colab_type": "code",
        "outputId": "9fc8516d-a1fa-4812-bcd1-58ef59f8e29f",
        "colab": {
          "base_uri": "https://localhost:8080/",
          "height": 465
        }
      },
      "source": [
        "plt.figure(figsize =(5,3))\n",
        "plt.plot(history.history['loss'], marker='.', label='train')\n",
        "plt.plot(history.history['val_loss'], marker='.', label='test')\n",
        "plt.title('Loss')\n",
        "plt.grid(True)\n",
        "plt.xlabel('epoch')\n",
        "plt.ylabel('loss')\n",
        "plt.legend(loc='best')\n",
        "plt.show()\n",
        "\n",
        "plt.figure(figsize =(5,3))\n",
        "plt.plot(history.history['acc'], marker='.', label='train')\n",
        "plt.plot(history.history['val_acc'], marker='.', label='test')\n",
        "plt.title('Accuracy')\n",
        "plt.grid(True)\n",
        "plt.xlabel('epoch')\n",
        "plt.ylabel('accuracy')\n",
        "plt.legend(loc='best')\n",
        "plt.show()"
      ],
      "execution_count": 0,
      "outputs": [
        {
          "output_type": "display_data",
          "data": {
            "image/png": "[encoded data removed]",
            "text/plain": [
              "<Figure size 360x216 with 1 Axes>"
            ]
          },
          "metadata": {
            "tags": []
          }
        },
        {
          "output_type": "display_data",
          "data": {
            "image/png": "[encoded data removed]",
            "text/plain": [
              "<Figure size 360x216 with 1 Axes>"
            ]
          },
          "metadata": {
            "tags": []
          }
        }
      ]
    },
    {
      "cell_type": "markdown",
      "metadata": {
        "id": "A-n-9_Mdbiuz",
        "colab_type": "text"
      },
      "source": [
        "# Keras with GridSearchCV"
      ]
    },
    {
      "cell_type": "code",
      "metadata": {
        "id": "oKebZJE9bn-g",
        "colab_type": "code",
        "colab": {}
      },
      "source": [
        "def create_model(optimizer='adam'):\n",
        "    model = Sequential()\n",
        "    model.add(Embedding(vocab_size, embedding_dim, input_length=max_length, \n",
        "                        weights = [embedding_matrix], \n",
        "                        trainable = False))\n",
        "    model.add(Conv1D(128, 3, activation='relu'))\n",
        "    model.add(MaxPooling1D(3))\n",
        "    model.add(Conv1D(128, 3, activation='relu'))\n",
        "    model.add(MaxPooling1D(3))\n",
        "    model.add(Conv1D(128, 3, activation='relu'))\n",
        "    model.add(MaxPooling1D(3))\n",
        "    model.add(Flatten())\n",
        "    model.add(Dense(128, activation='relu'))\n",
        "    model.add(Dense(num_labels, activation='softmax'))\n",
        "    # Compile model\n",
        "    model.compile(loss='binary_crossentropy', optimizer=optimizer, metrics=['accuracy'])\n",
        "    return model"
      ],
      "execution_count": 0,
      "outputs": []
    },
    {
      "cell_type": "code",
      "metadata": {
        "id": "zydNDeUhbtul",
        "colab_type": "code",
        "colab": {}
      },
      "source": [
        "# create model\n",
        "model = KerasClassifier(build_fn=create_model, epochs=10, batch_size=100, verbose=0)"
      ],
      "execution_count": 0,
      "outputs": []
    },
    {
      "cell_type": "code",
      "metadata": {
        "id": "pKjqUnQdbxE3",
        "colab_type": "code",
        "outputId": "25ff4fba-0fa1-442b-dced-f64309abd3ae",
        "colab": {
          "base_uri": "https://localhost:8080/",
          "height": 139
        }
      },
      "source": [
        "optimizer = ['SGD', 'RMSprop', 'Adagrad', 'Adadelta', 'Adam', 'Adamax', 'Nadam']\n",
        "param_grid = dict(optimizer=optimizer)\n",
        "grid = GridSearchCV(estimator=model, param_grid=param_grid, n_jobs=-1, cv=10, verbose=True,return_train_score=True)\n",
        "grid_result = grid.fit(x, y)"
      ],
      "execution_count": 0,
      "outputs": [
        {
          "output_type": "stream",
          "text": [
            "Fitting 10 folds for each of 7 candidates, totalling 70 fits\n"
          ],
          "name": "stdout"
        },
        {
          "output_type": "stream",
          "text": [
            "[Parallel(n_jobs=-1)]: Using backend LokyBackend with 2 concurrent workers.\n",
            "/usr/local/lib/python3.6/dist-packages/joblib/externals/loky/process_executor.py:706: UserWarning: A worker stopped while some jobs were given to the executor. This can be caused by a too short worker timeout or by a memory leak.\n",
            "  \"timeout or by a memory leak.\", UserWarning\n",
            "[Parallel(n_jobs=-1)]: Done  46 tasks      | elapsed:  1.5min\n",
            "[Parallel(n_jobs=-1)]: Done  70 out of  70 | elapsed:  2.4min finished\n"
          ],
          "name": "stderr"
        }
      ]
    },
    {
      "cell_type": "code",
      "metadata": {
        "id": "j6Kh4Roxc96Z",
        "colab_type": "code",
        "outputId": "6db215fd-e314-4e2f-98c9-bd68e4a8deb9",
        "colab": {
          "base_uri": "https://localhost:8080/",
          "height": 190
        }
      },
      "source": [
        "df = pd.DataFrame(grid_result.cv_results_)\n",
        "df.to_csv('resultado_deep_learning_cstr.csv')\n",
        "print(df.to_csv())"
      ],
      "execution_count": 0,
      "outputs": [
        {
          "output_type": "stream",
          "text": [
            ",mean_fit_time,std_fit_time,mean_score_time,std_score_time,param_optimizer,params,split0_test_score,split1_test_score,split2_test_score,split3_test_score,split4_test_score,split5_test_score,split6_test_score,split7_test_score,split8_test_score,split9_test_score,mean_test_score,std_test_score,rank_test_score,split0_train_score,split1_train_score,split2_train_score,split3_train_score,split4_train_score,split5_train_score,split6_train_score,split7_train_score,split8_train_score,split9_train_score,mean_train_score,std_train_score\n",
            "0,2.6095338106155395,1.0224894668448825,0.18221580982208252,0.053152641724055295,SGD,{'optimizer': 'SGD'},0.75,0.75,0.75,0.75,0.75,0.75,0.75,0.75,0.75,0.75,0.75,0.0,5,0.75,0.75,0.75,0.75,0.7490706328565746,0.75,0.75,0.75,0.75,0.75,0.7499070632856575,0.0002788101430276191\n",
            "1,3.0724731206893923,0.31291326508148404,0.34230449199676516,0.061169677605376754,RMSprop,{'optimizer': 'RMSprop'},0.6916666626930237,0.7416666746139526,0.7749999761581421,0.7749999761581421,0.6916666626930237,0.7583333253860474,0.7749999761581421,0.7333333492279053,0.7666666507720947,0.7586206793785095,0.7466555094240501,0.03060485832198227,6,0.7174721406738112,0.8150557556560049,0.8085501863167631,0.8308550024121224,0.6858736074990056,0.7955390423203933,0.8373605945739604,0.8420074296263514,0.8550185937863743,0.8231481468236005,0.8010880499688386,0.05274360228400511\n",
            "2,2.6650323390960695,1.021595896203615,0.18695440292358398,0.05351714968047866,Adagrad,{'optimizer': 'Adagrad'},0.75,0.7583333253860474,0.7666666507720947,0.7333333492279053,0.800000011920929,0.7583333253860474,0.7833333611488342,0.7166666388511658,0.7666666507720947,0.75,0.7583612020199115,0.022392845896881633,3,0.8327137608510411,0.8801115312540841,0.8141263891773153,0.8791821661048662,0.8085501889757064,0.8234200626057763,0.8633829186840128,0.8615241642335091,0.7760223048327137,0.8379629717932807,0.8376996458512306,0.03191414143994198\n",
            "3,3.8496039390563963,0.6593738087226563,0.3381620407104492,0.10726438109319529,Adadelta,{'optimizer': 'Adadelta'},0.75,0.7666666507720947,0.7666666507720947,0.7583333253860474,0.7166666388511658,0.7666666507720947,0.7333333492279053,0.7250000238418579,0.7916666865348816,0.7413793206214905,0.7516722394072491,0.021708188088050872,4,0.8178438577510168,0.7425650440184157,0.7834572466332673,0.7657992454266459,0.7946096765064395,0.8131970213691542,0.7908921817864627,0.8150557563207407,0.8085501849872915,0.8370370224670127,0.7969007237266447,0.026310014070921695\n",
            "4,2.9758158683776856,0.44331469312797256,0.25943291187286377,0.06455397059248741,Adam,{'optimizer': 'Adam'},0.75,0.7583333253860474,0.7416666746139526,0.7333333492279053,0.8333333134651184,0.7583333253860474,0.75,0.7333333492279053,0.8166666626930237,0.818965494632721,0.7692307670379562,0.036205342487947906,1,0.9070632025654874,0.8754646935427499,0.8475836559742357,0.8317843903839367,0.9442379177724561,0.8745353084514575,0.8466542640140066,0.8912639391909745,0.903345730668107,0.9231481618351407,0.8845081264398551,0.03424513490499966\n",
            "5,3.2216094970703124,0.9551355931452141,0.2788142442703247,0.13352280747791806,Adamax,{'optimizer': 'Adamax'},0.7583333253860474,0.7583333253860474,0.8083333373069763,0.7416666746139526,0.7749999761581421,0.75,0.7583333253860474,0.7416666746139526,0.7916666865348816,0.767241358757019,0.7650501644332274,0.020383307075411847,2,0.8671003872577142,0.8605947973116623,0.9061338327631188,0.8336431011834552,0.7918215757408993,0.8355018562986948,0.7983271437506694,0.8847583463644006,0.8559479622592713,0.7750000114794131,0.8408829014409298,0.04015662075024069\n",
            "6,3.5941553831100466,0.49082366948409184,0.3502852439880371,0.08327738826313366,Nadam,{'optimizer': 'Nadam'},0.7166666388511658,0.75,0.7416666746139526,0.7250000238418579,0.7666666507720947,0.7666666507720947,0.7666666507720947,0.7166666388511658,0.699999988079071,0.6896551847457886,0.7341137051981029,0.02697971059302412,7,0.9210037345336716,0.766728609911128,0.8782527943082902,0.8671003693098472,0.8559479427603541,0.7899628394598411,0.8178438590804884,0.7174721205101581,0.8336431240060516,0.6935185105712326,0.8141473904451063,0.06870494920943179\n",
            "\n"
          ],
          "name": "stdout"
        }
      ]
    },
    {
      "cell_type": "code",
      "metadata": {
        "id": "wckhV3iRRxjO",
        "colab_type": "code",
        "outputId": "d49d20f6-c656-4285-ae15-0b006dbf1177",
        "colab": {
          "base_uri": "https://localhost:8080/",
          "height": 153
        }
      },
      "source": [
        "# summarize results\n",
        "print(\"Best: %f using %s\" % (grid_result.best_score_, grid_result.best_params_))\n",
        "means = grid_result.cv_results_['mean_test_score']\n",
        "stds = grid_result.cv_results_['std_test_score']\n",
        "params = grid_result.cv_results_['params']\n",
        "for mean, stdev, param in zip(means, stds, params):\n",
        "    print(\"%f (%f) with: %r\" % (mean, stdev, param))"
      ],
      "execution_count": 0,
      "outputs": [
        {
          "output_type": "stream",
          "text": [
            "Best: 0.769231 using {'optimizer': 'Adam'}\n",
            "0.750000 (0.000000) with: {'optimizer': 'SGD'}\n",
            "0.746656 (0.030605) with: {'optimizer': 'RMSprop'}\n",
            "0.758361 (0.022393) with: {'optimizer': 'Adagrad'}\n",
            "0.751672 (0.021708) with: {'optimizer': 'Adadelta'}\n",
            "0.769231 (0.036205) with: {'optimizer': 'Adam'}\n",
            "0.765050 (0.020383) with: {'optimizer': 'Adamax'}\n",
            "0.734114 (0.026980) with: {'optimizer': 'Nadam'}\n"
          ],
          "name": "stdout"
        }
      ]
    }
  ]
}