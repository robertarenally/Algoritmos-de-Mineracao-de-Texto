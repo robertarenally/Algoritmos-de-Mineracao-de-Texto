{
  "nbformat": 4,
  "nbformat_minor": 0,
  "metadata": {
    "colab": {
      "name": "Text_Classification_With_keras_in_Irish_Ecnomic_Sentiment.ipynb",
      "provenance": [],
      "collapsed_sections": [],
      "toc_visible": true
    },
    "kernelspec": {
      "name": "python3",
      "display_name": "Python 3"
    }
  },
  "cells": [
    {
      "cell_type": "markdown",
      "metadata": {
        "id": "ldA3aHDrUsRv",
        "colab_type": "text"
      },
      "source": [
        "https://www.kaggle.com/carlosaguayo/deep-learning-for-text-classification/data"
      ]
    },
    {
      "cell_type": "code",
      "metadata": {
        "id": "ank2nZuHdpMG",
        "colab_type": "code",
        "outputId": "6e5c905c-58f7-473d-f098-e072e0626355",
        "colab": {
          "base_uri": "https://localhost:8080/",
          "height": 34
        }
      },
      "source": [
        "import os\n",
        "import pandas as pd\n",
        "import numpy as np\n",
        "import matplotlib.pyplot as plt \n",
        "from keras.layers import Activation, Conv1D, Dense, Embedding, Flatten, Input, MaxPooling1D\n",
        "from keras.models import Sequential\n",
        "from keras.preprocessing.text import Tokenizer\n",
        "from keras.preprocessing.sequence import pad_sequences\n",
        "from sklearn.datasets.base import get_data_home\n",
        "from keras.metrics import categorical_accuracy\n",
        "from keras.utils import to_categorical\n",
        "from keras.wrappers.scikit_learn import KerasClassifier \n",
        "from sklearn.model_selection import GridSearchCV\n",
        "from sklearn.model_selection import train_test_split  "
      ],
      "execution_count": 1,
      "outputs": [
        {
          "output_type": "stream",
          "text": [
            "Using TensorFlow backend.\n"
          ],
          "name": "stderr"
        }
      ]
    },
    {
      "cell_type": "code",
      "metadata": {
        "id": "EfSKrcqxU_O4",
        "colab_type": "code",
        "colab": {}
      },
      "source": [
        "# Code to read csv file into Colaboratory:\n",
        "!pip install -U -q PyDrive\n",
        "from pydrive.auth import GoogleAuth\n",
        "from pydrive.drive import GoogleDrive\n",
        "from google.colab import auth\n",
        "from oauth2client.client import GoogleCredentials\n",
        "# Authenticate and create the PyDrive client.\n",
        "auth.authenticate_user()\n",
        "gauth = GoogleAuth()\n",
        "gauth.credentials = GoogleCredentials.get_application_default()\n",
        "drive = GoogleDrive(gauth)"
      ],
      "execution_count": 0,
      "outputs": []
    },
    {
      "cell_type": "code",
      "metadata": {
        "id": "31L6A7YgeQmM",
        "colab_type": "code",
        "outputId": "67096b61-4a98-4d9f-aa68-9723210beefc",
        "colab": {
          "base_uri": "https://localhost:8080/",
          "height": 34
        }
      },
      "source": [
        "link = 'https://drive.google.com/open?id=1g2OMgOZkb4jUJScoTiN_B4zBH6et8-vP'\n",
        "fluff, id = link.split('=')\n",
        "print (id) # Verify that you have everything after '='"
      ],
      "execution_count": 3,
      "outputs": [
        {
          "output_type": "stream",
          "text": [
            "1g2OMgOZkb4jUJScoTiN_B4zBH6et8-vP\n"
          ],
          "name": "stdout"
        }
      ]
    },
    {
      "cell_type": "code",
      "metadata": {
        "id": "dw0gDb_6eX5o",
        "colab_type": "code",
        "colab": {}
      },
      "source": [
        "#Carregando a base de dados\n",
        "downloaded = drive.CreateFile({'id':id}) \n",
        "downloaded.GetContentFile('Irish_Economic_Sentiment.csv')  \n",
        "df3 = pd.read_csv('Irish_Economic_Sentiment.csv')"
      ],
      "execution_count": 0,
      "outputs": []
    },
    {
      "cell_type": "code",
      "metadata": {
        "id": "HECYm33tefBP",
        "colab_type": "code",
        "outputId": "252f500b-24e7-4d3c-d0a3-e6932fff82e2",
        "colab": {
          "base_uri": "https://localhost:8080/",
          "height": 34
        }
      },
      "source": [
        "print(len(df3.data))"
      ],
      "execution_count": 5,
      "outputs": [
        {
          "output_type": "stream",
          "text": [
            "1660\n"
          ],
          "name": "stdout"
        }
      ]
    },
    {
      "cell_type": "code",
      "metadata": {
        "id": "--GlQz8jek9H",
        "colab_type": "code",
        "colab": {}
      },
      "source": [
        "#Definindo constantes\n",
        "max_length = 100\n",
        "num_labels = 3\n",
        "vocab_size = 2000\n",
        "batch_size = [100]\n",
        "epochs = [10]"
      ],
      "execution_count": 0,
      "outputs": []
    },
    {
      "cell_type": "markdown",
      "metadata": {
        "id": "0QG0HAxqWwFm",
        "colab_type": "text"
      },
      "source": [
        "# Pré-processamento do Texto\n",
        "\n",
        "É necessário tokenizar o texto antes de podermos alimentá-lo em uma rede neural. Esse processo de tokenização também removerá alguns dos recursos do texto original, como todas as pontuações ou palavras menos comuns."
      ]
    },
    {
      "cell_type": "code",
      "metadata": {
        "id": "4mX3kQKbetIt",
        "colab_type": "code",
        "colab": {}
      },
      "source": [
        "# Extract text\n",
        "tokenizer = Tokenizer(num_words=vocab_size) # Setup tokenizer\n",
        "tokenizer.fit_on_texts(df3.data)\n",
        "sequences = tokenizer.texts_to_sequences(df3.data) # Generate sequences\n",
        "x = pad_sequences(sequences, maxlen=max_length)\n",
        "# Extract target\n",
        "y = to_categorical(df3.target, num_labels)"
      ],
      "execution_count": 0,
      "outputs": []
    },
    {
      "cell_type": "code",
      "metadata": {
        "id": "PSN915Ire0bE",
        "colab_type": "code",
        "outputId": "08e735f1-5592-4f53-c92a-65b528720702",
        "colab": {
          "base_uri": "https://localhost:8080/",
          "height": 51
        }
      },
      "source": [
        "print('Shape of data:', x.shape)\n",
        "print('Shape of labels:', y.shape)"
      ],
      "execution_count": 8,
      "outputs": [
        {
          "output_type": "stream",
          "text": [
            "Shape of data: (1660, 100)\n",
            "Shape of labels: (1660, 3)\n"
          ],
          "name": "stdout"
        }
      ]
    },
    {
      "cell_type": "markdown",
      "metadata": {
        "id": "I1KJmf6lXDXG",
        "colab_type": "text"
      },
      "source": [
        "# Dividindo o dataset em treinamento e teste"
      ]
    },
    {
      "cell_type": "code",
      "metadata": {
        "id": "qsvTeowVe5wH",
        "colab_type": "code",
        "colab": {}
      },
      "source": [
        "#this script divides data into 20% test set and 80% training set.\n",
        "X_train, X_test, y_train, y_test = train_test_split(x, y, test_size=0.2, random_state=0) "
      ],
      "execution_count": 0,
      "outputs": []
    },
    {
      "cell_type": "markdown",
      "metadata": {
        "id": "HxzqltLrZcnu",
        "colab_type": "text"
      },
      "source": [
        "# Carregando Vetores globais para representação de palavras (Glove)\n",
        "\n",
        "O GloVe é um algoritmo de aprendizado não supervisionado para obter representações vetoriais para palavras. O treinamento é realizado em estatísticas globais agregadas de co-ocorrência de palavra e palavra de um corpus, e as representações resultantes mostram subestruturas lineares interessantes do espaço vetorial de palavras.\n",
        "\n",
        "Este conjunto de dados contém vetores de palavras em inglês pré-treinados nos corpora combinado da Wikipedia 2014 + Gigaword 5th Edition (tokens 6B, vocabulário de 400K). Todos os tokens estão em minúsculas. Esse conjunto de dados contém vetores de palavras pré-treinados em 50, 100 e 200 dimensões."
      ]
    },
    {
      "cell_type": "markdown",
      "metadata": {
        "id": "WPeoe3oJaHfd",
        "colab_type": "text"
      },
      "source": [
        "# Reconhecimentos\n",
        "Esses dados foram liberados sob a Licença e Dedicação ao Domínio Público do Open Data Commons. Se você usar esse conjunto de dados em seu trabalho, cite o seguinte documento:\n",
        "\n",
        "Jeffrey Pennington, Richard Socher e Christopher D. Manning. 2014. GloVe: Vetores globais para representação de palavras. URL: https://nlp.stanford.edu/pubs/glove.pdf"
      ]
    },
    {
      "cell_type": "code",
      "metadata": {
        "id": "R8LnFUuGe9Uh",
        "colab_type": "code",
        "outputId": "61f83b9d-27c1-403c-db03-f7cb7b3e4811",
        "colab": {
          "base_uri": "https://localhost:8080/",
          "height": 34
        }
      },
      "source": [
        "link = 'https://drive.google.com/open?id=1erGe6LcwCDxpL9D8rRO7UYg0POVBvwX8'\n",
        "fluff, id = link.split('=')\n",
        "print (id) # Verify that you have everything after '='"
      ],
      "execution_count": 10,
      "outputs": [
        {
          "output_type": "stream",
          "text": [
            "1erGe6LcwCDxpL9D8rRO7UYg0POVBvwX8\n"
          ],
          "name": "stdout"
        }
      ]
    },
    {
      "cell_type": "code",
      "metadata": {
        "id": "-_uklgMyfIHG",
        "colab_type": "code",
        "colab": {}
      },
      "source": [
        "downloaded = drive.CreateFile({'id':id}) \n",
        "downloaded.GetContentFile('glove.6B.100d.txt')  "
      ],
      "execution_count": 0,
      "outputs": []
    },
    {
      "cell_type": "code",
      "metadata": {
        "id": "7SOc-G8sfMIr",
        "colab_type": "code",
        "outputId": "0dc04fa2-fa84-42c0-8367-0175105942ac",
        "colab": {
          "base_uri": "https://localhost:8080/",
          "height": 34
        }
      },
      "source": [
        "embeddings_index = {} # We create a dictionary of word -> embedding\n",
        "\n",
        "with open(os.path.join('glove.6B.100d.txt')) as f:\n",
        "    for line in f:\n",
        "        values = line.split()\n",
        "        word = values[0] # The first value is the word, the rest are the values of the embedding\n",
        "        embedding = np.asarray(values[1:], dtype='float32') # Load embedding\n",
        "        embeddings_index[word] = embedding # Add embedding to our embedding dictionary\n",
        "\n",
        "print('Found {:,} word vectors in GloVe.'.format(len(embeddings_index)))"
      ],
      "execution_count": 12,
      "outputs": [
        {
          "output_type": "stream",
          "text": [
            "Found 400,000 word vectors in GloVe.\n"
          ],
          "name": "stdout"
        }
      ]
    },
    {
      "cell_type": "code",
      "metadata": {
        "id": "4cO6QptWfP6O",
        "colab_type": "code",
        "colab": {}
      },
      "source": [
        "embedding_dim = 100 # We use 100 dimensional glove vectors\n",
        "\n",
        "word_index = tokenizer.word_index\n",
        "nb_words = min(vocab_size, len(word_index)) # How many words are there actually\n",
        "\n",
        "embedding_matrix = np.zeros((nb_words, embedding_dim))\n",
        "\n",
        "# The vectors need to be in the same position as their index. \n",
        "# Meaning a word with token 1 needs to be in the second row (rows start with zero) and so on\n",
        "\n",
        "# Loop over all words in the word index\n",
        "for word, i in word_index.items():\n",
        "    # If we are above the amount of words we want to use we do nothing\n",
        "    if i >= vocab_size: \n",
        "        continue\n",
        "    # Get the embedding vector for the word\n",
        "    embedding_vector = embeddings_index.get(word)\n",
        "    # If there is an embedding vector, put it in the embedding matrix\n",
        "    if embedding_vector is not None: \n",
        "        embedding_matrix[i] = embedding_vector"
      ],
      "execution_count": 0,
      "outputs": []
    },
    {
      "cell_type": "code",
      "metadata": {
        "id": "Ro7TZHa1fRrz",
        "colab_type": "code",
        "outputId": "287db801-7adc-411a-dfd7-2c72e6c6b454",
        "colab": {
          "base_uri": "https://localhost:8080/",
          "height": 581
        }
      },
      "source": [
        "# create model\n",
        "model = Sequential()\n",
        "model.add(Embedding(vocab_size, \n",
        "                    embedding_dim, \n",
        "                    input_length=max_length, \n",
        "                    weights = [embedding_matrix], \n",
        "                    trainable = False))\n",
        "model.add(Conv1D(128, 3, activation='relu'))\n",
        "model.add(MaxPooling1D(3))\n",
        "model.add(Conv1D(128, 3, activation='relu'))\n",
        "model.add(MaxPooling1D(3))\n",
        "model.add(Conv1D(128, 3, activation='relu'))\n",
        "model.add(MaxPooling1D(3))\n",
        "model.add(Flatten())\n",
        "model.add(Dense(128, activation='relu'))\n",
        "model.add(Dense(num_labels, activation='softmax'))\n",
        "model.summary()"
      ],
      "execution_count": 14,
      "outputs": [
        {
          "output_type": "stream",
          "text": [
            "WARNING:tensorflow:From /usr/local/lib/python3.6/dist-packages/keras/backend/tensorflow_backend.py:66: The name tf.get_default_graph is deprecated. Please use tf.compat.v1.get_default_graph instead.\n",
            "\n",
            "WARNING:tensorflow:From /usr/local/lib/python3.6/dist-packages/keras/backend/tensorflow_backend.py:4267: The name tf.nn.max_pool is deprecated. Please use tf.nn.max_pool2d instead.\n",
            "\n",
            "Model: \"sequential_1\"\n",
            "_________________________________________________________________\n",
            "Layer (type)                 Output Shape              Param #   \n",
            "=================================================================\n",
            "embedding_1 (Embedding)      (None, 100, 100)          200000    \n",
            "_________________________________________________________________\n",
            "conv1d_1 (Conv1D)            (None, 98, 128)           38528     \n",
            "_________________________________________________________________\n",
            "max_pooling1d_1 (MaxPooling1 (None, 32, 128)           0         \n",
            "_________________________________________________________________\n",
            "conv1d_2 (Conv1D)            (None, 30, 128)           49280     \n",
            "_________________________________________________________________\n",
            "max_pooling1d_2 (MaxPooling1 (None, 10, 128)           0         \n",
            "_________________________________________________________________\n",
            "conv1d_3 (Conv1D)            (None, 8, 128)            49280     \n",
            "_________________________________________________________________\n",
            "max_pooling1d_3 (MaxPooling1 (None, 2, 128)            0         \n",
            "_________________________________________________________________\n",
            "flatten_1 (Flatten)          (None, 256)               0         \n",
            "_________________________________________________________________\n",
            "dense_1 (Dense)              (None, 128)               32896     \n",
            "_________________________________________________________________\n",
            "dense_2 (Dense)              (None, 3)                 387       \n",
            "=================================================================\n",
            "Total params: 370,371\n",
            "Trainable params: 170,371\n",
            "Non-trainable params: 200,000\n",
            "_________________________________________________________________\n"
          ],
          "name": "stdout"
        }
      ]
    },
    {
      "cell_type": "code",
      "metadata": {
        "id": "Kjhq0bOyfavj",
        "colab_type": "code",
        "outputId": "90742da1-c9f0-4c8f-aaba-7aab81c3d540",
        "colab": {
          "base_uri": "https://localhost:8080/",
          "height": 479
        }
      },
      "source": [
        "#model.compile(loss='binary_crossentropy', optimizer='adam', metrics=[categorical_accuracy])\n",
        "model.compile(loss='categorical_crossentropy', optimizer='adam', metrics=['accuracy'])\n",
        "history = model.fit(X_train, y_train, validation_data=(X_test, y_test), epochs=10)"
      ],
      "execution_count": 15,
      "outputs": [
        {
          "output_type": "stream",
          "text": [
            "WARNING:tensorflow:From /usr/local/lib/python3.6/dist-packages/keras/optimizers.py:793: The name tf.train.Optimizer is deprecated. Please use tf.compat.v1.train.Optimizer instead.\n",
            "\n",
            "WARNING:tensorflow:From /usr/local/lib/python3.6/dist-packages/tensorflow_core/python/ops/math_grad.py:1424: where (from tensorflow.python.ops.array_ops) is deprecated and will be removed in a future version.\n",
            "Instructions for updating:\n",
            "Use tf.where in 2.0, which has the same broadcast rule as np.where\n",
            "Train on 1328 samples, validate on 332 samples\n",
            "Epoch 1/10\n",
            "1328/1328 [==============================] - 2s 2ms/step - loss: 1.0750 - acc: 0.4111 - val_loss: 1.0769 - val_acc: 0.4428\n",
            "Epoch 2/10\n",
            "1328/1328 [==============================] - 1s 1ms/step - loss: 0.9869 - acc: 0.5158 - val_loss: 0.9980 - val_acc: 0.4759\n",
            "Epoch 3/10\n",
            "1328/1328 [==============================] - 1s 1ms/step - loss: 0.8753 - acc: 0.5798 - val_loss: 0.9938 - val_acc: 0.4669\n",
            "Epoch 4/10\n",
            "1328/1328 [==============================] - 1s 1ms/step - loss: 0.7896 - acc: 0.6574 - val_loss: 1.0555 - val_acc: 0.5151\n",
            "Epoch 5/10\n",
            "1328/1328 [==============================] - 1s 1ms/step - loss: 0.6479 - acc: 0.7372 - val_loss: 0.9859 - val_acc: 0.5422\n",
            "Epoch 6/10\n",
            "1328/1328 [==============================] - 1s 1ms/step - loss: 0.4856 - acc: 0.8223 - val_loss: 1.0411 - val_acc: 0.5512\n",
            "Epoch 7/10\n",
            "1328/1328 [==============================] - 1s 1ms/step - loss: 0.2824 - acc: 0.9081 - val_loss: 1.2216 - val_acc: 0.5783\n",
            "Epoch 8/10\n",
            "1328/1328 [==============================] - 1s 1ms/step - loss: 0.1653 - acc: 0.9488 - val_loss: 1.3738 - val_acc: 0.5482\n",
            "Epoch 9/10\n",
            "1328/1328 [==============================] - 1s 1ms/step - loss: 0.0923 - acc: 0.9729 - val_loss: 1.7873 - val_acc: 0.5060\n",
            "Epoch 10/10\n",
            "1328/1328 [==============================] - 1s 1ms/step - loss: 0.0717 - acc: 0.9827 - val_loss: 1.6011 - val_acc: 0.5452\n"
          ],
          "name": "stdout"
        }
      ]
    },
    {
      "cell_type": "markdown",
      "metadata": {
        "id": "vsufnkYRbT4C",
        "colab_type": "text"
      },
      "source": [
        "# Plotando os gráficos dos resultados"
      ]
    },
    {
      "cell_type": "code",
      "metadata": {
        "id": "jRxuyA02fjvt",
        "colab_type": "code",
        "outputId": "f8006035-3181-4db6-f875-8bf3ad02e901",
        "colab": {
          "base_uri": "https://localhost:8080/",
          "height": 465
        }
      },
      "source": [
        "plt.figure(figsize =(5,3))\n",
        "plt.plot(history.history['loss'], marker='.', label='train')\n",
        "plt.plot(history.history['val_loss'], marker='.', label='test')\n",
        "plt.title('Loss')\n",
        "plt.grid(True)\n",
        "plt.xlabel('epoch')\n",
        "plt.ylabel('loss')\n",
        "plt.legend(loc='best')\n",
        "plt.show()\n",
        "\n",
        "plt.figure(figsize =(5,3))\n",
        "plt.plot(history.history['acc'], marker='.', label='train')\n",
        "plt.plot(history.history['val_acc'], marker='.', label='test')\n",
        "plt.title('Accuracy')\n",
        "plt.grid(True)\n",
        "plt.xlabel('epoch')\n",
        "plt.ylabel('accuracy')\n",
        "plt.legend(loc='best')\n",
        "plt.show()"
      ],
      "execution_count": 16,
      "outputs": [
        {
          "output_type": "display_data",
          "data": {
            "image/png": "[encoded data removed]",
            "text/plain": [
              "<Figure size 360x216 with 1 Axes>"
            ]
          },
          "metadata": {
            "tags": []
          }
        },
        {
          "output_type": "display_data",
          "data": {
            "image/png": "[encoded data removed]",
            "text/plain": [
              "<Figure size 360x216 with 1 Axes>"
            ]
          },
          "metadata": {
            "tags": []
          }
        }
      ]
    },
    {
      "cell_type": "markdown",
      "metadata": {
        "id": "A-n-9_Mdbiuz",
        "colab_type": "text"
      },
      "source": [
        "# Keras with GridSearchCV"
      ]
    },
    {
      "cell_type": "code",
      "metadata": {
        "id": "scbJELomfxHV",
        "colab_type": "code",
        "colab": {}
      },
      "source": [
        "def create_model(optimizer='adam'):\n",
        "    model = Sequential()\n",
        "    model.add(Embedding(vocab_size, embedding_dim, input_length=max_length, \n",
        "                        weights = [embedding_matrix], \n",
        "                        trainable = False))\n",
        "    model.add(Conv1D(128, 3, activation='relu'))\n",
        "    model.add(MaxPooling1D(3))\n",
        "    model.add(Conv1D(128, 3, activation='relu'))\n",
        "    model.add(MaxPooling1D(3))\n",
        "    model.add(Conv1D(128, 3, activation='relu'))\n",
        "    model.add(MaxPooling1D(3))\n",
        "    model.add(Flatten())\n",
        "    model.add(Dense(128, activation='relu'))\n",
        "    model.add(Dense(num_labels, activation='softmax'))\n",
        "    # Compile model\n",
        "    model.compile(loss='binary_crossentropy', optimizer=optimizer, metrics=['accuracy'])\n",
        "    return model"
      ],
      "execution_count": 0,
      "outputs": []
    },
    {
      "cell_type": "code",
      "metadata": {
        "id": "bUaxt7fLf45n",
        "colab_type": "code",
        "colab": {}
      },
      "source": [
        "# create model\n",
        "model = KerasClassifier(build_fn=create_model, epochs=10, batch_size=100, verbose=0)"
      ],
      "execution_count": 0,
      "outputs": []
    },
    {
      "cell_type": "code",
      "metadata": {
        "id": "LeX_xm0ef7-i",
        "colab_type": "code",
        "outputId": "03e79156-ce9a-4cbd-8e20-eff35d43c74e",
        "colab": {
          "base_uri": "https://localhost:8080/",
          "height": 139
        }
      },
      "source": [
        "optimizer = ['SGD', 'RMSprop', 'Adagrad', 'Adadelta', 'Adam', 'Adamax', 'Nadam']\n",
        "param_grid = dict(optimizer=optimizer)\n",
        "grid = GridSearchCV(estimator=model, param_grid=param_grid, n_jobs=-1, cv=10, verbose=True, return_train_score=True)\n",
        "grid_result = grid.fit(x, y)"
      ],
      "execution_count": 19,
      "outputs": [
        {
          "output_type": "stream",
          "text": [
            "Fitting 10 folds for each of 7 candidates, totalling 70 fits\n"
          ],
          "name": "stdout"
        },
        {
          "output_type": "stream",
          "text": [
            "[Parallel(n_jobs=-1)]: Using backend LokyBackend with 2 concurrent workers.\n",
            "/usr/local/lib/python3.6/dist-packages/joblib/externals/loky/process_executor.py:706: UserWarning: A worker stopped while some jobs were given to the executor. This can be caused by a too short worker timeout or by a memory leak.\n",
            "  \"timeout or by a memory leak.\", UserWarning\n",
            "[Parallel(n_jobs=-1)]: Done  46 tasks      | elapsed:  9.4min\n",
            "[Parallel(n_jobs=-1)]: Done  70 out of  70 | elapsed: 14.3min finished\n"
          ],
          "name": "stderr"
        }
      ]
    },
    {
      "cell_type": "code",
      "metadata": {
        "id": "KY7r0xywf_7p",
        "colab_type": "code",
        "outputId": "b76e4a59-7900-496a-d24d-c73a5ad67aaf",
        "colab": {
          "base_uri": "https://localhost:8080/",
          "height": 190
        }
      },
      "source": [
        "df = pd.DataFrame(grid_result.cv_results_)\n",
        "df.to_csv('resultado_deep_learning_irish_economic_sentiment.csv')\n",
        "print(df.to_csv())"
      ],
      "execution_count": 20,
      "outputs": [
        {
          "output_type": "stream",
          "text": [
            ",mean_fit_time,std_fit_time,mean_score_time,std_score_time,param_optimizer,params,split0_test_score,split1_test_score,split2_test_score,split3_test_score,split4_test_score,split5_test_score,split6_test_score,split7_test_score,split8_test_score,split9_test_score,mean_test_score,std_test_score,rank_test_score,split0_train_score,split1_train_score,split2_train_score,split3_train_score,split4_train_score,split5_train_score,split6_train_score,split7_train_score,split8_train_score,split9_train_score,mean_train_score,std_train_score\n",
            "0,22.169886803627016,0.24093677515858405,0.21636688709259033,0.05362212766755656,SGD,{'optimizer': 'SGD'},0.6666665910238243,0.6666665910238243,0.6666665910238243,0.6666665910238243,0.6666665910238243,0.6666665910238243,0.6686746212373297,0.6706826672496566,0.6666665910238243,0.6666665910238243,0.667269001667758,0.0012857708874756462,3,0.6666665710758174,0.6664434645868529,0.6666665790550201,0.6668896855439846,0.666889689533586,0.6666665710758174,0.6675590289484864,0.668674598975354,0.6668896855439846,0.6666665750654187,0.6670012449404322,0.0006251167592338068\n",
            "1,22.940772914886473,0.6513253840690191,0.2878767728805542,0.10865896487719914,RMSprop,{'optimizer': 'RMSprop'},0.49397592946707486,0.5662651004561459,0.6064257169344339,0.5542168990675226,0.5702811292855137,0.5823293342647782,0.6024096399904734,0.5461847746228597,0.6566265275679439,0.5662651004561459,0.5744980152112892,0.04056472912527157,6,0.5078090196712269,0.5635877117574455,0.5952699986327604,0.5649263865976448,0.5631414708523067,0.5979473642715648,0.5957162156002908,0.5658188604287194,0.7378402481596154,0.5635877119968216,0.5855644987968396,0.056452617508027846\n",
            "2,22.933786082267762,0.24828695474972523,0.31066393852233887,0.05874851169266369,Adagrad,{'optimizer': 'Adagrad'},0.49397592946707486,0.5622490400291351,0.4939758993056883,0.6024096206010107,0.5702811292855137,0.5823293342647782,0.5140562193939485,0.5983935917716429,0.5542168674698795,0.6345381557223309,0.5606425787311002,0.045051576800920694,7,0.5078090196712269,0.6001785169324403,0.5078090276504297,0.5957162235794935,0.5631414708523067,0.5979473642715648,0.5055778849635577,0.5961624565054294,0.5649264025560504,0.5921463920888173,0.5631414759071316,0.03875060036913706\n",
            "3,23.135023021697997,0.5334583589203351,0.2798667669296265,0.10196245806554387,Adadelta,{'optimizer': 'Adadelta'},0.5783132975359997,0.5622490400291351,0.5662650767579136,0.6024096206010107,0.5702811292855137,0.5863454420882536,0.5502008393586401,0.6024096521986536,0.6064256968268429,0.5662651004561459,0.5791164895138109,0.0184738824759793,5,0.5622490209588404,0.6001785169324403,0.5635877077678441,0.5957162235794935,0.5631414708523067,0.5613565551069686,0.5653726215183815,0.5997322871183934,0.595269994643159,0.5635877119968216,0.5770192110474649,0.016992436927065407\n",
            "4,23.31786711215973,0.7666217695674619,0.32070658206939695,0.1259195030529251,Adam,{'optimizer': 'Adam'},0.6566264758627098,0.6807229418352426,0.6867470324757587,0.6887550346822624,0.7068272469991661,0.6927711231162749,0.6847390180610748,0.6847389663558409,0.6947791296315481,0.6927711231162749,0.6869478092136153,0.012229227065312289,2,0.934181169493291,0.936189218856883,0.9299419957949934,0.8781793915443471,0.9718875559458292,0.9261490687468604,0.8855421480085636,0.946898719871858,0.9422133029544529,0.9651940979632029,0.9316376669180281,0.028519469764320682\n",
            "5,23.02555501461029,0.5486371178869103,0.31456809043884276,0.10322658472678295,Adamax,{'optimizer': 'Adamax'},0.6626505787114063,0.7028113136808556,0.6967871634356947,0.7128513893449163,0.6907630289893553,0.7248995986329504,0.6867469965693462,0.6686747404466192,0.6967871397374624,0.6787148319095014,0.6921686781458107,0.018140214291760867,1,0.866577435369632,0.797188756855297,0.9194556095673537,0.8543061230236906,0.8456046420088414,0.9091923382866335,0.8951361308614891,0.8958054583075854,0.8578759482905887,0.846497098445254,0.8687639541016366,0.03481144454185901\n",
            "6,23.547330141067505,0.7678168974612191,0.3358984231948853,0.10902418537138571,Nadam,{'optimizer': 'Nadam'},0.5783132975359997,0.5622490400291351,0.4939758993056883,0.5542168990675226,0.5702811292855137,0.5823293342647782,0.5502008393586401,0.670682651450835,0.6767068095954067,0.6345381557223309,0.587349405561585,0.05420382926034173,4,0.5622490209588404,0.6001785169324403,0.5078090276504297,0.5649263865976448,0.5631414708523067,0.5979473642715648,0.5653726215183815,0.6673359321143573,0.9303882113262671,0.5921463920888173,0.6151494944311049,0.11188093096265952\n",
            "\n"
          ],
          "name": "stdout"
        }
      ]
    },
    {
      "cell_type": "code",
      "metadata": {
        "id": "JvIMYLW0TUsD",
        "colab_type": "code",
        "outputId": "55659c6e-9e0b-46bc-9c62-5e912401d3cb",
        "colab": {
          "base_uri": "https://localhost:8080/",
          "height": 153
        }
      },
      "source": [
        "# summarize results\n",
        "print(\"Best: %f using %s\" % (grid_result.best_score_, grid_result.best_params_))\n",
        "means = grid_result.cv_results_['mean_test_score']\n",
        "stds = grid_result.cv_results_['std_test_score']\n",
        "params = grid_result.cv_results_['params']\n",
        "for mean, stdev, param in zip(means, stds, params):\n",
        "    print(\"%f (%f) with: %r\" % (mean, stdev, param))"
      ],
      "execution_count": 21,
      "outputs": [
        {
          "output_type": "stream",
          "text": [
            "Best: 0.692169 using {'optimizer': 'Adamax'}\n",
            "0.667269 (0.001286) with: {'optimizer': 'SGD'}\n",
            "0.574498 (0.040565) with: {'optimizer': 'RMSprop'}\n",
            "0.560643 (0.045052) with: {'optimizer': 'Adagrad'}\n",
            "0.579116 (0.018474) with: {'optimizer': 'Adadelta'}\n",
            "0.686948 (0.012229) with: {'optimizer': 'Adam'}\n",
            "0.692169 (0.018140) with: {'optimizer': 'Adamax'}\n",
            "0.587349 (0.054204) with: {'optimizer': 'Nadam'}\n"
          ],
          "name": "stdout"
        }
      ]
    }
  ]
}