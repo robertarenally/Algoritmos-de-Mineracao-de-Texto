{
  "nbformat": 4,
  "nbformat_minor": 0,
  "metadata": {
    "colab": {
      "name": "Text_Classification_With_Keras_in_re8.ipynb",
      "provenance": [],
      "collapsed_sections": [],
      "toc_visible": true
    },
    "kernelspec": {
      "name": "python3",
      "display_name": "Python 3"
    },
    "accelerator": "GPU"
  },
  "cells": [
    {
      "cell_type": "markdown",
      "metadata": {
        "id": "ldA3aHDrUsRv",
        "colab_type": "text"
      },
      "source": [
        "https://www.kaggle.com/carlosaguayo/deep-learning-for-text-classification/data"
      ]
    },
    {
      "cell_type": "code",
      "metadata": {
        "id": "K4SqRQMThJOu",
        "colab_type": "code",
        "outputId": "edde6b25-1825-4d3b-8775-825ef921bb4d",
        "colab": {
          "base_uri": "https://localhost:8080/",
          "height": 34
        }
      },
      "source": [
        "import os\n",
        "import pandas as pd\n",
        "import numpy as np\n",
        "import matplotlib.pyplot as plt \n",
        "from keras.layers import Activation, Conv1D, Dense, Embedding, Flatten, Input, MaxPooling1D\n",
        "from keras.models import Sequential\n",
        "from keras.preprocessing.text import Tokenizer\n",
        "from keras.preprocessing.sequence import pad_sequences\n",
        "from sklearn.datasets.base import get_data_home\n",
        "from keras.metrics import categorical_accuracy\n",
        "from keras.utils import to_categorical\n",
        "from keras.wrappers.scikit_learn import KerasClassifier \n",
        "from sklearn.model_selection import GridSearchCV\n",
        "from sklearn.model_selection import train_test_split "
      ],
      "execution_count": 0,
      "outputs": [
        {
          "output_type": "stream",
          "text": [
            "Using TensorFlow backend.\n"
          ],
          "name": "stderr"
        }
      ]
    },
    {
      "cell_type": "code",
      "metadata": {
        "id": "EfSKrcqxU_O4",
        "colab_type": "code",
        "colab": {}
      },
      "source": [
        "# Code to read csv file into Colaboratory:\n",
        "!pip install -U -q PyDrive\n",
        "from pydrive.auth import GoogleAuth\n",
        "from pydrive.drive import GoogleDrive\n",
        "from google.colab import auth\n",
        "from oauth2client.client import GoogleCredentials\n",
        "# Authenticate and create the PyDrive client.\n",
        "auth.authenticate_user()\n",
        "gauth = GoogleAuth()\n",
        "gauth.credentials = GoogleCredentials.get_application_default()\n",
        "drive = GoogleDrive(gauth)"
      ],
      "execution_count": 0,
      "outputs": []
    },
    {
      "cell_type": "code",
      "metadata": {
        "id": "31L6A7YgeQmM",
        "colab_type": "code",
        "outputId": "1d98fdad-4b45-4587-9e7c-34824f6fcead",
        "colab": {
          "base_uri": "https://localhost:8080/",
          "height": 34
        }
      },
      "source": [
        "link = 'https://drive.google.com/open?id=1QlTeZ2BdeTsZ8XimItdUsgdWDLoq5L3A'\n",
        "fluff, id = link.split('=')\n",
        "print (id) # Verify that you have everything after '='"
      ],
      "execution_count": 0,
      "outputs": [
        {
          "output_type": "stream",
          "text": [
            "1QlTeZ2BdeTsZ8XimItdUsgdWDLoq5L3A\n"
          ],
          "name": "stdout"
        }
      ]
    },
    {
      "cell_type": "code",
      "metadata": {
        "id": "9g8QdkVXhzxX",
        "colab_type": "code",
        "colab": {}
      },
      "source": [
        "#Carregando a base de dados\n",
        "downloaded = drive.CreateFile({'id':id}) \n",
        "downloaded.GetContentFile('re8.csv')  \n",
        "df3 = pd.read_csv('re8.csv')"
      ],
      "execution_count": 0,
      "outputs": []
    },
    {
      "cell_type": "code",
      "metadata": {
        "id": "fKdiWeQPh1SS",
        "colab_type": "code",
        "outputId": "ef8c50fa-8d9a-4133-9fab-e34b31808a01",
        "colab": {
          "base_uri": "https://localhost:8080/",
          "height": 34
        }
      },
      "source": [
        "print(len(df3.data))"
      ],
      "execution_count": 0,
      "outputs": [
        {
          "output_type": "stream",
          "text": [
            "7674\n"
          ],
          "name": "stdout"
        }
      ]
    },
    {
      "cell_type": "code",
      "metadata": {
        "id": "IdCaplJyh595",
        "colab_type": "code",
        "colab": {}
      },
      "source": [
        "#Definindo constantes\n",
        "max_length = 100\n",
        "num_labels = 8\n",
        "vocab_size = 8000\n",
        "batch_size = [100]\n",
        "epochs = [10]"
      ],
      "execution_count": 0,
      "outputs": []
    },
    {
      "cell_type": "markdown",
      "metadata": {
        "id": "0QG0HAxqWwFm",
        "colab_type": "text"
      },
      "source": [
        "# Pré-processamento do Texto\n",
        "\n",
        "É necessário tokenizar o texto antes de podermos alimentá-lo em uma rede neural. Esse processo de tokenização também removerá alguns dos recursos do texto original, como todas as pontuações ou palavras menos comuns."
      ]
    },
    {
      "cell_type": "code",
      "metadata": {
        "id": "9jLsJz3ph_Cb",
        "colab_type": "code",
        "colab": {}
      },
      "source": [
        "# Extract text\n",
        "tokenizer = Tokenizer(num_words=vocab_size) # Setup tokenizer\n",
        "tokenizer.fit_on_texts(df3.data)\n",
        "sequences = tokenizer.texts_to_sequences(df3.data) # Generate sequences\n",
        "x = pad_sequences(sequences, maxlen=max_length)\n",
        "# Extract target\n",
        "y = to_categorical(df3.target, num_labels)"
      ],
      "execution_count": 0,
      "outputs": []
    },
    {
      "cell_type": "code",
      "metadata": {
        "id": "H38ygtSHiI7j",
        "colab_type": "code",
        "outputId": "4337179e-da2a-40c4-ff81-df8a06f57d3f",
        "colab": {
          "base_uri": "https://localhost:8080/",
          "height": 51
        }
      },
      "source": [
        "print('Shape of data:', x.shape)\n",
        "print('Shape of labels:', y.shape)"
      ],
      "execution_count": 0,
      "outputs": [
        {
          "output_type": "stream",
          "text": [
            "Shape of data: (7674, 100)\n",
            "Shape of labels: (7674, 8)\n"
          ],
          "name": "stdout"
        }
      ]
    },
    {
      "cell_type": "markdown",
      "metadata": {
        "id": "I1KJmf6lXDXG",
        "colab_type": "text"
      },
      "source": [
        "# Dividindo o dataset em treinamento e teste"
      ]
    },
    {
      "cell_type": "code",
      "metadata": {
        "id": "kumkuu8EiKKr",
        "colab_type": "code",
        "colab": {}
      },
      "source": [
        "#this script divides data into 20% test set and 80% training set.\n",
        "X_train, X_test, y_train, y_test = train_test_split(x, y, test_size=0.2, random_state=0) "
      ],
      "execution_count": 0,
      "outputs": []
    },
    {
      "cell_type": "markdown",
      "metadata": {
        "id": "HxzqltLrZcnu",
        "colab_type": "text"
      },
      "source": [
        "# Carregando Vetores globais para representação de palavras (Glove)\n",
        "\n",
        "O GloVe é um algoritmo de aprendizado não supervisionado para obter representações vetoriais para palavras. O treinamento é realizado em estatísticas globais agregadas de co-ocorrência de palavra e palavra de um corpus, e as representações resultantes mostram subestruturas lineares interessantes do espaço vetorial de palavras.\n",
        "\n",
        "Este conjunto de dados contém vetores de palavras em inglês pré-treinados nos corpora combinado da Wikipedia 2014 + Gigaword 5th Edition (tokens 6B, vocabulário de 400K). Todos os tokens estão em minúsculas. Esse conjunto de dados contém vetores de palavras pré-treinados em 50, 100 e 200 dimensões."
      ]
    },
    {
      "cell_type": "markdown",
      "metadata": {
        "id": "WPeoe3oJaHfd",
        "colab_type": "text"
      },
      "source": [
        "# Reconhecimentos\n",
        "Esses dados foram liberados sob a Licença e Dedicação ao Domínio Público do Open Data Commons. Se você usar esse conjunto de dados em seu trabalho, cite o seguinte documento:\n",
        "\n",
        "Jeffrey Pennington, Richard Socher e Christopher D. Manning. 2014. GloVe: Vetores globais para representação de palavras. URL: https://nlp.stanford.edu/pubs/glove.pdf"
      ]
    },
    {
      "cell_type": "code",
      "metadata": {
        "id": "XtKk_q4kimXg",
        "colab_type": "code",
        "outputId": "21fdb0c2-aeba-4189-f4f6-20ea6ad3572e",
        "colab": {
          "base_uri": "https://localhost:8080/",
          "height": 34
        }
      },
      "source": [
        "link = 'https://drive.google.com/open?id=1erGe6LcwCDxpL9D8rRO7UYg0POVBvwX8'\n",
        "fluff, id = link.split('=')\n",
        "print (id) # Verify that you have everything after '='"
      ],
      "execution_count": 0,
      "outputs": [
        {
          "output_type": "stream",
          "text": [
            "1erGe6LcwCDxpL9D8rRO7UYg0POVBvwX8\n"
          ],
          "name": "stdout"
        }
      ]
    },
    {
      "cell_type": "code",
      "metadata": {
        "id": "aedYEDlOipxb",
        "colab_type": "code",
        "colab": {}
      },
      "source": [
        "downloaded = drive.CreateFile({'id':id}) \n",
        "downloaded.GetContentFile('glove.6B.100d.txt')  "
      ],
      "execution_count": 0,
      "outputs": []
    },
    {
      "cell_type": "code",
      "metadata": {
        "id": "EmvfMlmvitHX",
        "colab_type": "code",
        "outputId": "c6b98838-16ba-4bd3-d7da-bf41fdea06d6",
        "colab": {
          "base_uri": "https://localhost:8080/",
          "height": 34
        }
      },
      "source": [
        "embeddings_index = {} # We create a dictionary of word -> embedding\n",
        "\n",
        "with open(os.path.join('glove.6B.100d.txt')) as f:\n",
        "    for line in f:\n",
        "        values = line.split()\n",
        "        word = values[0] # The first value is the word, the rest are the values of the embedding\n",
        "        embedding = np.asarray(values[1:], dtype='float32') # Load embedding\n",
        "        embeddings_index[word] = embedding # Add embedding to our embedding dictionary\n",
        "\n",
        "print('Found {:,} word vectors in GloVe.'.format(len(embeddings_index)))"
      ],
      "execution_count": 0,
      "outputs": [
        {
          "output_type": "stream",
          "text": [
            "Found 400,000 word vectors in GloVe.\n"
          ],
          "name": "stdout"
        }
      ]
    },
    {
      "cell_type": "code",
      "metadata": {
        "id": "0DEvOXCrixuC",
        "colab_type": "code",
        "colab": {}
      },
      "source": [
        "embedding_dim = 100 # We use 100 dimensional glove vectors\n",
        "\n",
        "word_index = tokenizer.word_index\n",
        "nb_words = min(vocab_size, len(word_index)) # How many words are there actually\n",
        "\n",
        "embedding_matrix = np.zeros((nb_words, embedding_dim))\n",
        "\n",
        "# The vectors need to be in the same position as their index. \n",
        "# Meaning a word with token 1 needs to be in the second row (rows start with zero) and so on\n",
        "\n",
        "# Loop over all words in the word index\n",
        "for word, i in word_index.items():\n",
        "    # If we are above the amount of words we want to use we do nothing\n",
        "    if i >= vocab_size: \n",
        "        continue\n",
        "    # Get the embedding vector for the word\n",
        "    embedding_vector = embeddings_index.get(word)\n",
        "    # If there is an embedding vector, put it in the embedding matrix\n",
        "    if embedding_vector is not None: \n",
        "        embedding_matrix[i] = embedding_vector"
      ],
      "execution_count": 0,
      "outputs": []
    },
    {
      "cell_type": "code",
      "metadata": {
        "id": "I1GBsRrzi0Ct",
        "colab_type": "code",
        "outputId": "e22f231d-ab3c-4dac-b120-17fd1cdd39d5",
        "colab": {
          "base_uri": "https://localhost:8080/",
          "height": 581
        }
      },
      "source": [
        "# create model\n",
        "model = Sequential()\n",
        "model.add(Embedding(vocab_size, \n",
        "                    embedding_dim, \n",
        "                    input_length=max_length, \n",
        "                    weights = [embedding_matrix], \n",
        "                    trainable = False))\n",
        "model.add(Conv1D(128, 3, activation='relu'))\n",
        "model.add(MaxPooling1D(3))\n",
        "model.add(Conv1D(128, 3, activation='relu'))\n",
        "model.add(MaxPooling1D(3))\n",
        "model.add(Conv1D(128, 3, activation='relu'))\n",
        "model.add(MaxPooling1D(3))\n",
        "model.add(Flatten())\n",
        "model.add(Dense(128, activation='relu'))\n",
        "model.add(Dense(num_labels, activation='softmax'))\n",
        "model.summary()"
      ],
      "execution_count": 0,
      "outputs": [
        {
          "output_type": "stream",
          "text": [
            "WARNING:tensorflow:From /usr/local/lib/python3.6/dist-packages/keras/backend/tensorflow_backend.py:66: The name tf.get_default_graph is deprecated. Please use tf.compat.v1.get_default_graph instead.\n",
            "\n",
            "WARNING:tensorflow:From /usr/local/lib/python3.6/dist-packages/keras/backend/tensorflow_backend.py:4267: The name tf.nn.max_pool is deprecated. Please use tf.nn.max_pool2d instead.\n",
            "\n",
            "Model: \"sequential_1\"\n",
            "_________________________________________________________________\n",
            "Layer (type)                 Output Shape              Param #   \n",
            "=================================================================\n",
            "embedding_1 (Embedding)      (None, 100, 100)          800000    \n",
            "_________________________________________________________________\n",
            "conv1d_1 (Conv1D)            (None, 98, 128)           38528     \n",
            "_________________________________________________________________\n",
            "max_pooling1d_1 (MaxPooling1 (None, 32, 128)           0         \n",
            "_________________________________________________________________\n",
            "conv1d_2 (Conv1D)            (None, 30, 128)           49280     \n",
            "_________________________________________________________________\n",
            "max_pooling1d_2 (MaxPooling1 (None, 10, 128)           0         \n",
            "_________________________________________________________________\n",
            "conv1d_3 (Conv1D)            (None, 8, 128)            49280     \n",
            "_________________________________________________________________\n",
            "max_pooling1d_3 (MaxPooling1 (None, 2, 128)            0         \n",
            "_________________________________________________________________\n",
            "flatten_1 (Flatten)          (None, 256)               0         \n",
            "_________________________________________________________________\n",
            "dense_1 (Dense)              (None, 128)               32896     \n",
            "_________________________________________________________________\n",
            "dense_2 (Dense)              (None, 8)                 1032      \n",
            "=================================================================\n",
            "Total params: 971,016\n",
            "Trainable params: 171,016\n",
            "Non-trainable params: 800,000\n",
            "_________________________________________________________________\n"
          ],
          "name": "stdout"
        }
      ]
    },
    {
      "cell_type": "code",
      "metadata": {
        "id": "cZymYHNMjB6s",
        "colab_type": "code",
        "outputId": "4c13c2e6-2dae-4acd-bbe9-ab2a8318a39f",
        "colab": {
          "base_uri": "https://localhost:8080/",
          "height": 479
        }
      },
      "source": [
        "#model.compile(loss='binary_crossentropy', optimizer='adam', metrics=[categorical_accuracy])\n",
        "model.compile(loss='categorical_crossentropy', optimizer='adam', metrics=['accuracy'])\n",
        "history = model.fit(X_train, y_train, validation_data=(X_test, y_test), epochs=10)"
      ],
      "execution_count": 0,
      "outputs": [
        {
          "output_type": "stream",
          "text": [
            "WARNING:tensorflow:From /usr/local/lib/python3.6/dist-packages/keras/optimizers.py:793: The name tf.train.Optimizer is deprecated. Please use tf.compat.v1.train.Optimizer instead.\n",
            "\n",
            "WARNING:tensorflow:From /usr/local/lib/python3.6/dist-packages/tensorflow_core/python/ops/math_grad.py:1424: where (from tensorflow.python.ops.array_ops) is deprecated and will be removed in a future version.\n",
            "Instructions for updating:\n",
            "Use tf.where in 2.0, which has the same broadcast rule as np.where\n",
            "Train on 6139 samples, validate on 1535 samples\n",
            "Epoch 1/10\n",
            "6139/6139 [==============================] - 7s 1ms/step - loss: 0.7715 - acc: 0.7555 - val_loss: 0.5560 - val_acc: 0.8176\n",
            "Epoch 2/10\n",
            "6139/6139 [==============================] - 2s 323us/step - loss: 0.4726 - acc: 0.8488 - val_loss: 0.5066 - val_acc: 0.8339\n",
            "Epoch 3/10\n",
            "6139/6139 [==============================] - 2s 332us/step - loss: 0.3781 - acc: 0.8801 - val_loss: 0.4524 - val_acc: 0.8515\n",
            "Epoch 4/10\n",
            "6139/6139 [==============================] - 2s 353us/step - loss: 0.3209 - acc: 0.8988 - val_loss: 0.4876 - val_acc: 0.8547\n",
            "Epoch 5/10\n",
            "6139/6139 [==============================] - 2s 363us/step - loss: 0.2729 - acc: 0.9142 - val_loss: 0.4682 - val_acc: 0.8638\n",
            "Epoch 6/10\n",
            "6139/6139 [==============================] - 2s 367us/step - loss: 0.2496 - acc: 0.9231 - val_loss: 0.5491 - val_acc: 0.8606\n",
            "Epoch 7/10\n",
            "6139/6139 [==============================] - 2s 364us/step - loss: 0.2315 - acc: 0.9298 - val_loss: 0.5197 - val_acc: 0.8638\n",
            "Epoch 8/10\n",
            "6139/6139 [==============================] - 2s 356us/step - loss: 0.2151 - acc: 0.9347 - val_loss: 0.4843 - val_acc: 0.8619\n",
            "Epoch 9/10\n",
            "6139/6139 [==============================] - 2s 362us/step - loss: 0.1950 - acc: 0.9422 - val_loss: 0.5733 - val_acc: 0.8691\n",
            "Epoch 10/10\n",
            "6139/6139 [==============================] - 2s 359us/step - loss: 0.1898 - acc: 0.9430 - val_loss: 0.5693 - val_acc: 0.8730\n"
          ],
          "name": "stdout"
        }
      ]
    },
    {
      "cell_type": "markdown",
      "metadata": {
        "id": "vsufnkYRbT4C",
        "colab_type": "text"
      },
      "source": [
        "# Plotando os gráficos dos resultados"
      ]
    },
    {
      "cell_type": "code",
      "metadata": {
        "id": "jRxuyA02fjvt",
        "colab_type": "code",
        "outputId": "be850ccc-0804-429d-9a54-d84135267c54",
        "colab": {
          "base_uri": "https://localhost:8080/",
          "height": 465
        }
      },
      "source": [
        "plt.figure(figsize =(5,3))\n",
        "plt.plot(history.history['loss'], marker='.', label='train')\n",
        "plt.plot(history.history['val_loss'], marker='.', label='test')\n",
        "plt.title('Loss')\n",
        "plt.grid(True)\n",
        "plt.xlabel('epoch')\n",
        "plt.ylabel('loss')\n",
        "plt.legend(loc='best')\n",
        "plt.show()\n",
        "\n",
        "plt.figure(figsize =(5,3))\n",
        "plt.plot(history.history['acc'], marker='.', label='train')\n",
        "plt.plot(history.history['val_acc'], marker='.', label='test')\n",
        "plt.title('Accuracy')\n",
        "plt.grid(True)\n",
        "plt.xlabel('epoch')\n",
        "plt.ylabel('accuracy')\n",
        "plt.legend(loc='best')\n",
        "plt.show()"
      ],
      "execution_count": 0,
      "outputs": [
        {
          "output_type": "display_data",
          "data": {
            "image/png": "[encoded data removed]",
            "text/plain": [
              "<Figure size 360x216 with 1 Axes>"
            ]
          },
          "metadata": {
            "tags": []
          }
        },
        {
          "output_type": "display_data",
          "data": {
            "image/png": "[encoded data removed]",
            "text/plain": [
              "<Figure size 360x216 with 1 Axes>"
            ]
          },
          "metadata": {
            "tags": []
          }
        }
      ]
    },
    {
      "cell_type": "markdown",
      "metadata": {
        "id": "A-n-9_Mdbiuz",
        "colab_type": "text"
      },
      "source": [
        "# Keras with GridSearchCV"
      ]
    },
    {
      "cell_type": "code",
      "metadata": {
        "id": "mgx3Z1IBjjW_",
        "colab_type": "code",
        "colab": {}
      },
      "source": [
        "def create_model(optimizer='adam'):\n",
        "    model = Sequential()\n",
        "    model.add(Embedding(vocab_size, embedding_dim, input_length=max_length, \n",
        "                        weights = [embedding_matrix], \n",
        "                        trainable = False))\n",
        "    model.add(Conv1D(128, 3, activation='relu'))\n",
        "    model.add(MaxPooling1D(3))\n",
        "    model.add(Conv1D(128, 3, activation='relu'))\n",
        "    model.add(MaxPooling1D(3))\n",
        "    model.add(Conv1D(128, 3, activation='relu'))\n",
        "    model.add(MaxPooling1D(3))\n",
        "    model.add(Flatten())\n",
        "    model.add(Dense(128, activation='relu'))\n",
        "    model.add(Dense(num_labels, activation='softmax'))\n",
        "    # Compile model\n",
        "    model.compile(loss='binary_crossentropy', optimizer=optimizer, metrics=['accuracy'])\n",
        "    return model"
      ],
      "execution_count": 0,
      "outputs": []
    },
    {
      "cell_type": "code",
      "metadata": {
        "id": "43RH3VGsjmnR",
        "colab_type": "code",
        "colab": {}
      },
      "source": [
        "# create model\n",
        "model = KerasClassifier(build_fn=create_model, epochs=10, batch_size=100, verbose=0)"
      ],
      "execution_count": 0,
      "outputs": []
    },
    {
      "cell_type": "code",
      "metadata": {
        "id": "WbNd_qvijqgx",
        "colab_type": "code",
        "outputId": "b8851ab7-88e9-4058-a888-0616a043e6a2",
        "colab": {
          "base_uri": "https://localhost:8080/",
          "height": 139
        }
      },
      "source": [
        "optimizer = ['SGD', 'RMSprop', 'Adagrad', 'Adadelta', 'Adam', 'Adamax', 'Nadam']\n",
        "param_grid = dict(optimizer=optimizer)\n",
        "grid = GridSearchCV(estimator=model, param_grid=param_grid, cv=10, n_jobs=-1,verbose=True, return_train_score=True)\n",
        "grid_result = grid.fit(x, y)"
      ],
      "execution_count": 0,
      "outputs": [
        {
          "output_type": "stream",
          "text": [
            "Fitting 10 folds for each of 7 candidates, totalling 70 fits\n"
          ],
          "name": "stdout"
        },
        {
          "output_type": "stream",
          "text": [
            "[Parallel(n_jobs=-1)]: Using backend LokyBackend with 2 concurrent workers.\n",
            "/usr/local/lib/python3.6/dist-packages/joblib/externals/loky/process_executor.py:706: UserWarning: A worker stopped while some jobs were given to the executor. This can be caused by a too short worker timeout or by a memory leak.\n",
            "  \"timeout or by a memory leak.\", UserWarning\n",
            "[Parallel(n_jobs=-1)]: Done  46 tasks      | elapsed:  6.4min\n",
            "[Parallel(n_jobs=-1)]: Done  70 out of  70 | elapsed:  9.9min finished\n"
          ],
          "name": "stderr"
        }
      ]
    },
    {
      "cell_type": "code",
      "metadata": {
        "id": "_mTYbxKajy0M",
        "colab_type": "code",
        "outputId": "2c9fb42e-d5f5-452d-fc94-3fc5d5f6052f",
        "colab": {
          "base_uri": "https://localhost:8080/",
          "height": 190
        }
      },
      "source": [
        "df = pd.DataFrame(grid_result.cv_results_)\n",
        "df.to_csv('resultado_deep_learning_re8.csv')\n",
        "print(df.to_csv())"
      ],
      "execution_count": 0,
      "outputs": [
        {
          "output_type": "stream",
          "text": [
            ",mean_fit_time,std_fit_time,mean_score_time,std_score_time,param_optimizer,params,split0_test_score,split1_test_score,split2_test_score,split3_test_score,split4_test_score,split5_test_score,split6_test_score,split7_test_score,split8_test_score,split9_test_score,mean_test_score,std_test_score,rank_test_score,split0_train_score,split1_train_score,split2_train_score,split3_train_score,split4_train_score,split5_train_score,split6_train_score,split7_train_score,split8_train_score,split9_train_score,mean_train_score,std_train_score\n",
            "0,14.248149800300599,1.2460211222471793,0.344873309135437,0.13819977399492644,SGD,{'optimizer': 'SGD'},0.9171549522628387,0.9148763017728925,0.9186197904249033,0.9202473949020108,0.9155801791100334,0.9256844850842303,0.924217736783208,0.9137874885985562,0.9160691031110333,0.9170469430310474,0.9183281227686084,0.003751342283554961,7,0.9186757919652339,0.9153091532059279,0.9195083992017927,0.9205220108822122,0.9159910281038982,0.9230852722431275,0.9225423452960128,0.9196829283325479,0.9206782969825085,0.9163167808203271,0.919231200703359,0.0025405160604093733\n",
            "1,14.85388948917389,1.3084413987319279,0.33129544258117677,0.07953605075245639,RMSprop,{'optimizer': 'RMSprop'},0.9672851559395591,0.9599609412252903,0.9690755167976022,0.9672851652527849,0.9569752298713197,0.9682203340872325,0.9644719657562236,0.9659387221392317,0.964308987151846,0.9687092577773869,0.965223481296592,0.0037696689063402545,5,0.9809947966355501,0.9775376530132741,0.9842528300184531,0.9821894062866932,0.9636057619336064,0.9835493005493952,0.9819205261888804,0.9833140313513151,0.9828977929677669,0.9817214482286585,0.9801983547173594,0.0058046514024479795\n",
            "2,14.589821696281433,1.0295050785110949,0.42062280178070066,0.06299738644527383,Adagrad,{'optimizer': 'Adagrad'},0.9703776004413763,0.9498697953919569,0.969563800531129,0.9669596313809355,0.9696870900039722,0.9691981766494343,0.9657757533264906,0.9649608770125537,0.9664276459070974,0.9662646591430226,0.9659076086363197,0.0056418522552529665,2,0.9839451238448261,0.964034894756949,0.9835469180385237,0.981791196113181,0.9840560345327317,0.9823910559727,0.9839293537358049,0.9789344180557099,0.9841827179185385,0.9838026694870382,0.9810614382456004,0.005879373793512794\n",
            "3,15.587791562080383,0.4180976863781156,0.3738162755966187,0.07495048970400547,Adadelta,{'optimizer': 'Adadelta'},0.954915372033914,0.899902345923086,0.9650065048287312,0.9643554668873549,0.9672424940117956,0.9053128943760361,0.9633311624632666,0.9328552788363909,0.9441003933879201,0.9307366402861037,0.942777559273809,0.023698151430932114,6,0.9605234561883433,0.902657106738832,0.9678359414714335,0.9748045202099755,0.9732155784763923,0.9064716955972371,0.9717496770136226,0.9401512936381126,0.9558418980465623,0.9363689038849126,0.9489620071265424,0.025491880669950985\n",
            "4,15.602624320983887,1.1297690694195093,0.3559706449508667,0.09380778128181537,Adam,{'optimizer': 'Adam'},0.9720052151630322,0.9674479138726989,0.970214850269258,0.9495442630723119,0.9607236031758584,0.966916564623722,0.9678943863592683,0.9693611503579936,0.9618644039820505,0.9674054755692065,0.9653375039257232,0.006206400633406693,4,0.9845967331106615,0.9848501382963643,0.9845967331106615,0.9652114102124408,0.9680758665746073,0.979712619818774,0.984327499300729,0.9837302796502733,0.9829520835050785,0.985141894467681,0.9803195258047271,0.007025160710623663\n",
            "5,14.769206833839416,1.0226082969569892,0.3465033292770386,0.083520808744663,Adamax,{'optimizer': 'Adamax'},0.9713541734963655,0.9624023272966346,0.9702148431291183,0.9659830710540215,0.9691981738518238,0.9687092579328097,0.9677314281152778,0.9672425148384513,0.9649608770125537,0.9672424965762719,0.9675039083487919,0.002480431318693261,1,0.9815739978233213,0.9776462558522074,0.9805060847234353,0.9799449789223725,0.9820110075411997,0.982282471446237,0.9828615952490793,0.9803822275455564,0.9811242238405525,0.9824453482359315,0.9810778191179892,0.001466016676397599\n",
            "6,16.52093517780304,1.129165871318703,0.3221678495407104,0.08824948101501644,Nadam,{'optimizer': 'Nadam'},0.9627278648937742,0.9638671819120646,0.9687499875823656,0.9646809942399462,0.9685462736554997,0.9678944019792599,0.9680573548611637,0.9623533199010648,0.9643090026164148,0.9662646590653112,0.9657447190840232,0.0023332886946906225,3,0.978515063028145,0.9836736318514792,0.984596738289171,0.9842347345281746,0.9850514096635217,0.984924725414755,0.985431457232062,0.9769617873645129,0.9811785186926639,0.9837121864087989,0.9828280252473283,0.0028010119268363654\n",
            "\n"
          ],
          "name": "stdout"
        }
      ]
    },
    {
      "cell_type": "code",
      "metadata": {
        "id": "NRW7lotfU6gg",
        "colab_type": "code",
        "outputId": "29baba1c-d106-4a99-a47d-1f8d05772711",
        "colab": {
          "base_uri": "https://localhost:8080/",
          "height": 153
        }
      },
      "source": [
        "# summarize results\n",
        "print(\"Best: %f using %s\" % (grid_result.best_score_, grid_result.best_params_))\n",
        "means = grid_result.cv_results_['mean_test_score']\n",
        "stds = grid_result.cv_results_['std_test_score']\n",
        "params = grid_result.cv_results_['params']\n",
        "for mean, stdev, param in zip(means, stds, params):\n",
        "    print(\"%f (%f) with: %r\" % (mean, stdev, param))"
      ],
      "execution_count": 0,
      "outputs": [
        {
          "output_type": "stream",
          "text": [
            "Best: 0.967504 using {'optimizer': 'Adamax'}\n",
            "0.918328 (0.003751) with: {'optimizer': 'SGD'}\n",
            "0.965223 (0.003770) with: {'optimizer': 'RMSprop'}\n",
            "0.965908 (0.005642) with: {'optimizer': 'Adagrad'}\n",
            "0.942778 (0.023698) with: {'optimizer': 'Adadelta'}\n",
            "0.965338 (0.006206) with: {'optimizer': 'Adam'}\n",
            "0.967504 (0.002480) with: {'optimizer': 'Adamax'}\n",
            "0.965745 (0.002333) with: {'optimizer': 'Nadam'}\n"
          ],
          "name": "stdout"
        }
      ]
    }
  ]
}