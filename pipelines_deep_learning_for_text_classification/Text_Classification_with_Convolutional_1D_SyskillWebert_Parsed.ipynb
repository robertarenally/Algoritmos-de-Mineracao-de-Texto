{
  "nbformat": 4,
  "nbformat_minor": 0,
  "metadata": {
    "colab": {
      "name": "Text_Classification_With_Keras_in_SyskillWebert-Parsed.ipynb",
      "provenance": [],
      "collapsed_sections": [],
      "toc_visible": true
    },
    "kernelspec": {
      "name": "python3",
      "display_name": "Python 3"
    },
    "accelerator": "GPU"
  },
  "cells": [
    {
      "cell_type": "markdown",
      "metadata": {
        "id": "ldA3aHDrUsRv",
        "colab_type": "text"
      },
      "source": [
        "https://www.kaggle.com/carlosaguayo/deep-learning-for-text-classification/data"
      ]
    },
    {
      "cell_type": "code",
      "metadata": {
        "id": "K4SqRQMThJOu",
        "colab_type": "code",
        "outputId": "9f457782-d279-432f-a060-62abd8df3c57",
        "colab": {
          "base_uri": "https://localhost:8080/",
          "height": 34
        }
      },
      "source": [
        "import os\n",
        "import pandas as pd\n",
        "import numpy as np\n",
        "import matplotlib.pyplot as plt \n",
        "from keras.layers import Activation, Conv1D, Dense, Embedding, Flatten, Input, MaxPooling1D\n",
        "from keras.models import Sequential\n",
        "from keras.preprocessing.text import Tokenizer\n",
        "from keras.preprocessing.sequence import pad_sequences\n",
        "from sklearn.datasets.base import get_data_home\n",
        "from keras.metrics import categorical_accuracy\n",
        "from keras.utils import to_categorical\n",
        "from keras.wrappers.scikit_learn import KerasClassifier \n",
        "from sklearn.model_selection import GridSearchCV\n",
        "from sklearn.model_selection import train_test_split "
      ],
      "execution_count": 1,
      "outputs": [
        {
          "output_type": "stream",
          "text": [
            "Using TensorFlow backend.\n"
          ],
          "name": "stderr"
        }
      ]
    },
    {
      "cell_type": "code",
      "metadata": {
        "id": "EfSKrcqxU_O4",
        "colab_type": "code",
        "colab": {}
      },
      "source": [
        "# Code to read csv file into Colaboratory:\n",
        "!pip install -U -q PyDrive\n",
        "from pydrive.auth import GoogleAuth\n",
        "from pydrive.drive import GoogleDrive\n",
        "from google.colab import auth\n",
        "from oauth2client.client import GoogleCredentials\n",
        "# Authenticate and create the PyDrive client.\n",
        "auth.authenticate_user()\n",
        "gauth = GoogleAuth()\n",
        "gauth.credentials = GoogleCredentials.get_application_default()\n",
        "drive = GoogleDrive(gauth)"
      ],
      "execution_count": 0,
      "outputs": []
    },
    {
      "cell_type": "code",
      "metadata": {
        "id": "31L6A7YgeQmM",
        "colab_type": "code",
        "outputId": "e4f45e62-1a6b-4e1a-bcb3-26f700b07d05",
        "colab": {
          "base_uri": "https://localhost:8080/",
          "height": 34
        }
      },
      "source": [
        "link = 'https://drive.google.com/open?id=1wSgI9pAb1a-rrLKkIqDoazAGvDnOrugd'\n",
        "fluff, id = link.split('=')\n",
        "print (id) # Verify that you have everything after '='"
      ],
      "execution_count": 3,
      "outputs": [
        {
          "output_type": "stream",
          "text": [
            "1wSgI9pAb1a-rrLKkIqDoazAGvDnOrugd\n"
          ],
          "name": "stdout"
        }
      ]
    },
    {
      "cell_type": "code",
      "metadata": {
        "id": "9g8QdkVXhzxX",
        "colab_type": "code",
        "colab": {}
      },
      "source": [
        "#Carregando a base de dados\n",
        "downloaded = drive.CreateFile({'id':id}) \n",
        "downloaded.GetContentFile('SyskillWebert-Parsed.csv')  \n",
        "df3 = pd.read_csv('SyskillWebert-Parsed.csv')"
      ],
      "execution_count": 0,
      "outputs": []
    },
    {
      "cell_type": "code",
      "metadata": {
        "id": "fKdiWeQPh1SS",
        "colab_type": "code",
        "outputId": "ba2077f7-d54e-479c-d3cb-f85aa3f12475",
        "colab": {
          "base_uri": "https://localhost:8080/",
          "height": 34
        }
      },
      "source": [
        "print(len(df3.data))"
      ],
      "execution_count": 5,
      "outputs": [
        {
          "output_type": "stream",
          "text": [
            "334\n"
          ],
          "name": "stdout"
        }
      ]
    },
    {
      "cell_type": "code",
      "metadata": {
        "id": "IdCaplJyh595",
        "colab_type": "code",
        "colab": {}
      },
      "source": [
        "#Definindo constantes\n",
        "max_length = 100\n",
        "num_labels = 4\n",
        "vocab_size = 500\n",
        "batch_size = [100]\n",
        "epochs = [10]"
      ],
      "execution_count": 0,
      "outputs": []
    },
    {
      "cell_type": "markdown",
      "metadata": {
        "id": "0QG0HAxqWwFm",
        "colab_type": "text"
      },
      "source": [
        "# Pré-processamento do Texto\n",
        "\n",
        "É necessário tokenizar o texto antes de podermos alimentá-lo em uma rede neural. Esse processo de tokenização também removerá alguns dos recursos do texto original, como todas as pontuações ou palavras menos comuns."
      ]
    },
    {
      "cell_type": "code",
      "metadata": {
        "id": "9jLsJz3ph_Cb",
        "colab_type": "code",
        "colab": {}
      },
      "source": [
        "# Extract text\n",
        "tokenizer = Tokenizer(num_words=vocab_size) # Setup tokenizer\n",
        "tokenizer.fit_on_texts(df3.data)\n",
        "sequences = tokenizer.texts_to_sequences(df3.data) # Generate sequences\n",
        "x = pad_sequences(sequences, maxlen=max_length)\n",
        "# Extract target\n",
        "y = to_categorical(df3.target, num_labels)"
      ],
      "execution_count": 0,
      "outputs": []
    },
    {
      "cell_type": "code",
      "metadata": {
        "id": "H38ygtSHiI7j",
        "colab_type": "code",
        "outputId": "038cf3f0-05d7-4765-d1f5-56186d7bb623",
        "colab": {
          "base_uri": "https://localhost:8080/",
          "height": 51
        }
      },
      "source": [
        "print('Shape of data:', x.shape)\n",
        "print('Shape of labels:', y.shape)"
      ],
      "execution_count": 8,
      "outputs": [
        {
          "output_type": "stream",
          "text": [
            "Shape of data: (334, 100)\n",
            "Shape of labels: (334, 4)\n"
          ],
          "name": "stdout"
        }
      ]
    },
    {
      "cell_type": "markdown",
      "metadata": {
        "id": "I1KJmf6lXDXG",
        "colab_type": "text"
      },
      "source": [
        "# Dividindo o dataset em treinamento e teste"
      ]
    },
    {
      "cell_type": "code",
      "metadata": {
        "id": "kumkuu8EiKKr",
        "colab_type": "code",
        "colab": {}
      },
      "source": [
        "#this script divides data into 20% test set and 80% training set.\n",
        "X_train, X_test, y_train, y_test = train_test_split(x, y, test_size=0.2, random_state=0) "
      ],
      "execution_count": 0,
      "outputs": []
    },
    {
      "cell_type": "markdown",
      "metadata": {
        "id": "HxzqltLrZcnu",
        "colab_type": "text"
      },
      "source": [
        "# Carregando Vetores globais para representação de palavras (Glove)\n",
        "\n",
        "O GloVe é um algoritmo de aprendizado não supervisionado para obter representações vetoriais para palavras. O treinamento é realizado em estatísticas globais agregadas de co-ocorrência de palavra e palavra de um corpus, e as representações resultantes mostram subestruturas lineares interessantes do espaço vetorial de palavras.\n",
        "\n",
        "Este conjunto de dados contém vetores de palavras em inglês pré-treinados nos corpora combinado da Wikipedia 2014 + Gigaword 5th Edition (tokens 6B, vocabulário de 400K). Todos os tokens estão em minúsculas. Esse conjunto de dados contém vetores de palavras pré-treinados em 50, 100 e 200 dimensões."
      ]
    },
    {
      "cell_type": "markdown",
      "metadata": {
        "id": "WPeoe3oJaHfd",
        "colab_type": "text"
      },
      "source": [
        "# Reconhecimentos\n",
        "Esses dados foram liberados sob a Licença e Dedicação ao Domínio Público do Open Data Commons. Se você usar esse conjunto de dados em seu trabalho, cite o seguinte documento:\n",
        "\n",
        "Jeffrey Pennington, Richard Socher e Christopher D. Manning. 2014. GloVe: Vetores globais para representação de palavras. URL: https://nlp.stanford.edu/pubs/glove.pdf"
      ]
    },
    {
      "cell_type": "code",
      "metadata": {
        "id": "XtKk_q4kimXg",
        "colab_type": "code",
        "outputId": "56102bf0-a068-4aee-a401-06d599ea0ffb",
        "colab": {
          "base_uri": "https://localhost:8080/",
          "height": 34
        }
      },
      "source": [
        "link = 'https://drive.google.com/open?id=1erGe6LcwCDxpL9D8rRO7UYg0POVBvwX8'\n",
        "fluff, id = link.split('=')\n",
        "print (id) # Verify that you have everything after '='"
      ],
      "execution_count": 10,
      "outputs": [
        {
          "output_type": "stream",
          "text": [
            "1erGe6LcwCDxpL9D8rRO7UYg0POVBvwX8\n"
          ],
          "name": "stdout"
        }
      ]
    },
    {
      "cell_type": "code",
      "metadata": {
        "id": "aedYEDlOipxb",
        "colab_type": "code",
        "colab": {}
      },
      "source": [
        "downloaded = drive.CreateFile({'id':id}) \n",
        "downloaded.GetContentFile('glove.6B.100d.txt')  "
      ],
      "execution_count": 0,
      "outputs": []
    },
    {
      "cell_type": "code",
      "metadata": {
        "id": "EmvfMlmvitHX",
        "colab_type": "code",
        "outputId": "8b24f7ce-1751-4595-ace8-dfa9c4384953",
        "colab": {
          "base_uri": "https://localhost:8080/",
          "height": 34
        }
      },
      "source": [
        "embeddings_index = {} # We create a dictionary of word -> embedding\n",
        "\n",
        "with open(os.path.join('glove.6B.100d.txt')) as f:\n",
        "    for line in f:\n",
        "        values = line.split()\n",
        "        word = values[0] # The first value is the word, the rest are the values of the embedding\n",
        "        embedding = np.asarray(values[1:], dtype='float32') # Load embedding\n",
        "        embeddings_index[word] = embedding # Add embedding to our embedding dictionary\n",
        "\n",
        "print('Found {:,} word vectors in GloVe.'.format(len(embeddings_index)))"
      ],
      "execution_count": 12,
      "outputs": [
        {
          "output_type": "stream",
          "text": [
            "Found 400,000 word vectors in GloVe.\n"
          ],
          "name": "stdout"
        }
      ]
    },
    {
      "cell_type": "code",
      "metadata": {
        "id": "0DEvOXCrixuC",
        "colab_type": "code",
        "colab": {}
      },
      "source": [
        "embedding_dim = 100 # We use 100 dimensional glove vectors\n",
        "\n",
        "word_index = tokenizer.word_index\n",
        "nb_words = min(vocab_size, len(word_index)) # How many words are there actually\n",
        "\n",
        "embedding_matrix = np.zeros((nb_words, embedding_dim))\n",
        "\n",
        "# The vectors need to be in the same position as their index. \n",
        "# Meaning a word with token 1 needs to be in the second row (rows start with zero) and so on\n",
        "\n",
        "# Loop over all words in the word index\n",
        "for word, i in word_index.items():\n",
        "    # If we are above the amount of words we want to use we do nothing\n",
        "    if i >= vocab_size: \n",
        "        continue\n",
        "    # Get the embedding vector for the word\n",
        "    embedding_vector = embeddings_index.get(word)\n",
        "    # If there is an embedding vector, put it in the embedding matrix\n",
        "    if embedding_vector is not None: \n",
        "        embedding_matrix[i] = embedding_vector"
      ],
      "execution_count": 0,
      "outputs": []
    },
    {
      "cell_type": "code",
      "metadata": {
        "id": "I1GBsRrzi0Ct",
        "colab_type": "code",
        "outputId": "c09fc6f6-8b21-4d0f-c7cf-e42fd72b2795",
        "colab": {
          "base_uri": "https://localhost:8080/",
          "height": 581
        }
      },
      "source": [
        "# create model\n",
        "model = Sequential()\n",
        "model.add(Embedding(vocab_size, \n",
        "                    embedding_dim, \n",
        "                    input_length=max_length, \n",
        "                    weights = [embedding_matrix], \n",
        "                    trainable = False))\n",
        "model.add(Conv1D(128, 3, activation='relu'))\n",
        "model.add(MaxPooling1D(3))\n",
        "model.add(Conv1D(128, 3, activation='relu'))\n",
        "model.add(MaxPooling1D(3))\n",
        "model.add(Conv1D(128, 3, activation='relu'))\n",
        "model.add(MaxPooling1D(3))\n",
        "model.add(Flatten())\n",
        "model.add(Dense(128, activation='relu'))\n",
        "model.add(Dense(num_labels, activation='softmax'))\n",
        "model.summary()"
      ],
      "execution_count": 14,
      "outputs": [
        {
          "output_type": "stream",
          "text": [
            "WARNING:tensorflow:From /usr/local/lib/python3.6/dist-packages/keras/backend/tensorflow_backend.py:66: The name tf.get_default_graph is deprecated. Please use tf.compat.v1.get_default_graph instead.\n",
            "\n",
            "WARNING:tensorflow:From /usr/local/lib/python3.6/dist-packages/keras/backend/tensorflow_backend.py:4267: The name tf.nn.max_pool is deprecated. Please use tf.nn.max_pool2d instead.\n",
            "\n",
            "Model: \"sequential_1\"\n",
            "_________________________________________________________________\n",
            "Layer (type)                 Output Shape              Param #   \n",
            "=================================================================\n",
            "embedding_1 (Embedding)      (None, 100, 100)          50000     \n",
            "_________________________________________________________________\n",
            "conv1d_1 (Conv1D)            (None, 98, 128)           38528     \n",
            "_________________________________________________________________\n",
            "max_pooling1d_1 (MaxPooling1 (None, 32, 128)           0         \n",
            "_________________________________________________________________\n",
            "conv1d_2 (Conv1D)            (None, 30, 128)           49280     \n",
            "_________________________________________________________________\n",
            "max_pooling1d_2 (MaxPooling1 (None, 10, 128)           0         \n",
            "_________________________________________________________________\n",
            "conv1d_3 (Conv1D)            (None, 8, 128)            49280     \n",
            "_________________________________________________________________\n",
            "max_pooling1d_3 (MaxPooling1 (None, 2, 128)            0         \n",
            "_________________________________________________________________\n",
            "flatten_1 (Flatten)          (None, 256)               0         \n",
            "_________________________________________________________________\n",
            "dense_1 (Dense)              (None, 128)               32896     \n",
            "_________________________________________________________________\n",
            "dense_2 (Dense)              (None, 4)                 516       \n",
            "=================================================================\n",
            "Total params: 220,500\n",
            "Trainable params: 170,500\n",
            "Non-trainable params: 50,000\n",
            "_________________________________________________________________\n"
          ],
          "name": "stdout"
        }
      ]
    },
    {
      "cell_type": "code",
      "metadata": {
        "id": "cZymYHNMjB6s",
        "colab_type": "code",
        "outputId": "6cc767b0-5dc0-4224-cc53-1268c23b98e6",
        "colab": {
          "base_uri": "https://localhost:8080/",
          "height": 479
        }
      },
      "source": [
        "#model.compile(loss='binary_crossentropy', optimizer='adam', metrics=[categorical_accuracy])\n",
        "model.compile(loss='categorical_crossentropy', optimizer='adam', metrics=['accuracy'])\n",
        "history = model.fit(X_train, y_train, validation_data=(X_test, y_test), epochs=10)"
      ],
      "execution_count": 15,
      "outputs": [
        {
          "output_type": "stream",
          "text": [
            "WARNING:tensorflow:From /usr/local/lib/python3.6/dist-packages/keras/optimizers.py:793: The name tf.train.Optimizer is deprecated. Please use tf.compat.v1.train.Optimizer instead.\n",
            "\n",
            "WARNING:tensorflow:From /usr/local/lib/python3.6/dist-packages/tensorflow_core/python/ops/math_grad.py:1424: where (from tensorflow.python.ops.array_ops) is deprecated and will be removed in a future version.\n",
            "Instructions for updating:\n",
            "Use tf.where in 2.0, which has the same broadcast rule as np.where\n",
            "Train on 267 samples, validate on 67 samples\n",
            "Epoch 1/10\n",
            "267/267 [==============================] - 4s 16ms/step - loss: 1.3047 - acc: 0.4419 - val_loss: 1.2543 - val_acc: 0.4776\n",
            "Epoch 2/10\n",
            "267/267 [==============================] - 0s 325us/step - loss: 1.0087 - acc: 0.5918 - val_loss: 1.1238 - val_acc: 0.6269\n",
            "Epoch 3/10\n",
            "267/267 [==============================] - 0s 319us/step - loss: 0.7886 - acc: 0.6592 - val_loss: 1.2048 - val_acc: 0.5672\n",
            "Epoch 4/10\n",
            "267/267 [==============================] - 0s 318us/step - loss: 0.6310 - acc: 0.7416 - val_loss: 0.9447 - val_acc: 0.6269\n",
            "Epoch 5/10\n",
            "267/267 [==============================] - 0s 343us/step - loss: 0.4573 - acc: 0.8090 - val_loss: 0.9166 - val_acc: 0.6866\n",
            "Epoch 6/10\n",
            "267/267 [==============================] - 0s 326us/step - loss: 0.3595 - acc: 0.8689 - val_loss: 0.7861 - val_acc: 0.6119\n",
            "Epoch 7/10\n",
            "267/267 [==============================] - 0s 308us/step - loss: 0.2679 - acc: 0.8914 - val_loss: 0.8093 - val_acc: 0.6269\n",
            "Epoch 8/10\n",
            "267/267 [==============================] - 0s 318us/step - loss: 0.3089 - acc: 0.8839 - val_loss: 1.0754 - val_acc: 0.6269\n",
            "Epoch 9/10\n",
            "267/267 [==============================] - 0s 338us/step - loss: 0.2945 - acc: 0.8764 - val_loss: 1.0922 - val_acc: 0.6716\n",
            "Epoch 10/10\n",
            "267/267 [==============================] - 0s 367us/step - loss: 0.2578 - acc: 0.9101 - val_loss: 0.7965 - val_acc: 0.6866\n"
          ],
          "name": "stdout"
        }
      ]
    },
    {
      "cell_type": "markdown",
      "metadata": {
        "id": "vsufnkYRbT4C",
        "colab_type": "text"
      },
      "source": [
        "# Plotando os gráficos dos resultados"
      ]
    },
    {
      "cell_type": "code",
      "metadata": {
        "id": "jRxuyA02fjvt",
        "colab_type": "code",
        "outputId": "9035015c-4e2f-432e-e7ba-a87f78ad9c4b",
        "colab": {
          "base_uri": "https://localhost:8080/",
          "height": 465
        }
      },
      "source": [
        "plt.figure(figsize =(5,3))\n",
        "plt.plot(history.history['loss'], marker='.', label='train')\n",
        "plt.plot(history.history['val_loss'], marker='.', label='test')\n",
        "plt.title('Loss')\n",
        "plt.grid(True)\n",
        "plt.xlabel('epoch')\n",
        "plt.ylabel('loss')\n",
        "plt.legend(loc='best')\n",
        "plt.show()\n",
        "\n",
        "plt.figure(figsize =(5,3))\n",
        "plt.plot(history.history['acc'], marker='.', label='train')\n",
        "plt.plot(history.history['val_acc'], marker='.', label='test')\n",
        "plt.title('Accuracy')\n",
        "plt.grid(True)\n",
        "plt.xlabel('epoch')\n",
        "plt.ylabel('accuracy')\n",
        "plt.legend(loc='best')\n",
        "plt.show()"
      ],
      "execution_count": 16,
      "outputs": [
        {
          "output_type": "display_data",
          "data": {
            "image/png": "[encoded data removed]",
            "text/plain": [
              "<Figure size 360x216 with 1 Axes>"
            ]
          },
          "metadata": {
            "tags": []
          }
        },
        {
          "output_type": "display_data",
          "data": {
            "image/png": "[encoded data removed]",
            "text/plain": [
              "<Figure size 360x216 with 1 Axes>"
            ]
          },
          "metadata": {
            "tags": []
          }
        }
      ]
    },
    {
      "cell_type": "markdown",
      "metadata": {
        "id": "A-n-9_Mdbiuz",
        "colab_type": "text"
      },
      "source": [
        "# Keras with GridSearchCV"
      ]
    },
    {
      "cell_type": "code",
      "metadata": {
        "id": "mgx3Z1IBjjW_",
        "colab_type": "code",
        "colab": {}
      },
      "source": [
        "def create_model(optimizer='adam'):\n",
        "    model = Sequential()\n",
        "    model.add(Embedding(vocab_size, embedding_dim, input_length=max_length, \n",
        "                        weights = [embedding_matrix], \n",
        "                        trainable = False))\n",
        "    model.add(Conv1D(128, 3, activation='relu'))\n",
        "    model.add(MaxPooling1D(3))\n",
        "    model.add(Conv1D(128, 3, activation='relu'))\n",
        "    model.add(MaxPooling1D(3))\n",
        "    model.add(Conv1D(128, 3, activation='relu'))\n",
        "    model.add(MaxPooling1D(3))\n",
        "    model.add(Flatten())\n",
        "    model.add(Dense(128, activation='relu'))\n",
        "    model.add(Dense(num_labels, activation='softmax'))\n",
        "    # Compile model\n",
        "    model.compile(loss='binary_crossentropy', optimizer=optimizer, metrics=['accuracy'])\n",
        "    return model"
      ],
      "execution_count": 0,
      "outputs": []
    },
    {
      "cell_type": "code",
      "metadata": {
        "id": "43RH3VGsjmnR",
        "colab_type": "code",
        "colab": {}
      },
      "source": [
        "# create model\n",
        "model = KerasClassifier(build_fn=create_model, epochs=10, batch_size=100, verbose=0)"
      ],
      "execution_count": 0,
      "outputs": []
    },
    {
      "cell_type": "code",
      "metadata": {
        "id": "WbNd_qvijqgx",
        "colab_type": "code",
        "outputId": "c480b51c-948f-4571-8d0a-6ed35f7302e0",
        "colab": {
          "base_uri": "https://localhost:8080/",
          "height": 173
        }
      },
      "source": [
        "optimizer = ['SGD', 'RMSprop', 'Adagrad', 'Adadelta', 'Adam', 'Adamax', 'Nadam']\n",
        "param_grid = dict(optimizer=optimizer)\n",
        "grid = GridSearchCV(estimator=model, param_grid=param_grid, n_jobs=-1, cv=10, verbose=True,return_train_score=True)\n",
        "grid_result = grid.fit(x, y)"
      ],
      "execution_count": 19,
      "outputs": [
        {
          "output_type": "stream",
          "text": [
            "Fitting 10 folds for each of 7 candidates, totalling 70 fits\n"
          ],
          "name": "stdout"
        },
        {
          "output_type": "stream",
          "text": [
            "[Parallel(n_jobs=-1)]: Using backend LokyBackend with 2 concurrent workers.\n",
            "/usr/local/lib/python3.6/dist-packages/joblib/externals/loky/process_executor.py:706: UserWarning: A worker stopped while some jobs were given to the executor. This can be caused by a too short worker timeout or by a memory leak.\n",
            "  \"timeout or by a memory leak.\", UserWarning\n",
            "[Parallel(n_jobs=-1)]: Done  46 tasks      | elapsed:  1.6min\n",
            "[Parallel(n_jobs=-1)]: Done  70 out of  70 | elapsed:  2.5min finished\n",
            "/usr/local/lib/python3.6/dist-packages/sklearn/model_selection/_search.py:814: DeprecationWarning: The default of the `iid` parameter will change from True to False in version 0.22 and will be removed in 0.24. This will change numeric results when test-set sizes are unequal.\n",
            "  DeprecationWarning)\n"
          ],
          "name": "stderr"
        }
      ]
    },
    {
      "cell_type": "code",
      "metadata": {
        "id": "_mTYbxKajy0M",
        "colab_type": "code",
        "outputId": "62dd6e3a-1823-42b3-d9f8-0dfae7cc00fc",
        "colab": {
          "base_uri": "https://localhost:8080/",
          "height": 190
        }
      },
      "source": [
        "df = pd.DataFrame(grid_result.cv_results_)\n",
        "df.to_csv('resultado_deep_learning_SyskillWebert-Parsed.csv')\n",
        "print(df.to_csv())"
      ],
      "execution_count": 22,
      "outputs": [
        {
          "output_type": "stream",
          "text": [
            ",mean_fit_time,std_fit_time,mean_score_time,std_score_time,param_optimizer,params,split0_test_score,split1_test_score,split2_test_score,split3_test_score,split4_test_score,split5_test_score,split6_test_score,split7_test_score,split8_test_score,split9_test_score,mean_test_score,std_test_score,rank_test_score,split0_train_score,split1_train_score,split2_train_score,split3_train_score,split4_train_score,split5_train_score,split6_train_score,split7_train_score,split8_train_score,split9_train_score,mean_train_score,std_train_score\n",
            "0,2.78171169757843,1.1375839094735714,0.2568046092987061,0.09531281034648513,SGD,{'optimizer': 'SGD'},0.7426470518112183,0.7720588445663452,0.7647058963775635,0.7426470518112183,0.7803030014038086,0.75,0.6818181872367859,0.75,0.7727272510528564,0.8257575631141663,0.7582335293649913,0.03439305751323314,7,0.7524999976158142,0.7716666460037231,0.7858333587646484,0.7799999912579855,0.7882059840268867,0.75,0.7475083088161938,0.75,0.784883727266939,0.8031561548923734,0.7713754168644564,0.01897101769296106\n",
            "1,3.3583038091659545,0.41864965713449215,0.3685442447662354,0.0711524098503551,RMSprop,{'optimizer': 'RMSprop'},0.8602941036224365,0.845588207244873,0.8014705777168274,0.6985294222831726,0.8636363744735718,0.7575757503509521,0.7803030014038086,0.8030303120613098,0.8257575631141663,0.6969696879386902,0.7934131656221287,0.05760317407712797,5,0.9258333444595337,0.9133333365122477,0.8741666674613953,0.737500011920929,0.8754152823920266,0.7948505149727247,0.8712624624322023,0.82724253125365,0.8529900340146797,0.7209302404790225,0.8393524425898411,0.06572192791460117\n",
            "2,2.7251766443252565,0.952442691735691,0.22740440368652343,0.054284250723742836,Adagrad,{'optimizer': 'Adagrad'},0.8823529481887817,0.875,0.904411792755127,0.845588207244873,0.8333333134651184,0.7727272510528564,0.810606062412262,0.7727272510528564,0.8636363744735718,0.8787878751754761,0.8443113726056265,0.043613307521400316,1,0.9424999952316284,0.9241666793823242,0.9358333349227905,0.9141666690508524,0.8803986663438157,0.836378734373175,0.8795681015597625,0.7358804129286858,0.8529900340146797,0.9019933491450212,0.8803875976952735,0.05833268941790979\n",
            "3,3.999640202522278,0.7198108656788068,0.3968658447265625,0.1592158223638721,Adadelta,{'optimizer': 'Adadelta'},0.8382353186607361,0.8161764740943909,0.8602941036224365,0.75,0.75,0.8030303120613098,0.6666666865348816,0.7727272510528564,0.7878788113594055,0.7651515007019043,0.7814371287822723,0.051651045405341586,6,0.815833330154419,0.8391666611035665,0.8658333420753479,0.7933333317438761,0.7475083072320171,0.8338870431893688,0.7591362229217327,0.7956810385681862,0.7782391947369243,0.7691029916173991,0.7997721463342837,0.03630846305024206\n",
            "4,2.970379853248596,0.48526035611785334,0.2961524486541748,0.0495531645871279,Adam,{'optimizer': 'Adam'},0.875,0.8602941036224365,0.8676470518112183,0.8088235259056091,0.8181818127632141,0.7424242496490479,0.8030303120613098,0.8409090638160706,0.8257575631141663,0.8484848737716675,0.8293413145099572,0.03714538009502518,4,0.9233333468437195,0.9350000023841858,0.9166666865348816,0.9175000190734863,0.792358803986711,0.8139534859958281,0.838039863149193,0.8646179504964835,0.8621262387183813,0.8496677978490278,0.8713264195031897,0.04709677501532459\n",
            "5,3.491912078857422,1.0386586449145134,0.29536173343658445,0.13133983508779076,Adamax,{'optimizer': 'Adamax'},0.8602941036224365,0.8529411554336548,0.8676470518112183,0.8235294222831726,0.8257575631141663,0.8181818127632141,0.810606062412262,0.8181818127632141,0.8787878751754761,0.8409090638160706,0.8398203508939571,0.022639983334730093,2,0.9399999976158142,0.909166673819224,0.9058333436648051,0.9150000214576721,0.850498362633081,0.8338870233871613,0.8812292303357806,0.8438538103008587,0.8745847184000617,0.8347176063892453,0.8788770788003705,0.03565821070194975\n",
            "6,3.658277750015259,0.6045348582871967,0.37192978858947756,0.06128725394498588,Nadam,{'optimizer': 'Nadam'},0.875,0.8823529481887817,0.904411792755127,0.875,0.8030303120613098,0.8333333134651184,0.810606062412262,0.8409090638160706,0.7878788113594055,0.7651515007019043,0.8383233541856983,0.0435699082902568,3,0.8933333158493042,0.9424999952316284,0.9333333373069763,0.9399999976158142,0.8388704271411579,0.8181063075398289,0.8571428547665922,0.8480066508549788,0.7906976950129005,0.7458471800401757,0.8607837761359358,0.06314761586043711\n",
            "\n"
          ],
          "name": "stdout"
        }
      ]
    },
    {
      "cell_type": "code",
      "metadata": {
        "id": "g9ioKJTykWJl",
        "colab_type": "code",
        "outputId": "9b7c8255-2287-4a78-8042-82ce039c968c",
        "colab": {
          "base_uri": "https://localhost:8080/",
          "height": 153
        }
      },
      "source": [
        "# summarize results\n",
        "print(\"Best: %f using %s\" % (grid_result.best_score_, grid_result.best_params_))\n",
        "means = grid_result.cv_results_['mean_test_score']\n",
        "stds = grid_result.cv_results_['std_test_score']\n",
        "params = grid_result.cv_results_['params']\n",
        "for mean, stdev, param in zip(means, stds, params):\n",
        "    print(\"%f (%f) with: %r\" % (mean, stdev, param))"
      ],
      "execution_count": 23,
      "outputs": [
        {
          "output_type": "stream",
          "text": [
            "Best: 0.844311 using {'optimizer': 'Adagrad'}\n",
            "0.758234 (0.034393) with: {'optimizer': 'SGD'}\n",
            "0.793413 (0.057603) with: {'optimizer': 'RMSprop'}\n",
            "0.844311 (0.043613) with: {'optimizer': 'Adagrad'}\n",
            "0.781437 (0.051651) with: {'optimizer': 'Adadelta'}\n",
            "0.829341 (0.037145) with: {'optimizer': 'Adam'}\n",
            "0.839820 (0.022640) with: {'optimizer': 'Adamax'}\n",
            "0.838323 (0.043570) with: {'optimizer': 'Nadam'}\n"
          ],
          "name": "stdout"
        }
      ]
    }
  ]
}