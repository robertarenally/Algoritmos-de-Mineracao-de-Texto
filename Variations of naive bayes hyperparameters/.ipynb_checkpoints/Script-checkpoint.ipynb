{
 "cells": [
  {
   "cell_type": "code",
   "execution_count": 1,
   "metadata": {},
   "outputs": [],
   "source": [
    "import pandas as pd"
   ]
  },
  {
   "cell_type": "code",
   "execution_count": 5,
   "metadata": {},
   "outputs": [],
   "source": [
    "resultados = pd.read_csv('resultado_naive_bayes_dataset_20ng.csv', sep=';')"
   ]
  },
  {
   "cell_type": "code",
   "execution_count": 8,
   "metadata": {},
   "outputs": [
    {
     "name": "stdout",
     "output_type": "stream",
     "text": [
      "mean_test_accuracy: 0.898179 (0.010127) - mean_train_accuracy: 0.997486 (0.010127) with: \"{'mnb__alpha': 1e-05}\"\n",
      "mean_test_accuracy: 0.893230 (0.010655) - mean_train_accuracy: 0.997663 (0.010655) with: \"{'mnb__alpha': 1e-06}\"\n",
      "mean_test_accuracy: 0.906841 (0.010180) - mean_train_accuracy: 0.996229 (0.010180) with: \"{'mnb__alpha': 0.001}\"\n",
      "mean_test_accuracy: 0.913116 (0.007951) - mean_train_accuracy: 0.994717 (0.007951) with: \"{'mnb__alpha': 0.01}\"\n",
      "mean_test_accuracy: 0.905780 (0.006348) - mean_train_accuracy: 0.983953 (0.006348) with: \"{'mnb__alpha': 0.1}\"\n",
      "mean_test_accuracy: 0.857964 (0.004302) - mean_train_accuracy: 0.931403 (0.004302) with: \"{'mnb__alpha': 1.0}\"\n"
     ]
    }
   ],
   "source": [
    "means_test = resultados['mean_test_accuracy']\n",
    "std_test_acuracy = resultados['std_test_accuracy']\n",
    "means_train = resultados['mean_train_accuracy']\n",
    "std_train_acuracy = resultados['std_test_accuracy']\n",
    "params = resultados['params']\n",
    "\n",
    "for test, stdev_test, train, stdev_train, param in zip(means_test, std_test_acuracy, means_train, std_train_acuracy, params):\n",
    "    print(\"mean_test_accuracy: %f (%f) - mean_train_accuracy: %f (%f) with: %r\" %(test, stdev_test, train, stdev_train, param))\n",
    "\n",
    "test_20ng = means_test"
   ]
  },
  {
   "cell_type": "code",
   "execution_count": 9,
   "metadata": {},
   "outputs": [],
   "source": [
    "resultados = pd.read_csv('resultado_naive_bayes_dataset_classic3.csv', sep=';')"
   ]
  },
  {
   "cell_type": "code",
   "execution_count": 10,
   "metadata": {},
   "outputs": [
    {
     "name": "stdout",
     "output_type": "stream",
     "text": [
      "mean_test_accuracy: 0.950388 (0.006823) - mean_train_accuracy: 0.991355 (0.006823) with: \"{'mnb__alpha': 1e-05}\"\n",
      "mean_test_accuracy: 0.948414 (0.006822) - mean_train_accuracy: 0.992185 (0.006822) with: \"{'mnb__alpha': 1e-06}\"\n",
      "mean_test_accuracy: 0.954475 (0.005082) - mean_train_accuracy: 0.989006 (0.005082) with: \"{'mnb__alpha': 0.001}\"\n",
      "mean_test_accuracy: 0.958421 (0.004758) - mean_train_accuracy: 0.985765 (0.004758) with: \"{'mnb__alpha': 0.01}\"\n",
      "mean_test_accuracy: 0.959972 (0.006421) - mean_train_accuracy: 0.980362 (0.006421) with: \"{'mnb__alpha': 0.1}\"\n",
      "mean_test_accuracy: 0.954757 (0.006491) - mean_train_accuracy: 0.971341 (0.006491) with: \"{'mnb__alpha': 1.0}\"\n"
     ]
    }
   ],
   "source": [
    "means_test = resultados['mean_test_accuracy']\n",
    "std_test_acuracy = resultados['std_test_accuracy']\n",
    "means_train = resultados['mean_train_accuracy']\n",
    "std_train_acuracy = resultados['std_test_accuracy']\n",
    "params = resultados['params']\n",
    "\n",
    "for test, stdev_test, train, stdev_train, param in zip(means_test, std_test_acuracy, means_train, std_train_acuracy, params):\n",
    "    print(\"mean_test_accuracy: %f (%f) - mean_train_accuracy: %f (%f) with: %r\" %(test, stdev_test, train, stdev_train, param))\n",
    "\n",
    "test_classic3 = means_test"
   ]
  },
  {
   "cell_type": "code",
   "execution_count": 11,
   "metadata": {},
   "outputs": [
    {
     "name": "stdout",
     "output_type": "stream",
     "text": [
      "mean_test_accuracy: 0.792642 (0.092184) - mean_train_accuracy: 0.978820 (0.092184) with: \"{'mnb__alpha': 1e-05}\"\n",
      "mean_test_accuracy: 0.782609 (0.081447) - mean_train_accuracy: 0.978820 (0.081447) with: \"{'mnb__alpha': 1e-06}\"\n",
      "mean_test_accuracy: 0.819398 (0.095429) - mean_train_accuracy: 0.978820 (0.095429) with: \"{'mnb__alpha': 0.001}\"\n",
      "mean_test_accuracy: 0.842809 (0.090519) - mean_train_accuracy: 0.978820 (0.090519) with: \"{'mnb__alpha': 0.01}\"\n",
      "mean_test_accuracy: 0.846154 (0.082407) - mean_train_accuracy: 0.974734 (0.082407) with: \"{'mnb__alpha': 0.1}\"\n",
      "mean_test_accuracy: 0.698997 (0.075632) - mean_train_accuracy: 0.823479 (0.075632) with: \"{'mnb__alpha': 1.0}\"\n"
     ]
    }
   ],
   "source": [
    "resultados = pd.read_csv('resultado_naive_bayes_dataset_CSTR.csv', sep=';')\n",
    "means_test = resultados['mean_test_accuracy']\n",
    "std_test_acuracy = resultados['std_test_accuracy']\n",
    "means_train = resultados['mean_train_accuracy']\n",
    "std_train_acuracy = resultados['std_test_accuracy']\n",
    "params = resultados['params']\n",
    "\n",
    "for test, stdev_test, train, stdev_train, param in zip(means_test, std_test_acuracy, means_train, std_train_acuracy, params):\n",
    "    print(\"mean_test_accuracy: %f (%f) - mean_train_accuracy: %f (%f) with: %r\" %(test, stdev_test, train, stdev_train, param))\n",
    "    \n",
    "test_cstr = means_test"
   ]
  },
  {
   "cell_type": "code",
   "execution_count": 13,
   "metadata": {},
   "outputs": [
    {
     "name": "stdout",
     "output_type": "stream",
     "text": [
      "mean_test_accuracy: 0.680723 (0.026921) - mean_train_accuracy: 0.978114 (0.026921) with: \"{'mnb__alpha': 1e-05}\"\n",
      "mean_test_accuracy: 0.676506 (0.026453) - mean_train_accuracy: 0.982798 (0.026453) with: \"{'mnb__alpha': 1e-06}\"\n",
      "mean_test_accuracy: 0.676506 (0.022515) - mean_train_accuracy: 0.961714 (0.022515) with: \"{'mnb__alpha': 0.001}\"\n",
      "mean_test_accuracy: 0.681325 (0.019058) - mean_train_accuracy: 0.943708 (0.019058) with: \"{'mnb__alpha': 0.01}\"\n",
      "mean_test_accuracy: 0.675301 (0.025252) - mean_train_accuracy: 0.897056 (0.025252) with: \"{'mnb__alpha': 0.1}\"\n",
      "mean_test_accuracy: 0.536747 (0.019545) - mean_train_accuracy: 0.670749 (0.019545) with: \"{'mnb__alpha': 1.0}\"\n"
     ]
    }
   ],
   "source": [
    "resultados = pd.read_csv('resultado_naive_bayes_dataset_IrishEconomicSentiment.csv', sep=';')\n",
    "means_test = resultados['mean_test_accuracy']\n",
    "std_test_acuracy = resultados['std_test_accuracy']\n",
    "means_train = resultados['mean_train_accuracy']\n",
    "std_train_acuracy = resultados['std_test_accuracy']\n",
    "params = resultados['params']\n",
    "\n",
    "for test, stdev_test, train, stdev_train, param in zip(means_test, std_test_acuracy, means_train, std_train_acuracy, params):\n",
    "    print(\"mean_test_accuracy: %f (%f) - mean_train_accuracy: %f (%f) with: %r\" %(test, stdev_test, train, stdev_train, param))\n",
    "\n",
    "test_IrishEconomicSentiment = means_test"
   ]
  },
  {
   "cell_type": "code",
   "execution_count": 14,
   "metadata": {},
   "outputs": [
    {
     "name": "stdout",
     "output_type": "stream",
     "text": [
      "mean_test_accuracy: 0.754500 (0.015229) - mean_train_accuracy: 0.966931 (0.015229) with: \"{'mnb__alpha': 1e-05}\"\n",
      "mean_test_accuracy: 0.748875 (0.015139) - mean_train_accuracy: 0.967056 (0.015139) with: \"{'mnb__alpha': 1e-06}\"\n",
      "mean_test_accuracy: 0.775250 (0.012410) - mean_train_accuracy: 0.965417 (0.012410) with: \"{'mnb__alpha': 0.001}\"\n",
      "mean_test_accuracy: 0.788625 (0.011692) - mean_train_accuracy: 0.962889 (0.011692) with: \"{'mnb__alpha': 0.01}\"\n",
      "mean_test_accuracy: 0.809500 (0.011014) - mean_train_accuracy: 0.952528 (0.011014) with: \"{'mnb__alpha': 0.1}\"\n",
      "mean_test_accuracy: 0.826750 (0.006897) - mean_train_accuracy: 0.926778 (0.006897) with: \"{'mnb__alpha': 1.0}\"\n"
     ]
    }
   ],
   "source": [
    "resultados = pd.read_csv('resultado_naive_bayes_dataset_multi-domain-sentiment.csv', sep=';')\n",
    "means_test = resultados['mean_test_accuracy']\n",
    "std_test_acuracy = resultados['std_test_accuracy']\n",
    "means_train = resultados['mean_train_accuracy']\n",
    "std_train_acuracy = resultados['std_test_accuracy']\n",
    "params = resultados['params']\n",
    "\n",
    "for test, stdev_test, train, stdev_train, param in zip(means_test, std_test_acuracy, means_train, std_train_acuracy, params):\n",
    "    print(\"mean_test_accuracy: %f (%f) - mean_train_accuracy: %f (%f) with: %r\" %(test, stdev_test, train, stdev_train, param))\n",
    "\n",
    "test_multi_domain_sentiment = means_test"
   ]
  },
  {
   "cell_type": "code",
   "execution_count": 15,
   "metadata": {},
   "outputs": [
    {
     "name": "stdout",
     "output_type": "stream",
     "text": [
      "mean_test_accuracy: 0.795230 (0.015720) - mean_train_accuracy: 0.964388 (0.015720) with: \"{'mnb__alpha': 1e-05}\"\n",
      "mean_test_accuracy: 0.791334 (0.015691) - mean_train_accuracy: 0.964399 (0.015691) with: \"{'mnb__alpha': 1e-06}\"\n",
      "mean_test_accuracy: 0.810243 (0.016131) - mean_train_accuracy: 0.963924 (0.016131) with: \"{'mnb__alpha': 0.001}\"\n",
      "mean_test_accuracy: 0.826112 (0.016938) - mean_train_accuracy: 0.962330 (0.016938) with: \"{'mnb__alpha': 0.01}\"\n",
      "mean_test_accuracy: 0.838179 (0.013357) - mean_train_accuracy: 0.951149 (0.013357) with: \"{'mnb__alpha': 0.1}\"\n",
      "mean_test_accuracy: 0.746294 (0.009546) - mean_train_accuracy: 0.832763 (0.009546) with: \"{'mnb__alpha': 1.0}\"\n"
     ]
    }
   ],
   "source": [
    "resultados = pd.read_csv('resultado_naive_bayes_dataset_NSF.csv', sep=';')\n",
    "means_test = resultados['mean_test_accuracy']\n",
    "std_test_acuracy = resultados['std_test_accuracy']\n",
    "means_train = resultados['mean_train_accuracy']\n",
    "std_train_acuracy = resultados['std_test_accuracy']\n",
    "params = resultados['params']\n",
    "\n",
    "for test, stdev_test, train, stdev_train, param in zip(means_test, std_test_acuracy, means_train, std_train_acuracy, params):\n",
    "    print(\"mean_test_accuracy: %f (%f) - mean_train_accuracy: %f (%f) with: %r\" %(test, stdev_test, train, stdev_train, param))\n",
    "\n",
    "test_NSF = means_test"
   ]
  },
  {
   "cell_type": "code",
   "execution_count": 16,
   "metadata": {},
   "outputs": [
    {
     "name": "stdout",
     "output_type": "stream",
     "text": [
      "mean_test_accuracy: 0.410872 (0.018241) - mean_train_accuracy: 0.888235 (0.018241) with: \"{'mnb__alpha': 1e-05}\"\n",
      "mean_test_accuracy: 0.402509 (0.018586) - mean_train_accuracy: 0.888303 (0.018586) with: \"{'mnb__alpha': 1e-06}\"\n",
      "mean_test_accuracy: 0.444014 (0.016741) - mean_train_accuracy: 0.887186 (0.016741) with: \"{'mnb__alpha': 0.001}\"\n",
      "mean_test_accuracy: 0.483042 (0.017715) - mean_train_accuracy: 0.883587 (0.017715) with: \"{'mnb__alpha': 0.01}\"\n",
      "mean_test_accuracy: 0.501007 (0.017620) - mean_train_accuracy: 0.831515 (0.017620) with: \"{'mnb__alpha': 0.1}\"\n",
      "mean_test_accuracy: 0.332352 (0.013739) - mean_train_accuracy: 0.419407 (0.013739) with: \"{'mnb__alpha': 1.0}\"\n"
     ]
    }
   ],
   "source": [
    "resultados = pd.read_csv('resultado_naive_bayes_dataset_Opinosis-Parsed.csv', sep=';')\n",
    "means_test = resultados['mean_test_accuracy']\n",
    "std_test_acuracy = resultados['std_test_accuracy']\n",
    "means_train = resultados['mean_train_accuracy']\n",
    "std_train_acuracy = resultados['std_test_accuracy']\n",
    "params = resultados['params']\n",
    "\n",
    "for test, stdev_test, train, stdev_train, param in zip(means_test, std_test_acuracy, means_train, std_train_acuracy, params):\n",
    "    print(\"mean_test_accuracy: %f (%f) - mean_train_accuracy: %f (%f) with: %r\" %(test, stdev_test, train, stdev_train, param))\n",
    "\n",
    "test_Opinosis_Parsed = means_test"
   ]
  },
  {
   "cell_type": "code",
   "execution_count": 17,
   "metadata": {},
   "outputs": [
    {
     "name": "stdout",
     "output_type": "stream",
     "text": [
      "mean_test_accuracy: 0.915168 (0.009474) - mean_train_accuracy: 0.989503 (0.009474) with: \"{'mnb__alpha': 1e-05}\"\n",
      "mean_test_accuracy: 0.907610 (0.010184) - mean_train_accuracy: 0.990372 (0.010184) with: \"{'mnb__alpha': 1e-06}\"\n",
      "mean_test_accuracy: 0.928329 (0.009008) - mean_train_accuracy: 0.984102 (0.009008) with: \"{'mnb__alpha': 0.001}\"\n",
      "mean_test_accuracy: 0.936669 (0.008739) - mean_train_accuracy: 0.979498 (0.008739) with: \"{'mnb__alpha': 0.01}\"\n",
      "mean_test_accuracy: 0.938233 (0.007833) - mean_train_accuracy: 0.969652 (0.007833) with: \"{'mnb__alpha': 0.1}\"\n",
      "mean_test_accuracy: 0.863565 (0.006988) - mean_train_accuracy: 0.884068 (0.006988) with: \"{'mnb__alpha': 1.0}\"\n"
     ]
    }
   ],
   "source": [
    "resultados = pd.read_csv('resultado_naive_bayes_dataset_re8.csv', sep=';')\n",
    "means_test = resultados['mean_test_accuracy']\n",
    "std_test_acuracy = resultados['std_test_accuracy']\n",
    "means_train = resultados['mean_train_accuracy']\n",
    "std_train_acuracy = resultados['std_test_accuracy']\n",
    "params = resultados['params']\n",
    "\n",
    "for test, stdev_test, train, stdev_train, param in zip(means_test, std_test_acuracy, means_train, std_train_acuracy, params):\n",
    "    print(\"mean_test_accuracy: %f (%f) - mean_train_accuracy: %f (%f) with: %r\" %(test, stdev_test, train, stdev_train, param))\n",
    "    \n",
    "test_re8 = means_test"
   ]
  },
  {
   "cell_type": "code",
   "execution_count": 18,
   "metadata": {},
   "outputs": [
    {
     "name": "stdout",
     "output_type": "stream",
     "text": [
      "mean_test_accuracy: 0.755500 (0.043038) - mean_train_accuracy: 0.995500 (0.043038) with: \"{'mnb__alpha': 1e-05}\"\n",
      "mean_test_accuracy: 0.743500 (0.041113) - mean_train_accuracy: 0.995833 (0.041113) with: \"{'mnb__alpha': 1e-06}\"\n",
      "mean_test_accuracy: 0.774500 (0.043729) - mean_train_accuracy: 0.991889 (0.043729) with: \"{'mnb__alpha': 0.001}\"\n",
      "mean_test_accuracy: 0.796500 (0.036746) - mean_train_accuracy: 0.986889 (0.036746) with: \"{'mnb__alpha': 0.01}\"\n",
      "mean_test_accuracy: 0.809000 (0.032078) - mean_train_accuracy: 0.972944 (0.032078) with: \"{'mnb__alpha': 0.1}\"\n",
      "mean_test_accuracy: 0.813500 (0.024192) - mean_train_accuracy: 0.947278 (0.024192) with: \"{'mnb__alpha': 1.0}\"\n"
     ]
    }
   ],
   "source": [
    "resultados = pd.read_csv('resultado_naive_bayes_dataset_review_polarity.csv', sep=';')\n",
    "means_test = resultados['mean_test_accuracy']\n",
    "std_test_acuracy = resultados['std_test_accuracy']\n",
    "means_train = resultados['mean_train_accuracy']\n",
    "std_train_acuracy = resultados['std_test_accuracy']\n",
    "params = resultados['params']\n",
    "\n",
    "for test, stdev_test, train, stdev_train, param in zip(means_test, std_test_acuracy, means_train, std_train_acuracy, params):\n",
    "    print(\"mean_test_accuracy: %f (%f) - mean_train_accuracy: %f (%f) with: %r\" %(test, stdev_test, train, stdev_train, param))\n",
    "\n",
    "test_review_polarity = means_test"
   ]
  },
  {
   "cell_type": "code",
   "execution_count": 19,
   "metadata": {},
   "outputs": [
    {
     "name": "stdout",
     "output_type": "stream",
     "text": [
      "mean_test_accuracy: 0.907840 (0.013823) - mean_train_accuracy: 0.996778 (0.013823) with: \"{'mnb__alpha': 1e-05}\"\n",
      "mean_test_accuracy: 0.899730 (0.014805) - mean_train_accuracy: 0.997542 (0.014805) with: \"{'mnb__alpha': 1e-06}\"\n",
      "mean_test_accuracy: 0.929467 (0.014590) - mean_train_accuracy: 0.994675 (0.014590) with: \"{'mnb__alpha': 0.001}\"\n",
      "mean_test_accuracy: 0.937823 (0.015529) - mean_train_accuracy: 0.991316 (0.015529) with: \"{'mnb__alpha': 0.01}\"\n",
      "mean_test_accuracy: 0.941263 (0.013508) - mean_train_accuracy: 0.979220 (0.013508) with: \"{'mnb__alpha': 0.1}\"\n",
      "mean_test_accuracy: 0.864094 (0.011890) - mean_train_accuracy: 0.895169 (0.011890) with: \"{'mnb__alpha': 1.0}\"\n"
     ]
    }
   ],
   "source": [
    "resultados = pd.read_csv('resultado_naive_bayes_dataset_Reviews.csv', sep=';')\n",
    "means_test = resultados['mean_test_accuracy']\n",
    "std_test_acuracy = resultados['std_test_accuracy']\n",
    "means_train = resultados['mean_train_accuracy']\n",
    "std_train_acuracy = resultados['std_test_accuracy']\n",
    "params = resultados['params']\n",
    "\n",
    "for test, stdev_test, train, stdev_train, param in zip(means_test, std_test_acuracy, means_train, std_train_acuracy, params):\n",
    "    print(\"mean_test_accuracy: %f (%f) - mean_train_accuracy: %f (%f) with: %r\" %(test, stdev_test, train, stdev_train, param))\n",
    "\n",
    "test_reviews = means_test"
   ]
  },
  {
   "cell_type": "code",
   "execution_count": 20,
   "metadata": {},
   "outputs": [
    {
     "name": "stdout",
     "output_type": "stream",
     "text": [
      "mean_test_accuracy: 0.811377 (0.041489) - mean_train_accuracy: 0.991682 (0.041489) with: \"{'mnb__alpha': 1e-05}\"\n",
      "mean_test_accuracy: 0.799401 (0.044857) - mean_train_accuracy: 0.991682 (0.044857) with: \"{'mnb__alpha': 1e-06}\"\n",
      "mean_test_accuracy: 0.829341 (0.051059) - mean_train_accuracy: 0.991682 (0.051059) with: \"{'mnb__alpha': 0.001}\"\n",
      "mean_test_accuracy: 0.853293 (0.061888) - mean_train_accuracy: 0.991682 (0.061888) with: \"{'mnb__alpha': 0.01}\"\n",
      "mean_test_accuracy: 0.871257 (0.055508) - mean_train_accuracy: 0.986690 (0.055508) with: \"{'mnb__alpha': 0.1}\"\n",
      "mean_test_accuracy: 0.742515 (0.031520) - mean_train_accuracy: 0.871611 (0.031520) with: \"{'mnb__alpha': 1.0}\"\n"
     ]
    }
   ],
   "source": [
    "resultados = pd.read_csv('resultado_naive_bayes_dataset_Syskillwebert-Parsed.csv', sep=';')\n",
    "means_test = resultados['mean_test_accuracy']\n",
    "std_test_acuracy = resultados['std_test_accuracy']\n",
    "means_train = resultados['mean_train_accuracy']\n",
    "std_train_acuracy = resultados['std_test_accuracy']\n",
    "params = resultados['params']\n",
    "\n",
    "for test, stdev_test, train, stdev_train, param in zip(means_test, std_test_acuracy, means_train, std_train_acuracy, params):\n",
    "    print(\"mean_test_accuracy: %f (%f) - mean_train_accuracy: %f (%f) with: %r\" %(test, stdev_test, train, stdev_train, param))\n",
    "\n",
    "test_Syskillwebert_Parsed = means_test"
   ]
  },
  {
   "cell_type": "code",
   "execution_count": null,
   "metadata": {},
   "outputs": [],
   "source": [
    "list_of_tuples = list(zip(params, test_20ng, test_classic3, test_cstr, test_IrishEconomicSentiment, test_multi_domain_sentiment, test_NSF, test_Opinosis_Parsed, test_re8, test_review_polarity, test_reviews, test_Syskillwebert_Parsed)) \n",
    "df = pd.DataFrame(list_of_tuples, columns = [\"params\", \"20newsGroup\", \"Classic3\", \"CSTR\", \"Irish_Economic_Sentiment\", \"Multi_Domain_Sentiment\",\"NSF\",\"Opinosis-Parsed\", \"re8\", \"Review_Polarity\",\"Reviews\",\"SyskillWelbert-Parsed\"])\n",
    "df.to_csv(\"NB.csv\")"
   ]
  }
 ],
 "metadata": {
  "kernelspec": {
   "display_name": "Python 3",
   "language": "python",
   "name": "python3"
  },
  "language_info": {
   "codemirror_mode": {
    "name": "ipython",
    "version": 3
   },
   "file_extension": ".py",
   "mimetype": "text/x-python",
   "name": "python",
   "nbconvert_exporter": "python",
   "pygments_lexer": "ipython3",
   "version": "3.7.1"
  }
 },
 "nbformat": 4,
 "nbformat_minor": 2
}
