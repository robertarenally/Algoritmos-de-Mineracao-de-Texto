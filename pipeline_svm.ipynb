{
  "nbformat": 4,
  "nbformat_minor": 0,
  "metadata": {
    "colab": {
      "name": "pipeline_svm.ipynb",
      "version": "0.3.2",
      "provenance": []
    },
    "kernelspec": {
      "name": "python3",
      "display_name": "Python 3"
    }
  },
  "cells": [
    {
      "cell_type": "code",
      "metadata": {
        "id": "uvn061WcVevw",
        "colab_type": "code",
        "colab": {}
      },
      "source": [
        "#1 - Importanto as bibliotecas\n",
        "import re  \n",
        "import nltk  \n",
        "import numpy as np\n",
        "import pandas as pd\n",
        "from nltk.corpus import stopwords\n",
        "from nltk.stem import WordNetLemmatizer\n",
        "from sklearn.metrics import accuracy_score\n",
        "from sklearn.datasets import fetch_20newsgroups\n",
        "from sklearn.pipeline import Pipeline\n",
        "from sklearn.svm import SVC\n",
        "from sklearn.model_selection import GridSearchCV \n",
        "from sklearn.feature_extraction.text import TfidfVectorizer"
      ],
      "execution_count": 0,
      "outputs": []
    },
    {
      "cell_type": "code",
      "metadata": {
        "id": "H-pp5tXVV_sv",
        "colab_type": "code",
        "colab": {}
      },
      "source": [
        "#2 - Carregando a base de dados\n",
        "newsgroups_data = fetch_20newsgroups()\n",
        "x, y = newsgroups_data.data, newsgroups_data.target  "
      ],
      "execution_count": 0,
      "outputs": []
    },
    {
      "cell_type": "code",
      "metadata": {
        "id": "iA1le2HGWCTN",
        "colab_type": "code",
        "colab": {}
      },
      "source": [
        "#3 - Pré-processamento do texto\n",
        "documents = []\n",
        "stemmer = WordNetLemmatizer()\n",
        "\n",
        "for sen in range(0, len(x)):  \n",
        "    # Removendo todos os caracteres especiais\n",
        "    document = re.sub(r'\\W', ' ', str(x[sen]))\n",
        "\n",
        "    # removendo todos os caracteres isolados\n",
        "    document = re.sub(r'\\s+[a-zA-Z]\\s+', ' ', document)\n",
        "\n",
        "    # Removendo caracter isolado do ínicio\n",
        "    document = re.sub(r'\\^[a-zA-Z]\\s+', ' ', document) \n",
        "\n",
        "    # Substituindo multiplos espaços por um único espaço\n",
        "    document = re.sub(r'\\s+', ' ', document, flags=re.I)\n",
        "\n",
        "    # Convertendo todas as palavras do documento para lower case\n",
        "    document = document.lower()\n",
        "\n",
        "    # Lemmatization\n",
        "    document = document.split()\n",
        "\n",
        "    document = [stemmer.lemmatize(word) for word in document]\n",
        "    document = ' '.join(document)\n",
        "\n",
        "    documents.append(document)"
      ],
      "execution_count": 0,
      "outputs": []
    },
    {
      "cell_type": "code",
      "metadata": {
        "id": "JfA0Db2hWGF3",
        "colab_type": "code",
        "colab": {}
      },
      "source": [
        "steps = [\n",
        "        ('tfidf', TfidfVectorizer(max_df=0.90, min_df=0.05)),\n",
        "        ('svc', SVC())\n",
        "]\n",
        "pipe = Pipeline(steps=steps)\n",
        "params = {\n",
        "        'tfidf__max_df':[0.25,0.5,0.75,0.85,0.95,1.0],\n",
        "        'tfidf__min_df':[0.0,0.01,0.02,0.03,0.04,0.05],\n",
        "        'svc__C':[1,2,3,4,5,6,7,8,9,10],                                 #quanto maior o parametro C, mais tolerante a erros\n",
        "        'svc__kernel':['linear','poly','rbf','sigmoid','precomputed'],   #especifica qual função será utilizada no núcleo a ser usado no algoritmo.\n",
        "        'svc__degree':[1,2,3,4,5,6,7,8,9,10],                            #degree =  grau da função 'poly'\n",
        "        'svc__gamma':['auto']                                            #Coeficiente para as funções ‘rbf’, ‘poly’ and ‘sigmoid’ do núcleo.\n",
        "}\n",
        "scoring = ['accuracy','f1_micro', 'f1_macro']"
      ],
      "execution_count": 0,
      "outputs": []
    },
    {
      "cell_type": "code",
      "metadata": {
        "id": "ZEqqOnmDYTrb",
        "colab_type": "code",
        "colab": {}
      },
      "source": [
        "clf = GridSearchCV(pipe, params, cv=10, n_jobs=-1, verbose=True,scoring=scoring,refit='accuracy',return_train_score=True)\n",
        "clf.fit(documents,y)"
      ],
      "execution_count": 0,
      "outputs": []
    },
    {
      "cell_type": "code",
      "metadata": {
        "id": "3lbJw8VwYaos",
        "colab_type": "code",
        "colab": {}
      },
      "source": [
        "df = pd.DataFrame(clf.cv_results_)\n",
        "df.to_csv('resultado_pipeline_svm.csv')"
      ],
      "execution_count": 0,
      "outputs": []
    }
  ]
}