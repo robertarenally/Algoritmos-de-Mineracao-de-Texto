{
 "cells": [
  {
   "cell_type": "code",
   "execution_count": 1,
   "metadata": {},
   "outputs": [],
   "source": [
    "import pandas as pd"
   ]
  },
  {
   "cell_type": "code",
   "execution_count": 2,
   "metadata": {},
   "outputs": [],
   "source": [
    "resultados = pd.read_csv('resultado_pipeline_decision_tree_20ng.csv', sep=';')"
   ]
  },
  {
   "cell_type": "code",
   "execution_count": 3,
   "metadata": {},
   "outputs": [
    {
     "data": {
      "text/html": [
       "<div>\n",
       "<style scoped>\n",
       "    .dataframe tbody tr th:only-of-type {\n",
       "        vertical-align: middle;\n",
       "    }\n",
       "\n",
       "    .dataframe tbody tr th {\n",
       "        vertical-align: top;\n",
       "    }\n",
       "\n",
       "    .dataframe thead th {\n",
       "        text-align: right;\n",
       "    }\n",
       "</style>\n",
       "<table border=\"1\" class=\"dataframe\">\n",
       "  <thead>\n",
       "    <tr style=\"text-align: right;\">\n",
       "      <th></th>\n",
       "      <th>Unnamed: 0</th>\n",
       "      <th>mean_fit_time</th>\n",
       "      <th>mean_score_time</th>\n",
       "      <th>mean_test_accuracy</th>\n",
       "      <th>mean_test_f1_macro</th>\n",
       "      <th>mean_test_f1_micro</th>\n",
       "      <th>mean_train_accuracy</th>\n",
       "      <th>mean_train_f1_macro</th>\n",
       "      <th>mean_train_f1_micro</th>\n",
       "      <th>param_dtc__criterion</th>\n",
       "      <th>...</th>\n",
       "      <th>split9_train_f1_macro</th>\n",
       "      <th>split9_train_f1_micro</th>\n",
       "      <th>std_fit_time</th>\n",
       "      <th>std_score_time</th>\n",
       "      <th>std_test_accuracy</th>\n",
       "      <th>std_test_f1_macro</th>\n",
       "      <th>std_test_f1_micro</th>\n",
       "      <th>std_train_accuracy</th>\n",
       "      <th>std_train_f1_macro</th>\n",
       "      <th>std_train_f1_micro</th>\n",
       "    </tr>\n",
       "  </thead>\n",
       "  <tbody>\n",
       "    <tr>\n",
       "      <th>0</th>\n",
       "      <td>0</td>\n",
       "      <td>18.853335</td>\n",
       "      <td>0.846349</td>\n",
       "      <td>0.644246</td>\n",
       "      <td>0.640532</td>\n",
       "      <td>0.644246</td>\n",
       "      <td>0.999921</td>\n",
       "      <td>0.999925</td>\n",
       "      <td>0.999921</td>\n",
       "      <td>gini</td>\n",
       "      <td>...</td>\n",
       "      <td>0.999907</td>\n",
       "      <td>0.999902</td>\n",
       "      <td>0.459284</td>\n",
       "      <td>0.040629</td>\n",
       "      <td>0.016379</td>\n",
       "      <td>0.015990</td>\n",
       "      <td>0.016379</td>\n",
       "      <td>0.000039</td>\n",
       "      <td>0.000037</td>\n",
       "      <td>0.000039</td>\n",
       "    </tr>\n",
       "    <tr>\n",
       "      <th>1</th>\n",
       "      <td>1</td>\n",
       "      <td>15.057745</td>\n",
       "      <td>0.861964</td>\n",
       "      <td>0.648312</td>\n",
       "      <td>0.645508</td>\n",
       "      <td>0.648312</td>\n",
       "      <td>0.999921</td>\n",
       "      <td>0.999925</td>\n",
       "      <td>0.999921</td>\n",
       "      <td>gini</td>\n",
       "      <td>...</td>\n",
       "      <td>0.999907</td>\n",
       "      <td>0.999902</td>\n",
       "      <td>0.500226</td>\n",
       "      <td>0.043329</td>\n",
       "      <td>0.017090</td>\n",
       "      <td>0.016146</td>\n",
       "      <td>0.017090</td>\n",
       "      <td>0.000039</td>\n",
       "      <td>0.000037</td>\n",
       "      <td>0.000039</td>\n",
       "    </tr>\n",
       "    <tr>\n",
       "      <th>2</th>\n",
       "      <td>2</td>\n",
       "      <td>95.940608</td>\n",
       "      <td>0.841128</td>\n",
       "      <td>0.499205</td>\n",
       "      <td>0.494656</td>\n",
       "      <td>0.499205</td>\n",
       "      <td>0.999921</td>\n",
       "      <td>0.999925</td>\n",
       "      <td>0.999921</td>\n",
       "      <td>entropy</td>\n",
       "      <td>...</td>\n",
       "      <td>0.999907</td>\n",
       "      <td>0.999902</td>\n",
       "      <td>2.963164</td>\n",
       "      <td>0.051065</td>\n",
       "      <td>0.013722</td>\n",
       "      <td>0.013965</td>\n",
       "      <td>0.013722</td>\n",
       "      <td>0.000039</td>\n",
       "      <td>0.000037</td>\n",
       "      <td>0.000039</td>\n",
       "    </tr>\n",
       "    <tr>\n",
       "      <th>3</th>\n",
       "      <td>3</td>\n",
       "      <td>21.451614</td>\n",
       "      <td>0.826006</td>\n",
       "      <td>0.483295</td>\n",
       "      <td>0.478759</td>\n",
       "      <td>0.483295</td>\n",
       "      <td>0.999921</td>\n",
       "      <td>0.999925</td>\n",
       "      <td>0.999921</td>\n",
       "      <td>entropy</td>\n",
       "      <td>...</td>\n",
       "      <td>0.999907</td>\n",
       "      <td>0.999902</td>\n",
       "      <td>0.670905</td>\n",
       "      <td>0.048808</td>\n",
       "      <td>0.019638</td>\n",
       "      <td>0.019825</td>\n",
       "      <td>0.019638</td>\n",
       "      <td>0.000039</td>\n",
       "      <td>0.000037</td>\n",
       "      <td>0.000039</td>\n",
       "    </tr>\n",
       "  </tbody>\n",
       "</table>\n",
       "<p>4 rows × 83 columns</p>\n",
       "</div>"
      ],
      "text/plain": [
       "   Unnamed: 0  mean_fit_time  mean_score_time  mean_test_accuracy  \\\n",
       "0           0      18.853335         0.846349            0.644246   \n",
       "1           1      15.057745         0.861964            0.648312   \n",
       "2           2      95.940608         0.841128            0.499205   \n",
       "3           3      21.451614         0.826006            0.483295   \n",
       "\n",
       "   mean_test_f1_macro  mean_test_f1_micro  mean_train_accuracy  \\\n",
       "0            0.640532            0.644246             0.999921   \n",
       "1            0.645508            0.648312             0.999921   \n",
       "2            0.494656            0.499205             0.999921   \n",
       "3            0.478759            0.483295             0.999921   \n",
       "\n",
       "   mean_train_f1_macro  mean_train_f1_micro param_dtc__criterion  \\\n",
       "0             0.999925             0.999921                 gini   \n",
       "1             0.999925             0.999921                 gini   \n",
       "2             0.999925             0.999921              entropy   \n",
       "3             0.999925             0.999921              entropy   \n",
       "\n",
       "          ...         split9_train_f1_macro split9_train_f1_micro  \\\n",
       "0         ...                      0.999907              0.999902   \n",
       "1         ...                      0.999907              0.999902   \n",
       "2         ...                      0.999907              0.999902   \n",
       "3         ...                      0.999907              0.999902   \n",
       "\n",
       "   std_fit_time  std_score_time  std_test_accuracy  std_test_f1_macro  \\\n",
       "0      0.459284        0.040629           0.016379           0.015990   \n",
       "1      0.500226        0.043329           0.017090           0.016146   \n",
       "2      2.963164        0.051065           0.013722           0.013965   \n",
       "3      0.670905        0.048808           0.019638           0.019825   \n",
       "\n",
       "   std_test_f1_micro  std_train_accuracy  std_train_f1_macro  \\\n",
       "0           0.016379            0.000039            0.000037   \n",
       "1           0.017090            0.000039            0.000037   \n",
       "2           0.013722            0.000039            0.000037   \n",
       "3           0.019638            0.000039            0.000037   \n",
       "\n",
       "   std_train_f1_micro  \n",
       "0            0.000039  \n",
       "1            0.000039  \n",
       "2            0.000039  \n",
       "3            0.000039  \n",
       "\n",
       "[4 rows x 83 columns]"
      ]
     },
     "execution_count": 3,
     "metadata": {},
     "output_type": "execute_result"
    }
   ],
   "source": [
    "resultados"
   ]
  },
  {
   "cell_type": "code",
   "execution_count": 4,
   "metadata": {},
   "outputs": [
    {
     "name": "stdout",
     "output_type": "stream",
     "text": [
      "mean_test_accuracy: 0.644246 (0.016379) - mean_train_accuracy: 0.999921 (0.016379) with: \"{'dtc__criterion': 'gini'; 'dtc__splitter': 'best'}\"\n",
      "mean_test_accuracy: 0.648312 (0.017090) - mean_train_accuracy: 0.999921 (0.017090) with: \"{'dtc__criterion': 'gini'; 'dtc__splitter': 'random'}\"\n",
      "mean_test_accuracy: 0.499205 (0.013722) - mean_train_accuracy: 0.999921 (0.013722) with: \"{'dtc__criterion': 'entropy'; 'dtc__splitter': 'best'}\"\n",
      "mean_test_accuracy: 0.483295 (0.019638) - mean_train_accuracy: 0.999921 (0.019638) with: \"{'dtc__criterion': 'entropy'; 'dtc__splitter': 'random'}\"\n"
     ]
    }
   ],
   "source": [
    "means_test = resultados['mean_test_accuracy']\n",
    "std_test_acuracy = resultados['std_test_accuracy']\n",
    "means_train = resultados['mean_train_accuracy']\n",
    "std_train_acuracy = resultados['std_test_accuracy']\n",
    "params = resultados['params']\n",
    "\n",
    "for test, stdev_test, train, stdev_train, param in zip(means_test, std_test_acuracy, means_train, std_train_acuracy, params):\n",
    "    print(\"mean_test_accuracy: %f (%f) - mean_train_accuracy: %f (%f) with: %r\" %(test, stdev_test, train, stdev_train, param))\n",
    "\n",
    "test_20ng = means_test"
   ]
  },
  {
   "cell_type": "code",
   "execution_count": 5,
   "metadata": {},
   "outputs": [],
   "source": [
    "resultados = pd.read_csv('resultado_pipeline_decision_tree_classic3.csv', sep=';')"
   ]
  },
  {
   "cell_type": "code",
   "execution_count": 6,
   "metadata": {},
   "outputs": [
    {
     "name": "stdout",
     "output_type": "stream",
     "text": [
      "mean_test_accuracy: 0.850599 (0.012151) - mean_train_accuracy: 1.000000 (0.012151) with: \"{'dtc__criterion': 'gini'; 'dtc__splitter': 'best'}\"\n",
      "mean_test_accuracy: 0.844116 (0.010955) - mean_train_accuracy: 1.000000 (0.010955) with: \"{'dtc__criterion': 'gini'; 'dtc__splitter': 'random'}\"\n",
      "mean_test_accuracy: 0.842847 (0.017097) - mean_train_accuracy: 1.000000 (0.017097) with: \"{'dtc__criterion': 'entropy'; 'dtc__splitter': 'best'}\"\n",
      "mean_test_accuracy: 0.841438 (0.018779) - mean_train_accuracy: 1.000000 (0.018779) with: \"{'dtc__criterion': 'entropy'; 'dtc__splitter': 'random'}\"\n"
     ]
    }
   ],
   "source": [
    "means_test = resultados['mean_test_accuracy']\n",
    "std_test_acuracy = resultados['std_test_accuracy']\n",
    "means_train = resultados['mean_train_accuracy']\n",
    "std_train_acuracy = resultados['std_test_accuracy']\n",
    "params = resultados['params']\n",
    "\n",
    "for test, stdev_test, train, stdev_train, param in zip(means_test, std_test_acuracy, means_train, std_train_acuracy, params):\n",
    "    print(\"mean_test_accuracy: %f (%f) - mean_train_accuracy: %f (%f) with: %r\" %(test, stdev_test, train, stdev_train, param))\n",
    "    \n",
    "test_classic3 = means_test"
   ]
  },
  {
   "cell_type": "code",
   "execution_count": 7,
   "metadata": {},
   "outputs": [
    {
     "name": "stdout",
     "output_type": "stream",
     "text": [
      "mean_test_accuracy: 0.658863 (0.080411) - mean_train_accuracy: 0.978820 (0.080411) with: \"{'dtc__criterion': 'gini'; 'dtc__splitter': 'best'}\"\n",
      "mean_test_accuracy: 0.682274 (0.105782) - mean_train_accuracy: 0.978820 (0.105782) with: \"{'dtc__criterion': 'gini'; 'dtc__splitter': 'random'}\"\n",
      "mean_test_accuracy: 0.662207 (0.097166) - mean_train_accuracy: 0.978820 (0.097166) with: \"{'dtc__criterion': 'entropy'; 'dtc__splitter': 'best'}\"\n",
      "mean_test_accuracy: 0.675585 (0.070876) - mean_train_accuracy: 0.978820 (0.070876) with: \"{'dtc__criterion': 'entropy'; 'dtc__splitter': 'random'}\"\n"
     ]
    }
   ],
   "source": [
    "resultados = pd.read_csv('resultado_pipeline_decision_tree_CSTR.csv', sep=';')\n",
    "means_test = resultados['mean_test_accuracy']\n",
    "std_test_acuracy = resultados['std_test_accuracy']\n",
    "means_train = resultados['mean_train_accuracy']\n",
    "std_train_acuracy = resultados['std_test_accuracy']\n",
    "params = resultados['params']\n",
    "\n",
    "for test, stdev_test, train, stdev_train, param in zip(means_test, std_test_acuracy, means_train, std_train_acuracy, params):\n",
    "    print(\"mean_test_accuracy: %f (%f) - mean_train_accuracy: %f (%f) with: %r\" %(test, stdev_test, train, stdev_train, param))\n",
    "    \n",
    "test_cstr = means_test"
   ]
  },
  {
   "cell_type": "code",
   "execution_count": 8,
   "metadata": {},
   "outputs": [
    {
     "name": "stdout",
     "output_type": "stream",
     "text": [
      "mean_test_accuracy: 0.507229 (0.029011) - mean_train_accuracy: 1.000000 (0.029011) with: \"{'dtc__criterion': 'gini'; 'dtc__splitter': 'best'}\"\n",
      "mean_test_accuracy: 0.510241 (0.038639) - mean_train_accuracy: 1.000000 (0.038639) with: \"{'dtc__criterion': 'gini'; 'dtc__splitter': 'random'}\"\n",
      "mean_test_accuracy: 0.506024 (0.025996) - mean_train_accuracy: 1.000000 (0.025996) with: \"{'dtc__criterion': 'entropy'; 'dtc__splitter': 'best'}\"\n",
      "mean_test_accuracy: 0.487952 (0.032472) - mean_train_accuracy: 1.000000 (0.032472) with: \"{'dtc__criterion': 'entropy'; 'dtc__splitter': 'random'}\"\n"
     ]
    }
   ],
   "source": [
    "resultados = pd.read_csv('resultado_pipeline_decision_tree_IrishEconomicSentiment.csv', sep=';')\n",
    "means_test = resultados['mean_test_accuracy']\n",
    "std_test_acuracy = resultados['std_test_accuracy']\n",
    "means_train = resultados['mean_train_accuracy']\n",
    "std_train_acuracy = resultados['std_test_accuracy']\n",
    "params = resultados['params']\n",
    "\n",
    "for test, stdev_test, train, stdev_train, param in zip(means_test, std_test_acuracy, means_train, std_train_acuracy, params):\n",
    "    print(\"mean_test_accuracy: %f (%f) - mean_train_accuracy: %f (%f) with: %r\" %(test, stdev_test, train, stdev_train, param))\n",
    "    \n",
    "test_IrishEconomicSentiment = means_test"
   ]
  },
  {
   "cell_type": "code",
   "execution_count": 9,
   "metadata": {},
   "outputs": [
    {
     "name": "stdout",
     "output_type": "stream",
     "text": [
      "mean_test_accuracy: 0.685625 (0.015393) - mean_train_accuracy: 1.000000 (0.015393) with: \"{'dtc__criterion': 'gini'; 'dtc__splitter': 'best'}\"\n",
      "mean_test_accuracy: 0.698125 (0.017466) - mean_train_accuracy: 1.000000 (0.017466) with: \"{'dtc__criterion': 'gini'; 'dtc__splitter': 'random'}\"\n",
      "mean_test_accuracy: 0.691375 (0.013044) - mean_train_accuracy: 1.000000 (0.013044) with: \"{'dtc__criterion': 'entropy'; 'dtc__splitter': 'best'}\"\n",
      "mean_test_accuracy: 0.702375 (0.011325) - mean_train_accuracy: 1.000000 (0.011325) with: \"{'dtc__criterion': 'entropy'; 'dtc__splitter': 'random'}\"\n"
     ]
    }
   ],
   "source": [
    "resultados = pd.read_csv('resultado_pipeline_decision_tree_multi-domain-sentiment.csv', sep=';')\n",
    "means_test = resultados['mean_test_accuracy']\n",
    "std_test_acuracy = resultados['std_test_accuracy']\n",
    "means_train = resultados['mean_train_accuracy']\n",
    "std_train_acuracy = resultados['std_test_accuracy']\n",
    "params = resultados['params']\n",
    "\n",
    "for test, stdev_test, train, stdev_train, param in zip(means_test, std_test_acuracy, means_train, std_train_acuracy, params):\n",
    "    print(\"mean_test_accuracy: %f (%f) - mean_train_accuracy: %f (%f) with: %r\" %(test, stdev_test, train, stdev_train, param))\n",
    "    \n",
    "test_multi_domain_sentiment = means_test"
   ]
  },
  {
   "cell_type": "code",
   "execution_count": 10,
   "metadata": {},
   "outputs": [
    {
     "name": "stdout",
     "output_type": "stream",
     "text": [
      "mean_test_accuracy: 0.605853 (0.014497) - mean_train_accuracy: 1.000000 (0.014497) with: \"{'dtc__criterion': 'gini'; 'dtc__splitter': 'best'}\"\n",
      "mean_test_accuracy: 0.624762 (0.013799) - mean_train_accuracy: 1.000000 (0.013799) with: \"{'dtc__criterion': 'gini'; 'dtc__splitter': 'random'}\"\n",
      "mean_test_accuracy: 0.458001 (0.011603) - mean_train_accuracy: 1.000000 (0.011603) with: \"{'dtc__criterion': 'entropy'; 'dtc__splitter': 'best'}\"\n",
      "mean_test_accuracy: 0.508552 (0.019948) - mean_train_accuracy: 1.000000 (0.019948) with: \"{'dtc__criterion': 'entropy'; 'dtc__splitter': 'random'}\"\n"
     ]
    }
   ],
   "source": [
    "resultados = pd.read_csv('resultado_pipeline_decision_tree_NSF.csv', sep=';')\n",
    "means_test = resultados['mean_test_accuracy']\n",
    "std_test_acuracy = resultados['std_test_accuracy']\n",
    "means_train = resultados['mean_train_accuracy']\n",
    "std_train_acuracy = resultados['std_test_accuracy']\n",
    "params = resultados['params']\n",
    "\n",
    "for test, stdev_test, train, stdev_train, param in zip(means_test, std_test_acuracy, means_train, std_train_acuracy, params):\n",
    "    print(\"mean_test_accuracy: %f (%f) - mean_train_accuracy: %f (%f) with: %r\" %(test, stdev_test, train, stdev_train, param))\n",
    "    \n",
    "test_NSF = means_test"
   ]
  },
  {
   "cell_type": "code",
   "execution_count": 11,
   "metadata": {},
   "outputs": [
    {
     "name": "stdout",
     "output_type": "stream",
     "text": [
      "mean_test_accuracy: 0.567136 (0.015758) - mean_train_accuracy: 0.925438 (0.015758) with: \"{'dtc__criterion': 'gini'; 'dtc__splitter': 'best'}\"\n",
      "mean_test_accuracy: 0.566827 (0.017514) - mean_train_accuracy: 0.925438 (0.017514) with: \"{'dtc__criterion': 'gini'; 'dtc__splitter': 'random'}\"\n",
      "mean_test_accuracy: 0.543596 (0.016476) - mean_train_accuracy: 0.925438 (0.016476) with: \"{'dtc__criterion': 'entropy'; 'dtc__splitter': 'best'}\"\n",
      "mean_test_accuracy: 0.550256 (0.027223) - mean_train_accuracy: 0.925438 (0.027223) with: \"{'dtc__criterion': 'entropy'; 'dtc__splitter': 'random'}\"\n"
     ]
    }
   ],
   "source": [
    "resultados = pd.read_csv('resultado_pipeline_decision_tree_Opinosis-Parsed.csv', sep=';')\n",
    "means_test = resultados['mean_test_accuracy']\n",
    "std_test_acuracy = resultados['std_test_accuracy']\n",
    "means_train = resultados['mean_train_accuracy']\n",
    "std_train_acuracy = resultados['std_test_accuracy']\n",
    "params = resultados['params']\n",
    "\n",
    "for test, stdev_test, train, stdev_train, param in zip(means_test, std_test_acuracy, means_train, std_train_acuracy, params):\n",
    "    print(\"mean_test_accuracy: %f (%f) - mean_train_accuracy: %f (%f) with: %r\" %(test, stdev_test, train, stdev_train, param))\n",
    "    \n",
    "test_Opinosis_Parsed = means_test"
   ]
  },
  {
   "cell_type": "code",
   "execution_count": 12,
   "metadata": {},
   "outputs": [
    {
     "name": "stdout",
     "output_type": "stream",
     "text": [
      "mean_test_accuracy: 0.916602 (0.011182) - mean_train_accuracy: 0.999522 (0.011182) with: \"{'dtc__criterion': 'gini'; 'dtc__splitter': 'best'}\"\n",
      "mean_test_accuracy: 0.908001 (0.011229) - mean_train_accuracy: 0.999522 (0.011229) with: \"{'dtc__criterion': 'gini'; 'dtc__splitter': 'random'}\"\n",
      "mean_test_accuracy: 0.909825 (0.010939) - mean_train_accuracy: 0.999522 (0.010939) with: \"{'dtc__criterion': 'entropy'; 'dtc__splitter': 'best'}\"\n",
      "mean_test_accuracy: 0.901876 (0.011709) - mean_train_accuracy: 0.999522 (0.011709) with: \"{'dtc__criterion': 'entropy'; 'dtc__splitter': 'random'}\"\n"
     ]
    }
   ],
   "source": [
    "resultados = pd.read_csv('resultado_pipeline_decision_tree_re8.csv', sep=';')\n",
    "means_test = resultados['mean_test_accuracy']\n",
    "std_test_acuracy = resultados['std_test_accuracy']\n",
    "means_train = resultados['mean_train_accuracy']\n",
    "std_train_acuracy = resultados['std_test_accuracy']\n",
    "params = resultados['params']\n",
    "\n",
    "for test, stdev_test, train, stdev_train, param in zip(means_test, std_test_acuracy, means_train, std_train_acuracy, params):\n",
    "    print(\"mean_test_accuracy: %f (%f) - mean_train_accuracy: %f (%f) with: %r\" %(test, stdev_test, train, stdev_train, param))\n",
    "    \n",
    "test_re8 = means_test"
   ]
  },
  {
   "cell_type": "code",
   "execution_count": 13,
   "metadata": {},
   "outputs": [
    {
     "name": "stdout",
     "output_type": "stream",
     "text": [
      "mean_test_accuracy: 0.626500 (0.035990) - mean_train_accuracy: 1.000000 (0.035990) with: \"{'dtc__criterion': 'gini'; 'dtc__splitter': 'best'}\"\n",
      "mean_test_accuracy: 0.617500 (0.033034) - mean_train_accuracy: 1.000000 (0.033034) with: \"{'dtc__criterion': 'gini'; 'dtc__splitter': 'random'}\"\n",
      "mean_test_accuracy: 0.644500 (0.035103) - mean_train_accuracy: 1.000000 (0.035103) with: \"{'dtc__criterion': 'entropy'; 'dtc__splitter': 'best'}\"\n",
      "mean_test_accuracy: 0.647500 (0.024925) - mean_train_accuracy: 1.000000 (0.024925) with: \"{'dtc__criterion': 'entropy'; 'dtc__splitter': 'random'}\"\n"
     ]
    }
   ],
   "source": [
    "resultados = pd.read_csv('resultado_pipeline_decision_tree_review_polarity.csv', sep=';')\n",
    "means_test = resultados['mean_test_accuracy']\n",
    "std_test_acuracy = resultados['std_test_accuracy']\n",
    "means_train = resultados['mean_train_accuracy']\n",
    "std_train_acuracy = resultados['std_test_accuracy']\n",
    "params = resultados['params']\n",
    "\n",
    "for test, stdev_test, train, stdev_train, param in zip(means_test, std_test_acuracy, means_train, std_train_acuracy, params):\n",
    "    print(\"mean_test_accuracy: %f (%f) - mean_train_accuracy: %f (%f) with: %r\" %(test, stdev_test, train, stdev_train, param))\n",
    "    \n",
    "test_review_polarity = means_test"
   ]
  },
  {
   "cell_type": "code",
   "execution_count": 14,
   "metadata": {},
   "outputs": [
    {
     "name": "stdout",
     "output_type": "stream",
     "text": [
      "mean_test_accuracy: 0.891128 (0.016793) - mean_train_accuracy: 1.000000 (0.016793) with: \"{'dtc__criterion': 'gini'; 'dtc__splitter': 'best'}\"\n",
      "mean_test_accuracy: 0.887687 (0.020258) - mean_train_accuracy: 1.000000 (0.020258) with: \"{'dtc__criterion': 'gini'; 'dtc__splitter': 'random'}\"\n",
      "mean_test_accuracy: 0.898255 (0.016164) - mean_train_accuracy: 1.000000 (0.016164) with: \"{'dtc__criterion': 'entropy'; 'dtc__splitter': 'best'}\"\n",
      "mean_test_accuracy: 0.882035 (0.014953) - mean_train_accuracy: 1.000000 (0.014953) with: \"{'dtc__criterion': 'entropy'; 'dtc__splitter': 'random'}\"\n"
     ]
    }
   ],
   "source": [
    "resultados = pd.read_csv('resultado_pipeline_decision_tree_Reviews.csv', sep=';')\n",
    "means_test = resultados['mean_test_accuracy']\n",
    "std_test_acuracy = resultados['std_test_accuracy']\n",
    "means_train = resultados['mean_train_accuracy']\n",
    "std_train_acuracy = resultados['std_test_accuracy']\n",
    "params = resultados['params']\n",
    "\n",
    "for test, stdev_test, train, stdev_train, param in zip(means_test, std_test_acuracy, means_train, std_train_acuracy, params):\n",
    "    print(\"mean_test_accuracy: %f (%f) - mean_train_accuracy: %f (%f) with: %r\" %(test, stdev_test, train, stdev_train, param))\n",
    "    \n",
    "test_reviews = means_test"
   ]
  },
  {
   "cell_type": "code",
   "execution_count": 15,
   "metadata": {},
   "outputs": [
    {
     "name": "stdout",
     "output_type": "stream",
     "text": [
      "mean_test_accuracy: 0.952096 (0.028294) - mean_train_accuracy: 0.994675 (0.028294) with: \"{'dtc__criterion': 'gini'; 'dtc__splitter': 'best'}\"\n",
      "mean_test_accuracy: 0.922156 (0.052935) - mean_train_accuracy: 0.994675 (0.052935) with: \"{'dtc__criterion': 'gini'; 'dtc__splitter': 'random'}\"\n",
      "mean_test_accuracy: 0.931138 (0.030095) - mean_train_accuracy: 0.994675 (0.030095) with: \"{'dtc__criterion': 'entropy'; 'dtc__splitter': 'best'}\"\n",
      "mean_test_accuracy: 0.925150 (0.043003) - mean_train_accuracy: 0.994675 (0.043003) with: \"{'dtc__criterion': 'entropy'; 'dtc__splitter': 'random'}\"\n"
     ]
    }
   ],
   "source": [
    "resultados = pd.read_csv('resultado_pipeline_decision_tree_Syskillwebert-Parsed.csv', sep=';')\n",
    "means_test = resultados['mean_test_accuracy']\n",
    "std_test_acuracy = resultados['std_test_accuracy']\n",
    "means_train = resultados['mean_train_accuracy']\n",
    "std_train_acuracy = resultados['std_test_accuracy']\n",
    "params = resultados['params']\n",
    "\n",
    "for test, stdev_test, train, stdev_train, param in zip(means_test, std_test_acuracy, means_train, std_train_acuracy, params):\n",
    "    print(\"mean_test_accuracy: %f (%f) - mean_train_accuracy: %f (%f) with: %r\" %(test, stdev_test, train, stdev_train, param))\n",
    "    \n",
    "test_Syskillwebert_Parsed = means_test"
   ]
  },
  {
   "cell_type": "code",
   "execution_count": 16,
   "metadata": {},
   "outputs": [],
   "source": [
    "list_of_tuples = list(zip(params, test_20ng, test_classic3, test_cstr, test_IrishEconomicSentiment, test_multi_domain_sentiment, test_NSF, test_Opinosis_Parsed, test_re8, test_review_polarity, test_reviews, test_Syskillwebert_Parsed)) \n",
    "df = pd.DataFrame(list_of_tuples, columns = [\"params\", \"20newsGroup\", \"Classic3\", \"CSTR\", \"Irish_Economic_Sentiment\", \"Multi_Domain_Sentiment\",\"NSF\",\"Opinosis-Parsed\", \"re8\", \"Review_Polarity\",\"Reviews\",\"SyskillWelbert-Parsed\"])\n",
    "df.to_csv(\"decision_tree.csv\")"
   ]
  },
  {
   "cell_type": "code",
   "execution_count": null,
   "metadata": {},
   "outputs": [],
   "source": []
  }
 ],
 "metadata": {
  "kernelspec": {
   "display_name": "Python 3",
   "language": "python",
   "name": "python3"
  },
  "language_info": {
   "codemirror_mode": {
    "name": "ipython",
    "version": 3
   },
   "file_extension": ".py",
   "mimetype": "text/x-python",
   "name": "python",
   "nbconvert_exporter": "python",
   "pygments_lexer": "ipython3",
   "version": "3.7.1"
  }
 },
 "nbformat": 4,
 "nbformat_minor": 2
}
