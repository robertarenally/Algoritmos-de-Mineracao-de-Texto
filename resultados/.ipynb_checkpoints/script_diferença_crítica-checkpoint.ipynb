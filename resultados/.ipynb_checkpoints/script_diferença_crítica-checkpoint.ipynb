{
 "cells": [
  {
   "cell_type": "code",
   "execution_count": 1,
   "metadata": {},
   "outputs": [],
   "source": [
    "import pandas as pd \n",
    "import matplotlib.pyplot as plt"
   ]
  },
  {
   "cell_type": "code",
   "execution_count": 2,
   "metadata": {},
   "outputs": [],
   "source": [
    "data = pd.read_csv('accuracy.csv', sep=';')"
   ]
  },
  {
   "cell_type": "code",
   "execution_count": 3,
   "metadata": {},
   "outputs": [
    {
     "data": {
      "text/html": [
       "<div>\n",
       "<style scoped>\n",
       "    .dataframe tbody tr th:only-of-type {\n",
       "        vertical-align: middle;\n",
       "    }\n",
       "\n",
       "    .dataframe tbody tr th {\n",
       "        vertical-align: top;\n",
       "    }\n",
       "\n",
       "    .dataframe thead th {\n",
       "        text-align: right;\n",
       "    }\n",
       "</style>\n",
       "<table border=\"1\" class=\"dataframe\">\n",
       "  <thead>\n",
       "    <tr style=\"text-align: right;\">\n",
       "      <th></th>\n",
       "      <th>Collections</th>\n",
       "      <th>NB</th>\n",
       "      <th>KNN</th>\n",
       "      <th>SVM</th>\n",
       "      <th>Decision Tree</th>\n",
       "      <th>Random Forest</th>\n",
       "      <th>Deep Learning</th>\n",
       "    </tr>\n",
       "  </thead>\n",
       "  <tbody>\n",
       "    <tr>\n",
       "      <th>0</th>\n",
       "      <td>20newsGroup</td>\n",
       "      <td>0.913116</td>\n",
       "      <td>0.807053</td>\n",
       "      <td>0.915415</td>\n",
       "      <td>0.644246</td>\n",
       "      <td>0.840817</td>\n",
       "      <td>0.968863</td>\n",
       "    </tr>\n",
       "    <tr>\n",
       "      <th>1</th>\n",
       "      <td>Classic3</td>\n",
       "      <td>0.959972</td>\n",
       "      <td>0.951233</td>\n",
       "      <td>0.974771</td>\n",
       "      <td>0.850599</td>\n",
       "      <td>0.933615</td>\n",
       "      <td>0.981149</td>\n",
       "    </tr>\n",
       "    <tr>\n",
       "      <th>2</th>\n",
       "      <td>CSTR</td>\n",
       "      <td>0.846154</td>\n",
       "      <td>0.869565</td>\n",
       "      <td>0.856187</td>\n",
       "      <td>0.682274</td>\n",
       "      <td>0.769231</td>\n",
       "      <td>0.769231</td>\n",
       "    </tr>\n",
       "    <tr>\n",
       "      <th>3</th>\n",
       "      <td>Irish Economic Sentiment</td>\n",
       "      <td>0.681325</td>\n",
       "      <td>0.569880</td>\n",
       "      <td>0.687952</td>\n",
       "      <td>0.510241</td>\n",
       "      <td>0.644578</td>\n",
       "      <td>0.692169</td>\n",
       "    </tr>\n",
       "    <tr>\n",
       "      <th>4</th>\n",
       "      <td>Multi Domain Sentiment</td>\n",
       "      <td>0.826750</td>\n",
       "      <td>0.736375</td>\n",
       "      <td>0.807750</td>\n",
       "      <td>0.698125</td>\n",
       "      <td>0.823875</td>\n",
       "      <td>0.755250</td>\n",
       "    </tr>\n",
       "    <tr>\n",
       "      <th>5</th>\n",
       "      <td>NSF</td>\n",
       "      <td>0.838179</td>\n",
       "      <td>0.796180</td>\n",
       "      <td>0.825352</td>\n",
       "      <td>0.624762</td>\n",
       "      <td>0.753516</td>\n",
       "      <td>0.937530</td>\n",
       "    </tr>\n",
       "    <tr>\n",
       "      <th>6</th>\n",
       "      <td>Opinosis-Parsed</td>\n",
       "      <td>0.501007</td>\n",
       "      <td>0.607093</td>\n",
       "      <td>0.616695</td>\n",
       "      <td>0.567136</td>\n",
       "      <td>0.607867</td>\n",
       "      <td>0.980404</td>\n",
       "    </tr>\n",
       "    <tr>\n",
       "      <th>7</th>\n",
       "      <td>re8</td>\n",
       "      <td>0.938233</td>\n",
       "      <td>0.939145</td>\n",
       "      <td>0.974068</td>\n",
       "      <td>0.916602</td>\n",
       "      <td>0.932760</td>\n",
       "      <td>0.967504</td>\n",
       "    </tr>\n",
       "    <tr>\n",
       "      <th>8</th>\n",
       "      <td>Review Polarity</td>\n",
       "      <td>0.813500</td>\n",
       "      <td>0.636500</td>\n",
       "      <td>0.860500</td>\n",
       "      <td>0.647500</td>\n",
       "      <td>0.786000</td>\n",
       "      <td>0.605000</td>\n",
       "    </tr>\n",
       "    <tr>\n",
       "      <th>9</th>\n",
       "      <td>Reviews</td>\n",
       "      <td>0.941263</td>\n",
       "      <td>0.927501</td>\n",
       "      <td>0.964119</td>\n",
       "      <td>0.898255</td>\n",
       "      <td>0.947161</td>\n",
       "      <td>0.926321</td>\n",
       "    </tr>\n",
       "    <tr>\n",
       "      <th>10</th>\n",
       "      <td>SyskillWelbert-Parsed</td>\n",
       "      <td>0.871257</td>\n",
       "      <td>0.892216</td>\n",
       "      <td>0.916168</td>\n",
       "      <td>0.952096</td>\n",
       "      <td>0.919162</td>\n",
       "      <td>0.844311</td>\n",
       "    </tr>\n",
       "  </tbody>\n",
       "</table>\n",
       "</div>"
      ],
      "text/plain": [
       "                 Collections        NB       KNN       SVM  Decision Tree  \\\n",
       "0                20newsGroup  0.913116  0.807053  0.915415       0.644246   \n",
       "1                   Classic3  0.959972  0.951233  0.974771       0.850599   \n",
       "2                       CSTR  0.846154  0.869565  0.856187       0.682274   \n",
       "3   Irish Economic Sentiment  0.681325  0.569880  0.687952       0.510241   \n",
       "4     Multi Domain Sentiment  0.826750  0.736375  0.807750       0.698125   \n",
       "5                        NSF  0.838179  0.796180  0.825352       0.624762   \n",
       "6            Opinosis-Parsed  0.501007  0.607093  0.616695       0.567136   \n",
       "7                        re8  0.938233  0.939145  0.974068       0.916602   \n",
       "8            Review Polarity  0.813500  0.636500  0.860500       0.647500   \n",
       "9                    Reviews  0.941263  0.927501  0.964119       0.898255   \n",
       "10     SyskillWelbert-Parsed  0.871257  0.892216  0.916168       0.952096   \n",
       "\n",
       "    Random Forest  Deep Learning  \n",
       "0        0.840817       0.968863  \n",
       "1        0.933615       0.981149  \n",
       "2        0.769231       0.769231  \n",
       "3        0.644578       0.692169  \n",
       "4        0.823875       0.755250  \n",
       "5        0.753516       0.937530  \n",
       "6        0.607867       0.980404  \n",
       "7        0.932760       0.967504  \n",
       "8        0.786000       0.605000  \n",
       "9        0.947161       0.926321  \n",
       "10       0.919162       0.844311  "
      ]
     },
     "execution_count": 3,
     "metadata": {},
     "output_type": "execute_result"
    }
   ],
   "source": [
    "data"
   ]
  },
  {
   "cell_type": "code",
   "execution_count": 4,
   "metadata": {},
   "outputs": [
    {
     "data": {
      "text/plain": [
       "NB               0.830069\n",
       "KNN              0.793886\n",
       "SVM              0.854452\n",
       "Decision Tree    0.726531\n",
       "Random Forest    0.814417\n",
       "Deep Learning    0.857067\n",
       "dtype: float64"
      ]
     },
     "execution_count": 4,
     "metadata": {},
     "output_type": "execute_result"
    }
   ],
   "source": [
    "data.mean()"
   ]
  },
  {
   "cell_type": "code",
   "execution_count": 5,
   "metadata": {},
   "outputs": [
    {
     "data": {
      "text/html": [
       "<div>\n",
       "<style scoped>\n",
       "    .dataframe tbody tr th:only-of-type {\n",
       "        vertical-align: middle;\n",
       "    }\n",
       "\n",
       "    .dataframe tbody tr th {\n",
       "        vertical-align: top;\n",
       "    }\n",
       "\n",
       "    .dataframe thead th {\n",
       "        text-align: right;\n",
       "    }\n",
       "</style>\n",
       "<table border=\"1\" class=\"dataframe\">\n",
       "  <thead>\n",
       "    <tr style=\"text-align: right;\">\n",
       "      <th></th>\n",
       "      <th>0</th>\n",
       "      <th>1</th>\n",
       "      <th>2</th>\n",
       "      <th>3</th>\n",
       "      <th>4</th>\n",
       "      <th>5</th>\n",
       "      <th>6</th>\n",
       "      <th>7</th>\n",
       "      <th>8</th>\n",
       "      <th>9</th>\n",
       "      <th>10</th>\n",
       "    </tr>\n",
       "  </thead>\n",
       "  <tbody>\n",
       "    <tr>\n",
       "      <th>Collections</th>\n",
       "      <td>20newsGroup</td>\n",
       "      <td>Classic3</td>\n",
       "      <td>CSTR</td>\n",
       "      <td>Irish Economic Sentiment</td>\n",
       "      <td>Multi Domain Sentiment</td>\n",
       "      <td>NSF</td>\n",
       "      <td>Opinosis-Parsed</td>\n",
       "      <td>re8</td>\n",
       "      <td>Review Polarity</td>\n",
       "      <td>Reviews</td>\n",
       "      <td>SyskillWelbert-Parsed</td>\n",
       "    </tr>\n",
       "    <tr>\n",
       "      <th>NB</th>\n",
       "      <td>0.913116</td>\n",
       "      <td>0.959972</td>\n",
       "      <td>0.846154</td>\n",
       "      <td>0.681325</td>\n",
       "      <td>0.82675</td>\n",
       "      <td>0.838179</td>\n",
       "      <td>0.501007</td>\n",
       "      <td>0.938233</td>\n",
       "      <td>0.8135</td>\n",
       "      <td>0.941263</td>\n",
       "      <td>0.871257</td>\n",
       "    </tr>\n",
       "    <tr>\n",
       "      <th>KNN</th>\n",
       "      <td>0.807053</td>\n",
       "      <td>0.951233</td>\n",
       "      <td>0.869565</td>\n",
       "      <td>0.56988</td>\n",
       "      <td>0.736375</td>\n",
       "      <td>0.79618</td>\n",
       "      <td>0.607093</td>\n",
       "      <td>0.939145</td>\n",
       "      <td>0.6365</td>\n",
       "      <td>0.927501</td>\n",
       "      <td>0.892216</td>\n",
       "    </tr>\n",
       "    <tr>\n",
       "      <th>SVM</th>\n",
       "      <td>0.915415</td>\n",
       "      <td>0.974771</td>\n",
       "      <td>0.856187</td>\n",
       "      <td>0.687952</td>\n",
       "      <td>0.80775</td>\n",
       "      <td>0.825352</td>\n",
       "      <td>0.616695</td>\n",
       "      <td>0.974068</td>\n",
       "      <td>0.8605</td>\n",
       "      <td>0.964119</td>\n",
       "      <td>0.916168</td>\n",
       "    </tr>\n",
       "    <tr>\n",
       "      <th>Decision Tree</th>\n",
       "      <td>0.644246</td>\n",
       "      <td>0.850599</td>\n",
       "      <td>0.682274</td>\n",
       "      <td>0.510241</td>\n",
       "      <td>0.698125</td>\n",
       "      <td>0.624762</td>\n",
       "      <td>0.567136</td>\n",
       "      <td>0.916602</td>\n",
       "      <td>0.6475</td>\n",
       "      <td>0.898255</td>\n",
       "      <td>0.952096</td>\n",
       "    </tr>\n",
       "    <tr>\n",
       "      <th>Random Forest</th>\n",
       "      <td>0.840817</td>\n",
       "      <td>0.933615</td>\n",
       "      <td>0.769231</td>\n",
       "      <td>0.644578</td>\n",
       "      <td>0.823875</td>\n",
       "      <td>0.753516</td>\n",
       "      <td>0.607867</td>\n",
       "      <td>0.93276</td>\n",
       "      <td>0.786</td>\n",
       "      <td>0.947161</td>\n",
       "      <td>0.919162</td>\n",
       "    </tr>\n",
       "    <tr>\n",
       "      <th>Deep Learning</th>\n",
       "      <td>0.968863</td>\n",
       "      <td>0.981149</td>\n",
       "      <td>0.769231</td>\n",
       "      <td>0.692169</td>\n",
       "      <td>0.75525</td>\n",
       "      <td>0.93753</td>\n",
       "      <td>0.980404</td>\n",
       "      <td>0.967504</td>\n",
       "      <td>0.605</td>\n",
       "      <td>0.926321</td>\n",
       "      <td>0.844311</td>\n",
       "    </tr>\n",
       "  </tbody>\n",
       "</table>\n",
       "</div>"
      ],
      "text/plain": [
       "                        0         1         2                         3   \\\n",
       "Collections    20newsGroup  Classic3      CSTR  Irish Economic Sentiment   \n",
       "NB                0.913116  0.959972  0.846154                  0.681325   \n",
       "KNN               0.807053  0.951233  0.869565                   0.56988   \n",
       "SVM               0.915415  0.974771  0.856187                  0.687952   \n",
       "Decision Tree     0.644246  0.850599  0.682274                  0.510241   \n",
       "Random Forest     0.840817  0.933615  0.769231                  0.644578   \n",
       "Deep Learning     0.968863  0.981149  0.769231                  0.692169   \n",
       "\n",
       "                                   4         5                6         7   \\\n",
       "Collections    Multi Domain Sentiment       NSF  Opinosis-Parsed       re8   \n",
       "NB                            0.82675  0.838179         0.501007  0.938233   \n",
       "KNN                          0.736375   0.79618         0.607093  0.939145   \n",
       "SVM                           0.80775  0.825352         0.616695  0.974068   \n",
       "Decision Tree                0.698125  0.624762         0.567136  0.916602   \n",
       "Random Forest                0.823875  0.753516         0.607867   0.93276   \n",
       "Deep Learning                 0.75525   0.93753         0.980404  0.967504   \n",
       "\n",
       "                            8         9                      10  \n",
       "Collections    Review Polarity   Reviews  SyskillWelbert-Parsed  \n",
       "NB                      0.8135  0.941263               0.871257  \n",
       "KNN                     0.6365  0.927501               0.892216  \n",
       "SVM                     0.8605  0.964119               0.916168  \n",
       "Decision Tree           0.6475  0.898255               0.952096  \n",
       "Random Forest            0.786  0.947161               0.919162  \n",
       "Deep Learning            0.605  0.926321               0.844311  "
      ]
     },
     "execution_count": 5,
     "metadata": {},
     "output_type": "execute_result"
    }
   ],
   "source": [
    "vet = [0.830069, 0.793886, 0.854452, 0.726531, 0.814417, 0.857067]\n",
    "#serve para transpor a tabela\n",
    "data = data.T\n",
    "data"
   ]
  },
  {
   "cell_type": "code",
   "execution_count": null,
   "metadata": {},
   "outputs": [],
   "source": [
    "# creating a rank column and passing the returned rank series \n",
    "data[\"Rank\"] = data[\"Collections\"].rank() \n",
    "  \n",
    "# display \n",
    "data "
   ]
  },
  {
   "cell_type": "code",
   "execution_count": null,
   "metadata": {},
   "outputs": [],
   "source": [
    "data.to_csv(\"accuracy_rank.csv\")"
   ]
  },
  {
   "cell_type": "code",
   "execution_count": null,
   "metadata": {},
   "outputs": [],
   "source": [
    "data = pd.read_csv('NB.csv', sep=',')\n",
    "data"
   ]
  },
  {
   "cell_type": "code",
   "execution_count": null,
   "metadata": {},
   "outputs": [],
   "source": [
    "# creating a rank column and passing the returned rank series \n",
    "data[\"Rank\"] = data[\"params\"].rank() \n",
    "  \n",
    "# display \n",
    "data "
   ]
  },
  {
   "cell_type": "code",
   "execution_count": null,
   "metadata": {},
   "outputs": [],
   "source": [
    "data.to_csv(\"NB_rank.csv\")"
   ]
  },
  {
   "cell_type": "code",
   "execution_count": null,
   "metadata": {},
   "outputs": [],
   "source": [
    "data = pd.read_csv('knn.csv', sep=',')\n",
    "data"
   ]
  },
  {
   "cell_type": "code",
   "execution_count": null,
   "metadata": {},
   "outputs": [],
   "source": [
    "# creating a rank column and passing the returned rank series \n",
    "data[\"Rank\"] = data[\"params\"].rank() \n",
    "  \n",
    "# display \n",
    "data "
   ]
  },
  {
   "cell_type": "code",
   "execution_count": null,
   "metadata": {},
   "outputs": [],
   "source": [
    "data.to_csv(\"knn_rank.csv\")"
   ]
  },
  {
   "cell_type": "code",
   "execution_count": null,
   "metadata": {},
   "outputs": [],
   "source": [
    "data = pd.read_csv('SVM.csv', sep=',')\n",
    "# creating a rank column and passing the returned rank series \n",
    "data[\"Rank\"] = data[\"params\"].rank()  \n",
    "# display \n",
    "data \n",
    "data.to_csv(\"SVM_rank.csv\")"
   ]
  },
  {
   "cell_type": "code",
   "execution_count": null,
   "metadata": {},
   "outputs": [],
   "source": [
    "data"
   ]
  },
  {
   "cell_type": "code",
   "execution_count": null,
   "metadata": {},
   "outputs": [],
   "source": [
    "data = pd.read_csv('decision_tree.csv', sep=',')\n",
    "# creating a rank column and passing the returned rank series \n",
    "data[\"Rank\"] = data[\"params\"].rank()  \n",
    "data.to_csv(\"decision_tree-rank.csv\")"
   ]
  },
  {
   "cell_type": "code",
   "execution_count": null,
   "metadata": {},
   "outputs": [],
   "source": [
    "# display \n",
    "data "
   ]
  },
  {
   "cell_type": "code",
   "execution_count": null,
   "metadata": {},
   "outputs": [],
   "source": [
    "data = pd.read_csv('random_forest.csv', sep=',')\n",
    "# creating a rank column and passing the returned rank series \n",
    "data[\"Rank\"] = data[\"params\"].rank()  \n",
    "data.to_csv(\"random_forest-rank.csv\")"
   ]
  },
  {
   "cell_type": "code",
   "execution_count": null,
   "metadata": {},
   "outputs": [],
   "source": [
    "data"
   ]
  },
  {
   "cell_type": "code",
   "execution_count": null,
   "metadata": {},
   "outputs": [],
   "source": []
  }
 ],
 "metadata": {
  "kernelspec": {
   "display_name": "Python 3",
   "language": "python",
   "name": "python3"
  },
  "language_info": {
   "codemirror_mode": {
    "name": "ipython",
    "version": 3
   },
   "file_extension": ".py",
   "mimetype": "text/x-python",
   "name": "python",
   "nbconvert_exporter": "python",
   "pygments_lexer": "ipython3",
   "version": "3.7.1"
  }
 },
 "nbformat": 4,
 "nbformat_minor": 2
}
